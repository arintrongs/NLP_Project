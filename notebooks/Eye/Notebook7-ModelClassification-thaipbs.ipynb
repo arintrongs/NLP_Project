{
 "cells": [
  {
   "cell_type": "code",
   "execution_count": 1,
   "metadata": {},
   "outputs": [],
   "source": [
    "%matplotlib inline\n",
    "import pandas as pd\n",
    "import sklearn\n",
    "import numpy as np\n",
    "from IPython.display import display\n",
    "from sklearn.metrics import f1_score\n",
    "import matplotlib.pyplot as plt\n",
    "from matplotlib import rcParams"
   ]
  },
  {
   "cell_type": "code",
   "execution_count": 2,
   "metadata": {},
   "outputs": [
    {
     "name": "stderr",
     "output_type": "stream",
     "text": [
      "Using TensorFlow backend.\n"
     ]
    }
   ],
   "source": [
    "import pickle\n",
    "import codecs\n",
    "import collections\n",
    "import keras.preprocessing\n",
    "from sklearn.model_selection import KFold\n",
    "import csv"
   ]
  },
  {
   "cell_type": "code",
   "execution_count": 3,
   "metadata": {},
   "outputs": [],
   "source": [
    "from keras.models import Sequential, Model\n",
    "from keras.layers import Embedding, LSTM, Reshape, Activation, Input, Dense,GRU,Reshape,TimeDistributed,Bidirectional,Dropout,Masking\n",
    "from keras.optimizers import Adam\n",
    "from keras.utils import np_utils\n",
    "from keras.callbacks import ModelCheckpoint\n",
    "from keras.layers import Embedding,TimeDistributed,Flatten\n",
    "from sklearn.model_selection import train_test_split\n",
    "from keras.preprocessing import sequence\n",
    "from keras.models import Sequential, Model\n",
    "from keras.layers import GRU, Dropout\n",
    "from keras.models import load_model\n",
    "from keras.layers import Embedding, Reshape, Activation, Input, Dense, Masking\n",
    "from keras.layers.merge import Dot\n",
    "from keras.utils import np_utils\n",
    "from keras.utils.data_utils import get_file\n",
    "from keras.utils.np_utils import to_categorical\n",
    "from keras.preprocessing.sequence import skipgrams\n",
    "from keras.preprocessing import sequence\n",
    "from keras import backend as K\n",
    "from keras.optimizers import Adam\n",
    "from keras.layers.convolutional import Conv1D\n",
    "from keras.layers import Embedding,TimeDistributed,Flatten\n",
    "from keras.layers import BatchNormalization,Dropout\n"
   ]
  },
  {
   "cell_type": "code",
   "execution_count": 4,
   "metadata": {},
   "outputs": [],
   "source": [
    "import seaborn as sns\n",
    "sns.set(style=\"darkgrid\")"
   ]
  },
  {
   "cell_type": "code",
   "execution_count": 5,
   "metadata": {},
   "outputs": [],
   "source": [
    "plt.rcParams['font.family']='TH SarabunPSK' #you can change to other font that works for you\n",
    "plt.rcParams.update({'font.size': 50})\n",
    "#fill your code here"
   ]
  },
  {
   "cell_type": "code",
   "execution_count": 6,
   "metadata": {},
   "outputs": [],
   "source": [
    "from sklearn import preprocessing\n",
    "from sklearn.preprocessing import MinMaxScaler\n",
    "from sklearn.metrics import mean_squared_error\n",
    "from sklearn.metrics import mean_absolute_error"
   ]
  },
  {
   "cell_type": "code",
   "execution_count": 7,
   "metadata": {},
   "outputs": [],
   "source": [
    "pd.set_option('display.max_columns', None)  \n",
    "pd.set_option('display.expand_frame_repr', False)\n",
    "pd.set_option('max_colwidth', -1)"
   ]
  },
  {
   "cell_type": "code",
   "execution_count": 8,
   "metadata": {},
   "outputs": [],
   "source": [
    "input_pbs = pd.read_csv('notebook7-extractFeature-thispbs.csv')"
   ]
  },
  {
   "cell_type": "code",
   "execution_count": 9,
   "metadata": {},
   "outputs": [],
   "source": [
    "input_pbs.drop('Unnamed: 0', axis=1, inplace=True)\n",
    "# input_pbs.drop('Unnamed: 0.1', axis=1,inplace=True)\n",
    "# input_pbs.drop('Unnamed: 1', axis=1, inplace=True)"
   ]
  },
  {
   "cell_type": "code",
   "execution_count": 10,
   "metadata": {},
   "outputs": [
    {
     "data": {
      "text/html": [
       "<div>\n",
       "<style scoped>\n",
       "    .dataframe tbody tr th:only-of-type {\n",
       "        vertical-align: middle;\n",
       "    }\n",
       "\n",
       "    .dataframe tbody tr th {\n",
       "        vertical-align: top;\n",
       "    }\n",
       "\n",
       "    .dataframe thead th {\n",
       "        text-align: right;\n",
       "    }\n",
       "</style>\n",
       "<table border=\"1\" class=\"dataframe\">\n",
       "  <thead>\n",
       "    <tr style=\"text-align: right;\">\n",
       "      <th></th>\n",
       "      <th>headline</th>\n",
       "      <th>date</th>\n",
       "      <th>DOW</th>\n",
       "      <th>time</th>\n",
       "      <th>view</th>\n",
       "      <th>category</th>\n",
       "      <th>tag</th>\n",
       "      <th>hour</th>\n",
       "      <th>numTag</th>\n",
       "      <th>token</th>\n",
       "      <th>numToken</th>\n",
       "      <th>numChar</th>\n",
       "      <th>year-month</th>\n",
       "      <th>month</th>\n",
       "      <th>year</th>\n",
       "      <th>sentiment</th>\n",
       "      <th>timeDelta</th>\n",
       "      <th>num_noun</th>\n",
       "      <th>num_pronoun</th>\n",
       "      <th>num_verb</th>\n",
       "      <th>num_preverb</th>\n",
       "      <th>num_determiner</th>\n",
       "      <th>num_adverb</th>\n",
       "      <th>num_classifier</th>\n",
       "      <th>num_conjunction</th>\n",
       "      <th>num_preposition</th>\n",
       "      <th>num_interjunction</th>\n",
       "      <th>num_prefix</th>\n",
       "      <th>num_ending</th>\n",
       "      <th>num_negator</th>\n",
       "      <th>num_punctuation</th>\n",
       "      <th>is_environment</th>\n",
       "      <th>is_politic</th>\n",
       "      <th>is_health</th>\n",
       "      <th>is_crime</th>\n",
       "      <th>is_social</th>\n",
       "      <th>is_inter</th>\n",
       "      <th>is_sport</th>\n",
       "      <th>is_economic</th>\n",
       "      <th>is_region</th>\n",
       "      <th>is_science</th>\n",
       "      <th>is_art</th>\n",
       "      <th>is_lifestyle</th>\n",
       "      <th>is_disaster</th>\n",
       "      <th>is_south</th>\n",
       "      <th>is_special_report</th>\n",
       "      <th>is_article</th>\n",
       "      <th>is_agriculture</th>\n",
       "      <th>is_education</th>\n",
       "      <th>is_women</th>\n",
       "      <th>is_asian</th>\n",
       "      <th>nnoun_per_ntoken</th>\n",
       "      <th>nverb_per_ntoken</th>\n",
       "      <th>nadverb_per_ntoken</th>\n",
       "      <th>num_date</th>\n",
       "      <th>num_email</th>\n",
       "      <th>num_law</th>\n",
       "      <th>num_len</th>\n",
       "      <th>num_location</th>\n",
       "      <th>num_money</th>\n",
       "      <th>num_organization</th>\n",
       "      <th>num_percent</th>\n",
       "      <th>num_person</th>\n",
       "      <th>num_phone</th>\n",
       "      <th>num_time</th>\n",
       "      <th>num_url</th>\n",
       "      <th>num_person_2</th>\n",
       "      <th>num_pos</th>\n",
       "      <th>num_neg</th>\n",
       "      <th>sim_top</th>\n",
       "      <th>sim_worst</th>\n",
       "      <th>is_Mon</th>\n",
       "      <th>is_Tue</th>\n",
       "      <th>is_Wed</th>\n",
       "      <th>is_Thu</th>\n",
       "      <th>is_Fri</th>\n",
       "      <th>is_Sat</th>\n",
       "      <th>is_Sun</th>\n",
       "      <th>is_weekend</th>\n",
       "      <th>tag_pop_sum</th>\n",
       "      <th>tag_pop_mean</th>\n",
       "      <th>tag_top_pop_sum</th>\n",
       "      <th>tag_top_pop_mean</th>\n",
       "      <th>num_tag_pop</th>\n",
       "      <th>tag_top_worst_sum</th>\n",
       "      <th>tag_top_worst_mean</th>\n",
       "      <th>num_tag_worst</th>\n",
       "      <th>is_pos</th>\n",
       "      <th>is_neg</th>\n",
       "    </tr>\n",
       "  </thead>\n",
       "  <tbody>\n",
       "    <tr>\n",
       "      <th>0</th>\n",
       "      <td>ฝุ่น PM2.5 : ทส.เตรียมตั้งศูนย์แก้ปัญหาหมอกควันข้ามแดน</td>\n",
       "      <td>2019-05-04</td>\n",
       "      <td>FRI</td>\n",
       "      <td>19:37</td>\n",
       "      <td>177</td>\n",
       "      <td>สิ่งแวดล้อม</td>\n",
       "      <td>ฝุ่นเชียงใหม่,ฝุ่นPM2.5,ฝุ่นคลุมเมือง,เชียงใหม่,เชียงราย,ดอยหลวงเชียงดาว,ไฟป่า,หมอกควันข้ามแดน,ThaiPBSnews,ไทยพีบีเอส</td>\n",
       "      <td>19</td>\n",
       "      <td>10</td>\n",
       "      <td>ฝุ่น,PM,ทส.,เตรียม,ศูนย์,แก้,ปัญหา,หมอก,ควัน,ข้าม,แดน</td>\n",
       "      <td>11</td>\n",
       "      <td>43</td>\n",
       "      <td>2562-04</td>\n",
       "      <td>4</td>\n",
       "      <td>2562</td>\n",
       "      <td>pos</td>\n",
       "      <td>0</td>\n",
       "      <td>8</td>\n",
       "      <td>0</td>\n",
       "      <td>3</td>\n",
       "      <td>0</td>\n",
       "      <td>0</td>\n",
       "      <td>0</td>\n",
       "      <td>0</td>\n",
       "      <td>0</td>\n",
       "      <td>0</td>\n",
       "      <td>0</td>\n",
       "      <td>0</td>\n",
       "      <td>0</td>\n",
       "      <td>0</td>\n",
       "      <td>0</td>\n",
       "      <td>1</td>\n",
       "      <td>0</td>\n",
       "      <td>0</td>\n",
       "      <td>0</td>\n",
       "      <td>0</td>\n",
       "      <td>0</td>\n",
       "      <td>0</td>\n",
       "      <td>0</td>\n",
       "      <td>0</td>\n",
       "      <td>0</td>\n",
       "      <td>0</td>\n",
       "      <td>0</td>\n",
       "      <td>0</td>\n",
       "      <td>0</td>\n",
       "      <td>0</td>\n",
       "      <td>0</td>\n",
       "      <td>0</td>\n",
       "      <td>0</td>\n",
       "      <td>0</td>\n",
       "      <td>0</td>\n",
       "      <td>0.727273</td>\n",
       "      <td>0.272727</td>\n",
       "      <td>0.0</td>\n",
       "      <td>0</td>\n",
       "      <td>0</td>\n",
       "      <td>0</td>\n",
       "      <td>0</td>\n",
       "      <td>0</td>\n",
       "      <td>0</td>\n",
       "      <td>1</td>\n",
       "      <td>0</td>\n",
       "      <td>0</td>\n",
       "      <td>0</td>\n",
       "      <td>0</td>\n",
       "      <td>0</td>\n",
       "      <td>0</td>\n",
       "      <td>0</td>\n",
       "      <td>0</td>\n",
       "      <td>0.720796</td>\n",
       "      <td>0.726361</td>\n",
       "      <td>0</td>\n",
       "      <td>0</td>\n",
       "      <td>0</td>\n",
       "      <td>0</td>\n",
       "      <td>1</td>\n",
       "      <td>0</td>\n",
       "      <td>0</td>\n",
       "      <td>0</td>\n",
       "      <td>1234</td>\n",
       "      <td>154</td>\n",
       "      <td>0</td>\n",
       "      <td>0</td>\n",
       "      <td>0</td>\n",
       "      <td>0</td>\n",
       "      <td>0</td>\n",
       "      <td>0</td>\n",
       "      <td>1</td>\n",
       "      <td>0</td>\n",
       "    </tr>\n",
       "    <tr>\n",
       "      <th>1</th>\n",
       "      <td>เลือกตั้ง 2562 : \"เพื่อไทย\" เตรียมยื่น กกต.จัดเลือกตั้งใหม่ 3 เขต กทม.</td>\n",
       "      <td>2019-05-04</td>\n",
       "      <td>FRI</td>\n",
       "      <td>19:20</td>\n",
       "      <td>702</td>\n",
       "      <td>การเมือง</td>\n",
       "      <td>เลือกตั้ง62,เพื่อ่ไทย,กกต.,นับคะแนน,ไทยพีบีเอส,ข่าวไทยพีบีเอส</td>\n",
       "      <td>19</td>\n",
       "      <td>6</td>\n",
       "      <td>เลือกตั้ง,2562,ไทย,เตรียม,ยื่น,กกต.,เลือกตั้ง,เขต,กทม.</td>\n",
       "      <td>9</td>\n",
       "      <td>46</td>\n",
       "      <td>2562-04</td>\n",
       "      <td>4</td>\n",
       "      <td>2562</td>\n",
       "      <td>pos</td>\n",
       "      <td>0</td>\n",
       "      <td>8</td>\n",
       "      <td>0</td>\n",
       "      <td>1</td>\n",
       "      <td>0</td>\n",
       "      <td>0</td>\n",
       "      <td>0</td>\n",
       "      <td>0</td>\n",
       "      <td>0</td>\n",
       "      <td>0</td>\n",
       "      <td>0</td>\n",
       "      <td>0</td>\n",
       "      <td>0</td>\n",
       "      <td>0</td>\n",
       "      <td>0</td>\n",
       "      <td>0</td>\n",
       "      <td>1</td>\n",
       "      <td>0</td>\n",
       "      <td>0</td>\n",
       "      <td>0</td>\n",
       "      <td>0</td>\n",
       "      <td>0</td>\n",
       "      <td>0</td>\n",
       "      <td>0</td>\n",
       "      <td>0</td>\n",
       "      <td>0</td>\n",
       "      <td>0</td>\n",
       "      <td>0</td>\n",
       "      <td>0</td>\n",
       "      <td>0</td>\n",
       "      <td>0</td>\n",
       "      <td>0</td>\n",
       "      <td>0</td>\n",
       "      <td>0</td>\n",
       "      <td>0</td>\n",
       "      <td>0.888889</td>\n",
       "      <td>0.111111</td>\n",
       "      <td>0.0</td>\n",
       "      <td>0</td>\n",
       "      <td>0</td>\n",
       "      <td>0</td>\n",
       "      <td>0</td>\n",
       "      <td>0</td>\n",
       "      <td>0</td>\n",
       "      <td>1</td>\n",
       "      <td>0</td>\n",
       "      <td>0</td>\n",
       "      <td>0</td>\n",
       "      <td>0</td>\n",
       "      <td>0</td>\n",
       "      <td>0</td>\n",
       "      <td>0</td>\n",
       "      <td>0</td>\n",
       "      <td>0.797819</td>\n",
       "      <td>0.712586</td>\n",
       "      <td>0</td>\n",
       "      <td>0</td>\n",
       "      <td>0</td>\n",
       "      <td>0</td>\n",
       "      <td>1</td>\n",
       "      <td>0</td>\n",
       "      <td>0</td>\n",
       "      <td>0</td>\n",
       "      <td>762</td>\n",
       "      <td>190</td>\n",
       "      <td>1</td>\n",
       "      <td>1</td>\n",
       "      <td>1</td>\n",
       "      <td>0</td>\n",
       "      <td>0</td>\n",
       "      <td>0</td>\n",
       "      <td>1</td>\n",
       "      <td>0</td>\n",
       "    </tr>\n",
       "    <tr>\n",
       "      <th>2</th>\n",
       "      <td>เตรียมเอาผิด รพ.เอกชน 58 แห่งไม่ส่งข้อมูลราคายา</td>\n",
       "      <td>2019-05-04</td>\n",
       "      <td>FRI</td>\n",
       "      <td>19:18</td>\n",
       "      <td>583</td>\n",
       "      <td>สาธารณสุข</td>\n",
       "      <td>ยา,เวชภัณฑ์ฯ,โรงพยาบาล,ค่าบริการทางการแพทย์,กรมการค้าภายใน,ThaiPBSnews,ThaiPBS,ไทยพีบีเอส,ข่าวไทยพีบีเอส</td>\n",
       "      <td>19</td>\n",
       "      <td>9</td>\n",
       "      <td>เตรียม,รพ.เอกชน,ข้อมูล,ราคา,ยา</td>\n",
       "      <td>5</td>\n",
       "      <td>26</td>\n",
       "      <td>2562-04</td>\n",
       "      <td>4</td>\n",
       "      <td>2562</td>\n",
       "      <td>pos</td>\n",
       "      <td>0</td>\n",
       "      <td>4</td>\n",
       "      <td>0</td>\n",
       "      <td>1</td>\n",
       "      <td>0</td>\n",
       "      <td>0</td>\n",
       "      <td>0</td>\n",
       "      <td>0</td>\n",
       "      <td>0</td>\n",
       "      <td>0</td>\n",
       "      <td>0</td>\n",
       "      <td>0</td>\n",
       "      <td>0</td>\n",
       "      <td>0</td>\n",
       "      <td>0</td>\n",
       "      <td>0</td>\n",
       "      <td>0</td>\n",
       "      <td>1</td>\n",
       "      <td>0</td>\n",
       "      <td>0</td>\n",
       "      <td>0</td>\n",
       "      <td>0</td>\n",
       "      <td>0</td>\n",
       "      <td>0</td>\n",
       "      <td>0</td>\n",
       "      <td>0</td>\n",
       "      <td>0</td>\n",
       "      <td>0</td>\n",
       "      <td>0</td>\n",
       "      <td>0</td>\n",
       "      <td>0</td>\n",
       "      <td>0</td>\n",
       "      <td>0</td>\n",
       "      <td>0</td>\n",
       "      <td>0</td>\n",
       "      <td>0.800000</td>\n",
       "      <td>0.200000</td>\n",
       "      <td>0.0</td>\n",
       "      <td>0</td>\n",
       "      <td>0</td>\n",
       "      <td>0</td>\n",
       "      <td>0</td>\n",
       "      <td>0</td>\n",
       "      <td>0</td>\n",
       "      <td>1</td>\n",
       "      <td>0</td>\n",
       "      <td>0</td>\n",
       "      <td>0</td>\n",
       "      <td>0</td>\n",
       "      <td>0</td>\n",
       "      <td>0</td>\n",
       "      <td>0</td>\n",
       "      <td>0</td>\n",
       "      <td>0.648916</td>\n",
       "      <td>0.646782</td>\n",
       "      <td>0</td>\n",
       "      <td>0</td>\n",
       "      <td>0</td>\n",
       "      <td>0</td>\n",
       "      <td>1</td>\n",
       "      <td>0</td>\n",
       "      <td>0</td>\n",
       "      <td>0</td>\n",
       "      <td>148</td>\n",
       "      <td>29</td>\n",
       "      <td>2</td>\n",
       "      <td>1</td>\n",
       "      <td>2</td>\n",
       "      <td>0</td>\n",
       "      <td>0</td>\n",
       "      <td>0</td>\n",
       "      <td>1</td>\n",
       "      <td>0</td>\n",
       "    </tr>\n",
       "    <tr>\n",
       "      <th>3</th>\n",
       "      <td>ตั้งข้อสังเกตปลดล็อกกัญชา เอื้อนายทุนหรือไม่?</td>\n",
       "      <td>2019-05-04</td>\n",
       "      <td>FRI</td>\n",
       "      <td>19:16</td>\n",
       "      <td>928</td>\n",
       "      <td>อาชญากรรม</td>\n",
       "      <td>กัญชา,มูลนิธิข้าวขวัญ,ThaiPBSnews</td>\n",
       "      <td>19</td>\n",
       "      <td>3</td>\n",
       "      <td>ข้อ,สังเกต,ปลด,ล็อก,กัญชา,เอื้อ,ทุน</td>\n",
       "      <td>7</td>\n",
       "      <td>29</td>\n",
       "      <td>2562-04</td>\n",
       "      <td>4</td>\n",
       "      <td>2562</td>\n",
       "      <td>neg</td>\n",
       "      <td>0</td>\n",
       "      <td>4</td>\n",
       "      <td>0</td>\n",
       "      <td>3</td>\n",
       "      <td>0</td>\n",
       "      <td>0</td>\n",
       "      <td>0</td>\n",
       "      <td>0</td>\n",
       "      <td>0</td>\n",
       "      <td>0</td>\n",
       "      <td>0</td>\n",
       "      <td>0</td>\n",
       "      <td>0</td>\n",
       "      <td>0</td>\n",
       "      <td>0</td>\n",
       "      <td>0</td>\n",
       "      <td>0</td>\n",
       "      <td>0</td>\n",
       "      <td>1</td>\n",
       "      <td>0</td>\n",
       "      <td>0</td>\n",
       "      <td>0</td>\n",
       "      <td>0</td>\n",
       "      <td>0</td>\n",
       "      <td>0</td>\n",
       "      <td>0</td>\n",
       "      <td>0</td>\n",
       "      <td>0</td>\n",
       "      <td>0</td>\n",
       "      <td>0</td>\n",
       "      <td>0</td>\n",
       "      <td>0</td>\n",
       "      <td>0</td>\n",
       "      <td>0</td>\n",
       "      <td>0</td>\n",
       "      <td>0.571429</td>\n",
       "      <td>0.428571</td>\n",
       "      <td>0.0</td>\n",
       "      <td>0</td>\n",
       "      <td>0</td>\n",
       "      <td>0</td>\n",
       "      <td>0</td>\n",
       "      <td>0</td>\n",
       "      <td>0</td>\n",
       "      <td>0</td>\n",
       "      <td>0</td>\n",
       "      <td>0</td>\n",
       "      <td>0</td>\n",
       "      <td>0</td>\n",
       "      <td>0</td>\n",
       "      <td>0</td>\n",
       "      <td>0</td>\n",
       "      <td>0</td>\n",
       "      <td>0.716590</td>\n",
       "      <td>0.586499</td>\n",
       "      <td>0</td>\n",
       "      <td>0</td>\n",
       "      <td>0</td>\n",
       "      <td>0</td>\n",
       "      <td>1</td>\n",
       "      <td>0</td>\n",
       "      <td>0</td>\n",
       "      <td>0</td>\n",
       "      <td>72</td>\n",
       "      <td>36</td>\n",
       "      <td>4</td>\n",
       "      <td>2</td>\n",
       "      <td>2</td>\n",
       "      <td>0</td>\n",
       "      <td>0</td>\n",
       "      <td>0</td>\n",
       "      <td>0</td>\n",
       "      <td>1</td>\n",
       "    </tr>\n",
       "    <tr>\n",
       "      <th>4</th>\n",
       "      <td>คำพิพากษาเต็ม \"เปรมชัย\" หลุดคดีครอบครองซากเสือดำ</td>\n",
       "      <td>2019-05-04</td>\n",
       "      <td>FRI</td>\n",
       "      <td>19:29</td>\n",
       "      <td>5163</td>\n",
       "      <td>สิ่งแวดล้อม</td>\n",
       "      <td>เสือดำ,เปรมชัย,เขตรักษาพันธุ์สัตว์ป่าทุ่งใหญ่นเรศวร,ไทยพีบีเอส,ThaiPBSnews</td>\n",
       "      <td>19</td>\n",
       "      <td>5</td>\n",
       "      <td>พิพากษา,เต็ม,เปรมชัย,หลุดคดี,ครอบครอง,ซาก,เสือดำ</td>\n",
       "      <td>7</td>\n",
       "      <td>42</td>\n",
       "      <td>2562-04</td>\n",
       "      <td>4</td>\n",
       "      <td>2562</td>\n",
       "      <td>neg</td>\n",
       "      <td>0</td>\n",
       "      <td>6</td>\n",
       "      <td>0</td>\n",
       "      <td>1</td>\n",
       "      <td>0</td>\n",
       "      <td>0</td>\n",
       "      <td>0</td>\n",
       "      <td>0</td>\n",
       "      <td>0</td>\n",
       "      <td>0</td>\n",
       "      <td>0</td>\n",
       "      <td>0</td>\n",
       "      <td>0</td>\n",
       "      <td>0</td>\n",
       "      <td>0</td>\n",
       "      <td>1</td>\n",
       "      <td>0</td>\n",
       "      <td>0</td>\n",
       "      <td>0</td>\n",
       "      <td>0</td>\n",
       "      <td>0</td>\n",
       "      <td>0</td>\n",
       "      <td>0</td>\n",
       "      <td>0</td>\n",
       "      <td>0</td>\n",
       "      <td>0</td>\n",
       "      <td>0</td>\n",
       "      <td>0</td>\n",
       "      <td>0</td>\n",
       "      <td>0</td>\n",
       "      <td>0</td>\n",
       "      <td>0</td>\n",
       "      <td>0</td>\n",
       "      <td>0</td>\n",
       "      <td>0</td>\n",
       "      <td>0.857143</td>\n",
       "      <td>0.142857</td>\n",
       "      <td>0.0</td>\n",
       "      <td>0</td>\n",
       "      <td>0</td>\n",
       "      <td>0</td>\n",
       "      <td>0</td>\n",
       "      <td>0</td>\n",
       "      <td>0</td>\n",
       "      <td>0</td>\n",
       "      <td>0</td>\n",
       "      <td>0</td>\n",
       "      <td>0</td>\n",
       "      <td>0</td>\n",
       "      <td>0</td>\n",
       "      <td>0</td>\n",
       "      <td>1</td>\n",
       "      <td>0</td>\n",
       "      <td>0.612798</td>\n",
       "      <td>0.561536</td>\n",
       "      <td>0</td>\n",
       "      <td>0</td>\n",
       "      <td>0</td>\n",
       "      <td>0</td>\n",
       "      <td>1</td>\n",
       "      <td>0</td>\n",
       "      <td>0</td>\n",
       "      <td>0</td>\n",
       "      <td>295</td>\n",
       "      <td>98</td>\n",
       "      <td>19</td>\n",
       "      <td>6</td>\n",
       "      <td>3</td>\n",
       "      <td>0</td>\n",
       "      <td>0</td>\n",
       "      <td>0</td>\n",
       "      <td>0</td>\n",
       "      <td>1</td>\n",
       "    </tr>\n",
       "  </tbody>\n",
       "</table>\n",
       "</div>"
      ],
      "text/plain": [
       "                                                                 headline        date  DOW   time  view     category                                                                                                                    tag  hour  numTag                                                   token  numToken  numChar year-month  month  year sentiment  timeDelta  num_noun  num_pronoun  num_verb  num_preverb  num_determiner  num_adverb  num_classifier  num_conjunction  num_preposition  num_interjunction  num_prefix  num_ending  num_negator  num_punctuation  is_environment  is_politic  is_health  is_crime  is_social  is_inter  is_sport  is_economic  is_region  is_science  is_art  is_lifestyle  is_disaster  is_south  is_special_report  is_article  is_agriculture  is_education  is_women  is_asian  nnoun_per_ntoken  nverb_per_ntoken  nadverb_per_ntoken  num_date  num_email  num_law  num_len  num_location  num_money  num_organization  num_percent  num_person  num_phone  num_time  num_url  num_person_2  num_pos  num_neg   sim_top  sim_worst  is_Mon  is_Tue  is_Wed  is_Thu  is_Fri  is_Sat  is_Sun  is_weekend  tag_pop_sum  tag_pop_mean  tag_top_pop_sum  tag_top_pop_mean  num_tag_pop  tag_top_worst_sum  tag_top_worst_mean  num_tag_worst  is_pos  is_neg\n",
       "0  ฝุ่น PM2.5 : ทส.เตรียมตั้งศูนย์แก้ปัญหาหมอกควันข้ามแดน                  2019-05-04  FRI  19:37  177   สิ่งแวดล้อม  ฝุ่นเชียงใหม่,ฝุ่นPM2.5,ฝุ่นคลุมเมือง,เชียงใหม่,เชียงราย,ดอยหลวงเชียงดาว,ไฟป่า,หมอกควันข้ามแดน,ThaiPBSnews,ไทยพีบีเอส  19    10      ฝุ่น,PM,ทส.,เตรียม,ศูนย์,แก้,ปัญหา,หมอก,ควัน,ข้าม,แดน   11        43       2562-04    4      2562  pos       0          8         0            3         0            0               0           0               0                0                0                  0           0           0            0                1               0           0          0         0          0         0         0            0          0           0       0             0            0         0                  0           0               0             0         0         0.727273          0.272727          0.0                 0         0          0        0        0             0          1                 0            0           0          0         0        0             0        0        0.720796  0.726361   0       0       0       0       1       0       0       0           1234         154           0                0                 0            0                  0                   0              1       0     \n",
       "1  เลือกตั้ง 2562 : \"เพื่อไทย\" เตรียมยื่น กกต.จัดเลือกตั้งใหม่ 3 เขต กทม.  2019-05-04  FRI  19:20  702   การเมือง     เลือกตั้ง62,เพื่อ่ไทย,กกต.,นับคะแนน,ไทยพีบีเอส,ข่าวไทยพีบีเอส                                                          19    6       เลือกตั้ง,2562,ไทย,เตรียม,ยื่น,กกต.,เลือกตั้ง,เขต,กทม.  9         46       2562-04    4      2562  pos       0          8         0            1         0            0               0           0               0                0                0                  0           0           0            0                0               1           0          0         0          0         0         0            0          0           0       0             0            0         0                  0           0               0             0         0         0.888889          0.111111          0.0                 0         0          0        0        0             0          1                 0            0           0          0         0        0             0        0        0.797819  0.712586   0       0       0       0       1       0       0       0           762          190           1                1                 1            0                  0                   0              1       0     \n",
       "2  เตรียมเอาผิด รพ.เอกชน 58 แห่งไม่ส่งข้อมูลราคายา                         2019-05-04  FRI  19:18  583   สาธารณสุข    ยา,เวชภัณฑ์ฯ,โรงพยาบาล,ค่าบริการทางการแพทย์,กรมการค้าภายใน,ThaiPBSnews,ThaiPBS,ไทยพีบีเอส,ข่าวไทยพีบีเอส               19    9       เตรียม,รพ.เอกชน,ข้อมูล,ราคา,ยา                          5         26       2562-04    4      2562  pos       0          4         0            1         0            0               0           0               0                0                0                  0           0           0            0                0               0           1          0         0          0         0         0            0          0           0       0             0            0         0                  0           0               0             0         0         0.800000          0.200000          0.0                 0         0          0        0        0             0          1                 0            0           0          0         0        0             0        0        0.648916  0.646782   0       0       0       0       1       0       0       0           148          29            2                1                 2            0                  0                   0              1       0     \n",
       "3  ตั้งข้อสังเกตปลดล็อกกัญชา เอื้อนายทุนหรือไม่?                           2019-05-04  FRI  19:16  928   อาชญากรรม    กัญชา,มูลนิธิข้าวขวัญ,ThaiPBSnews                                                                                      19    3       ข้อ,สังเกต,ปลด,ล็อก,กัญชา,เอื้อ,ทุน                     7         29       2562-04    4      2562  neg       0          4         0            3         0            0               0           0               0                0                0                  0           0           0            0                0               0           0          1         0          0         0         0            0          0           0       0             0            0         0                  0           0               0             0         0         0.571429          0.428571          0.0                 0         0          0        0        0             0          0                 0            0           0          0         0        0             0        0        0.716590  0.586499   0       0       0       0       1       0       0       0           72           36            4                2                 2            0                  0                   0              0       1     \n",
       "4  คำพิพากษาเต็ม \"เปรมชัย\" หลุดคดีครอบครองซากเสือดำ                        2019-05-04  FRI  19:29  5163  สิ่งแวดล้อม  เสือดำ,เปรมชัย,เขตรักษาพันธุ์สัตว์ป่าทุ่งใหญ่นเรศวร,ไทยพีบีเอส,ThaiPBSnews                                             19    5       พิพากษา,เต็ม,เปรมชัย,หลุดคดี,ครอบครอง,ซาก,เสือดำ        7         42       2562-04    4      2562  neg       0          6         0            1         0            0               0           0               0                0                0                  0           0           0            0                1               0           0          0         0          0         0         0            0          0           0       0             0            0         0                  0           0               0             0         0         0.857143          0.142857          0.0                 0         0          0        0        0             0          0                 0            0           0          0         0        0             1        0        0.612798  0.561536   0       0       0       0       1       0       0       0           295          98            19               6                 3            0                  0                   0              0       1     "
      ]
     },
     "execution_count": 10,
     "metadata": {},
     "output_type": "execute_result"
    }
   ],
   "source": [
    "input_pbs.head()"
   ]
  },
  {
   "cell_type": "code",
   "execution_count": 11,
   "metadata": {},
   "outputs": [
    {
     "data": {
      "text/plain": [
       "count    2.753800e+04\n",
       "mean     2.455730e+03\n",
       "std      1.272891e+04\n",
       "min      2.000000e+01\n",
       "25%      2.530000e+02\n",
       "50%      5.620000e+02\n",
       "75%      1.559000e+03\n",
       "max      1.208350e+06\n",
       "Name: view, dtype: float64"
      ]
     },
     "execution_count": 11,
     "metadata": {},
     "output_type": "execute_result"
    }
   ],
   "source": [
    "input_pbs['view'].describe()"
   ]
  },
  {
   "cell_type": "code",
   "execution_count": 12,
   "metadata": {},
   "outputs": [],
   "source": [
    "IQRval = input_pbs['view'].describe().loc['75%']-input_pbs['view'].describe().loc['25%']"
   ]
  },
  {
   "cell_type": "code",
   "execution_count": 13,
   "metadata": {},
   "outputs": [
    {
     "data": {
      "text/plain": [
       "253.0"
      ]
     },
     "execution_count": 13,
     "metadata": {},
     "output_type": "execute_result"
    }
   ],
   "source": [
    "input_pbs['view'].describe().loc['25%']"
   ]
  },
  {
   "cell_type": "code",
   "execution_count": 14,
   "metadata": {},
   "outputs": [
    {
     "name": "stdout",
     "output_type": "stream",
     "text": [
      "253.0 3518.0\n"
     ]
    }
   ],
   "source": [
    "outlierMin = max(input_pbs['view'].describe().loc['25%'],0)\n",
    "outlierMax = input_pbs['view'].describe().loc['75%']+1.5*IQRval\n",
    "print(outlierMin,outlierMax)"
   ]
  },
  {
   "cell_type": "code",
   "execution_count": 15,
   "metadata": {},
   "outputs": [],
   "source": [
    "input_pbs = input_pbs[(input_pbs['view']<=outlierMax) & (input_pbs['view']>=outlierMin)]"
   ]
  },
  {
   "cell_type": "code",
   "execution_count": 16,
   "metadata": {},
   "outputs": [],
   "source": [
    "# input_pbs = input_pbs[input_pbs['year-month']< '2562-04' ]"
   ]
  },
  {
   "cell_type": "code",
   "execution_count": 17,
   "metadata": {},
   "outputs": [
    {
     "data": {
      "text/plain": [
       "3517"
      ]
     },
     "execution_count": 17,
     "metadata": {},
     "output_type": "execute_result"
    }
   ],
   "source": [
    "MAXVIEW = input_pbs['view'].max()\n",
    "MAXVIEW"
   ]
  },
  {
   "cell_type": "code",
   "execution_count": 18,
   "metadata": {},
   "outputs": [],
   "source": [
    "view_mean = input_pbs['view'].describe()['mean']\n",
    "view_sd = input_pbs['view'].describe()['std']"
   ]
  },
  {
   "cell_type": "code",
   "execution_count": 19,
   "metadata": {},
   "outputs": [
    {
     "data": {
      "text/plain": [
       "count    17276.000000\n",
       "mean     1000.677877 \n",
       "std      777.346922  \n",
       "min      253.000000  \n",
       "25%      413.750000  \n",
       "50%      702.000000  \n",
       "75%      1345.000000 \n",
       "max      3517.000000 \n",
       "Name: view, dtype: float64"
      ]
     },
     "execution_count": 19,
     "metadata": {},
     "output_type": "execute_result"
    }
   ],
   "source": [
    "input_pbs['view'].describe()"
   ]
  },
  {
   "cell_type": "markdown",
   "metadata": {},
   "source": [
    "## Feature extraction"
   ]
  },
  {
   "cell_type": "code",
   "execution_count": 92,
   "metadata": {},
   "outputs": [],
   "source": [
    "input_pbs_train, input_pbs_test = train_test_split(input_pbs, test_size=0.2,random_state=100)"
   ]
  },
  {
   "cell_type": "code",
   "execution_count": 93,
   "metadata": {},
   "outputs": [],
   "source": [
    "input_pbs_train, input_pbs_val = train_test_split(input_pbs_train, test_size=0.2,random_state=100)"
   ]
  },
  {
   "cell_type": "code",
   "execution_count": 194,
   "metadata": {},
   "outputs": [
    {
     "data": {
      "text/plain": [
       "(11056, 89)"
      ]
     },
     "execution_count": 194,
     "metadata": {},
     "output_type": "execute_result"
    }
   ],
   "source": [
    "input_pbs_train.shape"
   ]
  },
  {
   "cell_type": "code",
   "execution_count": 98,
   "metadata": {
    "scrolled": false
   },
   "outputs": [
    {
     "data": {
      "text/plain": [
       "<matplotlib.axes._subplots.AxesSubplot at 0x7f976c788f60>"
      ]
     },
     "execution_count": 98,
     "metadata": {},
     "output_type": "execute_result"
    },
    {
     "data": {
      "image/png": "[encoded data removed]",
      "text/plain": [
       "<Figure size 1440x1440 with 4 Axes>"
      ]
     },
     "metadata": {},
     "output_type": "display_data"
    }
   ],
   "source": [
    "f, axarr = plt.subplots(4, figsize=(20,20))\n",
    "sns.distplot(input_pbs_train['view'],ax=axarr[0])\n",
    "sns.distplot(input_pbs_val['view'],ax=axarr[1])\n",
    "sns.distplot(input_pbs_test['view'],ax=axarr[2])\n",
    "sns.distplot(input_pbs_train['view'],ax=axarr[3])\n",
    "sns.distplot(input_pbs_val['view'],ax=axarr[3])\n",
    "sns.distplot(input_pbs_test['view'],ax=axarr[3])"
   ]
  },
  {
   "cell_type": "markdown",
   "metadata": {},
   "source": [
    "## Bag of word feature"
   ]
  },
  {
   "cell_type": "code",
   "execution_count": 100,
   "metadata": {},
   "outputs": [],
   "source": [
    "inputText_train = []\n",
    "for sent in input_pbs_train['token']:\n",
    "    inputText_train.append(sent.split(','))"
   ]
  },
  {
   "cell_type": "code",
   "execution_count": 101,
   "metadata": {},
   "outputs": [],
   "source": [
    "inputText_val = []\n",
    "for sent in input_pbs_val['token']:\n",
    "    inputText_val.append(sent.split(','))"
   ]
  },
  {
   "cell_type": "code",
   "execution_count": 102,
   "metadata": {},
   "outputs": [],
   "source": [
    "inputText_test = []\n",
    "for sent in input_pbs_test['token']:\n",
    "    inputText_test.append(sent.split(','))"
   ]
  },
  {
   "cell_type": "code",
   "execution_count": 103,
   "metadata": {
    "scrolled": true
   },
   "outputs": [
    {
     "data": {
      "text/plain": [
       "count    11056.000000\n",
       "mean     6.647266    \n",
       "std      0.719497    \n",
       "min      5.533389    \n",
       "25%      6.033086    \n",
       "50%      6.563856    \n",
       "75%      7.211557    \n",
       "max      8.165364    \n",
       "Name: view, dtype: float64"
      ]
     },
     "execution_count": 103,
     "metadata": {},
     "output_type": "execute_result"
    }
   ],
   "source": [
    "np.log(input_pbs_train['view']).describe()"
   ]
  },
  {
   "cell_type": "code",
   "execution_count": 104,
   "metadata": {},
   "outputs": [],
   "source": [
    "MAXVIEW_log = np.log(input_pbs['view']).describe()['max']"
   ]
  },
  {
   "cell_type": "code",
   "execution_count": 105,
   "metadata": {},
   "outputs": [
    {
     "data": {
      "text/plain": [
       "8.165363632473982"
      ]
     },
     "execution_count": 105,
     "metadata": {},
     "output_type": "execute_result"
    }
   ],
   "source": [
    "MAXVIEW_log"
   ]
  },
  {
   "cell_type": "code",
   "execution_count": 106,
   "metadata": {},
   "outputs": [],
   "source": [
    "MINVIEW_log = np.log(input_pbs['view']).describe()['min']"
   ]
  },
  {
   "cell_type": "code",
   "execution_count": 107,
   "metadata": {},
   "outputs": [
    {
     "data": {
      "text/plain": [
       "5.53338948872752"
      ]
     },
     "execution_count": 107,
     "metadata": {},
     "output_type": "execute_result"
    }
   ],
   "source": [
    "MINVIEW_log"
   ]
  },
  {
   "cell_type": "code",
   "execution_count": 108,
   "metadata": {},
   "outputs": [],
   "source": [
    "# MEANVIEW_log = np.log(input_pbs_train['view']).describe()['mean']"
   ]
  },
  {
   "cell_type": "code",
   "execution_count": 109,
   "metadata": {},
   "outputs": [],
   "source": [
    "# diff_log = MAXVIEW_log-MINVIEW_log"
   ]
  },
  {
   "cell_type": "code",
   "execution_count": 110,
   "metadata": {},
   "outputs": [
    {
     "data": {
      "text/plain": [
       "456.0"
      ]
     },
     "execution_count": 110,
     "metadata": {},
     "output_type": "execute_result"
    }
   ],
   "source": [
    "input_pbs['view'].quantile(0.3)"
   ]
  },
  {
   "cell_type": "code",
   "execution_count": 111,
   "metadata": {},
   "outputs": [],
   "source": [
    "input_pbs['class'] = -1"
   ]
  },
  {
   "cell_type": "code",
   "execution_count": 175,
   "metadata": {},
   "outputs": [],
   "source": [
    "q1 = input_pbs['view'].quantile(0.25)\n",
    "q2 = input_pbs['view'].quantile(0.5)\n",
    "q3 = input_pbs['view'].quantile(0.75)\n",
    "# q4 = input_pbs['view'].quantile(1.0)\n",
    "# q5 = input_pbs['view'].quantile(0.5)\n",
    "# q6 = input_pbs['view'].quantile(0.6)\n",
    "# q7 = input_pbs['view'].quantile(0.7)\n",
    "# q8 = input_pbs['view'].quantile(0.8)\n",
    "# q9 = input_pbs['view'].quantile(0.9)"
   ]
  },
  {
   "cell_type": "code",
   "execution_count": 195,
   "metadata": {},
   "outputs": [],
   "source": [
    "inputLabel_train = []\n",
    "for view in input_pbs_train['view']:\n",
    "#     inputLabel_train.append((view-view_mean)/view_sd)\n",
    "#     inputLabel_train.append((np.log(view)-MINVIEW_log)/diff_log)\n",
    "#     inputLabel_train.append((np.log(view)/MAXVIEW_log))\n",
    "    if view <= q1 :\n",
    "        inputLabel_train.append(0)\n",
    "    elif view <= q2 : \n",
    "        inputLabel_train.append(1)\n",
    "    elif view <= q3 : \n",
    "        inputLabel_train.append(2)\n",
    "#     elif view <= q4 : \n",
    "#         inputLabel_train.append(3)\n",
    "#     elif view <= q5 : \n",
    "#         inputLabel_train.append(4)\n",
    "#     elif view <= q6 : \n",
    "#         inputLabel_train.append(5)\n",
    "#     elif view <= q7 : \n",
    "#         inputLabel_train.append(6)\n",
    "#     elif view <= q8 : \n",
    "#         inputLabel_train.append(7)\n",
    "#     elif view <= q9 : \n",
    "#         inputLabel_train.append(8)\n",
    "    else: \n",
    "        inputLabel_train.append(3)\n",
    "#     inputLabel_train.append(np.power(np.log(view)/MAXVIEW_log,0.75))\n",
    "#         inputLabel_train.append(view/MAXVIEW)"
   ]
  },
  {
   "cell_type": "code",
   "execution_count": 196,
   "metadata": {},
   "outputs": [],
   "source": [
    "inputLabel_val = []\n",
    "for view in input_pbs_val['view']:\n",
    "#     inputLabel_val.append((view-view_mean)/view_sd)\n",
    "#     inputLabel_val.append((np.log(view)-MINVIEW_log)/diff_log)\n",
    "#     inputLabel_val.append((np.log(view)/MAXVIEW_log))\n",
    "    if view <= q1 :\n",
    "        inputLabel_val.append(0)\n",
    "    elif view <= q2 : \n",
    "        inputLabel_val.append(1)\n",
    "    elif view <= q3 : \n",
    "        inputLabel_val.append(2)\n",
    "#     elif view <= q4 : \n",
    "#         inputLabel_val.append(3)\n",
    "#     elif view <= q5 : \n",
    "#         inputLabel_val.append(4)\n",
    "#     elif view <= q6 : \n",
    "#         inputLabel_val.append(5)\n",
    "#     elif view <= q7 : \n",
    "#         inputLabel_val.append(6)\n",
    "#     elif view <= q8 : \n",
    "#         inputLabel_val.append(7)\n",
    "#     elif view <= q9 : \n",
    "#         inputLabel_val.append(8)\n",
    "    else: \n",
    "        inputLabel_val.append(3)\n",
    "#     inputLabel_val.append(np.power(np.log(view)/MAXVIEW_log,0.75))\n",
    "#         inputLabel_val.append(view/MAXVIEW)"
   ]
  },
  {
   "cell_type": "code",
   "execution_count": 197,
   "metadata": {},
   "outputs": [],
   "source": [
    "inputLabel_test = []\n",
    "for view in input_pbs_test['view']:\n",
    "#     inputLabel_test.append((view-view_mean)/view_sd)\n",
    "#     inputLabel_test.append((np.log(view)/MAXVIEW_log))\n",
    "#     inputLabel_test.append(findClass(view))\n",
    "    if view <= q1 :\n",
    "        inputLabel_test.append(0)\n",
    "    elif view <= q2 : \n",
    "        inputLabel_test.append(1)\n",
    "    elif view <= q3 : \n",
    "        inputLabel_test.append(2)\n",
    "#     elif view <= q4 : \n",
    "#         inputLabel_test.append(3)\n",
    "#     elif view <= q5 : \n",
    "#         inputLabel_test.append(4)\n",
    "#     elif view <= q6 : \n",
    "#         inputLabel_test.append(5)\n",
    "#     elif view <= q7 : \n",
    "#         inputLabel_test.append(6)\n",
    "#     elif view <= q8 : \n",
    "#         inputLabel_test.append(7)\n",
    "#     elif view <= q9 : \n",
    "#         inputLabel_test.append(8)\n",
    "    else: \n",
    "        inputLabel_test.append(3)\n",
    "#     inputLabel_test.append((np.log(view)-MINVIEW_log)/diff_log)\n",
    "#         inputLabel_test.append(view/MAXVIEW)"
   ]
  },
  {
   "cell_type": "code",
   "execution_count": null,
   "metadata": {},
   "outputs": [],
   "source": []
  },
  {
   "cell_type": "code",
   "execution_count": 198,
   "metadata": {},
   "outputs": [
    {
     "data": {
      "text/plain": [
       "<matplotlib.axes._subplots.AxesSubplot at 0x7f977f692978>"
      ]
     },
     "execution_count": 198,
     "metadata": {},
     "output_type": "execute_result"
    },
    {
     "data": {
      "image/png": "[encoded data removed]",
      "text/plain": [
       "<Figure size 1440x1440 with 3 Axes>"
      ]
     },
     "metadata": {},
     "output_type": "display_data"
    }
   ],
   "source": [
    "f, axarr = plt.subplots(3, figsize=(20,20))\n",
    "sns.distplot(inputLabel_train,ax=axarr[0])\n",
    "sns.distplot(inputLabel_val,ax=axarr[1])\n",
    "sns.distplot(inputLabel_test,ax=axarr[2])"
   ]
  },
  {
   "cell_type": "code",
   "execution_count": 33,
   "metadata": {},
   "outputs": [
    {
     "name": "stdout",
     "output_type": "stream",
     "text": [
      "13820 13820\n"
     ]
    }
   ],
   "source": [
    "print(len(inputText_train),len(inputLabel_train))"
   ]
  },
  {
   "cell_type": "code",
   "execution_count": 34,
   "metadata": {},
   "outputs": [
    {
     "name": "stdout",
     "output_type": "stream",
     "text": [
      "3456 3456\n"
     ]
    }
   ],
   "source": [
    "print(len(inputText_test),len(inputLabel_test))"
   ]
  },
  {
   "cell_type": "code",
   "execution_count": 117,
   "metadata": {},
   "outputs": [],
   "source": [
    "words = []\n",
    "for sentence in inputText_train:\n",
    "    for word in sentence:\n",
    "        words.append(word)\n",
    "for sentence in inputText_val:\n",
    "    for word in sentence:\n",
    "        words.append(word)\n",
    "        \n",
    "word_count = list()\n",
    "word_count.extend(collections.Counter(words).most_common(len(set(words))))\n",
    "word_count = word_count[:len(word_count)//4]\n",
    "word_count.append((\"UNK\",0))\n",
    "\n",
    "train_word = set()\n",
    "for i in word_count:\n",
    "    train_word.add(i[0])"
   ]
  },
  {
   "cell_type": "code",
   "execution_count": 118,
   "metadata": {},
   "outputs": [
    {
     "data": {
      "text/plain": [
       "3489"
      ]
     },
     "execution_count": 118,
     "metadata": {},
     "output_type": "execute_result"
    }
   ],
   "source": [
    "len(word_count)"
   ]
  },
  {
   "cell_type": "code",
   "execution_count": 119,
   "metadata": {},
   "outputs": [],
   "source": [
    "all_token = set()\n",
    "for word in train_word:\n",
    "    all_token.add(word)"
   ]
  },
  {
   "cell_type": "code",
   "execution_count": 120,
   "metadata": {},
   "outputs": [],
   "source": [
    "all_token = list(all_token)\n",
    "all_token.insert(0,'for padding')\n",
    "all_token.insert(1,'UNK')"
   ]
  },
  {
   "cell_type": "code",
   "execution_count": 121,
   "metadata": {},
   "outputs": [
    {
     "data": {
      "text/plain": [
       "3491"
      ]
     },
     "execution_count": 121,
     "metadata": {},
     "output_type": "execute_result"
    }
   ],
   "source": [
    "len(all_token)"
   ]
  },
  {
   "cell_type": "code",
   "execution_count": 122,
   "metadata": {},
   "outputs": [],
   "source": [
    "token_map = dict(zip(all_token, range(len(all_token))))\n",
    "token_map_reverse = dict(zip(range(len(all_token)),all_token))"
   ]
  },
  {
   "cell_type": "code",
   "execution_count": 123,
   "metadata": {},
   "outputs": [],
   "source": [
    "input_data_train = np.asarray(input_pbs_train['token'].str.split(','))\n",
    "input_data_val = np.asarray(input_pbs_val['token'].str.split(','))\n",
    "input_data_test = np.asarray(input_pbs_test['token'].str.split(','))"
   ]
  },
  {
   "cell_type": "code",
   "execution_count": 124,
   "metadata": {},
   "outputs": [],
   "source": [
    "def count_word(sent):\n",
    "    global all_token, token_map\n",
    "    result = np.zeros(len(all_token))\n",
    "    np_token = np.array(sent)\n",
    "    str_token, str_token_count = np.unique(np_token, return_counts=True)\n",
    "    for char, count in zip(str_token, str_token_count):\n",
    "        if char not in token_map.keys():\n",
    "            char = 'UNK'\n",
    "        result[token_map[char]] = count\n",
    "    return result"
   ]
  },
  {
   "cell_type": "code",
   "execution_count": 125,
   "metadata": {},
   "outputs": [],
   "source": [
    "temp_train = np.vectorize(count_word, otypes=[object])(input_data_train)\n",
    "x_f1_train = np.array([[e for e in sl] for sl in temp_train.tolist()])\n",
    "temp_val = np.vectorize(count_word, otypes=[object])(input_data_val)\n",
    "x_f1_val = np.array([[e for e in sl] for sl in temp_val.tolist()])\n",
    "temp_test = np.vectorize(count_word, otypes=[object])(input_data_test)\n",
    "x_f1_test = np.array([[e for e in sl] for sl in temp_test.tolist()])"
   ]
  },
  {
   "cell_type": "markdown",
   "metadata": {},
   "source": [
    "## Numerical feature"
   ]
  },
  {
   "cell_type": "code",
   "execution_count": 126,
   "metadata": {},
   "outputs": [
    {
     "data": {
      "text/plain": [
       "Index(['headline', 'date', 'DOW', 'time', 'view', 'category', 'tag', 'hour',\n",
       "       'numTag', 'token', 'numToken', 'numChar', 'year-month', 'month', 'year',\n",
       "       'sentiment', 'timeDelta', 'num_noun', 'num_pronoun', 'num_verb',\n",
       "       'num_preverb', 'num_determiner', 'num_adverb', 'num_classifier',\n",
       "       'num_conjunction', 'num_preposition', 'num_interjunction', 'num_prefix',\n",
       "       'num_ending', 'num_negator', 'num_punctuation', 'is_environment',\n",
       "       'is_politic', 'is_health', 'is_crime', 'is_social', 'is_inter',\n",
       "       'is_sport', 'is_economic', 'is_region', 'is_science', 'is_art',\n",
       "       'is_lifestyle', 'is_disaster', 'is_south', 'is_special_report',\n",
       "       'is_article', 'is_agriculture', 'is_education', 'is_women', 'is_asian',\n",
       "       'nnoun_per_ntoken', 'nverb_per_ntoken', 'nadverb_per_ntoken',\n",
       "       'num_date', 'num_email', 'num_law', 'num_len', 'num_location',\n",
       "       'num_money', 'num_organization', 'num_percent', 'num_person',\n",
       "       'num_phone', 'num_time', 'num_url', 'num_person_2', 'num_pos',\n",
       "       'num_neg', 'sim_top', 'sim_worst', 'is_Mon', 'is_Tue', 'is_Wed',\n",
       "       'is_Thu', 'is_Fri', 'is_Sat', 'is_Sun', 'is_weekend', 'tag_pop_sum',\n",
       "       'tag_pop_mean', 'tag_top_pop_sum', 'tag_top_pop_mean', 'num_tag_pop',\n",
       "       'tag_top_worst_sum', 'tag_top_worst_mean', 'num_tag_worst', 'is_pos',\n",
       "       'is_neg', 'class'],\n",
       "      dtype='object')"
      ]
     },
     "execution_count": 126,
     "metadata": {},
     "output_type": "execute_result"
    }
   ],
   "source": [
    "input_pbs.columns"
   ]
  },
  {
   "cell_type": "code",
   "execution_count": 127,
   "metadata": {},
   "outputs": [],
   "source": [
    "numerical_feature = [\n",
    "       'numTag', 'numToken', 'numChar','timeDelta', 'num_noun', 'num_pronoun', 'num_verb',\n",
    "       'num_preverb', 'num_determiner', 'num_adverb', 'num_classifier',\n",
    "       'num_conjunction', 'num_preposition', 'num_interjunction', 'num_prefix',\n",
    "       'num_ending', 'num_negator', 'num_punctuation',\n",
    "       'nnoun_per_ntoken', 'nverb_per_ntoken', 'nadverb_per_ntoken',\n",
    "       'num_date', 'num_email', 'num_law', 'num_len', 'num_location',\n",
    "       'num_money', 'num_organization', 'num_percent', 'num_person',\n",
    "       'num_phone', 'num_time', 'num_url', 'num_person_2', 'num_pos',\n",
    "       'num_neg', 'sim_top', 'sim_worst', 'tag_pop_sum',\n",
    "       'tag_pop_mean', 'tag_top_pop_sum', 'tag_top_pop_mean', 'num_tag_pop',\n",
    "       'tag_top_worst_sum', 'tag_top_worst_mean', 'num_tag_worst']\n",
    "\n",
    "# numerical_feature = ['num_tag_pop','tag_top_pop_sum', 'tag_top_pop_mean','sim_top','numTag','tag_pop_sum',\n",
    "#                      'num_person','num_classifier','tag_pop_mean','timeDelta','num_tag_worst',\n",
    "#                      'tag_top_worst_sum', 'tag_top_worst_mean','numChar','num_location','sim_worst',\n",
    "#                     'num_verb','num_noun','nverb_per_ntoken']\n",
    "\n",
    "# numerical_feature = ['num_tag_pop','tag_top_pop_sum', 'tag_top_pop_mean','sim_top','numTag','tag_pop_sum',\n",
    "#                      'num_person','num_classifier','tag_pop_mean']\n",
    "\n",
    "# numerical_feature = ['num_tag_pop','tag_top_pop_sum', 'tag_top_pop_mean','sim_top','numTag','tag_pop_sum',\n",
    "#                      'num_person','num_classifier','tag_pop_mean','timeDelta','sim_worst','numChar',\n",
    "#                     'numTag','nnoun_per_ntoken','nverb_per_ntoken','numToken','num_noun','num_verb',\n",
    "#                      'tag_top_worst_sum','num_neg','tag_top_worst_mean','num_person','num_classifier',\n",
    "#                     'num_location','num_pos','num_tag_worst','num_organization']"
   ]
  },
  {
   "cell_type": "code",
   "execution_count": 128,
   "metadata": {},
   "outputs": [],
   "source": [
    "cs = MinMaxScaler()"
   ]
  },
  {
   "cell_type": "code",
   "execution_count": 129,
   "metadata": {},
   "outputs": [
    {
     "name": "stderr",
     "output_type": "stream",
     "text": [
      "/home/burin/py_36_env/lib/python3.6/site-packages/sklearn/preprocessing/data.py:334: DataConversionWarning: Data with input dtype int64, float64 were all converted to float64 by MinMaxScaler.\n",
      "  return self.partial_fit(X, y)\n",
      "/home/burin/py_36_env/lib/python3.6/site-packages/sklearn/preprocessing/data.py:334: DataConversionWarning: Data with input dtype int64, float64 were all converted to float64 by MinMaxScaler.\n",
      "  return self.partial_fit(X, y)\n",
      "/home/burin/py_36_env/lib/python3.6/site-packages/sklearn/preprocessing/data.py:334: DataConversionWarning: Data with input dtype int64, float64 were all converted to float64 by MinMaxScaler.\n",
      "  return self.partial_fit(X, y)\n"
     ]
    }
   ],
   "source": [
    "trainContinuous = cs.fit_transform(input_pbs_train[numerical_feature])\n",
    "valContinuous = cs.fit_transform(input_pbs_val[numerical_feature])\n",
    "testContinuous = cs.fit_transform(input_pbs_test[numerical_feature])"
   ]
  },
  {
   "cell_type": "markdown",
   "metadata": {},
   "source": [
    "## Categorial feature"
   ]
  },
  {
   "cell_type": "code",
   "execution_count": 130,
   "metadata": {},
   "outputs": [],
   "source": [
    "categorial_feature = ['DOW', 'hour',\n",
    "        'month', 'year',\n",
    "        'is_environment',\n",
    "       'is_politic', 'is_health', 'is_crime', 'is_social', 'is_inter',\n",
    "       'is_sport', 'is_economic', 'is_region', 'is_science', 'is_art',\n",
    "       'is_lifestyle', 'is_disaster', 'is_south', 'is_special_report',\n",
    "       'is_article', 'is_agriculture', 'is_education', 'is_women', 'is_asian',\n",
    "       'is_Mon', 'is_Tue', 'is_Wed',\n",
    "       'is_Thu', 'is_Fri', 'is_Sat', 'is_Sun', 'is_weekend', 'is_pos',\n",
    "       'is_neg']\n",
    "\n",
    "# categorial_feature = ['year','is_social','is_health','is_disaster','is_weekend','is_Sat','is_inter',\n",
    "#                      'is_region','is_Wed','is_asian','is_south']\n",
    "\n",
    "# categorial_feature = ['year','is_social','is_health','is_disaster','is_weekend','is_Sat']\n",
    "\n",
    "# categorial_feature = ['year','is_social','is_health','is_disaster','is_weekend','is_Sat','hour','month']"
   ]
  },
  {
   "cell_type": "code",
   "execution_count": 131,
   "metadata": {},
   "outputs": [],
   "source": [
    "lb = preprocessing.LabelBinarizer()"
   ]
  },
  {
   "cell_type": "code",
   "execution_count": 132,
   "metadata": {},
   "outputs": [],
   "source": [
    "# zipBinarizer = lb.fit(input_pbs[\"DOW\"])\n",
    "# trainCategorical_dow = zipBinarizer.transform(input_pbs_train[\"DOW\"])\n",
    "# testCategorical_dow = zipBinarizer.transform(input_pbs_test[\"DOW\"])\n",
    "# zipBinarizer = lb.fit(input_pbs[\"month\"])\n",
    "# trainCategorical_month = zipBinarizer.transform(input_pbs_train[\"month\"])\n",
    "# testCategorical_month = zipBinarizer.transform(input_pbs_test[\"month\"])\n",
    "# zipBinarizer = lb.fit(input_pbs[\"year\"])\n",
    "# trainCategorical_year = zipBinarizer.transform(input_pbs_train[\"year\"])\n",
    "# testCategorical_year = zipBinarizer.transform(input_pbs_test[\"year\"])\n",
    "# zipBinarizer = lb.fit(input_pbs[\"hour\"])\n",
    "# trainCategorical_hour = zipBinarizer.transform(input_pbs_train[\"hour\"])\n",
    "# testCategorical_hour = zipBinarizer.transform(input_pbs_test[\"hour\"])\n",
    "# zipBinarizer = lb.fit(input_pbs[\"category\"])\n",
    "# trainCategorical_category = zipBinarizer.transform(input_pbs_train[\"category\"])\n",
    "# testCategorical_category = zipBinarizer.transform(input_pbs_test[\"category\"])\n",
    "# zipBinarizer = lb.fit(input_pbs[\"sentiment\"])\n",
    "# trainCategorical_sentiment = zipBinarizer.transform(input_pbs_train[\"sentiment\"])\n",
    "# testCategorical_sentiment = zipBinarizer.transform(input_pbs_test[\"sentiment\"])"
   ]
  },
  {
   "cell_type": "code",
   "execution_count": null,
   "metadata": {},
   "outputs": [],
   "source": []
  },
  {
   "cell_type": "code",
   "execution_count": null,
   "metadata": {},
   "outputs": [],
   "source": []
  },
  {
   "cell_type": "markdown",
   "metadata": {},
   "source": [
    "## Concat feature"
   ]
  },
  {
   "cell_type": "code",
   "execution_count": 133,
   "metadata": {},
   "outputs": [],
   "source": [
    "tmp_train = np.hstack([x_f1_train, trainContinuous])\n",
    "tmp_val = np.hstack([x_f1_val, valContinuous])\n",
    "tmp_test = np.hstack([ x_f1_test, testContinuous])\n",
    "\n",
    "for f in categorial_feature:\n",
    "    zipBinarizer = lb.fit(input_pbs[f])\n",
    "    trainCategorical = zipBinarizer.transform(input_pbs_train[f])\n",
    "    valCategorical = zipBinarizer.transform(input_pbs_val[f])\n",
    "    testCategorical = zipBinarizer.transform(input_pbs_test[f])\n",
    "    tmp_train = np.hstack([tmp_train,trainCategorical])\n",
    "    tmp_val = np.hstack([tmp_val,valCategorical])\n",
    "    tmp_test = np.hstack([tmp_test,testCategorical])"
   ]
  },
  {
   "cell_type": "code",
   "execution_count": 134,
   "metadata": {},
   "outputs": [],
   "source": [
    "x_train = tmp_train\n",
    "x_val = tmp_val\n",
    "x_test = tmp_test"
   ]
  },
  {
   "cell_type": "code",
   "execution_count": 52,
   "metadata": {},
   "outputs": [],
   "source": [
    "# x_train = np.hstack([x_f1_train, trainContinuous,trainCategorical_dow,trainCategorical_month,trainCategorical_year,\n",
    "#                      trainCategorical_hour,trainCategorical_category,trainCategorical_sentiment])\n",
    "# x_test = np.hstack([x_f1_test, testContinuous,testCategorical_dow,testCategorical_month,testCategorical_year,\n",
    "#                     testCategorical_hour,testCategorical_category,testCategorical_sentiment])"
   ]
  },
  {
   "cell_type": "code",
   "execution_count": 53,
   "metadata": {},
   "outputs": [],
   "source": [
    "# x_train = np.hstack([x_f1_train,trainCategorical_dow,trainCategorical_hour,trainCategorical_category])\n",
    "# x_test = np.hstack([x_f1_test,testCategorical_dow,testCategorical_hour,testCategorical_category])"
   ]
  },
  {
   "cell_type": "code",
   "execution_count": 54,
   "metadata": {},
   "outputs": [],
   "source": [
    "# x_train = np.hstack([x_f1_train, trainContinuous])\n",
    "# x_test = np.hstack([x_f1_test, testContinuous])"
   ]
  },
  {
   "cell_type": "markdown",
   "metadata": {},
   "source": [
    "## Prepare data for Keras"
   ]
  },
  {
   "cell_type": "code",
   "execution_count": 135,
   "metadata": {},
   "outputs": [],
   "source": [
    "x_train=keras.preprocessing.sequence.pad_sequences(x_train, maxlen=None, dtype='int32', padding='post', truncating='pre', value=0.)\n",
    "x_val=keras.preprocessing.sequence.pad_sequences(x_val, maxlen=None, dtype='int32', padding='post', truncating='pre', value=0.)\n",
    "x_test=keras.preprocessing.sequence.pad_sequences(x_test, maxlen=None, dtype='int32', padding='post', truncating='pre', value=0.)\n"
   ]
  },
  {
   "cell_type": "code",
   "execution_count": 136,
   "metadata": {},
   "outputs": [
    {
     "data": {
      "text/plain": [
       "(11056, 3611)"
      ]
     },
     "execution_count": 136,
     "metadata": {},
     "output_type": "execute_result"
    }
   ],
   "source": [
    "x_train.shape"
   ]
  },
  {
   "cell_type": "code",
   "execution_count": 137,
   "metadata": {},
   "outputs": [
    {
     "name": "stdout",
     "output_type": "stream",
     "text": [
      "train size (11056, 3611)\n",
      "val size (2764, 3611)\n",
      "test size (3456, 3611)\n"
     ]
    }
   ],
   "source": [
    "print(\"train size\",x_train.shape)\n",
    "print(\"val size\",x_val.shape)\n",
    "print(\"test size\",x_test.shape)"
   ]
  },
  {
   "cell_type": "code",
   "execution_count": 199,
   "metadata": {},
   "outputs": [],
   "source": [
    "# y_train = inputLabel_train\n",
    "# y_train = np.asarray(y_train).reshape(-1,1)\n",
    "# y_test = inputLabel_test\n",
    "# y_test = np.asarray(y_test).reshape(-1,1)\n",
    "y_train = np_utils.to_categorical(inputLabel_train)\n",
    "y_val = np_utils.to_categorical(inputLabel_val)\n",
    "y_test = np_utils.to_categorical(inputLabel_test)"
   ]
  },
  {
   "cell_type": "code",
   "execution_count": 200,
   "metadata": {},
   "outputs": [
    {
     "data": {
      "text/plain": [
       "(11056, 4)"
      ]
     },
     "execution_count": 200,
     "metadata": {},
     "output_type": "execute_result"
    }
   ],
   "source": [
    "y_train.shape"
   ]
  },
  {
   "cell_type": "code",
   "execution_count": 201,
   "metadata": {},
   "outputs": [],
   "source": [
    "# y_train, y_test =  train_test_split(y_train, test_size=0.2,random_state=1)"
   ]
  },
  {
   "cell_type": "code",
   "execution_count": 202,
   "metadata": {},
   "outputs": [
    {
     "name": "stdout",
     "output_type": "stream",
     "text": [
      "train size (11056, 4)\n",
      "train size (2764, 4)\n",
      "test size (3456, 4)\n"
     ]
    }
   ],
   "source": [
    "print(\"train size\",y_train.shape)\n",
    "print(\"train size\",y_val.shape)\n",
    "print(\"test size\",y_test.shape)"
   ]
  },
  {
   "cell_type": "markdown",
   "metadata": {},
   "source": [
    "## Create Model"
   ]
  },
  {
   "cell_type": "code",
   "execution_count": 203,
   "metadata": {},
   "outputs": [],
   "source": [
    "# def create_model():\n",
    "# #     x_train2 = x_train.reshape(x.shape[0], 1, x.shape[1])\n",
    "#     input1 = Input(shape=(x_train.shape[1],))\n",
    "# #     x = LSTM(32)(input1)\n",
    "# #     x = Dense(256, activation='relu')(input1)\n",
    "# #     x = Dropout(0.3)(x)\n",
    "# #     x = BatchNormalization(momentum=0.99, epsilon=0.001)(x)\n",
    "# #     x = Dense(128, activation='relu')(input1)\n",
    "# #     x = Dropout(0.2)(x)\n",
    "# #     x = BatchNormalization(momentum=0.99, epsilon=0.001)(x)\n",
    "# #     x = Dense(64, activation='relu')(input1)\n",
    "# #     x = Dropout(0.2)(x)\n",
    "# # #     x = BatchNormalization(momentum=0.99, epsilon=0.001)(x)\n",
    "# #     x = Dense(32, activation='relu')(x)\n",
    "# #     x = Dropout(0.2)(x)\n",
    "# # #     x = BatchNormalization(momentum=0.99, epsilon=0.001)(x)\n",
    "# #     x = Dense(16, activation='relu')(x)\n",
    "# #     x = Dropout(0.2)(x)\n",
    "# #     x = BatchNormalization(momentum=0.99, epsilon=0.001)(x)\n",
    "\n",
    "#     x = Dense(2048, activation='sigmoid')(input1)\n",
    "#     x = Dropout(0.5)(x)\n",
    "# #     x = BatchNormalization(momentum=0.99, epsilon=0.001)(x)\n",
    "\n",
    "#     x = Dense(1024, activation='sigmoid')(x)\n",
    "#     x = Dropout(0.5)(x)\n",
    "# #     x = BatchNormalization(momentum=0.99, epsilon=0.001)(x)\n",
    "#     x = Dense(256, activation='sigmoid')(x)\n",
    "#     x = Dropout(0.3)(x)\n",
    "    \n",
    "# #     x = BatchNormalization(momentum=0.99, epsilon=0.001)(x)\n",
    "#     x = Dense(64, activation='sigmoid')(x)\n",
    "#     x = Dropout(0.2)(x)\n",
    "# #     x = BatchNormalization(momentum=0.99, epsilon=0.001)(x)\n",
    "#     x = Dense(16, activation='sigmoid')(x)\n",
    "#     x = Dropout(0.2)(x)\n",
    "# #     x = BatchNormalization(momentum=0.99, epsilon=0.001)(x)\n",
    "\n",
    "#     x = Dense(1,activation='linear')(x)\n",
    "#     model = Model(inputs=input1, outputs=x)\n",
    "#     adam  = Adam(lr=0.0001)\n",
    "#     model.compile(optimizer=adam,  loss='mse')\n",
    "    \n",
    "#     return model\n"
   ]
  },
  {
   "cell_type": "code",
   "execution_count": 233,
   "metadata": {},
   "outputs": [],
   "source": [
    "def create_model():\n",
    "    input1 = Input(shape=(x_train.shape[1],))\n",
    "    x = Dense(2048, activation='tanh')(input1)\n",
    "    x = Dropout(0.5)(x)\n",
    "#     x = BatchNormalization(momentum=0.99, epsilon=0.001)(x)\n",
    "\n",
    "    x = Dense(1024, activation='tanh')(x)\n",
    "    x = Dropout(0.5)(x)\n",
    "#     x = BatchNormalization(momentum=0.99, epsilon=0.001)(x)\n",
    "    x = Dense(256, activation='tanh')(x)\n",
    "    x = Dropout(0.3)(x)\n",
    "    \n",
    "#     x = BatchNormalization(momentum=0.99, epsilon=0.001)(x)\n",
    "    x = Dense(64, activation='tanh')(x)\n",
    "    x = Dropout(0.2)(x)\n",
    "#     x = BatchNormalization(momentum=0.99, epsilon=0.001)(x)\n",
    "    x = Dense(32, activation='tanh')(x)\n",
    "    x = Dropout(0.2)(x)\n",
    "#     x = BatchNormalization(momentum=0.99, epsilon=0.001)(x)\n",
    "\n",
    "    x = Dense(4,activation='softmax')(x)\n",
    "    model = Model(inputs=input1, outputs=x)\n",
    "    adam  = Adam(lr=0.0001)\n",
    "    model.compile(optimizer=Adam(),\n",
    "            loss='categorical_crossentropy',\n",
    "            metrics=['acc'])\n",
    "    \n",
    "    return model\n"
   ]
  },
  {
   "cell_type": "code",
   "execution_count": 234,
   "metadata": {},
   "outputs": [
    {
     "name": "stdout",
     "output_type": "stream",
     "text": [
      "_________________________________________________________________\n",
      "Layer (type)                 Output Shape              Param #   \n",
      "=================================================================\n",
      "input_12 (InputLayer)        (None, 3611)              0         \n",
      "_________________________________________________________________\n",
      "dense_67 (Dense)             (None, 2048)              7397376   \n",
      "_________________________________________________________________\n",
      "dropout_56 (Dropout)         (None, 2048)              0         \n",
      "_________________________________________________________________\n",
      "dense_68 (Dense)             (None, 1024)              2098176   \n",
      "_________________________________________________________________\n",
      "dropout_57 (Dropout)         (None, 1024)              0         \n",
      "_________________________________________________________________\n",
      "dense_69 (Dense)             (None, 256)               262400    \n",
      "_________________________________________________________________\n",
      "dropout_58 (Dropout)         (None, 256)               0         \n",
      "_________________________________________________________________\n",
      "dense_70 (Dense)             (None, 64)                16448     \n",
      "_________________________________________________________________\n",
      "dropout_59 (Dropout)         (None, 64)                0         \n",
      "_________________________________________________________________\n",
      "dense_71 (Dense)             (None, 32)                2080      \n",
      "_________________________________________________________________\n",
      "dropout_60 (Dropout)         (None, 32)                0         \n",
      "_________________________________________________________________\n",
      "dense_72 (Dense)             (None, 4)                 132       \n",
      "=================================================================\n",
      "Total params: 9,776,612\n",
      "Trainable params: 9,776,612\n",
      "Non-trainable params: 0\n",
      "_________________________________________________________________\n"
     ]
    }
   ],
   "source": [
    "model = create_model()\n",
    "model.summary()"
   ]
  },
  {
   "cell_type": "code",
   "execution_count": 235,
   "metadata": {},
   "outputs": [],
   "source": [
    "weight_path='./model_class_1.h5'\n",
    "callbacks_list = [\n",
    "        ModelCheckpoint(\n",
    "            weight_path,\n",
    "            save_best_only=True,\n",
    "            save_weights_only=True,\n",
    "            monitor='val_acc',\n",
    "            mode='max',\n",
    "            verbose=1\n",
    "        )\n",
    "]"
   ]
  },
  {
   "cell_type": "code",
   "execution_count": 236,
   "metadata": {},
   "outputs": [
    {
     "name": "stdout",
     "output_type": "stream",
     "text": [
      "Train on 11056 samples, validate on 2764 samples\n",
      "Epoch 1/50\n",
      "11056/11056 [==============================] - 47s 4ms/step - loss: 1.4800 - acc: 0.2745 - val_loss: 1.3713 - val_acc: 0.3162\n",
      "\n",
      "Epoch 00001: val_acc improved from -inf to 0.31621, saving model to ./model_class_1.h5\n",
      "Epoch 2/50\n",
      "11056/11056 [==============================] - 45s 4ms/step - loss: 1.3849 - acc: 0.3212 - val_loss: 1.3592 - val_acc: 0.3238\n",
      "\n",
      "Epoch 00002: val_acc improved from 0.31621 to 0.32381, saving model to ./model_class_1.h5\n",
      "Epoch 3/50\n",
      "11056/11056 [==============================] - 46s 4ms/step - loss: 1.3235 - acc: 0.3648 - val_loss: 1.3979 - val_acc: 0.3263\n",
      "\n",
      "Epoch 00003: val_acc improved from 0.32381 to 0.32634, saving model to ./model_class_1.h5\n",
      "Epoch 4/50\n",
      "11056/11056 [==============================] - 45s 4ms/step - loss: 1.2714 - acc: 0.4156 - val_loss: 1.4292 - val_acc: 0.3162\n",
      "\n",
      "Epoch 00004: val_acc did not improve from 0.32634\n",
      "Epoch 5/50\n",
      "11056/11056 [==============================] - 46s 4ms/step - loss: 1.2105 - acc: 0.4610 - val_loss: 1.4747 - val_acc: 0.3122\n",
      "\n",
      "Epoch 00005: val_acc did not improve from 0.32634\n",
      "Epoch 6/50\n",
      "11056/11056 [==============================] - 45s 4ms/step - loss: 1.1650 - acc: 0.4920 - val_loss: 1.4986 - val_acc: 0.3035\n",
      "\n",
      "Epoch 00006: val_acc did not improve from 0.32634\n",
      "Epoch 7/50\n",
      "11056/11056 [==============================] - 46s 4ms/step - loss: 1.1235 - acc: 0.5201 - val_loss: 1.5631 - val_acc: 0.3079\n",
      "\n",
      "Epoch 00007: val_acc did not improve from 0.32634\n",
      "Epoch 8/50\n",
      "11056/11056 [==============================] - 46s 4ms/step - loss: 1.0871 - acc: 0.5387 - val_loss: 1.6184 - val_acc: 0.2999\n",
      "\n",
      "Epoch 00008: val_acc did not improve from 0.32634\n",
      "Epoch 9/50\n",
      "11056/11056 [==============================] - 45s 4ms/step - loss: 1.0612 - acc: 0.5595 - val_loss: 1.6103 - val_acc: 0.2916\n",
      "\n",
      "Epoch 00009: val_acc did not improve from 0.32634\n",
      "Epoch 10/50\n",
      "11056/11056 [==============================] - 46s 4ms/step - loss: 1.0337 - acc: 0.5691 - val_loss: 1.6003 - val_acc: 0.3061\n",
      "\n",
      "Epoch 00010: val_acc did not improve from 0.32634\n",
      "Epoch 11/50\n",
      " 1760/11056 [===>..........................] - ETA: 37s - loss: 0.9254 - acc: 0.6443"
     ]
    },
    {
     "ename": "KeyboardInterrupt",
     "evalue": "",
     "output_type": "error",
     "traceback": [
      "\u001b[0;31m---------------------------------------------------------------------------\u001b[0m",
      "\u001b[0;31mKeyboardInterrupt\u001b[0m                         Traceback (most recent call last)",
      "\u001b[0;32m<ipython-input-236-876ea0713d13>\u001b[0m in \u001b[0;36m<module>\u001b[0;34m\u001b[0m\n\u001b[1;32m      1\u001b[0m model.fit(x_train, y_train, \n\u001b[0;32m----> 2\u001b[0;31m           batch_size=32 ,epochs=50, verbose=1, validation_data=[x_val,y_val], callbacks=callbacks_list)\n\u001b[0m",
      "\u001b[0;32m~/py_36_env/lib/python3.6/site-packages/keras/engine/training.py\u001b[0m in \u001b[0;36mfit\u001b[0;34m(self, x, y, batch_size, epochs, verbose, callbacks, validation_split, validation_data, shuffle, class_weight, sample_weight, initial_epoch, steps_per_epoch, validation_steps, **kwargs)\u001b[0m\n\u001b[1;32m   1037\u001b[0m                                         \u001b[0minitial_epoch\u001b[0m\u001b[0;34m=\u001b[0m\u001b[0minitial_epoch\u001b[0m\u001b[0;34m,\u001b[0m\u001b[0;34m\u001b[0m\u001b[0;34m\u001b[0m\u001b[0m\n\u001b[1;32m   1038\u001b[0m                                         \u001b[0msteps_per_epoch\u001b[0m\u001b[0;34m=\u001b[0m\u001b[0msteps_per_epoch\u001b[0m\u001b[0;34m,\u001b[0m\u001b[0;34m\u001b[0m\u001b[0;34m\u001b[0m\u001b[0m\n\u001b[0;32m-> 1039\u001b[0;31m                                         validation_steps=validation_steps)\n\u001b[0m\u001b[1;32m   1040\u001b[0m \u001b[0;34m\u001b[0m\u001b[0m\n\u001b[1;32m   1041\u001b[0m     def evaluate(self, x=None, y=None,\n",
      "\u001b[0;32m~/py_36_env/lib/python3.6/site-packages/keras/engine/training_arrays.py\u001b[0m in \u001b[0;36mfit_loop\u001b[0;34m(model, f, ins, out_labels, batch_size, epochs, verbose, callbacks, val_f, val_ins, shuffle, callback_metrics, initial_epoch, steps_per_epoch, validation_steps)\u001b[0m\n\u001b[1;32m    197\u001b[0m                     \u001b[0mins_batch\u001b[0m\u001b[0;34m[\u001b[0m\u001b[0mi\u001b[0m\u001b[0;34m]\u001b[0m \u001b[0;34m=\u001b[0m \u001b[0mins_batch\u001b[0m\u001b[0;34m[\u001b[0m\u001b[0mi\u001b[0m\u001b[0;34m]\u001b[0m\u001b[0;34m.\u001b[0m\u001b[0mtoarray\u001b[0m\u001b[0;34m(\u001b[0m\u001b[0;34m)\u001b[0m\u001b[0;34m\u001b[0m\u001b[0;34m\u001b[0m\u001b[0m\n\u001b[1;32m    198\u001b[0m \u001b[0;34m\u001b[0m\u001b[0m\n\u001b[0;32m--> 199\u001b[0;31m                 \u001b[0mouts\u001b[0m \u001b[0;34m=\u001b[0m \u001b[0mf\u001b[0m\u001b[0;34m(\u001b[0m\u001b[0mins_batch\u001b[0m\u001b[0;34m)\u001b[0m\u001b[0;34m\u001b[0m\u001b[0;34m\u001b[0m\u001b[0m\n\u001b[0m\u001b[1;32m    200\u001b[0m                 \u001b[0mouts\u001b[0m \u001b[0;34m=\u001b[0m \u001b[0mto_list\u001b[0m\u001b[0;34m(\u001b[0m\u001b[0mouts\u001b[0m\u001b[0;34m)\u001b[0m\u001b[0;34m\u001b[0m\u001b[0;34m\u001b[0m\u001b[0m\n\u001b[1;32m    201\u001b[0m                 \u001b[0;32mfor\u001b[0m \u001b[0ml\u001b[0m\u001b[0;34m,\u001b[0m \u001b[0mo\u001b[0m \u001b[0;32min\u001b[0m \u001b[0mzip\u001b[0m\u001b[0;34m(\u001b[0m\u001b[0mout_labels\u001b[0m\u001b[0;34m,\u001b[0m \u001b[0mouts\u001b[0m\u001b[0;34m)\u001b[0m\u001b[0;34m:\u001b[0m\u001b[0;34m\u001b[0m\u001b[0;34m\u001b[0m\u001b[0m\n",
      "\u001b[0;32m~/py_36_env/lib/python3.6/site-packages/keras/backend/tensorflow_backend.py\u001b[0m in \u001b[0;36m__call__\u001b[0;34m(self, inputs)\u001b[0m\n\u001b[1;32m   2713\u001b[0m                 \u001b[0;32mreturn\u001b[0m \u001b[0mself\u001b[0m\u001b[0;34m.\u001b[0m\u001b[0m_legacy_call\u001b[0m\u001b[0;34m(\u001b[0m\u001b[0minputs\u001b[0m\u001b[0;34m)\u001b[0m\u001b[0;34m\u001b[0m\u001b[0;34m\u001b[0m\u001b[0m\n\u001b[1;32m   2714\u001b[0m \u001b[0;34m\u001b[0m\u001b[0m\n\u001b[0;32m-> 2715\u001b[0;31m             \u001b[0;32mreturn\u001b[0m \u001b[0mself\u001b[0m\u001b[0;34m.\u001b[0m\u001b[0m_call\u001b[0m\u001b[0;34m(\u001b[0m\u001b[0minputs\u001b[0m\u001b[0;34m)\u001b[0m\u001b[0;34m\u001b[0m\u001b[0;34m\u001b[0m\u001b[0m\n\u001b[0m\u001b[1;32m   2716\u001b[0m         \u001b[0;32melse\u001b[0m\u001b[0;34m:\u001b[0m\u001b[0;34m\u001b[0m\u001b[0;34m\u001b[0m\u001b[0m\n\u001b[1;32m   2717\u001b[0m             \u001b[0;32mif\u001b[0m \u001b[0mpy_any\u001b[0m\u001b[0;34m(\u001b[0m\u001b[0mis_tensor\u001b[0m\u001b[0;34m(\u001b[0m\u001b[0mx\u001b[0m\u001b[0;34m)\u001b[0m \u001b[0;32mfor\u001b[0m \u001b[0mx\u001b[0m \u001b[0;32min\u001b[0m \u001b[0minputs\u001b[0m\u001b[0;34m)\u001b[0m\u001b[0;34m:\u001b[0m\u001b[0;34m\u001b[0m\u001b[0;34m\u001b[0m\u001b[0m\n",
      "\u001b[0;32m~/py_36_env/lib/python3.6/site-packages/keras/backend/tensorflow_backend.py\u001b[0m in \u001b[0;36m_call\u001b[0;34m(self, inputs)\u001b[0m\n\u001b[1;32m   2673\u001b[0m             \u001b[0mfetched\u001b[0m \u001b[0;34m=\u001b[0m \u001b[0mself\u001b[0m\u001b[0;34m.\u001b[0m\u001b[0m_callable_fn\u001b[0m\u001b[0;34m(\u001b[0m\u001b[0;34m*\u001b[0m\u001b[0marray_vals\u001b[0m\u001b[0;34m,\u001b[0m \u001b[0mrun_metadata\u001b[0m\u001b[0;34m=\u001b[0m\u001b[0mself\u001b[0m\u001b[0;34m.\u001b[0m\u001b[0mrun_metadata\u001b[0m\u001b[0;34m)\u001b[0m\u001b[0;34m\u001b[0m\u001b[0;34m\u001b[0m\u001b[0m\n\u001b[1;32m   2674\u001b[0m         \u001b[0;32melse\u001b[0m\u001b[0;34m:\u001b[0m\u001b[0;34m\u001b[0m\u001b[0;34m\u001b[0m\u001b[0m\n\u001b[0;32m-> 2675\u001b[0;31m             \u001b[0mfetched\u001b[0m \u001b[0;34m=\u001b[0m \u001b[0mself\u001b[0m\u001b[0;34m.\u001b[0m\u001b[0m_callable_fn\u001b[0m\u001b[0;34m(\u001b[0m\u001b[0;34m*\u001b[0m\u001b[0marray_vals\u001b[0m\u001b[0;34m)\u001b[0m\u001b[0;34m\u001b[0m\u001b[0;34m\u001b[0m\u001b[0m\n\u001b[0m\u001b[1;32m   2676\u001b[0m         \u001b[0;32mreturn\u001b[0m \u001b[0mfetched\u001b[0m\u001b[0;34m[\u001b[0m\u001b[0;34m:\u001b[0m\u001b[0mlen\u001b[0m\u001b[0;34m(\u001b[0m\u001b[0mself\u001b[0m\u001b[0;34m.\u001b[0m\u001b[0moutputs\u001b[0m\u001b[0;34m)\u001b[0m\u001b[0;34m]\u001b[0m\u001b[0;34m\u001b[0m\u001b[0;34m\u001b[0m\u001b[0m\n\u001b[1;32m   2677\u001b[0m \u001b[0;34m\u001b[0m\u001b[0m\n",
      "\u001b[0;32m~/py_36_env/lib/python3.6/site-packages/tensorflow/python/client/session.py\u001b[0m in \u001b[0;36m__call__\u001b[0;34m(self, *args, **kwargs)\u001b[0m\n\u001b[1;32m   1437\u001b[0m           ret = tf_session.TF_SessionRunCallable(\n\u001b[1;32m   1438\u001b[0m               \u001b[0mself\u001b[0m\u001b[0;34m.\u001b[0m\u001b[0m_session\u001b[0m\u001b[0;34m.\u001b[0m\u001b[0m_session\u001b[0m\u001b[0;34m,\u001b[0m \u001b[0mself\u001b[0m\u001b[0;34m.\u001b[0m\u001b[0m_handle\u001b[0m\u001b[0;34m,\u001b[0m \u001b[0margs\u001b[0m\u001b[0;34m,\u001b[0m \u001b[0mstatus\u001b[0m\u001b[0;34m,\u001b[0m\u001b[0;34m\u001b[0m\u001b[0;34m\u001b[0m\u001b[0m\n\u001b[0;32m-> 1439\u001b[0;31m               run_metadata_ptr)\n\u001b[0m\u001b[1;32m   1440\u001b[0m         \u001b[0;32mif\u001b[0m \u001b[0mrun_metadata\u001b[0m\u001b[0;34m:\u001b[0m\u001b[0;34m\u001b[0m\u001b[0;34m\u001b[0m\u001b[0m\n\u001b[1;32m   1441\u001b[0m           \u001b[0mproto_data\u001b[0m \u001b[0;34m=\u001b[0m \u001b[0mtf_session\u001b[0m\u001b[0;34m.\u001b[0m\u001b[0mTF_GetBuffer\u001b[0m\u001b[0;34m(\u001b[0m\u001b[0mrun_metadata_ptr\u001b[0m\u001b[0;34m)\u001b[0m\u001b[0;34m\u001b[0m\u001b[0;34m\u001b[0m\u001b[0m\n",
      "\u001b[0;31mKeyboardInterrupt\u001b[0m: "
     ]
    }
   ],
   "source": [
    "model.fit(x_train, y_train, \n",
    "          batch_size=32 ,epochs=50, verbose=1, validation_data=[x_val,y_val], callbacks=callbacks_list)"
   ]
  },
  {
   "cell_type": "code",
   "execution_count": 237,
   "metadata": {},
   "outputs": [
    {
     "name": "stdout",
     "output_type": "stream",
     "text": [
      "_________________________________________________________________\n",
      "Layer (type)                 Output Shape              Param #   \n",
      "=================================================================\n",
      "input_13 (InputLayer)        (None, 3611)              0         \n",
      "_________________________________________________________________\n",
      "dense_73 (Dense)             (None, 2048)              7397376   \n",
      "_________________________________________________________________\n",
      "dropout_61 (Dropout)         (None, 2048)              0         \n",
      "_________________________________________________________________\n",
      "dense_74 (Dense)             (None, 1024)              2098176   \n",
      "_________________________________________________________________\n",
      "dropout_62 (Dropout)         (None, 1024)              0         \n",
      "_________________________________________________________________\n",
      "dense_75 (Dense)             (None, 256)               262400    \n",
      "_________________________________________________________________\n",
      "dropout_63 (Dropout)         (None, 256)               0         \n",
      "_________________________________________________________________\n",
      "dense_76 (Dense)             (None, 64)                16448     \n",
      "_________________________________________________________________\n",
      "dropout_64 (Dropout)         (None, 64)                0         \n",
      "_________________________________________________________________\n",
      "dense_77 (Dense)             (None, 32)                2080      \n",
      "_________________________________________________________________\n",
      "dropout_65 (Dropout)         (None, 32)                0         \n",
      "_________________________________________________________________\n",
      "dense_78 (Dense)             (None, 4)                 132       \n",
      "=================================================================\n",
      "Total params: 9,776,612\n",
      "Trainable params: 9,776,612\n",
      "Non-trainable params: 0\n",
      "_________________________________________________________________\n"
     ]
    }
   ],
   "source": [
    "weight_model='./model_class_1.h5'\n",
    "model = create_model()\n",
    "model.load_weights(weight_model)\n",
    "# model._make_predict_function()\n",
    "model.summary()"
   ]
  },
  {
   "cell_type": "markdown",
   "metadata": {},
   "source": [
    "## Evaluate Model"
   ]
  },
  {
   "cell_type": "code",
   "execution_count": 238,
   "metadata": {},
   "outputs": [],
   "source": [
    "y_pred = model.predict(x_test)"
   ]
  },
  {
   "cell_type": "code",
   "execution_count": 239,
   "metadata": {},
   "outputs": [],
   "source": [
    "def evaluate(y_pred, y_test):\n",
    "    acc = 0\n",
    "    pred = list()\n",
    "    true = list()\n",
    "    for i in range(len(y_pred)):\n",
    "        pred.append(np.argmax(y_pred[i]))\n",
    "        true.append(np.argmax(y_test[i]))\n",
    "    return f1_score(true, pred, average='micro'),pred,true  "
   ]
  },
  {
   "cell_type": "code",
   "execution_count": 240,
   "metadata": {},
   "outputs": [],
   "source": [
    "f1,pred,true = evaluate(y_pred,y_test)"
   ]
  },
  {
   "cell_type": "code",
   "execution_count": 241,
   "metadata": {},
   "outputs": [
    {
     "data": {
      "text/plain": [
       "0.31278935185185186"
      ]
     },
     "execution_count": 241,
     "metadata": {},
     "output_type": "execute_result"
    }
   ],
   "source": [
    "f1"
   ]
  },
  {
   "cell_type": "code",
   "execution_count": 242,
   "metadata": {},
   "outputs": [],
   "source": [
    "pred_df = pd.DataFrame(pred)\n",
    "true_df = pd.DataFrame(true)"
   ]
  },
  {
   "cell_type": "code",
   "execution_count": 243,
   "metadata": {},
   "outputs": [
    {
     "data": {
      "text/plain": [
       "2    1415\n",
       "0    910 \n",
       "3    905 \n",
       "1    226 \n",
       "Name: 0, dtype: int64"
      ]
     },
     "execution_count": 243,
     "metadata": {},
     "output_type": "execute_result"
    }
   ],
   "source": [
    "pred_df[0].value_counts()"
   ]
  },
  {
   "cell_type": "code",
   "execution_count": 244,
   "metadata": {},
   "outputs": [
    {
     "data": {
      "text/plain": [
       "0    891\n",
       "1    870\n",
       "2    856\n",
       "3    839\n",
       "Name: 0, dtype: int64"
      ]
     },
     "execution_count": 244,
     "metadata": {},
     "output_type": "execute_result"
    }
   ],
   "source": [
    "true_df[0].value_counts()"
   ]
  },
  {
   "cell_type": "code",
   "execution_count": 230,
   "metadata": {},
   "outputs": [
    {
     "name": "stdout",
     "output_type": "stream",
     "text": [
      "mse : 0.09810089602288652\n",
      "rmse : 0.3132106256545051\n",
      "mae : 0.08289780458079744\n"
     ]
    }
   ],
   "source": [
    "mse = np.sqrt(mean_squared_error(y_pred, y_test))\n",
    "rmse = np.sqrt(mse)\n",
    "mae = mean_absolute_error(y_pred, y_test)\n",
    "print('mse :',mse)\n",
    "print('rmse :',rmse)\n",
    "print('mae :',mae)"
   ]
  },
  {
   "cell_type": "code",
   "execution_count": 231,
   "metadata": {},
   "outputs": [
    {
     "data": {
      "text/plain": [
       "(3456, 1)"
      ]
     },
     "execution_count": 231,
     "metadata": {},
     "output_type": "execute_result"
    }
   ],
   "source": [
    "np.exp(y_pred*MAXVIEW_log).shape"
   ]
  },
  {
   "cell_type": "code",
   "execution_count": 223,
   "metadata": {},
   "outputs": [
    {
     "name": "stdout",
     "output_type": "stream",
     "text": [
      "mse : 82.21632882589803\n",
      "rmse : 9.067322031663926\n",
      "mae : 69.22976982153511\n"
     ]
    }
   ],
   "source": [
    "mse = np.sqrt(mean_squared_error((y_pred*view_sd)+view_mean, (y_test*view_sd)+view_mean))\n",
    "rmse = np.sqrt(mse)\n",
    "mae = mean_absolute_error((y_pred*view_sd)+view_mean,(y_test*view_sd)+view_mean)\n",
    "print('mse :',mse)\n",
    "print('rmse :',rmse)\n",
    "print('mae :',mae)"
   ]
  },
  {
   "cell_type": "code",
   "execution_count": 301,
   "metadata": {},
   "outputs": [
    {
     "name": "stdout",
     "output_type": "stream",
     "text": [
      "mse : 784.9163220303591\n",
      "rmse : 28.016358115043417\n",
      "mae : 593.6393823800264\n"
     ]
    }
   ],
   "source": [
    "mse = np.sqrt(mean_squared_error(np.exp(y_pred*MAXVIEW_log), np.exp(y_test*MAXVIEW_log)))\n",
    "rmse = np.sqrt(mse)\n",
    "mae = mean_absolute_error(np.exp(y_pred*MAXVIEW_log), np.exp(y_test*MAXVIEW_log))\n",
    "print('mse :',mse)\n",
    "print('rmse :',rmse)\n",
    "print('mae :',mae)"
   ]
  },
  {
   "cell_type": "code",
   "execution_count": 449,
   "metadata": {},
   "outputs": [
    {
     "name": "stdout",
     "output_type": "stream",
     "text": [
      "mse : 639.0571076997442\n",
      "rmse : 25.279578867135903\n",
      "mae : 559.6654030481974\n"
     ]
    }
   ],
   "source": [
    "mse = np.sqrt(mean_squared_error(np.exp(y_pred*MAXVIEW_log), np.exp(y_test*MAXVIEW_log)))\n",
    "rmse = np.sqrt(mse)\n",
    "mae = mean_absolute_error(np.exp((y_pred*diff_log)+MINVIEW_log), np.exp((y_test*diff_log)+MINVIEW_log))\n",
    "print('mse :',mse)\n",
    "print('rmse :',rmse)\n",
    "print('mae :',mae)"
   ]
  },
  {
   "cell_type": "code",
   "execution_count": 437,
   "metadata": {
    "scrolled": true
   },
   "outputs": [
    {
     "name": "stdout",
     "output_type": "stream",
     "text": [
      "mse : 988.9470136990392\n",
      "rmse : 31.44752794257506\n",
      "mae : 842.1347825155171\n"
     ]
    }
   ],
   "source": [
    "mse = np.sqrt(mean_squared_error(y_pred*MAXVIEW, y_test*MAXVIEW))\n",
    "rmse = np.sqrt(mse)\n",
    "mae = mean_absolute_error(y_pred*MAXVIEW, y_test*MAXVIEW)\n",
    "print('mse :',mse)\n",
    "print('rmse :',rmse)\n",
    "print('mae :',mae)"
   ]
  },
  {
   "cell_type": "code",
   "execution_count": 438,
   "metadata": {},
   "outputs": [],
   "source": [
    "# some_X_data = x_train[:500]\n",
    "# some_y_data = y_train[:500]\n",
    "#print(\"Predicted shares:\", lin_reg.predict(some_X_data))\n",
    "#print(\"Actual shares:\", list(some_y_data))\n",
    "\n",
    "#We test how the model works by creating a dataframe from the sample. The df is then used as source for the seaborn plot below\n",
    "df_someXdata = pd.DataFrame(model.predict(x_train),y_train )\n",
    "df_someXdata.reset_index(level=0, inplace=True)\n",
    "df_someXdata_LR = df_someXdata.rename(index=str, columns={\"index\": \"Actual views\", 0: \"Predicted views\"})\n",
    "# df_someXdata_LR[:50]"
   ]
  },
  {
   "cell_type": "code",
   "execution_count": 439,
   "metadata": {},
   "outputs": [
    {
     "ename": "AttributeError",
     "evalue": "module 'seaborn' has no attribute 'plt'",
     "output_type": "error",
     "traceback": [
      "\u001b[0;31m---------------------------------------------------------------------------\u001b[0m",
      "\u001b[0;31mAttributeError\u001b[0m                            Traceback (most recent call last)",
      "\u001b[0;32m<ipython-input-439-a0cf529f05f3>\u001b[0m in \u001b[0;36m<module>\u001b[0;34m\u001b[0m\n\u001b[1;32m      1\u001b[0m \u001b[0mf\u001b[0m\u001b[0;34m,\u001b[0m \u001b[0max\u001b[0m \u001b[0;34m=\u001b[0m \u001b[0mplt\u001b[0m\u001b[0;34m.\u001b[0m\u001b[0msubplots\u001b[0m\u001b[0;34m(\u001b[0m\u001b[0mfigsize\u001b[0m\u001b[0;34m=\u001b[0m\u001b[0;34m(\u001b[0m\u001b[0;36m17\u001b[0m\u001b[0;34m,\u001b[0m\u001b[0;36m6\u001b[0m\u001b[0;34m)\u001b[0m\u001b[0;34m)\u001b[0m\u001b[0;34m\u001b[0m\u001b[0;34m\u001b[0m\u001b[0m\n\u001b[1;32m      2\u001b[0m \u001b[0msns\u001b[0m\u001b[0;34m.\u001b[0m\u001b[0mregplot\u001b[0m\u001b[0;34m(\u001b[0m\u001b[0mx\u001b[0m\u001b[0;34m=\u001b[0m\u001b[0mdf_someXdata_LR\u001b[0m\u001b[0;34m[\u001b[0m\u001b[0;34m\"Actual views\"\u001b[0m\u001b[0;34m]\u001b[0m\u001b[0;34m,\u001b[0m \u001b[0my\u001b[0m\u001b[0;34m=\u001b[0m\u001b[0mdf_someXdata_LR\u001b[0m\u001b[0;34m[\u001b[0m\u001b[0;34m\"Predicted views\"\u001b[0m\u001b[0;34m]\u001b[0m\u001b[0;34m)\u001b[0m\u001b[0;34m\u001b[0m\u001b[0;34m\u001b[0m\u001b[0m\n\u001b[0;32m----> 3\u001b[0;31m \u001b[0msns\u001b[0m\u001b[0;34m.\u001b[0m\u001b[0mplt\u001b[0m\u001b[0;34m.\u001b[0m\u001b[0mshow\u001b[0m\u001b[0;34m(\u001b[0m\u001b[0;34m)\u001b[0m\u001b[0;34m\u001b[0m\u001b[0;34m\u001b[0m\u001b[0m\n\u001b[0m",
      "\u001b[0;31mAttributeError\u001b[0m: module 'seaborn' has no attribute 'plt'"
     ]
    },
    {
     "data": {
      "image/png": "[encoded data removed]",
      "text/plain": [
       "<Figure size 1224x432 with 1 Axes>"
      ]
     },
     "metadata": {},
     "output_type": "display_data"
    }
   ],
   "source": [
    "f, ax = plt.subplots(figsize=(17,6))\n",
    "sns.regplot(x=df_someXdata_LR[\"Actual views\"], y=df_someXdata_LR[\"Predicted views\"])\n",
    "sns.plt.show()"
   ]
  },
  {
   "cell_type": "code",
   "execution_count": 450,
   "metadata": {},
   "outputs": [],
   "source": [
    "# some_X_data = x_train[:500]\n",
    "# some_y_data = y_train[:500]\n",
    "#print(\"Predicted shares:\", lin_reg.predict(some_X_data))\n",
    "#print(\"Actual shares:\", list(some_y_data))\n",
    "\n",
    "#We test how the model works by creating a dataframe from the sample. The df is then used as source for the seaborn plot below\n",
    "df_someXdata = pd.DataFrame(model.predict(x_test),y_test )\n",
    "df_someXdata.reset_index(level=0, inplace=True)\n",
    "df_someXdata_LR = df_someXdata.rename(index=str, columns={\"index\": \"Actual views\", 0: \"Predicted views\"})\n",
    "# df_someXdata_LR[:50]"
   ]
  },
  {
   "cell_type": "code",
   "execution_count": 451,
   "metadata": {},
   "outputs": [
    {
     "ename": "AttributeError",
     "evalue": "module 'seaborn' has no attribute 'plt'",
     "output_type": "error",
     "traceback": [
      "\u001b[0;31m---------------------------------------------------------------------------\u001b[0m",
      "\u001b[0;31mAttributeError\u001b[0m                            Traceback (most recent call last)",
      "\u001b[0;32m<ipython-input-451-c2f3d2a42abe>\u001b[0m in \u001b[0;36m<module>\u001b[0;34m\u001b[0m\n\u001b[1;32m      1\u001b[0m \u001b[0mf\u001b[0m\u001b[0;34m,\u001b[0m \u001b[0max\u001b[0m \u001b[0;34m=\u001b[0m \u001b[0mplt\u001b[0m\u001b[0;34m.\u001b[0m\u001b[0msubplots\u001b[0m\u001b[0;34m(\u001b[0m\u001b[0mfigsize\u001b[0m\u001b[0;34m=\u001b[0m\u001b[0;34m(\u001b[0m\u001b[0;36m17\u001b[0m\u001b[0;34m,\u001b[0m \u001b[0;36m6\u001b[0m\u001b[0;34m)\u001b[0m\u001b[0;34m)\u001b[0m\u001b[0;34m\u001b[0m\u001b[0;34m\u001b[0m\u001b[0m\n\u001b[1;32m      2\u001b[0m \u001b[0msns\u001b[0m\u001b[0;34m.\u001b[0m\u001b[0mregplot\u001b[0m\u001b[0;34m(\u001b[0m\u001b[0mx\u001b[0m\u001b[0;34m=\u001b[0m\u001b[0mdf_someXdata_LR\u001b[0m\u001b[0;34m[\u001b[0m\u001b[0;34m\"Actual views\"\u001b[0m\u001b[0;34m]\u001b[0m\u001b[0;34m,\u001b[0m \u001b[0my\u001b[0m\u001b[0;34m=\u001b[0m\u001b[0mdf_someXdata_LR\u001b[0m\u001b[0;34m[\u001b[0m\u001b[0;34m\"Predicted views\"\u001b[0m\u001b[0;34m]\u001b[0m\u001b[0;34m)\u001b[0m\u001b[0;34m\u001b[0m\u001b[0;34m\u001b[0m\u001b[0m\n\u001b[0;32m----> 3\u001b[0;31m \u001b[0msns\u001b[0m\u001b[0;34m.\u001b[0m\u001b[0mplt\u001b[0m\u001b[0;34m.\u001b[0m\u001b[0mshow\u001b[0m\u001b[0;34m(\u001b[0m\u001b[0;34m)\u001b[0m\u001b[0;34m\u001b[0m\u001b[0;34m\u001b[0m\u001b[0m\n\u001b[0m",
      "\u001b[0;31mAttributeError\u001b[0m: module 'seaborn' has no attribute 'plt'"
     ]
    },
    {
     "data": {
      "image/png": "[encoded data removed]",
      "text/plain": [
       "<Figure size 1224x432 with 1 Axes>"
      ]
     },
     "metadata": {},
     "output_type": "display_data"
    }
   ],
   "source": [
    "f, ax = plt.subplots(figsize=(17, 6))\n",
    "sns.regplot(x=df_someXdata_LR[\"Actual views\"], y=df_someXdata_LR[\"Predicted views\"])\n",
    "sns.plt.show()"
   ]
  },
  {
   "cell_type": "code",
   "execution_count": 442,
   "metadata": {},
   "outputs": [
    {
     "name": "stderr",
     "output_type": "stream",
     "text": [
      "/home/burin/py_36_env/lib/python3.6/site-packages/matplotlib/figure.py:98: MatplotlibDeprecationWarning: \n",
      "Adding an axes using the same arguments as a previous axes currently reuses the earlier instance.  In a future version, a new instance will always be created and returned.  Meanwhile, this warning can be suppressed, and the future behavior ensured, by passing a unique label to each axes instance.\n",
      "  \"Adding an axes using the same arguments as a previous axes \"\n"
     ]
    },
    {
     "data": {
      "image/png": "[encoded data removed]",
      "text/plain": [
       "<Figure size 720x360 with 1 Axes>"
      ]
     },
     "metadata": {},
     "output_type": "display_data"
    }
   ],
   "source": [
    "df_someXdata_LR.plot(bins=100, kind='hist', alpha=0.7,figsize=(10,5))\n",
    "plt.title('Number of actual shares of online news vs. number of prediced shares by the Random Forest model')\n",
    "axes=plt.axes()\n",
    "plt.show()"
   ]
  },
  {
   "cell_type": "code",
   "execution_count": 273,
   "metadata": {},
   "outputs": [
    {
     "data": {
      "text/plain": [
       "-4.10886989192113"
      ]
     },
     "execution_count": 273,
     "metadata": {},
     "output_type": "execute_result"
    }
   ],
   "source": [
    "from sklearn.metrics import r2_score\n",
    "\n",
    "r2_score( y_pred, y_test)"
   ]
  },
  {
   "cell_type": "code",
   "execution_count": 275,
   "metadata": {},
   "outputs": [
    {
     "name": "stdout",
     "output_type": "stream",
     "text": [
      "[892.4854] [3392.]\n",
      "[904.42303] [299.]\n",
      "[958.168] [1256.]\n",
      "[327.26306] [254.]\n",
      "[769.2186] [370.]\n",
      "[961.33356] [2822.]\n",
      "[988.3851] [283.]\n",
      "[453.0373] [351.]\n",
      "[1047.7242] [949.]\n",
      "[627.5534] [454.]\n",
      "[464.7116] [1301.]\n",
      "[586.2819] [649.]\n",
      "[1766.3689] [2214.]\n",
      "[711.957] [927.]\n",
      "[764.4873] [578.]\n",
      "[730.3877] [589.]\n",
      "[1098.8494] [322.]\n",
      "[395.0184] [336.]\n",
      "[527.66125] [667.]\n",
      "[446.1227] [1466.]\n",
      "[925.75165] [746.]\n",
      "[952.3903] [633.]\n",
      "[697.6909] [2720.]\n",
      "[1056.2333] [868.]\n",
      "[719.3381] [937.]\n",
      "[692.49457] [417.]\n",
      "[1033.4259] [323.]\n",
      "[604.6595] [320.]\n",
      "[819.9644] [3122.]\n",
      "[820.7667] [1475.]\n",
      "[1679.03] [1587.]\n",
      "[262.64746] [522.]\n",
      "[906.0569] [2016.]\n",
      "[719.5182] [456.]\n",
      "[826.99976] [439.]\n",
      "[942.248] [320.]\n",
      "[437.74243] [476.]\n",
      "[794.8228] [1629.]\n",
      "[616.4172] [333.]\n",
      "[632.2561] [1150.]\n",
      "[893.7933] [874.]\n",
      "[1371.7599] [669.]\n",
      "[1270.8999] [437.]\n",
      "[534.4005] [366.]\n",
      "[420.20367] [537.]\n",
      "[543.1136] [1550.]\n",
      "[773.99255] [1367.]\n",
      "[1532.7632] [2441.]\n",
      "[998.5211] [541.]\n",
      "[1165.1849] [3109.]\n"
     ]
    }
   ],
   "source": [
    "for i in range(0,50):\n",
    "#     print(y_test[i],y_pred[i])\n",
    "    print(np.exp(y_pred[i]*MAXVIEW_log),np.exp(y_test[i]*MAXVIEW_log))"
   ]
  },
  {
   "cell_type": "code",
   "execution_count": null,
   "metadata": {},
   "outputs": [],
   "source": []
  }
 ],
 "metadata": {
  "kernelspec": {
   "display_name": "Python 3",
   "language": "python",
   "name": "python3"
  },
  "language_info": {
   "codemirror_mode": {
    "name": "ipython",
    "version": 3
   },
   "file_extension": ".py",
   "mimetype": "text/x-python",
   "name": "python",
   "nbconvert_exporter": "python",
   "pygments_lexer": "ipython3",
   "version": "3.6.7"
  }
 },
 "nbformat": 4,
 "nbformat_minor": 2
}
