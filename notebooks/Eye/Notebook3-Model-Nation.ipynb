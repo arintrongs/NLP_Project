{
 "cells": [
  {
   "cell_type": "code",
   "execution_count": 1,
   "metadata": {},
   "outputs": [],
   "source": [
    "%matplotlib inline\n",
    "import pandas as pd\n",
    "import sklearn\n",
    "import numpy as np\n",
    "from IPython.display import display\n",
    "from sklearn.metrics import f1_score\n",
    "import matplotlib.pyplot as plt\n",
    "from matplotlib import rcParams"
   ]
  },
  {
   "cell_type": "code",
   "execution_count": 2,
   "metadata": {},
   "outputs": [
    {
     "name": "stderr",
     "output_type": "stream",
     "text": [
      "Using TensorFlow backend.\n"
     ]
    }
   ],
   "source": [
    "import pickle\n",
    "import codecs\n",
    "import collections\n",
    "import keras.preprocessing\n",
    "from sklearn.model_selection import KFold\n",
    "import csv"
   ]
  },
  {
   "cell_type": "code",
   "execution_count": 3,
   "metadata": {},
   "outputs": [],
   "source": [
    "from keras.models import Sequential, Model\n",
    "from keras.layers import Embedding, Reshape, Activation, Input, Dense,GRU,Reshape,TimeDistributed,Bidirectional,Dropout,Masking\n",
    "from keras_contrib.layers import CRF\n",
    "from keras.optimizers import Adam\n",
    "from keras.utils import np_utils\n",
    "from keras.callbacks import ModelCheckpoint\n",
    "from keras.layers import Embedding,TimeDistributed,Flatten\n",
    "from sklearn.model_selection import train_test_split\n",
    "from keras.preprocessing import sequence\n",
    "from keras.models import Sequential, Model\n",
    "from keras.layers import GRU, Dropout\n",
    "from keras.models import load_model\n",
    "from keras.layers import Embedding, Reshape, Activation, Input, Dense, Masking\n",
    "from keras.layers.merge import Dot\n",
    "from keras.utils import np_utils\n",
    "from keras.utils.data_utils import get_file\n",
    "from keras.utils.np_utils import to_categorical\n",
    "from keras.preprocessing.sequence import skipgrams\n",
    "from keras.preprocessing import sequence\n",
    "from keras import backend as K\n",
    "from keras.optimizers import Adam\n",
    "from keras.layers.convolutional import Conv1D\n",
    "from keras.layers import Embedding,TimeDistributed,Flatten\n",
    "from keras.layers import BatchNormalization,Dropout\n"
   ]
  },
  {
   "cell_type": "code",
   "execution_count": 4,
   "metadata": {},
   "outputs": [],
   "source": [
    "import seaborn as sns\n",
    "sns.set(style=\"darkgrid\")"
   ]
  },
  {
   "cell_type": "code",
   "execution_count": 5,
   "metadata": {},
   "outputs": [],
   "source": [
    "plt.rcParams['font.family']='TH SarabunPSK' #you can change to other font that works for you\n",
    "plt.rcParams.update({'font.size': 50})\n",
    "#fill your code here"
   ]
  },
  {
   "cell_type": "code",
   "execution_count": 6,
   "metadata": {},
   "outputs": [],
   "source": [
    "from sklearn import preprocessing\n",
    "from sklearn.preprocessing import MinMaxScaler"
   ]
  },
  {
   "cell_type": "code",
   "execution_count": 7,
   "metadata": {},
   "outputs": [],
   "source": [
    "from pythainlp.sentiment import sentiment"
   ]
  },
  {
   "cell_type": "code",
   "execution_count": 8,
   "metadata": {},
   "outputs": [],
   "source": [
    "input_nation = pd.read_csv('../../notebooks/Nation-tokenize.csv')"
   ]
  },
  {
   "cell_type": "code",
   "execution_count": 11,
   "metadata": {},
   "outputs": [],
   "source": [
    "input_nation.drop('Unnamed: 0', axis=1, inplace=True)\n",
    "# input_nation.drop('Unnamed: 0.1', axis=1,inplace=True)\n",
    "# input_nation.drop('Unnamed: 1', axis=1, inplace=True)"
   ]
  },
  {
   "cell_type": "code",
   "execution_count": 12,
   "metadata": {},
   "outputs": [
    {
     "data": {
      "text/html": [
       "<div>\n",
       "<style scoped>\n",
       "    .dataframe tbody tr th:only-of-type {\n",
       "        vertical-align: middle;\n",
       "    }\n",
       "\n",
       "    .dataframe tbody tr th {\n",
       "        vertical-align: top;\n",
       "    }\n",
       "\n",
       "    .dataframe thead th {\n",
       "        text-align: right;\n",
       "    }\n",
       "</style>\n",
       "<table border=\"1\" class=\"dataframe\">\n",
       "  <thead>\n",
       "    <tr style=\"text-align: right;\">\n",
       "      <th></th>\n",
       "      <th>headline</th>\n",
       "      <th>date</th>\n",
       "      <th>DOW</th>\n",
       "      <th>time</th>\n",
       "      <th>view</th>\n",
       "      <th>like</th>\n",
       "      <th>share</th>\n",
       "      <th>comment</th>\n",
       "      <th>category</th>\n",
       "      <th>tag</th>\n",
       "      <th>content</th>\n",
       "      <th>hour</th>\n",
       "      <th>token</th>\n",
       "      <th>numToken</th>\n",
       "      <th>numChar</th>\n",
       "    </tr>\n",
       "  </thead>\n",
       "  <tbody>\n",
       "    <tr>\n",
       "      <th>0</th>\n",
       "      <td>ไทยส่งทีมเยาวชนลุยศึกเชียร์ลีดดิ้งโลกที่สหรัฐฯ</td>\n",
       "      <td>05/04/2562</td>\n",
       "      <td>FRI</td>\n",
       "      <td>12:15</td>\n",
       "      <td>494</td>\n",
       "      <td>NaN</td>\n",
       "      <td>86</td>\n",
       "      <td>NaN</td>\n",
       "      <td>กีฬา</td>\n",
       "      <td>NaN</td>\n",
       "      <td>ที่ศูนย์วิทยาศาสตร์การกีฬา การกีฬาแห่งประเทศไท...</td>\n",
       "      <td>12</td>\n",
       "      <td>ไทย,ทีม,เยาวชนลุยศึก,เชียร์,ลีด,ดิ้ง,โลก,สหรัฐฯ</td>\n",
       "      <td>8</td>\n",
       "      <td>40</td>\n",
       "    </tr>\n",
       "    <tr>\n",
       "      <th>1</th>\n",
       "      <td>\"บิ๊กโจ๊ก\" จ่อเรียก \"ปิยบุตร\" ให้ข้อมูล ปมถูกร้อง</td>\n",
       "      <td>05/04/2562</td>\n",
       "      <td>FRI</td>\n",
       "      <td>12:16</td>\n",
       "      <td>1250</td>\n",
       "      <td>NaN</td>\n",
       "      <td>797</td>\n",
       "      <td>NaN</td>\n",
       "      <td>อาชญากรรม</td>\n",
       "      <td>NaN</td>\n",
       "      <td>เมื่อเวลา 11.30 น. วันที่ 5 เมษายน ที่ สำนักงา...</td>\n",
       "      <td>12</td>\n",
       "      <td>บิ๊กโจ๊ก,จ่อ,ปิยบุตร,ข้อมูล,ปม,ร้อง</td>\n",
       "      <td>6</td>\n",
       "      <td>30</td>\n",
       "    </tr>\n",
       "    <tr>\n",
       "      <th>2</th>\n",
       "      <td>\"ศศิน\" ชี้ \"เปรมชัย\" ต้องติดคุก จึงจะเหมาะสม</td>\n",
       "      <td>05/04/2562</td>\n",
       "      <td>FRI</td>\n",
       "      <td>12:06</td>\n",
       "      <td>755</td>\n",
       "      <td>NaN</td>\n",
       "      <td>354</td>\n",
       "      <td>NaN</td>\n",
       "      <td>คุณภาพชีวิต</td>\n",
       "      <td>NaN</td>\n",
       "      <td>ประธานมูลนิธิสืบนาคะเสถียร นายศศิน เฉลิมลาภ บอ...</td>\n",
       "      <td>12</td>\n",
       "      <td>ศศิน,ชี้,เปรมชัย,ติด,คุก,เหมาะสม</td>\n",
       "      <td>6</td>\n",
       "      <td>27</td>\n",
       "    </tr>\n",
       "    <tr>\n",
       "      <th>3</th>\n",
       "      <td>จิตอาสาปรับปรุงภูมิทัศน์รอบ แหล่งน้ำศักดิ์สิทธิ์</td>\n",
       "      <td>05/04/2562</td>\n",
       "      <td>FRI</td>\n",
       "      <td>12:02</td>\n",
       "      <td>232</td>\n",
       "      <td>NaN</td>\n",
       "      <td>4</td>\n",
       "      <td>NaN</td>\n",
       "      <td>ภูมิภาค</td>\n",
       "      <td>NaN</td>\n",
       "      <td>นายทรงพล สวาสดิ์ธรรม ผู้ว่าราชการจังหวัดลำปาง ...</td>\n",
       "      <td>12</td>\n",
       "      <td>จิตอาสา,ปรับปรุง,ภูมิทัศน์,รอบ,แหล่ง,น้ำ,ศักดิ...</td>\n",
       "      <td>7</td>\n",
       "      <td>47</td>\n",
       "    </tr>\n",
       "    <tr>\n",
       "      <th>4</th>\n",
       "      <td>คุณภาพน้ำ สงกรานต์คูเมืองเชียงใหม่ เกณฑ์พอใช้</td>\n",
       "      <td>05/04/2562</td>\n",
       "      <td>FRI</td>\n",
       "      <td>12:04</td>\n",
       "      <td>298</td>\n",
       "      <td>NaN</td>\n",
       "      <td>36</td>\n",
       "      <td>NaN</td>\n",
       "      <td>คุณภาพชีวิต</td>\n",
       "      <td>NaN</td>\n",
       "      <td>นายโสภณ ทองดี ผู้ตรวจราชการกระทรวงทรัพยากรธรรม...</td>\n",
       "      <td>12</td>\n",
       "      <td>คุณภาพ,น้ำ,สงกรานต์,คูเมืองเชียงใหม่,เกณฑ์,พอใช้</td>\n",
       "      <td>6</td>\n",
       "      <td>43</td>\n",
       "    </tr>\n",
       "  </tbody>\n",
       "</table>\n",
       "</div>"
      ],
      "text/plain": [
       "                                            headline        date  DOW   time  \\\n",
       "0     ไทยส่งทีมเยาวชนลุยศึกเชียร์ลีดดิ้งโลกที่สหรัฐฯ  05/04/2562  FRI  12:15   \n",
       "1  \"บิ๊กโจ๊ก\" จ่อเรียก \"ปิยบุตร\" ให้ข้อมูล ปมถูกร้อง  05/04/2562  FRI  12:16   \n",
       "2       \"ศศิน\" ชี้ \"เปรมชัย\" ต้องติดคุก จึงจะเหมาะสม  05/04/2562  FRI  12:06   \n",
       "3   จิตอาสาปรับปรุงภูมิทัศน์รอบ แหล่งน้ำศักดิ์สิทธิ์  05/04/2562  FRI  12:02   \n",
       "4      คุณภาพน้ำ สงกรานต์คูเมืองเชียงใหม่ เกณฑ์พอใช้  05/04/2562  FRI  12:04   \n",
       "\n",
       "   view  like  share  comment     category  tag  \\\n",
       "0   494   NaN     86      NaN         กีฬา  NaN   \n",
       "1  1250   NaN    797      NaN    อาชญากรรม  NaN   \n",
       "2   755   NaN    354      NaN  คุณภาพชีวิต  NaN   \n",
       "3   232   NaN      4      NaN      ภูมิภาค  NaN   \n",
       "4   298   NaN     36      NaN  คุณภาพชีวิต  NaN   \n",
       "\n",
       "                                             content  hour  \\\n",
       "0  ที่ศูนย์วิทยาศาสตร์การกีฬา การกีฬาแห่งประเทศไท...    12   \n",
       "1  เมื่อเวลา 11.30 น. วันที่ 5 เมษายน ที่ สำนักงา...    12   \n",
       "2  ประธานมูลนิธิสืบนาคะเสถียร นายศศิน เฉลิมลาภ บอ...    12   \n",
       "3  นายทรงพล สวาสดิ์ธรรม ผู้ว่าราชการจังหวัดลำปาง ...    12   \n",
       "4  นายโสภณ ทองดี ผู้ตรวจราชการกระทรวงทรัพยากรธรรม...    12   \n",
       "\n",
       "                                               token  numToken  numChar  \n",
       "0    ไทย,ทีม,เยาวชนลุยศึก,เชียร์,ลีด,ดิ้ง,โลก,สหรัฐฯ         8       40  \n",
       "1                บิ๊กโจ๊ก,จ่อ,ปิยบุตร,ข้อมูล,ปม,ร้อง         6       30  \n",
       "2                   ศศิน,ชี้,เปรมชัย,ติด,คุก,เหมาะสม         6       27  \n",
       "3  จิตอาสา,ปรับปรุง,ภูมิทัศน์,รอบ,แหล่ง,น้ำ,ศักดิ...         7       47  \n",
       "4   คุณภาพ,น้ำ,สงกรานต์,คูเมืองเชียงใหม่,เกณฑ์,พอใช้         6       43  "
      ]
     },
     "execution_count": 12,
     "metadata": {},
     "output_type": "execute_result"
    }
   ],
   "source": [
    "input_nation.head()"
   ]
  },
  {
   "cell_type": "code",
   "execution_count": 13,
   "metadata": {},
   "outputs": [
    {
     "data": {
      "text/plain": [
       "(11794, 15)"
      ]
     },
     "execution_count": 13,
     "metadata": {},
     "output_type": "execute_result"
    }
   ],
   "source": [
    "input_nation.shape"
   ]
  },
  {
   "cell_type": "code",
   "execution_count": 14,
   "metadata": {},
   "outputs": [],
   "source": [
    "input_nation['year-month'] = input_nation['date'].apply(lambda x : x.split('/')[2]+'-'+x.split('/')[1])\n",
    "input_nation['month'] = input_nation['date'].apply(lambda x : x.split('/')[1])\n",
    "input_nation['year'] = input_nation['date'].apply(lambda x : x.split('/')[2])"
   ]
  },
  {
   "cell_type": "code",
   "execution_count": 15,
   "metadata": {},
   "outputs": [
    {
     "data": {
      "text/html": [
       "<div>\n",
       "<style scoped>\n",
       "    .dataframe tbody tr th:only-of-type {\n",
       "        vertical-align: middle;\n",
       "    }\n",
       "\n",
       "    .dataframe tbody tr th {\n",
       "        vertical-align: top;\n",
       "    }\n",
       "\n",
       "    .dataframe thead th {\n",
       "        text-align: right;\n",
       "    }\n",
       "</style>\n",
       "<table border=\"1\" class=\"dataframe\">\n",
       "  <thead>\n",
       "    <tr style=\"text-align: right;\">\n",
       "      <th></th>\n",
       "      <th>headline</th>\n",
       "      <th>date</th>\n",
       "      <th>DOW</th>\n",
       "      <th>time</th>\n",
       "      <th>view</th>\n",
       "      <th>like</th>\n",
       "      <th>share</th>\n",
       "      <th>comment</th>\n",
       "      <th>category</th>\n",
       "      <th>tag</th>\n",
       "      <th>content</th>\n",
       "      <th>hour</th>\n",
       "      <th>token</th>\n",
       "      <th>numToken</th>\n",
       "      <th>numChar</th>\n",
       "      <th>year-month</th>\n",
       "      <th>month</th>\n",
       "      <th>year</th>\n",
       "    </tr>\n",
       "  </thead>\n",
       "  <tbody>\n",
       "    <tr>\n",
       "      <th>0</th>\n",
       "      <td>ไทยส่งทีมเยาวชนลุยศึกเชียร์ลีดดิ้งโลกที่สหรัฐฯ</td>\n",
       "      <td>05/04/2562</td>\n",
       "      <td>FRI</td>\n",
       "      <td>12:15</td>\n",
       "      <td>494</td>\n",
       "      <td>NaN</td>\n",
       "      <td>86</td>\n",
       "      <td>NaN</td>\n",
       "      <td>กีฬา</td>\n",
       "      <td>NaN</td>\n",
       "      <td>ที่ศูนย์วิทยาศาสตร์การกีฬา การกีฬาแห่งประเทศไท...</td>\n",
       "      <td>12</td>\n",
       "      <td>ไทย,ทีม,เยาวชนลุยศึก,เชียร์,ลีด,ดิ้ง,โลก,สหรัฐฯ</td>\n",
       "      <td>8</td>\n",
       "      <td>40</td>\n",
       "      <td>2562-04</td>\n",
       "      <td>04</td>\n",
       "      <td>2562</td>\n",
       "    </tr>\n",
       "    <tr>\n",
       "      <th>1</th>\n",
       "      <td>\"บิ๊กโจ๊ก\" จ่อเรียก \"ปิยบุตร\" ให้ข้อมูล ปมถูกร้อง</td>\n",
       "      <td>05/04/2562</td>\n",
       "      <td>FRI</td>\n",
       "      <td>12:16</td>\n",
       "      <td>1250</td>\n",
       "      <td>NaN</td>\n",
       "      <td>797</td>\n",
       "      <td>NaN</td>\n",
       "      <td>อาชญากรรม</td>\n",
       "      <td>NaN</td>\n",
       "      <td>เมื่อเวลา 11.30 น. วันที่ 5 เมษายน ที่ สำนักงา...</td>\n",
       "      <td>12</td>\n",
       "      <td>บิ๊กโจ๊ก,จ่อ,ปิยบุตร,ข้อมูล,ปม,ร้อง</td>\n",
       "      <td>6</td>\n",
       "      <td>30</td>\n",
       "      <td>2562-04</td>\n",
       "      <td>04</td>\n",
       "      <td>2562</td>\n",
       "    </tr>\n",
       "    <tr>\n",
       "      <th>2</th>\n",
       "      <td>\"ศศิน\" ชี้ \"เปรมชัย\" ต้องติดคุก จึงจะเหมาะสม</td>\n",
       "      <td>05/04/2562</td>\n",
       "      <td>FRI</td>\n",
       "      <td>12:06</td>\n",
       "      <td>755</td>\n",
       "      <td>NaN</td>\n",
       "      <td>354</td>\n",
       "      <td>NaN</td>\n",
       "      <td>คุณภาพชีวิต</td>\n",
       "      <td>NaN</td>\n",
       "      <td>ประธานมูลนิธิสืบนาคะเสถียร นายศศิน เฉลิมลาภ บอ...</td>\n",
       "      <td>12</td>\n",
       "      <td>ศศิน,ชี้,เปรมชัย,ติด,คุก,เหมาะสม</td>\n",
       "      <td>6</td>\n",
       "      <td>27</td>\n",
       "      <td>2562-04</td>\n",
       "      <td>04</td>\n",
       "      <td>2562</td>\n",
       "    </tr>\n",
       "    <tr>\n",
       "      <th>3</th>\n",
       "      <td>จิตอาสาปรับปรุงภูมิทัศน์รอบ แหล่งน้ำศักดิ์สิทธิ์</td>\n",
       "      <td>05/04/2562</td>\n",
       "      <td>FRI</td>\n",
       "      <td>12:02</td>\n",
       "      <td>232</td>\n",
       "      <td>NaN</td>\n",
       "      <td>4</td>\n",
       "      <td>NaN</td>\n",
       "      <td>ภูมิภาค</td>\n",
       "      <td>NaN</td>\n",
       "      <td>นายทรงพล สวาสดิ์ธรรม ผู้ว่าราชการจังหวัดลำปาง ...</td>\n",
       "      <td>12</td>\n",
       "      <td>จิตอาสา,ปรับปรุง,ภูมิทัศน์,รอบ,แหล่ง,น้ำ,ศักดิ...</td>\n",
       "      <td>7</td>\n",
       "      <td>47</td>\n",
       "      <td>2562-04</td>\n",
       "      <td>04</td>\n",
       "      <td>2562</td>\n",
       "    </tr>\n",
       "    <tr>\n",
       "      <th>4</th>\n",
       "      <td>คุณภาพน้ำ สงกรานต์คูเมืองเชียงใหม่ เกณฑ์พอใช้</td>\n",
       "      <td>05/04/2562</td>\n",
       "      <td>FRI</td>\n",
       "      <td>12:04</td>\n",
       "      <td>298</td>\n",
       "      <td>NaN</td>\n",
       "      <td>36</td>\n",
       "      <td>NaN</td>\n",
       "      <td>คุณภาพชีวิต</td>\n",
       "      <td>NaN</td>\n",
       "      <td>นายโสภณ ทองดี ผู้ตรวจราชการกระทรวงทรัพยากรธรรม...</td>\n",
       "      <td>12</td>\n",
       "      <td>คุณภาพ,น้ำ,สงกรานต์,คูเมืองเชียงใหม่,เกณฑ์,พอใช้</td>\n",
       "      <td>6</td>\n",
       "      <td>43</td>\n",
       "      <td>2562-04</td>\n",
       "      <td>04</td>\n",
       "      <td>2562</td>\n",
       "    </tr>\n",
       "  </tbody>\n",
       "</table>\n",
       "</div>"
      ],
      "text/plain": [
       "                                            headline        date  DOW   time  \\\n",
       "0     ไทยส่งทีมเยาวชนลุยศึกเชียร์ลีดดิ้งโลกที่สหรัฐฯ  05/04/2562  FRI  12:15   \n",
       "1  \"บิ๊กโจ๊ก\" จ่อเรียก \"ปิยบุตร\" ให้ข้อมูล ปมถูกร้อง  05/04/2562  FRI  12:16   \n",
       "2       \"ศศิน\" ชี้ \"เปรมชัย\" ต้องติดคุก จึงจะเหมาะสม  05/04/2562  FRI  12:06   \n",
       "3   จิตอาสาปรับปรุงภูมิทัศน์รอบ แหล่งน้ำศักดิ์สิทธิ์  05/04/2562  FRI  12:02   \n",
       "4      คุณภาพน้ำ สงกรานต์คูเมืองเชียงใหม่ เกณฑ์พอใช้  05/04/2562  FRI  12:04   \n",
       "\n",
       "   view  like  share  comment     category  tag  \\\n",
       "0   494   NaN     86      NaN         กีฬา  NaN   \n",
       "1  1250   NaN    797      NaN    อาชญากรรม  NaN   \n",
       "2   755   NaN    354      NaN  คุณภาพชีวิต  NaN   \n",
       "3   232   NaN      4      NaN      ภูมิภาค  NaN   \n",
       "4   298   NaN     36      NaN  คุณภาพชีวิต  NaN   \n",
       "\n",
       "                                             content  hour  \\\n",
       "0  ที่ศูนย์วิทยาศาสตร์การกีฬา การกีฬาแห่งประเทศไท...    12   \n",
       "1  เมื่อเวลา 11.30 น. วันที่ 5 เมษายน ที่ สำนักงา...    12   \n",
       "2  ประธานมูลนิธิสืบนาคะเสถียร นายศศิน เฉลิมลาภ บอ...    12   \n",
       "3  นายทรงพล สวาสดิ์ธรรม ผู้ว่าราชการจังหวัดลำปาง ...    12   \n",
       "4  นายโสภณ ทองดี ผู้ตรวจราชการกระทรวงทรัพยากรธรรม...    12   \n",
       "\n",
       "                                               token  numToken  numChar  \\\n",
       "0    ไทย,ทีม,เยาวชนลุยศึก,เชียร์,ลีด,ดิ้ง,โลก,สหรัฐฯ         8       40   \n",
       "1                บิ๊กโจ๊ก,จ่อ,ปิยบุตร,ข้อมูล,ปม,ร้อง         6       30   \n",
       "2                   ศศิน,ชี้,เปรมชัย,ติด,คุก,เหมาะสม         6       27   \n",
       "3  จิตอาสา,ปรับปรุง,ภูมิทัศน์,รอบ,แหล่ง,น้ำ,ศักดิ...         7       47   \n",
       "4   คุณภาพ,น้ำ,สงกรานต์,คูเมืองเชียงใหม่,เกณฑ์,พอใช้         6       43   \n",
       "\n",
       "  year-month month  year  \n",
       "0    2562-04    04  2562  \n",
       "1    2562-04    04  2562  \n",
       "2    2562-04    04  2562  \n",
       "3    2562-04    04  2562  \n",
       "4    2562-04    04  2562  "
      ]
     },
     "execution_count": 15,
     "metadata": {},
     "output_type": "execute_result"
    }
   ],
   "source": [
    "input_nation.head()"
   ]
  },
  {
   "cell_type": "code",
   "execution_count": 72,
   "metadata": {},
   "outputs": [],
   "source": [
    "input_nation['sentiment'] = input_nation['headline'].apply(lambda x : sentiment(x))"
   ]
  },
  {
   "cell_type": "code",
   "execution_count": 73,
   "metadata": {},
   "outputs": [],
   "source": [
    "input_nation.to_csv('Nation-notebook3.csv')"
   ]
  },
  {
   "cell_type": "code",
   "execution_count": 16,
   "metadata": {},
   "outputs": [],
   "source": [
    "input_nation = pd.read_csv('Nation-notebook3.csv')"
   ]
  },
  {
   "cell_type": "code",
   "execution_count": 17,
   "metadata": {},
   "outputs": [],
   "source": [
    "input_nation.drop('Unnamed: 0', axis=1, inplace=True)"
   ]
  },
  {
   "cell_type": "code",
   "execution_count": 18,
   "metadata": {},
   "outputs": [
    {
     "data": {
      "text/html": [
       "<div>\n",
       "<style scoped>\n",
       "    .dataframe tbody tr th:only-of-type {\n",
       "        vertical-align: middle;\n",
       "    }\n",
       "\n",
       "    .dataframe tbody tr th {\n",
       "        vertical-align: top;\n",
       "    }\n",
       "\n",
       "    .dataframe thead th {\n",
       "        text-align: right;\n",
       "    }\n",
       "</style>\n",
       "<table border=\"1\" class=\"dataframe\">\n",
       "  <thead>\n",
       "    <tr style=\"text-align: right;\">\n",
       "      <th></th>\n",
       "      <th>headline</th>\n",
       "      <th>date</th>\n",
       "      <th>DOW</th>\n",
       "      <th>time</th>\n",
       "      <th>view</th>\n",
       "      <th>like</th>\n",
       "      <th>share</th>\n",
       "      <th>comment</th>\n",
       "      <th>category</th>\n",
       "      <th>tag</th>\n",
       "      <th>content</th>\n",
       "      <th>hour</th>\n",
       "      <th>token</th>\n",
       "      <th>numToken</th>\n",
       "      <th>numChar</th>\n",
       "      <th>year-month</th>\n",
       "      <th>month</th>\n",
       "      <th>year</th>\n",
       "      <th>sentiment</th>\n",
       "    </tr>\n",
       "  </thead>\n",
       "  <tbody>\n",
       "    <tr>\n",
       "      <th>0</th>\n",
       "      <td>ไทยส่งทีมเยาวชนลุยศึกเชียร์ลีดดิ้งโลกที่สหรัฐฯ</td>\n",
       "      <td>05/04/2562</td>\n",
       "      <td>FRI</td>\n",
       "      <td>12:15</td>\n",
       "      <td>494</td>\n",
       "      <td>NaN</td>\n",
       "      <td>86</td>\n",
       "      <td>NaN</td>\n",
       "      <td>กีฬา</td>\n",
       "      <td>NaN</td>\n",
       "      <td>ที่ศูนย์วิทยาศาสตร์การกีฬา การกีฬาแห่งประเทศไท...</td>\n",
       "      <td>12</td>\n",
       "      <td>ไทย,ทีม,เยาวชนลุยศึก,เชียร์,ลีด,ดิ้ง,โลก,สหรัฐฯ</td>\n",
       "      <td>8</td>\n",
       "      <td>40</td>\n",
       "      <td>2562-04</td>\n",
       "      <td>4</td>\n",
       "      <td>2562</td>\n",
       "      <td>pos</td>\n",
       "    </tr>\n",
       "    <tr>\n",
       "      <th>1</th>\n",
       "      <td>\"บิ๊กโจ๊ก\" จ่อเรียก \"ปิยบุตร\" ให้ข้อมูล ปมถูกร้อง</td>\n",
       "      <td>05/04/2562</td>\n",
       "      <td>FRI</td>\n",
       "      <td>12:16</td>\n",
       "      <td>1250</td>\n",
       "      <td>NaN</td>\n",
       "      <td>797</td>\n",
       "      <td>NaN</td>\n",
       "      <td>อาชญากรรม</td>\n",
       "      <td>NaN</td>\n",
       "      <td>เมื่อเวลา 11.30 น. วันที่ 5 เมษายน ที่ สำนักงา...</td>\n",
       "      <td>12</td>\n",
       "      <td>บิ๊กโจ๊ก,จ่อ,ปิยบุตร,ข้อมูล,ปม,ร้อง</td>\n",
       "      <td>6</td>\n",
       "      <td>30</td>\n",
       "      <td>2562-04</td>\n",
       "      <td>4</td>\n",
       "      <td>2562</td>\n",
       "      <td>neg</td>\n",
       "    </tr>\n",
       "    <tr>\n",
       "      <th>2</th>\n",
       "      <td>\"ศศิน\" ชี้ \"เปรมชัย\" ต้องติดคุก จึงจะเหมาะสม</td>\n",
       "      <td>05/04/2562</td>\n",
       "      <td>FRI</td>\n",
       "      <td>12:06</td>\n",
       "      <td>755</td>\n",
       "      <td>NaN</td>\n",
       "      <td>354</td>\n",
       "      <td>NaN</td>\n",
       "      <td>คุณภาพชีวิต</td>\n",
       "      <td>NaN</td>\n",
       "      <td>ประธานมูลนิธิสืบนาคะเสถียร นายศศิน เฉลิมลาภ บอ...</td>\n",
       "      <td>12</td>\n",
       "      <td>ศศิน,ชี้,เปรมชัย,ติด,คุก,เหมาะสม</td>\n",
       "      <td>6</td>\n",
       "      <td>27</td>\n",
       "      <td>2562-04</td>\n",
       "      <td>4</td>\n",
       "      <td>2562</td>\n",
       "      <td>pos</td>\n",
       "    </tr>\n",
       "    <tr>\n",
       "      <th>3</th>\n",
       "      <td>จิตอาสาปรับปรุงภูมิทัศน์รอบ แหล่งน้ำศักดิ์สิทธิ์</td>\n",
       "      <td>05/04/2562</td>\n",
       "      <td>FRI</td>\n",
       "      <td>12:02</td>\n",
       "      <td>232</td>\n",
       "      <td>NaN</td>\n",
       "      <td>4</td>\n",
       "      <td>NaN</td>\n",
       "      <td>ภูมิภาค</td>\n",
       "      <td>NaN</td>\n",
       "      <td>นายทรงพล สวาสดิ์ธรรม ผู้ว่าราชการจังหวัดลำปาง ...</td>\n",
       "      <td>12</td>\n",
       "      <td>จิตอาสา,ปรับปรุง,ภูมิทัศน์,รอบ,แหล่ง,น้ำ,ศักดิ...</td>\n",
       "      <td>7</td>\n",
       "      <td>47</td>\n",
       "      <td>2562-04</td>\n",
       "      <td>4</td>\n",
       "      <td>2562</td>\n",
       "      <td>pos</td>\n",
       "    </tr>\n",
       "    <tr>\n",
       "      <th>4</th>\n",
       "      <td>คุณภาพน้ำ สงกรานต์คูเมืองเชียงใหม่ เกณฑ์พอใช้</td>\n",
       "      <td>05/04/2562</td>\n",
       "      <td>FRI</td>\n",
       "      <td>12:04</td>\n",
       "      <td>298</td>\n",
       "      <td>NaN</td>\n",
       "      <td>36</td>\n",
       "      <td>NaN</td>\n",
       "      <td>คุณภาพชีวิต</td>\n",
       "      <td>NaN</td>\n",
       "      <td>นายโสภณ ทองดี ผู้ตรวจราชการกระทรวงทรัพยากรธรรม...</td>\n",
       "      <td>12</td>\n",
       "      <td>คุณภาพ,น้ำ,สงกรานต์,คูเมืองเชียงใหม่,เกณฑ์,พอใช้</td>\n",
       "      <td>6</td>\n",
       "      <td>43</td>\n",
       "      <td>2562-04</td>\n",
       "      <td>4</td>\n",
       "      <td>2562</td>\n",
       "      <td>neg</td>\n",
       "    </tr>\n",
       "  </tbody>\n",
       "</table>\n",
       "</div>"
      ],
      "text/plain": [
       "                                            headline        date  DOW   time  \\\n",
       "0     ไทยส่งทีมเยาวชนลุยศึกเชียร์ลีดดิ้งโลกที่สหรัฐฯ  05/04/2562  FRI  12:15   \n",
       "1  \"บิ๊กโจ๊ก\" จ่อเรียก \"ปิยบุตร\" ให้ข้อมูล ปมถูกร้อง  05/04/2562  FRI  12:16   \n",
       "2       \"ศศิน\" ชี้ \"เปรมชัย\" ต้องติดคุก จึงจะเหมาะสม  05/04/2562  FRI  12:06   \n",
       "3   จิตอาสาปรับปรุงภูมิทัศน์รอบ แหล่งน้ำศักดิ์สิทธิ์  05/04/2562  FRI  12:02   \n",
       "4      คุณภาพน้ำ สงกรานต์คูเมืองเชียงใหม่ เกณฑ์พอใช้  05/04/2562  FRI  12:04   \n",
       "\n",
       "   view  like  share  comment     category  tag  \\\n",
       "0   494   NaN     86      NaN         กีฬา  NaN   \n",
       "1  1250   NaN    797      NaN    อาชญากรรม  NaN   \n",
       "2   755   NaN    354      NaN  คุณภาพชีวิต  NaN   \n",
       "3   232   NaN      4      NaN      ภูมิภาค  NaN   \n",
       "4   298   NaN     36      NaN  คุณภาพชีวิต  NaN   \n",
       "\n",
       "                                             content  hour  \\\n",
       "0  ที่ศูนย์วิทยาศาสตร์การกีฬา การกีฬาแห่งประเทศไท...    12   \n",
       "1  เมื่อเวลา 11.30 น. วันที่ 5 เมษายน ที่ สำนักงา...    12   \n",
       "2  ประธานมูลนิธิสืบนาคะเสถียร นายศศิน เฉลิมลาภ บอ...    12   \n",
       "3  นายทรงพล สวาสดิ์ธรรม ผู้ว่าราชการจังหวัดลำปาง ...    12   \n",
       "4  นายโสภณ ทองดี ผู้ตรวจราชการกระทรวงทรัพยากรธรรม...    12   \n",
       "\n",
       "                                               token  numToken  numChar  \\\n",
       "0    ไทย,ทีม,เยาวชนลุยศึก,เชียร์,ลีด,ดิ้ง,โลก,สหรัฐฯ         8       40   \n",
       "1                บิ๊กโจ๊ก,จ่อ,ปิยบุตร,ข้อมูล,ปม,ร้อง         6       30   \n",
       "2                   ศศิน,ชี้,เปรมชัย,ติด,คุก,เหมาะสม         6       27   \n",
       "3  จิตอาสา,ปรับปรุง,ภูมิทัศน์,รอบ,แหล่ง,น้ำ,ศักดิ...         7       47   \n",
       "4   คุณภาพ,น้ำ,สงกรานต์,คูเมืองเชียงใหม่,เกณฑ์,พอใช้         6       43   \n",
       "\n",
       "  year-month  month  year sentiment  \n",
       "0    2562-04      4  2562       pos  \n",
       "1    2562-04      4  2562       neg  \n",
       "2    2562-04      4  2562       pos  \n",
       "3    2562-04      4  2562       pos  \n",
       "4    2562-04      4  2562       neg  "
      ]
     },
     "execution_count": 18,
     "metadata": {},
     "output_type": "execute_result"
    }
   ],
   "source": [
    "input_nation.head()"
   ]
  },
  {
   "cell_type": "code",
   "execution_count": 19,
   "metadata": {},
   "outputs": [],
   "source": [
    "IQRval = input_nation['view'].describe().loc['75%']-input_nation['view'].describe().loc['25%']"
   ]
  },
  {
   "cell_type": "code",
   "execution_count": 20,
   "metadata": {},
   "outputs": [
    {
     "data": {
      "text/plain": [
       "324.0"
      ]
     },
     "execution_count": 20,
     "metadata": {},
     "output_type": "execute_result"
    }
   ],
   "source": [
    "input_nation['view'].describe().loc['25%']"
   ]
  },
  {
   "cell_type": "code",
   "execution_count": 21,
   "metadata": {},
   "outputs": [
    {
     "name": "stdout",
     "output_type": "stream",
     "text": [
      "324.0 3231.5\n"
     ]
    }
   ],
   "source": [
    "outlierMin = max(input_nation['view'].describe().loc['25%'],0)\n",
    "outlierMax = input_nation['view'].describe().loc['75%']+1.5*IQRval\n",
    "print(outlierMin,outlierMax)"
   ]
  },
  {
   "cell_type": "code",
   "execution_count": 22,
   "metadata": {},
   "outputs": [],
   "source": [
    "input_nation = input_nation[(input_nation['view']<=outlierMax) & (input_nation['view']>=outlierMin)]"
   ]
  },
  {
   "cell_type": "code",
   "execution_count": 23,
   "metadata": {},
   "outputs": [
    {
     "data": {
      "text/plain": [
       "'05/04/2562'"
      ]
     },
     "execution_count": 23,
     "metadata": {},
     "output_type": "execute_result"
    }
   ],
   "source": [
    "input_nation['date'][0]"
   ]
  },
  {
   "cell_type": "code",
   "execution_count": 24,
   "metadata": {},
   "outputs": [
    {
     "data": {
      "text/plain": [
       "count        7319\n",
       "unique          4\n",
       "top       2562-03\n",
       "freq         3101\n",
       "Name: year-month, dtype: object"
      ]
     },
     "execution_count": 24,
     "metadata": {},
     "output_type": "execute_result"
    }
   ],
   "source": [
    "input_nation['year-month'].describe()"
   ]
  },
  {
   "cell_type": "code",
   "execution_count": 25,
   "metadata": {},
   "outputs": [],
   "source": [
    "input_nation = input_nation[input_nation['year-month']< '2562-04' ]"
   ]
  },
  {
   "cell_type": "code",
   "execution_count": 86,
   "metadata": {},
   "outputs": [
    {
     "data": {
      "text/plain": [
       "<seaborn.axisgrid.FacetGrid at 0x7f7c81dfbc50>"
      ]
     },
     "execution_count": 86,
     "metadata": {},
     "output_type": "execute_result"
    },
    {
     "data": {
      "image/png": "[encoded data removed]",
      "text/plain": [
       "<Figure size 1440x1440 with 1 Axes>"
      ]
     },
     "metadata": {},
     "output_type": "display_data"
    }
   ],
   "source": [
    "g = sns.relplot(x=\"year-month\", y=\"mean\", ci=None, kind=\"line\", \n",
    "            data=input_nation.groupby('year-month')['view'].describe().reset_index(),height=20)\n",
    "g.set_xticklabels(rotation=45)"
   ]
  },
  {
   "cell_type": "code",
   "execution_count": 87,
   "metadata": {},
   "outputs": [
    {
     "data": {
      "text/plain": [
       "count    6880.000000\n",
       "mean        8.030087\n",
       "std         2.522720\n",
       "min         1.000000\n",
       "25%         6.000000\n",
       "50%         8.000000\n",
       "75%         9.250000\n",
       "max        24.000000\n",
       "Name: numToken, dtype: float64"
      ]
     },
     "execution_count": 87,
     "metadata": {},
     "output_type": "execute_result"
    }
   ],
   "source": [
    "input_nation['numToken'].describe()"
   ]
  },
  {
   "cell_type": "code",
   "execution_count": 88,
   "metadata": {},
   "outputs": [
    {
     "data": {
      "text/plain": [
       "count    6880.000000\n",
       "mean     1009.673401\n",
       "std       658.697222\n",
       "min       324.000000\n",
       "25%       534.000000\n",
       "50%       777.500000\n",
       "75%      1270.000000\n",
       "max      3231.000000\n",
       "Name: view, dtype: float64"
      ]
     },
     "execution_count": 88,
     "metadata": {},
     "output_type": "execute_result"
    }
   ],
   "source": [
    "input_nation['view'].describe()"
   ]
  },
  {
   "cell_type": "code",
   "execution_count": 31,
   "metadata": {},
   "outputs": [
    {
     "data": {
      "text/plain": [
       "3231"
      ]
     },
     "execution_count": 31,
     "metadata": {},
     "output_type": "execute_result"
    }
   ],
   "source": [
    "MAXVIEW = input_nation['view'].max()\n",
    "MAXVIEW"
   ]
  },
  {
   "cell_type": "markdown",
   "metadata": {},
   "source": [
    "## Feature extraction"
   ]
  },
  {
   "cell_type": "code",
   "execution_count": 26,
   "metadata": {},
   "outputs": [],
   "source": [
    "input_nation_train, input_nation_test = train_test_split(input_nation, test_size=0.2,random_state=42)"
   ]
  },
  {
   "cell_type": "code",
   "execution_count": 27,
   "metadata": {},
   "outputs": [
    {
     "name": "stderr",
     "output_type": "stream",
     "text": [
      "/home/burin/.env/lib/python3.5/site-packages/scipy/stats/stats.py:1713: FutureWarning: Using a non-tuple sequence for multidimensional indexing is deprecated; use `arr[tuple(seq)]` instead of `arr[seq]`. In the future this will be interpreted as an array index, `arr[np.array(seq)]`, which will result either in an error or a different result.\n",
      "  return np.add.reduce(sorted[indexer] * weights, axis=axis) / sumval\n"
     ]
    },
    {
     "data": {
      "text/plain": [
       "<matplotlib.axes._subplots.AxesSubplot at 0x7f421d5566a0>"
      ]
     },
     "execution_count": 27,
     "metadata": {},
     "output_type": "execute_result"
    },
    {
     "data": {
      "image/png": "[encoded data removed]",
      "text/plain": [
       "<Figure size 1440x1440 with 2 Axes>"
      ]
     },
     "metadata": {},
     "output_type": "display_data"
    }
   ],
   "source": [
    "f, axarr = plt.subplots(2, figsize=(20,20))\n",
    "sns.distplot(input_nation_train['view'],ax=axarr[0])\n",
    "sns.distplot(input_nation_test['view'],ax=axarr[1])"
   ]
  },
  {
   "cell_type": "markdown",
   "metadata": {},
   "source": [
    "## Bag of word feature"
   ]
  },
  {
   "cell_type": "code",
   "execution_count": 28,
   "metadata": {},
   "outputs": [],
   "source": [
    "inputText_train = []\n",
    "for sent in input_nation_train['token']:\n",
    "    inputText_train.append(sent.split(','))"
   ]
  },
  {
   "cell_type": "code",
   "execution_count": 29,
   "metadata": {},
   "outputs": [],
   "source": [
    "inputText_test = []\n",
    "for sent in input_nation_test['token']:\n",
    "    inputText_test.append(sent.split(','))"
   ]
  },
  {
   "cell_type": "code",
   "execution_count": 32,
   "metadata": {},
   "outputs": [],
   "source": [
    "inputLabel_train = []\n",
    "for view in input_nation_train['view']:\n",
    "    inputLabel_train.append(view/MAXVIEW)"
   ]
  },
  {
   "cell_type": "code",
   "execution_count": 33,
   "metadata": {},
   "outputs": [],
   "source": [
    "inputLabel_test = []\n",
    "for view in input_nation_test['view']:\n",
    "    inputLabel_test.append(view/MAXVIEW)"
   ]
  },
  {
   "cell_type": "code",
   "execution_count": 34,
   "metadata": {},
   "outputs": [
    {
     "name": "stdout",
     "output_type": "stream",
     "text": [
      "5504 5504\n"
     ]
    }
   ],
   "source": [
    "print(len(inputText_train),len(inputLabel_train))"
   ]
  },
  {
   "cell_type": "code",
   "execution_count": 35,
   "metadata": {},
   "outputs": [
    {
     "name": "stdout",
     "output_type": "stream",
     "text": [
      "1376 1376\n"
     ]
    }
   ],
   "source": [
    "print(len(inputText_test),len(inputLabel_test))"
   ]
  },
  {
   "cell_type": "code",
   "execution_count": 36,
   "metadata": {},
   "outputs": [],
   "source": [
    "words = []\n",
    "for sentence in inputText_train:\n",
    "    for word in sentence:\n",
    "        words.append(word)\n",
    "        \n",
    "word_count = list()\n",
    "word_count.extend(collections.Counter(words).most_common(len(set(words))))\n",
    "word_count = word_count[:len(word_count)//4]\n",
    "word_count.append((\"UNK\",0))\n",
    "\n",
    "train_word = set()\n",
    "for i in word_count:\n",
    "    train_word.add(i[0])"
   ]
  },
  {
   "cell_type": "code",
   "execution_count": 37,
   "metadata": {},
   "outputs": [
    {
     "data": {
      "text/plain": [
       "2120"
      ]
     },
     "execution_count": 37,
     "metadata": {},
     "output_type": "execute_result"
    }
   ],
   "source": [
    "len(word_count)"
   ]
  },
  {
   "cell_type": "code",
   "execution_count": 38,
   "metadata": {},
   "outputs": [],
   "source": [
    "all_token = set()\n",
    "for word in train_word:\n",
    "    all_token.add(word)"
   ]
  },
  {
   "cell_type": "code",
   "execution_count": 39,
   "metadata": {},
   "outputs": [],
   "source": [
    "all_token = list(all_token)\n",
    "all_token.insert(0,'for padding')\n",
    "all_token.insert(1,'UNK')"
   ]
  },
  {
   "cell_type": "code",
   "execution_count": 40,
   "metadata": {},
   "outputs": [
    {
     "data": {
      "text/plain": [
       "2122"
      ]
     },
     "execution_count": 40,
     "metadata": {},
     "output_type": "execute_result"
    }
   ],
   "source": [
    "len(all_token)"
   ]
  },
  {
   "cell_type": "code",
   "execution_count": 41,
   "metadata": {},
   "outputs": [],
   "source": [
    "token_map = dict(zip(all_token, range(len(all_token))))\n",
    "token_map_reverse = dict(zip(range(len(all_token)),all_token))"
   ]
  },
  {
   "cell_type": "code",
   "execution_count": 42,
   "metadata": {},
   "outputs": [],
   "source": [
    "input_data_train = np.asarray(input_nation_train['token'].str.split(','))\n",
    "input_data_test = np.asarray(input_nation_test['token'].str.split(','))"
   ]
  },
  {
   "cell_type": "code",
   "execution_count": 43,
   "metadata": {},
   "outputs": [],
   "source": [
    "def count_word(sent):\n",
    "    global all_token, token_map\n",
    "    result = np.zeros(len(all_token))\n",
    "    np_token = np.array(sent)\n",
    "    str_token, str_token_count = np.unique(np_token, return_counts=True)\n",
    "    for char, count in zip(str_token, str_token_count):\n",
    "        if char not in token_map.keys():\n",
    "            char = 'UNK'\n",
    "        result[token_map[char]] = count\n",
    "    return result"
   ]
  },
  {
   "cell_type": "code",
   "execution_count": 44,
   "metadata": {},
   "outputs": [],
   "source": [
    "temp_train = np.vectorize(count_word, otypes=[object])(input_data_train)\n",
    "x_f1_train = np.array([[e for e in sl] for sl in temp_train.tolist()])\n",
    "temp_test = np.vectorize(count_word, otypes=[object])(input_data_test)\n",
    "x_f1_test = np.array([[e for e in sl] for sl in temp_test.tolist()])"
   ]
  },
  {
   "cell_type": "markdown",
   "metadata": {},
   "source": [
    "## Numerical feature"
   ]
  },
  {
   "cell_type": "code",
   "execution_count": 45,
   "metadata": {},
   "outputs": [],
   "source": [
    "cs = MinMaxScaler()"
   ]
  },
  {
   "cell_type": "code",
   "execution_count": 46,
   "metadata": {},
   "outputs": [
    {
     "name": "stderr",
     "output_type": "stream",
     "text": [
      "/home/burin/.env/lib/python3.5/site-packages/sklearn/preprocessing/data.py:323: DataConversionWarning: Data with input dtype int64 were all converted to float64 by MinMaxScaler.\n",
      "  return self.partial_fit(X, y)\n",
      "/home/burin/.env/lib/python3.5/site-packages/sklearn/preprocessing/data.py:323: DataConversionWarning: Data with input dtype int64 were all converted to float64 by MinMaxScaler.\n",
      "  return self.partial_fit(X, y)\n"
     ]
    }
   ],
   "source": [
    "trainContinuous = cs.fit_transform(input_nation_train[['numToken','numChar']])\n",
    "testContinuous = cs.fit_transform(input_nation_test[['numToken','numChar']])"
   ]
  },
  {
   "cell_type": "markdown",
   "metadata": {},
   "source": [
    "## Cetagorial feature"
   ]
  },
  {
   "cell_type": "code",
   "execution_count": 47,
   "metadata": {},
   "outputs": [],
   "source": [
    "lb = preprocessing.LabelBinarizer()"
   ]
  },
  {
   "cell_type": "code",
   "execution_count": 48,
   "metadata": {},
   "outputs": [],
   "source": [
    "zipBinarizer = lb.fit(input_nation[\"DOW\"])\n",
    "trainCategorical_dow = zipBinarizer.transform(input_nation_train[\"DOW\"])\n",
    "testCategorical_dow = zipBinarizer.transform(input_nation_test[\"DOW\"])\n",
    "zipBinarizer = lb.fit(input_nation[\"month\"])\n",
    "trainCategorical_month = zipBinarizer.transform(input_nation_train[\"month\"])\n",
    "testCategorical_month = zipBinarizer.transform(input_nation_test[\"month\"])\n",
    "zipBinarizer = lb.fit(input_nation[\"year\"])\n",
    "trainCategorical_year = zipBinarizer.transform(input_nation_train[\"year\"])\n",
    "testCategorical_year = zipBinarizer.transform(input_nation_test[\"year\"])\n",
    "zipBinarizer = lb.fit(input_nation[\"hour\"])\n",
    "trainCategorical_hour = zipBinarizer.transform(input_nation_train[\"hour\"])\n",
    "testCategorical_hour = zipBinarizer.transform(input_nation_test[\"hour\"])\n",
    "zipBinarizer = lb.fit(input_nation[\"category\"])\n",
    "trainCategorical_category = zipBinarizer.transform(input_nation_train[\"category\"])\n",
    "testCategorical_category = zipBinarizer.transform(input_nation_test[\"category\"])\n",
    "zipBinarizer = lb.fit(input_nation[\"sentiment\"])\n",
    "trainCategorical_sentiment = zipBinarizer.transform(input_nation_train[\"sentiment\"])\n",
    "testCategorical_sentiment = zipBinarizer.transform(input_nation_test[\"sentiment\"])"
   ]
  },
  {
   "cell_type": "code",
   "execution_count": null,
   "metadata": {},
   "outputs": [],
   "source": []
  },
  {
   "cell_type": "code",
   "execution_count": null,
   "metadata": {},
   "outputs": [],
   "source": []
  },
  {
   "cell_type": "code",
   "execution_count": null,
   "metadata": {},
   "outputs": [],
   "source": []
  },
  {
   "cell_type": "markdown",
   "metadata": {},
   "source": [
    "## Concat feature"
   ]
  },
  {
   "cell_type": "code",
   "execution_count": 49,
   "metadata": {},
   "outputs": [],
   "source": [
    "x_train = np.hstack([x_f1_train, trainContinuous,trainCategorical_dow,trainCategorical_month,trainCategorical_year,\n",
    "                     trainCategorical_hour,trainCategorical_category,trainCategorical_sentiment])\n",
    "x_test = np.hstack([x_f1_test, testContinuous,testCategorical_dow,testCategorical_month,testCategorical_year,\n",
    "                    testCategorical_hour,testCategorical_category,testCategorical_sentiment])"
   ]
  },
  {
   "cell_type": "code",
   "execution_count": 506,
   "metadata": {},
   "outputs": [],
   "source": [
    "# x_train = np.hstack([x_f1_train,trainCategorical_dow,trainCategorical_hour,trainCategorical_category])\n",
    "# x_test = np.hstack([x_f1_test,testCategorical_dow,testCategorical_hour,testCategorical_category])"
   ]
  },
  {
   "cell_type": "code",
   "execution_count": 523,
   "metadata": {},
   "outputs": [],
   "source": [
    "# x_train = np.hstack([x_f1_train, trainContinuous])\n",
    "# x_test = np.hstack([x_f1_test, testContinuous])"
   ]
  },
  {
   "cell_type": "markdown",
   "metadata": {},
   "source": [
    "## Prepare data for Keras"
   ]
  },
  {
   "cell_type": "code",
   "execution_count": 50,
   "metadata": {},
   "outputs": [],
   "source": [
    "x_train=keras.preprocessing.sequence.pad_sequences(x_train, maxlen=None, dtype='int32', padding='post', truncating='pre', value=0.)\n",
    "x_test=keras.preprocessing.sequence.pad_sequences(x_test, maxlen=None, dtype='int32', padding='post', truncating='pre', value=0.)\n"
   ]
  },
  {
   "cell_type": "code",
   "execution_count": 51,
   "metadata": {},
   "outputs": [
    {
     "data": {
      "text/plain": [
       "(5504, 2180)"
      ]
     },
     "execution_count": 51,
     "metadata": {},
     "output_type": "execute_result"
    }
   ],
   "source": [
    "x_train.shape"
   ]
  },
  {
   "cell_type": "code",
   "execution_count": 52,
   "metadata": {},
   "outputs": [
    {
     "name": "stdout",
     "output_type": "stream",
     "text": [
      "train size (5504, 2180)\n",
      "test size (1376, 2180)\n"
     ]
    }
   ],
   "source": [
    "print(\"train size\",x_train.shape)\n",
    "print(\"test size\",x_test.shape)"
   ]
  },
  {
   "cell_type": "code",
   "execution_count": 53,
   "metadata": {},
   "outputs": [],
   "source": [
    "y_train = inputLabel_train\n",
    "y_train = np.asarray(y_train).reshape(-1,1)\n",
    "y_test = inputLabel_test\n",
    "y_test = np.asarray(y_test).reshape(-1,1)"
   ]
  },
  {
   "cell_type": "code",
   "execution_count": 54,
   "metadata": {},
   "outputs": [],
   "source": [
    "# y_train, y_test =  train_test_split(y_train, test_size=0.2,random_state=1)"
   ]
  },
  {
   "cell_type": "code",
   "execution_count": 55,
   "metadata": {},
   "outputs": [
    {
     "name": "stdout",
     "output_type": "stream",
     "text": [
      "train size 5504\n",
      "test size 1376\n"
     ]
    }
   ],
   "source": [
    "print(\"train size\",len(y_train))\n",
    "print(\"test size\",len(y_test))"
   ]
  },
  {
   "cell_type": "markdown",
   "metadata": {},
   "source": [
    "## Create Model"
   ]
  },
  {
   "cell_type": "code",
   "execution_count": 68,
   "metadata": {},
   "outputs": [],
   "source": [
    "def create_model():    \n",
    "    input1 = Input(shape=(x_train.shape[1],))\n",
    "    x = Dense(1024, activation='relu')(input1)\n",
    "    x = Dropout(0.5)(x)\n",
    "    x = BatchNormalization(momentum=0.99, epsilon=0.001)(x)\n",
    "    x = Dense(256, activation='relu')(x)\n",
    "    x = Dropout(0.3)(x)\n",
    "    x = BatchNormalization(momentum=0.99, epsilon=0.001)(x)\n",
    "    x = Dense(64, activation='relu')(x)\n",
    "    x = Dropout(0.2)(x)\n",
    "    x = BatchNormalization(momentum=0.99, epsilon=0.001)(x)\n",
    "    x = Dense(16, activation='relu')(x)\n",
    "    x = Dropout(0.2)(x)\n",
    "    x = BatchNormalization(momentum=0.99, epsilon=0.001)(x)\n",
    "    x = Dense(1,activation='linear')(x)\n",
    "    model = Model(inputs=input1, outputs=x)\n",
    "    adam  = Adam(lr=0.001)\n",
    "    model.compile(optimizer=adam,  loss='mean_absolute_percentage_error')\n",
    "    \n",
    "    return model\n"
   ]
  },
  {
   "cell_type": "code",
   "execution_count": 69,
   "metadata": {},
   "outputs": [
    {
     "name": "stdout",
     "output_type": "stream",
     "text": [
      "Model: \"model_4\"\n",
      "_________________________________________________________________\n",
      "Layer (type)                 Output Shape              Param #   \n",
      "=================================================================\n",
      "input_4 (InputLayer)         (None, 2180)              0         \n",
      "_________________________________________________________________\n",
      "dense_16 (Dense)             (None, 1024)              2233344   \n",
      "_________________________________________________________________\n",
      "dropout_13 (Dropout)         (None, 1024)              0         \n",
      "_________________________________________________________________\n",
      "batch_normalization_13 (Batc (None, 1024)              4096      \n",
      "_________________________________________________________________\n",
      "dense_17 (Dense)             (None, 256)               262400    \n",
      "_________________________________________________________________\n",
      "dropout_14 (Dropout)         (None, 256)               0         \n",
      "_________________________________________________________________\n",
      "batch_normalization_14 (Batc (None, 256)               1024      \n",
      "_________________________________________________________________\n",
      "dense_18 (Dense)             (None, 64)                16448     \n",
      "_________________________________________________________________\n",
      "dropout_15 (Dropout)         (None, 64)                0         \n",
      "_________________________________________________________________\n",
      "batch_normalization_15 (Batc (None, 64)                256       \n",
      "_________________________________________________________________\n",
      "dense_19 (Dense)             (None, 16)                1040      \n",
      "_________________________________________________________________\n",
      "dropout_16 (Dropout)         (None, 16)                0         \n",
      "_________________________________________________________________\n",
      "batch_normalization_16 (Batc (None, 16)                64        \n",
      "_________________________________________________________________\n",
      "dense_20 (Dense)             (None, 1)                 17        \n",
      "=================================================================\n",
      "Total params: 2,518,689\n",
      "Trainable params: 2,515,969\n",
      "Non-trainable params: 2,720\n",
      "_________________________________________________________________\n"
     ]
    }
   ],
   "source": [
    "model = create_model()\n",
    "model.summary()"
   ]
  },
  {
   "cell_type": "code",
   "execution_count": 70,
   "metadata": {},
   "outputs": [],
   "source": [
    "weight_path='./model_nation_2.h5'\n",
    "callbacks_list = [\n",
    "        ModelCheckpoint(\n",
    "            weight_path,\n",
    "            save_best_only=True,\n",
    "            save_weights_only=True,\n",
    "            monitor='val_loss',\n",
    "            mode='min',\n",
    "            verbose=1\n",
    "        )\n",
    "]"
   ]
  },
  {
   "cell_type": "code",
   "execution_count": 71,
   "metadata": {},
   "outputs": [
    {
     "name": "stdout",
     "output_type": "stream",
     "text": [
      "Train on 4403 samples, validate on 1101 samples\n",
      "Epoch 1/50\n",
      "4403/4403 [==============================] - 6s 1ms/step - loss: 301.1189 - val_loss: 105.0362\n",
      "\n",
      "Epoch 00001: val_loss improved from inf to 105.03619, saving model to ./model_nation_2.h5\n",
      "Epoch 2/50\n",
      "4403/4403 [==============================] - 3s 609us/step - loss: 158.8630 - val_loss: 57.6535\n",
      "\n",
      "Epoch 00002: val_loss improved from 105.03619 to 57.65350, saving model to ./model_nation_2.h5\n",
      "Epoch 3/50\n",
      "4403/4403 [==============================] - 3s 614us/step - loss: 102.8903 - val_loss: 45.0171\n",
      "\n",
      "Epoch 00003: val_loss improved from 57.65350 to 45.01710, saving model to ./model_nation_2.h5\n",
      "Epoch 4/50\n",
      "4403/4403 [==============================] - 3s 626us/step - loss: 77.5112 - val_loss: 41.4930\n",
      "\n",
      "Epoch 00004: val_loss improved from 45.01710 to 41.49300, saving model to ./model_nation_2.h5\n",
      "Epoch 5/50\n",
      "4403/4403 [==============================] - 3s 629us/step - loss: 61.2752 - val_loss: 39.3052\n",
      "\n",
      "Epoch 00005: val_loss improved from 41.49300 to 39.30517, saving model to ./model_nation_2.h5\n",
      "Epoch 6/50\n",
      "4403/4403 [==============================] - 3s 636us/step - loss: 52.6049 - val_loss: 39.9209\n",
      "\n",
      "Epoch 00006: val_loss did not improve from 39.30517\n",
      "Epoch 7/50\n",
      "4403/4403 [==============================] - 3s 639us/step - loss: 47.3729 - val_loss: 38.4774\n",
      "\n",
      "Epoch 00007: val_loss improved from 39.30517 to 38.47745, saving model to ./model_nation_2.h5\n",
      "Epoch 8/50\n",
      "4403/4403 [==============================] - 3s 633us/step - loss: 43.2980 - val_loss: 40.7189\n",
      "\n",
      "Epoch 00008: val_loss did not improve from 38.47745\n",
      "Epoch 9/50\n",
      "4403/4403 [==============================] - 3s 624us/step - loss: 40.3413 - val_loss: 37.9831\n",
      "\n",
      "Epoch 00009: val_loss improved from 38.47745 to 37.98308, saving model to ./model_nation_2.h5\n",
      "Epoch 10/50\n",
      "4403/4403 [==============================] - 3s 644us/step - loss: 38.6366 - val_loss: 38.1003\n",
      "\n",
      "Epoch 00010: val_loss did not improve from 37.98308\n",
      "Epoch 11/50\n",
      "4403/4403 [==============================] - 3s 642us/step - loss: 37.2848 - val_loss: 38.3642\n",
      "\n",
      "Epoch 00011: val_loss did not improve from 37.98308\n",
      "Epoch 12/50\n",
      "4403/4403 [==============================] - 3s 626us/step - loss: 35.7650 - val_loss: 38.2644\n",
      "\n",
      "Epoch 00012: val_loss did not improve from 37.98308\n",
      "Epoch 13/50\n",
      "4403/4403 [==============================] - 3s 625us/step - loss: 34.5536 - val_loss: 39.0399\n",
      "\n",
      "Epoch 00013: val_loss did not improve from 37.98308\n",
      "Epoch 14/50\n",
      "4403/4403 [==============================] - 3s 648us/step - loss: 34.0910 - val_loss: 37.9378\n",
      "\n",
      "Epoch 00014: val_loss improved from 37.98308 to 37.93778, saving model to ./model_nation_2.h5\n",
      "Epoch 15/50\n",
      "4403/4403 [==============================] - 3s 644us/step - loss: 32.8092 - val_loss: 37.4915\n",
      "\n",
      "Epoch 00015: val_loss improved from 37.93778 to 37.49147, saving model to ./model_nation_2.h5\n",
      "Epoch 16/50\n",
      "4403/4403 [==============================] - 3s 642us/step - loss: 32.1949 - val_loss: 37.3417\n",
      "\n",
      "Epoch 00016: val_loss improved from 37.49147 to 37.34169, saving model to ./model_nation_2.h5\n",
      "Epoch 17/50\n",
      "4403/4403 [==============================] - 3s 626us/step - loss: 31.0062 - val_loss: 37.5839\n",
      "\n",
      "Epoch 00017: val_loss did not improve from 37.34169\n",
      "Epoch 18/50\n",
      "4403/4403 [==============================] - 3s 633us/step - loss: 30.1859 - val_loss: 37.3726\n",
      "\n",
      "Epoch 00018: val_loss did not improve from 37.34169\n",
      "Epoch 19/50\n",
      "4403/4403 [==============================] - 3s 643us/step - loss: 29.2578 - val_loss: 37.7934\n",
      "\n",
      "Epoch 00019: val_loss did not improve from 37.34169\n",
      "Epoch 20/50\n",
      "4403/4403 [==============================] - 3s 638us/step - loss: 29.1036 - val_loss: 37.6029\n",
      "\n",
      "Epoch 00020: val_loss did not improve from 37.34169\n",
      "Epoch 21/50\n",
      "4403/4403 [==============================] - 3s 627us/step - loss: 28.5895 - val_loss: 37.6536\n",
      "\n",
      "Epoch 00021: val_loss did not improve from 37.34169\n",
      "Epoch 22/50\n",
      "4403/4403 [==============================] - 3s 628us/step - loss: 27.4786 - val_loss: 38.2842\n",
      "\n",
      "Epoch 00022: val_loss did not improve from 37.34169\n",
      "Epoch 23/50\n",
      "4403/4403 [==============================] - 3s 637us/step - loss: 26.9570 - val_loss: 37.8811\n",
      "\n",
      "Epoch 00023: val_loss did not improve from 37.34169\n",
      "Epoch 24/50\n",
      "4403/4403 [==============================] - 3s 641us/step - loss: 26.7580 - val_loss: 38.0962\n",
      "\n",
      "Epoch 00024: val_loss did not improve from 37.34169\n",
      "Epoch 25/50\n",
      "4403/4403 [==============================] - 3s 636us/step - loss: 25.2839 - val_loss: 39.3402\n",
      "\n",
      "Epoch 00025: val_loss did not improve from 37.34169\n",
      "Epoch 26/50\n",
      "4403/4403 [==============================] - 3s 623us/step - loss: 24.8654 - val_loss: 39.4625\n",
      "\n",
      "Epoch 00026: val_loss did not improve from 37.34169\n",
      "Epoch 27/50\n",
      "4403/4403 [==============================] - 3s 629us/step - loss: 24.5447 - val_loss: 38.7161\n",
      "\n",
      "Epoch 00027: val_loss did not improve from 37.34169\n",
      "Epoch 28/50\n",
      "4403/4403 [==============================] - 3s 637us/step - loss: 23.7674 - val_loss: 40.3686\n",
      "\n",
      "Epoch 00028: val_loss did not improve from 37.34169\n",
      "Epoch 29/50\n",
      "4403/4403 [==============================] - 3s 637us/step - loss: 24.0558 - val_loss: 39.7434\n",
      "\n",
      "Epoch 00029: val_loss did not improve from 37.34169\n",
      "Epoch 30/50\n",
      "4403/4403 [==============================] - 3s 627us/step - loss: 22.9370 - val_loss: 40.7855\n",
      "\n",
      "Epoch 00030: val_loss did not improve from 37.34169\n",
      "Epoch 31/50\n",
      "4403/4403 [==============================] - 3s 630us/step - loss: 23.0384 - val_loss: 39.2365\n",
      "\n",
      "Epoch 00031: val_loss did not improve from 37.34169\n",
      "Epoch 32/50\n",
      "4403/4403 [==============================] - 3s 642us/step - loss: 22.0097 - val_loss: 40.1732\n",
      "\n",
      "Epoch 00032: val_loss did not improve from 37.34169\n",
      "Epoch 33/50\n",
      "4403/4403 [==============================] - 3s 637us/step - loss: 22.1786 - val_loss: 40.0195\n",
      "\n",
      "Epoch 00033: val_loss did not improve from 37.34169\n",
      "Epoch 34/50\n",
      "4403/4403 [==============================] - 3s 627us/step - loss: 21.5414 - val_loss: 40.8480\n",
      "\n",
      "Epoch 00034: val_loss did not improve from 37.34169\n",
      "Epoch 35/50\n",
      "4403/4403 [==============================] - 3s 618us/step - loss: 21.6626 - val_loss: 41.3087\n",
      "\n",
      "Epoch 00035: val_loss did not improve from 37.34169\n",
      "Epoch 36/50\n",
      "4403/4403 [==============================] - 3s 639us/step - loss: 20.8172 - val_loss: 40.6151\n",
      "\n",
      "Epoch 00036: val_loss did not improve from 37.34169\n",
      "Epoch 37/50\n",
      "4403/4403 [==============================] - 3s 643us/step - loss: 20.9758 - val_loss: 40.8535\n",
      "\n",
      "Epoch 00037: val_loss did not improve from 37.34169\n",
      "Epoch 38/50\n",
      "4403/4403 [==============================] - 3s 625us/step - loss: 20.8211 - val_loss: 40.7404\n",
      "\n",
      "Epoch 00038: val_loss did not improve from 37.34169\n",
      "Epoch 39/50\n",
      "4403/4403 [==============================] - 3s 621us/step - loss: 20.5323 - val_loss: 41.3695\n",
      "\n",
      "Epoch 00039: val_loss did not improve from 37.34169\n",
      "Epoch 40/50\n",
      "4403/4403 [==============================] - 3s 626us/step - loss: 19.9660 - val_loss: 40.9667\n",
      "\n",
      "Epoch 00040: val_loss did not improve from 37.34169\n",
      "Epoch 41/50\n",
      "4403/4403 [==============================] - 3s 639us/step - loss: 20.3635 - val_loss: 41.5035\n",
      "\n",
      "Epoch 00041: val_loss did not improve from 37.34169\n",
      "Epoch 42/50\n",
      "4403/4403 [==============================] - 3s 641us/step - loss: 19.6644 - val_loss: 40.5632\n",
      "\n",
      "Epoch 00042: val_loss did not improve from 37.34169\n",
      "Epoch 43/50\n",
      "4403/4403 [==============================] - 3s 618us/step - loss: 19.6162 - val_loss: 41.8845\n",
      "\n",
      "Epoch 00043: val_loss did not improve from 37.34169\n",
      "Epoch 44/50\n",
      "4403/4403 [==============================] - 3s 629us/step - loss: 19.6812 - val_loss: 40.7770\n",
      "\n",
      "Epoch 00044: val_loss did not improve from 37.34169\n",
      "Epoch 45/50\n",
      "4403/4403 [==============================] - 3s 629us/step - loss: 19.8272 - val_loss: 40.0317\n",
      "\n",
      "Epoch 00045: val_loss did not improve from 37.34169\n",
      "Epoch 46/50\n",
      "4403/4403 [==============================] - 3s 638us/step - loss: 19.0148 - val_loss: 41.2613\n",
      "\n",
      "Epoch 00046: val_loss did not improve from 37.34169\n",
      "Epoch 47/50\n",
      "4403/4403 [==============================] - 3s 639us/step - loss: 19.0198 - val_loss: 39.7838\n",
      "\n",
      "Epoch 00047: val_loss did not improve from 37.34169\n",
      "Epoch 48/50\n",
      "4403/4403 [==============================] - 3s 625us/step - loss: 18.7406 - val_loss: 41.2917\n",
      "\n",
      "Epoch 00048: val_loss did not improve from 37.34169\n",
      "Epoch 49/50\n"
     ]
    },
    {
     "name": "stdout",
     "output_type": "stream",
     "text": [
      "4403/4403 [==============================] - 3s 626us/step - loss: 18.2609 - val_loss: 41.4984\n",
      "\n",
      "Epoch 00049: val_loss did not improve from 37.34169\n",
      "Epoch 50/50\n",
      "4403/4403 [==============================] - 3s 641us/step - loss: 18.5483 - val_loss: 41.2912\n",
      "\n",
      "Epoch 00050: val_loss did not improve from 37.34169\n"
     ]
    },
    {
     "data": {
      "text/plain": [
       "<keras.callbacks.History at 0x7f41bb35f908>"
      ]
     },
     "execution_count": 71,
     "metadata": {},
     "output_type": "execute_result"
    }
   ],
   "source": [
    "model.fit(x_train, y_train, batch_size=32 ,epochs=50, verbose=1, validation_split=0.2,callbacks=callbacks_list)"
   ]
  },
  {
   "cell_type": "code",
   "execution_count": 60,
   "metadata": {},
   "outputs": [
    {
     "name": "stdout",
     "output_type": "stream",
     "text": [
      "Train on 4403 samples, validate on 1101 samples\n",
      "Epoch 1/50\n",
      "4403/4403 [==============================] - 3s 602us/step - loss: 52.0363 - val_loss: 38.0127\n",
      "\n",
      "Epoch 00001: val_loss improved from 38.27204 to 38.01274, saving model to ./model_nation_1.h5\n",
      "Epoch 2/50\n",
      "4403/4403 [==============================] - 3s 600us/step - loss: 52.3423 - val_loss: 38.2964\n",
      "\n",
      "Epoch 00002: val_loss did not improve from 38.01274\n",
      "Epoch 3/50\n",
      "4403/4403 [==============================] - 3s 632us/step - loss: 48.3777 - val_loss: 38.6822\n",
      "\n",
      "Epoch 00003: val_loss did not improve from 38.01274\n",
      "Epoch 4/50\n",
      "4403/4403 [==============================] - 3s 612us/step - loss: 50.0844 - val_loss: 39.2608\n",
      "\n",
      "Epoch 00004: val_loss did not improve from 38.01274\n",
      "Epoch 5/50\n",
      "4403/4403 [==============================] - 3s 635us/step - loss: 48.5942 - val_loss: 38.6518\n",
      "\n",
      "Epoch 00005: val_loss did not improve from 38.01274\n",
      "Epoch 6/50\n",
      "4403/4403 [==============================] - 3s 633us/step - loss: 48.6076 - val_loss: 37.8227\n",
      "\n",
      "Epoch 00006: val_loss improved from 38.01274 to 37.82270, saving model to ./model_nation_1.h5\n",
      "Epoch 7/50\n",
      "4403/4403 [==============================] - 3s 632us/step - loss: 48.2845 - val_loss: 38.5588\n",
      "\n",
      "Epoch 00007: val_loss did not improve from 37.82270\n",
      "Epoch 8/50\n",
      "4403/4403 [==============================] - 3s 619us/step - loss: 46.4834 - val_loss: 38.3214\n",
      "\n",
      "Epoch 00008: val_loss did not improve from 37.82270\n",
      "Epoch 9/50\n",
      "4403/4403 [==============================] - 3s 623us/step - loss: 44.8883 - val_loss: 38.4322\n",
      "\n",
      "Epoch 00009: val_loss did not improve from 37.82270\n",
      "Epoch 10/50\n",
      "4403/4403 [==============================] - 3s 628us/step - loss: 46.2749 - val_loss: 38.5022\n",
      "\n",
      "Epoch 00010: val_loss did not improve from 37.82270\n",
      "Epoch 11/50\n",
      "4403/4403 [==============================] - 3s 636us/step - loss: 43.8034 - val_loss: 38.5448\n",
      "\n",
      "Epoch 00011: val_loss did not improve from 37.82270\n",
      "Epoch 12/50\n",
      "4403/4403 [==============================] - 3s 617us/step - loss: 41.7017 - val_loss: 38.6117\n",
      "\n",
      "Epoch 00012: val_loss did not improve from 37.82270\n",
      "Epoch 13/50\n",
      "4403/4403 [==============================] - 3s 620us/step - loss: 41.9704 - val_loss: 38.2401\n",
      "\n",
      "Epoch 00013: val_loss did not improve from 37.82270\n",
      "Epoch 14/50\n",
      "4403/4403 [==============================] - 3s 619us/step - loss: 41.5717 - val_loss: 38.7062\n",
      "\n",
      "Epoch 00014: val_loss did not improve from 37.82270\n",
      "Epoch 15/50\n",
      "4403/4403 [==============================] - 3s 633us/step - loss: 41.0991 - val_loss: 38.6138\n",
      "\n",
      "Epoch 00015: val_loss did not improve from 37.82270\n",
      "Epoch 16/50\n",
      "4403/4403 [==============================] - 3s 635us/step - loss: 40.4577 - val_loss: 38.2300\n",
      "\n",
      "Epoch 00016: val_loss did not improve from 37.82270\n",
      "Epoch 17/50\n",
      "4403/4403 [==============================] - 3s 619us/step - loss: 39.5891 - val_loss: 38.7047\n",
      "\n",
      "Epoch 00017: val_loss did not improve from 37.82270\n",
      "Epoch 18/50\n",
      "4403/4403 [==============================] - 3s 632us/step - loss: 39.7615 - val_loss: 38.6248\n",
      "\n",
      "Epoch 00018: val_loss did not improve from 37.82270\n",
      "Epoch 19/50\n",
      "4403/4403 [==============================] - 3s 639us/step - loss: 38.7514 - val_loss: 38.0295\n",
      "\n",
      "Epoch 00019: val_loss did not improve from 37.82270\n",
      "Epoch 20/50\n",
      "4403/4403 [==============================] - 3s 633us/step - loss: 39.2688 - val_loss: 37.8288\n",
      "\n",
      "Epoch 00020: val_loss did not improve from 37.82270\n",
      "Epoch 21/50\n",
      "4403/4403 [==============================] - 3s 608us/step - loss: 38.7345 - val_loss: 38.0005\n",
      "\n",
      "Epoch 00021: val_loss did not improve from 37.82270\n",
      "Epoch 22/50\n",
      "4403/4403 [==============================] - 3s 610us/step - loss: 38.6511 - val_loss: 38.3730\n",
      "\n",
      "Epoch 00022: val_loss did not improve from 37.82270\n",
      "Epoch 23/50\n",
      "4403/4403 [==============================] - 3s 631us/step - loss: 37.4627 - val_loss: 38.0983\n",
      "\n",
      "Epoch 00023: val_loss did not improve from 37.82270\n",
      "Epoch 24/50\n",
      "4403/4403 [==============================] - 3s 630us/step - loss: 37.4403 - val_loss: 38.2788\n",
      "\n",
      "Epoch 00024: val_loss did not improve from 37.82270\n",
      "Epoch 25/50\n",
      "4403/4403 [==============================] - 3s 630us/step - loss: 36.9695 - val_loss: 37.6075\n",
      "\n",
      "Epoch 00025: val_loss improved from 37.82270 to 37.60750, saving model to ./model_nation_1.h5\n",
      "Epoch 26/50\n",
      "4403/4403 [==============================] - 3s 618us/step - loss: 36.2800 - val_loss: 37.7334\n",
      "\n",
      "Epoch 00026: val_loss did not improve from 37.60750\n",
      "Epoch 27/50\n",
      "4403/4403 [==============================] - 3s 618us/step - loss: 36.2756 - val_loss: 37.4641\n",
      "\n",
      "Epoch 00027: val_loss improved from 37.60750 to 37.46410, saving model to ./model_nation_1.h5\n",
      "Epoch 28/50\n",
      "4403/4403 [==============================] - 3s 633us/step - loss: 35.2797 - val_loss: 37.5387\n",
      "\n",
      "Epoch 00028: val_loss did not improve from 37.46410\n",
      "Epoch 29/50\n",
      "4403/4403 [==============================] - 3s 632us/step - loss: 34.3045 - val_loss: 37.8490\n",
      "\n",
      "Epoch 00029: val_loss did not improve from 37.46410\n",
      "Epoch 30/50\n",
      "4403/4403 [==============================] - 3s 619us/step - loss: 34.8454 - val_loss: 37.6934\n",
      "\n",
      "Epoch 00030: val_loss did not improve from 37.46410\n",
      "Epoch 31/50\n",
      "4403/4403 [==============================] - 3s 612us/step - loss: 34.1592 - val_loss: 37.7622\n",
      "\n",
      "Epoch 00031: val_loss did not improve from 37.46410\n",
      "Epoch 32/50\n",
      "4403/4403 [==============================] - 3s 627us/step - loss: 33.7919 - val_loss: 37.5619\n",
      "\n",
      "Epoch 00032: val_loss did not improve from 37.46410\n",
      "Epoch 33/50\n",
      "4403/4403 [==============================] - 3s 628us/step - loss: 32.8254 - val_loss: 37.7395\n",
      "\n",
      "Epoch 00033: val_loss did not improve from 37.46410\n",
      "Epoch 34/50\n",
      "4403/4403 [==============================] - 3s 625us/step - loss: 32.6527 - val_loss: 37.6776\n",
      "\n",
      "Epoch 00034: val_loss did not improve from 37.46410\n",
      "Epoch 35/50\n",
      "4403/4403 [==============================] - 3s 606us/step - loss: 32.3938 - val_loss: 38.0814\n",
      "\n",
      "Epoch 00035: val_loss did not improve from 37.46410\n",
      "Epoch 36/50\n",
      "4403/4403 [==============================] - 3s 620us/step - loss: 31.6894 - val_loss: 38.1029\n",
      "\n",
      "Epoch 00036: val_loss did not improve from 37.46410\n",
      "Epoch 37/50\n",
      "4403/4403 [==============================] - 3s 623us/step - loss: 31.1741 - val_loss: 38.1425\n",
      "\n",
      "Epoch 00037: val_loss did not improve from 37.46410\n",
      "Epoch 38/50\n",
      "4403/4403 [==============================] - 3s 631us/step - loss: 31.5964 - val_loss: 38.6328\n",
      "\n",
      "Epoch 00038: val_loss did not improve from 37.46410\n",
      "Epoch 39/50\n",
      "4403/4403 [==============================] - 3s 624us/step - loss: 30.6840 - val_loss: 38.3111\n",
      "\n",
      "Epoch 00039: val_loss did not improve from 37.46410\n",
      "Epoch 40/50\n",
      "4403/4403 [==============================] - 3s 613us/step - loss: 29.3808 - val_loss: 38.5110\n",
      "\n",
      "Epoch 00040: val_loss did not improve from 37.46410\n",
      "Epoch 41/50\n",
      "4403/4403 [==============================] - 3s 635us/step - loss: 29.7416 - val_loss: 38.4346\n",
      "\n",
      "Epoch 00041: val_loss did not improve from 37.46410\n",
      "Epoch 42/50\n",
      "4403/4403 [==============================] - 3s 635us/step - loss: 29.5871 - val_loss: 38.4689\n",
      "\n",
      "Epoch 00042: val_loss did not improve from 37.46410\n",
      "Epoch 43/50\n",
      "4403/4403 [==============================] - 3s 626us/step - loss: 28.4964 - val_loss: 39.0055\n",
      "\n",
      "Epoch 00043: val_loss did not improve from 37.46410\n",
      "Epoch 44/50\n",
      "4403/4403 [==============================] - 3s 630us/step - loss: 28.7616 - val_loss: 38.7251\n",
      "\n",
      "Epoch 00044: val_loss did not improve from 37.46410\n",
      "Epoch 45/50\n",
      "4403/4403 [==============================] - 3s 620us/step - loss: 28.0066 - val_loss: 38.8940\n",
      "\n",
      "Epoch 00045: val_loss did not improve from 37.46410\n",
      "Epoch 46/50\n",
      "4403/4403 [==============================] - 3s 637us/step - loss: 28.0439 - val_loss: 38.7190\n",
      "\n",
      "Epoch 00046: val_loss did not improve from 37.46410\n",
      "Epoch 47/50\n",
      "4403/4403 [==============================] - 3s 632us/step - loss: 27.5519 - val_loss: 38.5668\n",
      "\n",
      "Epoch 00047: val_loss did not improve from 37.46410\n",
      "Epoch 48/50\n",
      "4403/4403 [==============================] - 3s 622us/step - loss: 27.2705 - val_loss: 38.8479\n",
      "\n",
      "Epoch 00048: val_loss did not improve from 37.46410\n",
      "Epoch 49/50\n",
      "4403/4403 [==============================] - 3s 618us/step - loss: 27.1231 - val_loss: 38.4399\n",
      "\n",
      "Epoch 00049: val_loss did not improve from 37.46410\n",
      "Epoch 50/50\n",
      "4403/4403 [==============================] - 3s 624us/step - loss: 26.1231 - val_loss: 38.3956\n",
      "\n",
      "Epoch 00050: val_loss did not improve from 37.46410\n"
     ]
    },
    {
     "data": {
      "text/plain": [
       "<keras.callbacks.History at 0x7f4210bafcc0>"
      ]
     },
     "execution_count": 60,
     "metadata": {},
     "output_type": "execute_result"
    }
   ],
   "source": [
    "model.fit(x_train, y_train, batch_size=32 ,epochs=50, verbose=1, validation_split=0.2,callbacks=callbacks_list)"
   ]
  },
  {
   "cell_type": "code",
   "execution_count": 72,
   "metadata": {},
   "outputs": [
    {
     "name": "stdout",
     "output_type": "stream",
     "text": [
      "Model: \"model_5\"\n",
      "_________________________________________________________________\n",
      "Layer (type)                 Output Shape              Param #   \n",
      "=================================================================\n",
      "input_5 (InputLayer)         (None, 2180)              0         \n",
      "_________________________________________________________________\n",
      "dense_21 (Dense)             (None, 1024)              2233344   \n",
      "_________________________________________________________________\n",
      "dropout_17 (Dropout)         (None, 1024)              0         \n",
      "_________________________________________________________________\n",
      "batch_normalization_17 (Batc (None, 1024)              4096      \n",
      "_________________________________________________________________\n",
      "dense_22 (Dense)             (None, 256)               262400    \n",
      "_________________________________________________________________\n",
      "dropout_18 (Dropout)         (None, 256)               0         \n",
      "_________________________________________________________________\n",
      "batch_normalization_18 (Batc (None, 256)               1024      \n",
      "_________________________________________________________________\n",
      "dense_23 (Dense)             (None, 64)                16448     \n",
      "_________________________________________________________________\n",
      "dropout_19 (Dropout)         (None, 64)                0         \n",
      "_________________________________________________________________\n",
      "batch_normalization_19 (Batc (None, 64)                256       \n",
      "_________________________________________________________________\n",
      "dense_24 (Dense)             (None, 16)                1040      \n",
      "_________________________________________________________________\n",
      "dropout_20 (Dropout)         (None, 16)                0         \n",
      "_________________________________________________________________\n",
      "batch_normalization_20 (Batc (None, 16)                64        \n",
      "_________________________________________________________________\n",
      "dense_25 (Dense)             (None, 1)                 17        \n",
      "=================================================================\n",
      "Total params: 2,518,689\n",
      "Trainable params: 2,515,969\n",
      "Non-trainable params: 2,720\n",
      "_________________________________________________________________\n"
     ]
    }
   ],
   "source": [
    "weight_model='./model_nation_2.h5'\n",
    "model = create_model()\n",
    "model.load_weights(weight_model)\n",
    "# model._make_predict_function()\n",
    "model.summary()"
   ]
  },
  {
   "cell_type": "markdown",
   "metadata": {},
   "source": [
    "## Evaluate Model"
   ]
  },
  {
   "cell_type": "code",
   "execution_count": 73,
   "metadata": {},
   "outputs": [],
   "source": [
    "y_pred = model.predict(x_test)"
   ]
  },
  {
   "cell_type": "code",
   "execution_count": 74,
   "metadata": {},
   "outputs": [],
   "source": [
    "y_pred2 = y_pred.clip(min=0)"
   ]
  },
  {
   "cell_type": "code",
   "execution_count": 75,
   "metadata": {},
   "outputs": [],
   "source": [
    "def evaluate(preds, testY):\n",
    "    diff = preds.flatten() - testY\n",
    "    percentDiff = (diff / testY) * 100\n",
    "    absPercentDiff = np.abs(percentDiff)\n",
    "    mean = np.mean(absPercentDiff)\n",
    "    std = np.std(absPercentDiff)\n",
    "    print(mean,std)"
   ]
  },
  {
   "cell_type": "code",
   "execution_count": 76,
   "metadata": {},
   "outputs": [
    {
     "name": "stdout",
     "output_type": "stream",
     "text": [
      "46.827653767827265 43.06661801659503\n"
     ]
    }
   ],
   "source": [
    "evaluate(y_pred,y_test)"
   ]
  },
  {
   "cell_type": "code",
   "execution_count": 77,
   "metadata": {},
   "outputs": [
    {
     "name": "stdout",
     "output_type": "stream",
     "text": [
      "[0.16186939] [0.1818725]\n",
      "[523.] [587.63007]\n",
      "[0.36861653] [0.23485976]\n",
      "[1191.] [758.8319]\n",
      "[0.86969978] [0.32497972]\n",
      "[2810.] [1050.0095]\n",
      "[0.70597338] [0.22858214]\n",
      "[2281.] [738.5489]\n",
      "[0.24141133] [0.20349729]\n",
      "[780.] [657.49976]\n",
      "[0.11234912] [0.2994001]\n",
      "[363.] [967.3617]\n",
      "[0.51098731] [0.17055547]\n",
      "[1651.] [551.06476]\n",
      "[0.19529557] [0.1634721]\n",
      "[631.] [528.17834]\n",
      "[0.12411018] [0.2761202]\n",
      "[401.] [892.14435]\n",
      "[0.2909316] [0.17955668]\n",
      "[940.] [580.14764]\n",
      "[0.23243578] [0.17028072]\n",
      "[751.] [550.177]\n",
      "[0.3271433] [0.16312763]\n",
      "[1057.] [527.06537]\n",
      "[0.31909626] [0.2636716]\n",
      "[1031.] [851.923]\n",
      "[0.26957598] [0.2291522]\n",
      "[871.] [740.39075]\n",
      "[0.28288456] [0.18168625]\n",
      "[914.] [587.02826]\n",
      "[0.81429898] [0.1571295]\n",
      "[2631.] [507.6854]\n",
      "[0.46951408] [0.2443578]\n",
      "[1517.] [789.52]\n",
      "[0.10677809] [0.15956527]\n",
      "[345.] [515.55536]\n",
      "[0.21293717] [0.18202502]\n",
      "[688.] [588.1228]\n",
      "[0.49829774] [0.21441408]\n",
      "[1610.] [692.77185]\n",
      "[0.20612813] [0.2436023]\n",
      "[666.] [787.07904]\n",
      "[0.73382854] [0.36962184]\n",
      "[2371.] [1194.2482]\n",
      "[0.10523058] [0.16445044]\n",
      "[340.] [531.33936]\n",
      "[0.35128443] [0.23600659]\n",
      "[1135.] [762.5373]\n",
      "[0.28288456] [0.16188632]\n",
      "[914.] [523.0547]\n",
      "[0.1627979] [0.22094524]\n",
      "[526.] [713.8741]\n",
      "[0.75208914] [0.39637282]\n",
      "[2430.] [1280.6805]\n",
      "[0.74373259] [0.1603289]\n",
      "[2403.] [518.02264]\n",
      "[0.14917982] [0.20572132]\n",
      "[482.] [664.6856]\n",
      "[0.29402662] [0.18537231]\n",
      "[950.] [598.9379]\n",
      "[0.19034355] [0.15538284]\n",
      "[615.] [502.04196]\n",
      "[0.14175178] [0.1695242]\n",
      "[458.] [547.73267]\n",
      "[0.87000929] [0.4674326]\n",
      "[2811.] [1510.2747]\n",
      "[0.10337357] [0.16141877]\n",
      "[334.] [521.544]\n",
      "[0.1460848] [0.16682658]\n",
      "[472.] [539.01666]\n",
      "[0.10182606] [0.18241422]\n",
      "[329.] [589.3804]\n",
      "[0.13896626] [0.16153811]\n",
      "[449.] [521.9296]\n",
      "[0.17703497] [0.1728324]\n",
      "[572.] [558.4215]\n",
      "[0.16155989] [0.1755983]\n",
      "[522.] [567.3581]\n",
      "[0.70473538] [0.27883095]\n",
      "[2277.] [900.9028]\n",
      "[0.13772826] [0.16428229]\n",
      "[445.] [530.7961]\n",
      "[0.52398638] [0.16161883]\n",
      "[1693.] [522.1904]\n",
      "[0.1089446] [0.16021347]\n",
      "[352.] [517.6497]\n",
      "[0.16248839] [0.2332507]\n",
      "[525.] [753.63306]\n",
      "[0.14206128] [0.1752598]\n",
      "[459.] [566.2644]\n",
      "[0.24481585] [0.15481487]\n",
      "[791.] [500.20685]\n",
      "[0.17486846] [0.16187266]\n",
      "[565.] [523.01056]\n",
      "[0.17579697] [0.15644576]\n",
      "[568.] [505.47623]\n",
      "[0.14794181] [0.18726104]\n",
      "[478.] [605.04047]\n",
      "[0.63262148] [0.37665108]\n",
      "[2044.] [1216.9596]\n"
     ]
    }
   ],
   "source": [
    "for i in range(50):\n",
    "    print(y_test[i],y_pred[i])\n",
    "    print(y_test[i]*MAXVIEW,y_pred[i]*MAXVIEW)"
   ]
  },
  {
   "cell_type": "code",
   "execution_count": null,
   "metadata": {},
   "outputs": [],
   "source": []
  }
 ],
 "metadata": {
  "kernelspec": {
   "display_name": "Python 3",
   "language": "python",
   "name": "python3"
  },
  "language_info": {
   "codemirror_mode": {
    "name": "ipython",
    "version": 3
   },
   "file_extension": ".py",
   "mimetype": "text/x-python",
   "name": "python",
   "nbconvert_exporter": "python",
   "pygments_lexer": "ipython3",
   "version": "3.5.2"
  }
 },
 "nbformat": 4,
 "nbformat_minor": 2
}
