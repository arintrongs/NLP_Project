{
 "cells": [
  {
   "cell_type": "code",
   "execution_count": 1,
   "metadata": {},
   "outputs": [],
   "source": [
    "%matplotlib inline\n",
    "import pandas as pd\n",
    "import sklearn\n",
    "import numpy as np\n",
    "from IPython.display import display\n",
    "from sklearn.metrics import f1_score\n",
    "import matplotlib.pyplot as plt\n",
    "from matplotlib import rcParams"
   ]
  },
  {
   "cell_type": "code",
   "execution_count": 2,
   "metadata": {},
   "outputs": [],
   "source": [
    "from pythainlp.tokenize import word_tokenize\n",
    "from pythainlp.corpus import stopwords\n",
    "import string"
   ]
  },
  {
   "cell_type": "code",
   "execution_count": 3,
   "metadata": {},
   "outputs": [],
   "source": [
    "import seaborn as sns\n",
    "sns.set(style=\"darkgrid\")"
   ]
  },
  {
   "cell_type": "code",
   "execution_count": 4,
   "metadata": {},
   "outputs": [],
   "source": [
    "plt.rcParams['font.family']='TH SarabunPSK' #you can change to other font that works for you\n",
    "plt.rcParams.update({'font.size': 50})\n",
    "#fill your code here"
   ]
  },
  {
   "cell_type": "code",
   "execution_count": 32,
   "metadata": {},
   "outputs": [],
   "source": [
    "input_nation = pd.read_csv('../notebooks/notebook1-result-nation.csv')"
   ]
  },
  {
   "cell_type": "code",
   "execution_count": 33,
   "metadata": {},
   "outputs": [],
   "source": [
    "input_nation.drop('Unnamed: 0', axis=1, inplace=True)"
   ]
  },
  {
   "cell_type": "code",
   "execution_count": 34,
   "metadata": {},
   "outputs": [
    {
     "data": {
      "text/html": [
       "<div>\n",
       "<style scoped>\n",
       "    .dataframe tbody tr th:only-of-type {\n",
       "        vertical-align: middle;\n",
       "    }\n",
       "\n",
       "    .dataframe tbody tr th {\n",
       "        vertical-align: top;\n",
       "    }\n",
       "\n",
       "    .dataframe thead th {\n",
       "        text-align: right;\n",
       "    }\n",
       "</style>\n",
       "<table border=\"1\" class=\"dataframe\">\n",
       "  <thead>\n",
       "    <tr style=\"text-align: right;\">\n",
       "      <th></th>\n",
       "      <th>headline</th>\n",
       "      <th>date</th>\n",
       "      <th>DOW</th>\n",
       "      <th>time</th>\n",
       "      <th>view</th>\n",
       "      <th>like</th>\n",
       "      <th>share</th>\n",
       "      <th>comment</th>\n",
       "      <th>category</th>\n",
       "      <th>tag</th>\n",
       "      <th>content</th>\n",
       "      <th>hour</th>\n",
       "    </tr>\n",
       "  </thead>\n",
       "  <tbody>\n",
       "    <tr>\n",
       "      <th>0</th>\n",
       "      <td>ไทยส่งทีมเยาวชนลุยศึกเชียร์ลีดดิ้งโลกที่สหรัฐฯ</td>\n",
       "      <td>05/04/2562</td>\n",
       "      <td>FRI</td>\n",
       "      <td>12:15</td>\n",
       "      <td>494</td>\n",
       "      <td>NaN</td>\n",
       "      <td>86</td>\n",
       "      <td>NaN</td>\n",
       "      <td>กีฬา</td>\n",
       "      <td>NaN</td>\n",
       "      <td>ที่ศูนย์วิทยาศาสตร์การกีฬา การกีฬาแห่งประเทศไท...</td>\n",
       "      <td>12</td>\n",
       "    </tr>\n",
       "    <tr>\n",
       "      <th>1</th>\n",
       "      <td>\"บิ๊กโจ๊ก\" จ่อเรียก \"ปิยบุตร\" ให้ข้อมูล ปมถูกร้อง</td>\n",
       "      <td>05/04/2562</td>\n",
       "      <td>FRI</td>\n",
       "      <td>12:16</td>\n",
       "      <td>1250</td>\n",
       "      <td>NaN</td>\n",
       "      <td>797</td>\n",
       "      <td>NaN</td>\n",
       "      <td>อาชญากรรม</td>\n",
       "      <td>NaN</td>\n",
       "      <td>เมื่อเวลา 11.30 น. วันที่ 5 เมษายน ที่ สำนักงา...</td>\n",
       "      <td>12</td>\n",
       "    </tr>\n",
       "    <tr>\n",
       "      <th>2</th>\n",
       "      <td>\"ศศิน\" ชี้ \"เปรมชัย\" ต้องติดคุก จึงจะเหมาะสม</td>\n",
       "      <td>05/04/2562</td>\n",
       "      <td>FRI</td>\n",
       "      <td>12:06</td>\n",
       "      <td>755</td>\n",
       "      <td>NaN</td>\n",
       "      <td>354</td>\n",
       "      <td>NaN</td>\n",
       "      <td>คุณภาพชีวิต</td>\n",
       "      <td>NaN</td>\n",
       "      <td>ประธานมูลนิธิสืบนาคะเสถียร นายศศิน เฉลิมลาภ บอ...</td>\n",
       "      <td>12</td>\n",
       "    </tr>\n",
       "    <tr>\n",
       "      <th>3</th>\n",
       "      <td>จิตอาสาปรับปรุงภูมิทัศน์รอบ แหล่งน้ำศักดิ์สิทธิ์</td>\n",
       "      <td>05/04/2562</td>\n",
       "      <td>FRI</td>\n",
       "      <td>12:02</td>\n",
       "      <td>232</td>\n",
       "      <td>NaN</td>\n",
       "      <td>4</td>\n",
       "      <td>NaN</td>\n",
       "      <td>ภูมิภาค</td>\n",
       "      <td>NaN</td>\n",
       "      <td>นายทรงพล สวาสดิ์ธรรม ผู้ว่าราชการจังหวัดลำปาง ...</td>\n",
       "      <td>12</td>\n",
       "    </tr>\n",
       "    <tr>\n",
       "      <th>4</th>\n",
       "      <td>คุณภาพน้ำ สงกรานต์คูเมืองเชียงใหม่ เกณฑ์พอใช้</td>\n",
       "      <td>05/04/2562</td>\n",
       "      <td>FRI</td>\n",
       "      <td>12:04</td>\n",
       "      <td>298</td>\n",
       "      <td>NaN</td>\n",
       "      <td>36</td>\n",
       "      <td>NaN</td>\n",
       "      <td>คุณภาพชีวิต</td>\n",
       "      <td>NaN</td>\n",
       "      <td>นายโสภณ ทองดี ผู้ตรวจราชการกระทรวงทรัพยากรธรรม...</td>\n",
       "      <td>12</td>\n",
       "    </tr>\n",
       "  </tbody>\n",
       "</table>\n",
       "</div>"
      ],
      "text/plain": [
       "                                            headline        date  DOW   time  \\\n",
       "0     ไทยส่งทีมเยาวชนลุยศึกเชียร์ลีดดิ้งโลกที่สหรัฐฯ  05/04/2562  FRI  12:15   \n",
       "1  \"บิ๊กโจ๊ก\" จ่อเรียก \"ปิยบุตร\" ให้ข้อมูล ปมถูกร้อง  05/04/2562  FRI  12:16   \n",
       "2       \"ศศิน\" ชี้ \"เปรมชัย\" ต้องติดคุก จึงจะเหมาะสม  05/04/2562  FRI  12:06   \n",
       "3   จิตอาสาปรับปรุงภูมิทัศน์รอบ แหล่งน้ำศักดิ์สิทธิ์  05/04/2562  FRI  12:02   \n",
       "4      คุณภาพน้ำ สงกรานต์คูเมืองเชียงใหม่ เกณฑ์พอใช้  05/04/2562  FRI  12:04   \n",
       "\n",
       "   view  like  share  comment     category  tag  \\\n",
       "0   494   NaN     86      NaN         กีฬา  NaN   \n",
       "1  1250   NaN    797      NaN    อาชญากรรม  NaN   \n",
       "2   755   NaN    354      NaN  คุณภาพชีวิต  NaN   \n",
       "3   232   NaN      4      NaN      ภูมิภาค  NaN   \n",
       "4   298   NaN     36      NaN  คุณภาพชีวิต  NaN   \n",
       "\n",
       "                                             content  hour  \n",
       "0  ที่ศูนย์วิทยาศาสตร์การกีฬา การกีฬาแห่งประเทศไท...    12  \n",
       "1  เมื่อเวลา 11.30 น. วันที่ 5 เมษายน ที่ สำนักงา...    12  \n",
       "2  ประธานมูลนิธิสืบนาคะเสถียร นายศศิน เฉลิมลาภ บอ...    12  \n",
       "3  นายทรงพล สวาสดิ์ธรรม ผู้ว่าราชการจังหวัดลำปาง ...    12  \n",
       "4  นายโสภณ ทองดี ผู้ตรวจราชการกระทรวงทรัพยากรธรรม...    12  "
      ]
     },
     "execution_count": 34,
     "metadata": {},
     "output_type": "execute_result"
    }
   ],
   "source": [
    "input_nation.head()"
   ]
  },
  {
   "cell_type": "code",
   "execution_count": 35,
   "metadata": {},
   "outputs": [],
   "source": [
    "from stop_words import get_stop_words\n",
    "en_stop = get_stop_words('en')\n",
    "num = [str(i) for i in range(1000)]\n",
    "stop_words = stopwords.words('thai')\n",
    "stop_words+=[' ']\n",
    "stop_words+=string.punctuation"
   ]
  },
  {
   "cell_type": "code",
   "execution_count": 36,
   "metadata": {},
   "outputs": [],
   "source": [
    "def getToken(text):\n",
    "#     print(text)\n",
    "    res = word_tokenize(text,engine='deepcut')\n",
    "    res = [i for i in res if i not in en_stop and i not in num and i not in stop_words]\n",
    "    return res"
   ]
  },
  {
   "cell_type": "code",
   "execution_count": 37,
   "metadata": {},
   "outputs": [],
   "source": [
    "input_nation['token'] = input_nation['headline'].apply(getToken)"
   ]
  },
  {
   "cell_type": "code",
   "execution_count": 40,
   "metadata": {},
   "outputs": [],
   "source": [
    "input_nation['token'] = input_nation['token'].apply(lambda x : x[1:-1].replace(\"'\",\"\").replace(' ',''))"
   ]
  },
  {
   "cell_type": "code",
   "execution_count": 46,
   "metadata": {},
   "outputs": [],
   "source": [
    "# input_nation.to_csv('Nation-tokenize.csv')"
   ]
  },
  {
   "cell_type": "code",
   "execution_count": 39,
   "metadata": {},
   "outputs": [],
   "source": [
    "input_nation = pd.read_csv('Nation-tokenize.csv')"
   ]
  },
  {
   "cell_type": "code",
   "execution_count": 41,
   "metadata": {},
   "outputs": [],
   "source": [
    "input_nation['numToken'] = input_nation['token'].apply(lambda x : len(x.split(',')))"
   ]
  },
  {
   "cell_type": "code",
   "execution_count": 42,
   "metadata": {},
   "outputs": [],
   "source": [
    "input_nation['numChar'] = input_nation['token'].apply(lambda x: len(x.replace(',','')))"
   ]
  },
  {
   "cell_type": "code",
   "execution_count": 44,
   "metadata": {},
   "outputs": [],
   "source": [
    "input_nation.drop('Unnamed: 0', axis=1, inplace=True)"
   ]
  },
  {
   "cell_type": "code",
   "execution_count": null,
   "metadata": {},
   "outputs": [],
   "source": []
  }
 ],
 "metadata": {
  "kernelspec": {
   "display_name": "Python 3",
   "language": "python",
   "name": "python3"
  },
  "language_info": {
   "codemirror_mode": {
    "name": "ipython",
    "version": 3
   },
   "file_extension": ".py",
   "mimetype": "text/x-python",
   "name": "python",
   "nbconvert_exporter": "python",
   "pygments_lexer": "ipython3",
   "version": "3.7.0"
  }
 },
 "nbformat": 4,
 "nbformat_minor": 2
}
