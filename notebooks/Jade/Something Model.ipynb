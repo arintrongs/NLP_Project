{
 "cells": [
  {
   "cell_type": "code",
   "execution_count": 12,
   "metadata": {},
   "outputs": [],
   "source": [
    "%matplotlib inline\n",
    "import pandas as pd\n",
    "import sklearn\n",
    "import numpy as np\n",
    "from IPython.display import display\n",
    "from sklearn.metrics import f1_score\n",
    "import matplotlib.pyplot as plt\n",
    "from matplotlib import rcParams"
   ]
  },
  {
   "cell_type": "code",
   "execution_count": 18,
   "metadata": {},
   "outputs": [],
   "source": [
    "data = pd.read_csv('../../data/the_standard_data_with_features.csv')"
   ]
  },
  {
   "cell_type": "code",
   "execution_count": 20,
   "metadata": {},
   "outputs": [
    {
     "data": {
      "text/html": [
       "<div>\n",
       "<style scoped>\n",
       "    .dataframe tbody tr th:only-of-type {\n",
       "        vertical-align: middle;\n",
       "    }\n",
       "\n",
       "    .dataframe tbody tr th {\n",
       "        vertical-align: top;\n",
       "    }\n",
       "\n",
       "    .dataframe thead th {\n",
       "        text-align: right;\n",
       "    }\n",
       "</style>\n",
       "<table border=\"1\" class=\"dataframe\">\n",
       "  <thead>\n",
       "    <tr style=\"text-align: right;\">\n",
       "      <th></th>\n",
       "      <th>Unnamed: 0</th>\n",
       "      <th>headline</th>\n",
       "      <th>date</th>\n",
       "      <th>time</th>\n",
       "      <th>view</th>\n",
       "      <th>like</th>\n",
       "      <th>share</th>\n",
       "      <th>comment</th>\n",
       "      <th>category</th>\n",
       "      <th>tag</th>\n",
       "      <th>...</th>\n",
       "      <th>num_neg</th>\n",
       "      <th>sim_top</th>\n",
       "      <th>sim_worst</th>\n",
       "      <th>tag_top_pop_sum</th>\n",
       "      <th>tag_top_pop_mean</th>\n",
       "      <th>num_tag_pop</th>\n",
       "      <th>tag_top_worst_sum</th>\n",
       "      <th>tag_top_worst_mean</th>\n",
       "      <th>num_tag_worst</th>\n",
       "      <th>numTag</th>\n",
       "    </tr>\n",
       "  </thead>\n",
       "  <tbody>\n",
       "    <tr>\n",
       "      <th>0</th>\n",
       "      <td>0</td>\n",
       "      <td>สุดารัตน์การันตี มิ่งขวัญไม่เสียสัจจะ เชื่อประ...</td>\n",
       "      <td>2019-04-13</td>\n",
       "      <td>NaN</td>\n",
       "      <td>368</td>\n",
       "      <td>NaN</td>\n",
       "      <td>NaN</td>\n",
       "      <td>NaN</td>\n",
       "      <td>Thailand,Politics</td>\n",
       "      <td>พรรคเพื่อไทย,สุดารัตน์ เกยุราพันธุ์,มิ่งขวัญ แ...</td>\n",
       "      <td>...</td>\n",
       "      <td>2</td>\n",
       "      <td>0.732773</td>\n",
       "      <td>0.722237</td>\n",
       "      <td>10</td>\n",
       "      <td>2</td>\n",
       "      <td>4</td>\n",
       "      <td>9</td>\n",
       "      <td>4</td>\n",
       "      <td>2</td>\n",
       "      <td>4</td>\n",
       "    </tr>\n",
       "    <tr>\n",
       "      <th>1</th>\n",
       "      <td>1</td>\n",
       "      <td>สโมสรฟุตบอลซาน ลอเรนโซฯ ในอาร์เจนตินา ประกาศเซ...</td>\n",
       "      <td>2019-04-13</td>\n",
       "      <td>NaN</td>\n",
       "      <td>22</td>\n",
       "      <td>NaN</td>\n",
       "      <td>NaN</td>\n",
       "      <td>NaN</td>\n",
       "      <td>Sport</td>\n",
       "      <td>Argentina,San Lorenzo de Almagro</td>\n",
       "      <td>...</td>\n",
       "      <td>0</td>\n",
       "      <td>0.693959</td>\n",
       "      <td>1.000000</td>\n",
       "      <td>0</td>\n",
       "      <td>0</td>\n",
       "      <td>0</td>\n",
       "      <td>4</td>\n",
       "      <td>2</td>\n",
       "      <td>2</td>\n",
       "      <td>2</td>\n",
       "    </tr>\n",
       "    <tr>\n",
       "      <th>2</th>\n",
       "      <td>2</td>\n",
       "      <td>ภาพข่าวยอดเยี่ยมประจำวันที่ 7-13 เมษายน 2562</td>\n",
       "      <td>2019-04-13</td>\n",
       "      <td>NaN</td>\n",
       "      <td>31</td>\n",
       "      <td>NaN</td>\n",
       "      <td>NaN</td>\n",
       "      <td>NaN</td>\n",
       "      <td>World,Thailand</td>\n",
       "      <td>ภาพข่าวยอดเยี่ยม</td>\n",
       "      <td>...</td>\n",
       "      <td>0</td>\n",
       "      <td>0.792388</td>\n",
       "      <td>1.000000</td>\n",
       "      <td>0</td>\n",
       "      <td>0</td>\n",
       "      <td>0</td>\n",
       "      <td>16</td>\n",
       "      <td>16</td>\n",
       "      <td>1</td>\n",
       "      <td>1</td>\n",
       "    </tr>\n",
       "    <tr>\n",
       "      <th>3</th>\n",
       "      <td>3</td>\n",
       "      <td>สงกรานต์สีลม สีสันความสนุก กิจกรรมดับร้อนของคน...</td>\n",
       "      <td>2019-04-13</td>\n",
       "      <td>NaN</td>\n",
       "      <td>280</td>\n",
       "      <td>NaN</td>\n",
       "      <td>NaN</td>\n",
       "      <td>NaN</td>\n",
       "      <td>Thailand</td>\n",
       "      <td>เทศกาลสงกรานต์</td>\n",
       "      <td>...</td>\n",
       "      <td>1</td>\n",
       "      <td>0.708988</td>\n",
       "      <td>0.640314</td>\n",
       "      <td>1</td>\n",
       "      <td>1</td>\n",
       "      <td>1</td>\n",
       "      <td>25</td>\n",
       "      <td>25</td>\n",
       "      <td>1</td>\n",
       "      <td>1</td>\n",
       "    </tr>\n",
       "    <tr>\n",
       "      <th>4</th>\n",
       "      <td>4</td>\n",
       "      <td>14 April 2003 – โครงการศึกษาจีโนมของมนุษย์เสร็...</td>\n",
       "      <td>2019-04-14</td>\n",
       "      <td>NaN</td>\n",
       "      <td>56</td>\n",
       "      <td>NaN</td>\n",
       "      <td>NaN</td>\n",
       "      <td>NaN</td>\n",
       "      <td>On this day</td>\n",
       "      <td>พันธุกรรม,วิทยาศาสตร์</td>\n",
       "      <td>...</td>\n",
       "      <td>0</td>\n",
       "      <td>0.689889</td>\n",
       "      <td>1.000000</td>\n",
       "      <td>0</td>\n",
       "      <td>0</td>\n",
       "      <td>0</td>\n",
       "      <td>2</td>\n",
       "      <td>1</td>\n",
       "      <td>2</td>\n",
       "      <td>2</td>\n",
       "    </tr>\n",
       "  </tbody>\n",
       "</table>\n",
       "<p>5 rows × 113 columns</p>\n",
       "</div>"
      ],
      "text/plain": [
       "   Unnamed: 0                                           headline        date  \\\n",
       "0           0  สุดารัตน์การันตี มิ่งขวัญไม่เสียสัจจะ เชื่อประ...  2019-04-13   \n",
       "1           1  สโมสรฟุตบอลซาน ลอเรนโซฯ ในอาร์เจนตินา ประกาศเซ...  2019-04-13   \n",
       "2           2       ภาพข่าวยอดเยี่ยมประจำวันที่ 7-13 เมษายน 2562  2019-04-13   \n",
       "3           3  สงกรานต์สีลม สีสันความสนุก กิจกรรมดับร้อนของคน...  2019-04-13   \n",
       "4           4  14 April 2003 – โครงการศึกษาจีโนมของมนุษย์เสร็...  2019-04-14   \n",
       "\n",
       "   time  view  like  share  comment           category  \\\n",
       "0   NaN   368   NaN    NaN      NaN  Thailand,Politics   \n",
       "1   NaN    22   NaN    NaN      NaN              Sport   \n",
       "2   NaN    31   NaN    NaN      NaN     World,Thailand   \n",
       "3   NaN   280   NaN    NaN      NaN           Thailand   \n",
       "4   NaN    56   NaN    NaN      NaN        On this day   \n",
       "\n",
       "                                                 tag  ... num_neg   sim_top  \\\n",
       "0  พรรคเพื่อไทย,สุดารัตน์ เกยุราพันธุ์,มิ่งขวัญ แ...  ...       2  0.732773   \n",
       "1                   Argentina,San Lorenzo de Almagro  ...       0  0.693959   \n",
       "2                                   ภาพข่าวยอดเยี่ยม  ...       0  0.792388   \n",
       "3                                     เทศกาลสงกรานต์  ...       1  0.708988   \n",
       "4                              พันธุกรรม,วิทยาศาสตร์  ...       0  0.689889   \n",
       "\n",
       "  sim_worst  tag_top_pop_sum  tag_top_pop_mean  num_tag_pop  \\\n",
       "0  0.722237               10                 2            4   \n",
       "1  1.000000                0                 0            0   \n",
       "2  1.000000                0                 0            0   \n",
       "3  0.640314                1                 1            1   \n",
       "4  1.000000                0                 0            0   \n",
       "\n",
       "   tag_top_worst_sum  tag_top_worst_mean  num_tag_worst  numTag  \n",
       "0                  9                   4              2       4  \n",
       "1                  4                   2              2       2  \n",
       "2                 16                  16              1       1  \n",
       "3                 25                  25              1       1  \n",
       "4                  2                   1              2       2  \n",
       "\n",
       "[5 rows x 113 columns]"
      ]
     },
     "execution_count": 20,
     "metadata": {},
     "output_type": "execute_result"
    }
   ],
   "source": [
    "data.head()"
   ]
  },
  {
   "cell_type": "markdown",
   "metadata": {},
   "source": [
    "## Prepare Data"
   ]
  },
  {
   "cell_type": "code",
   "execution_count": 21,
   "metadata": {},
   "outputs": [],
   "source": [
    "numerical_feature = [\n",
    "       'numTag', 'numToken', 'numChar','timeDelta', 'num_noun', 'num_pronoun', 'num_verb',\n",
    "       'num_preverb', 'num_determiner', 'num_adverb', 'num_classifier',\n",
    "       'num_conjunction', 'num_preposition', 'num_interjunction', 'num_prefix',\n",
    "       'num_ending', 'num_negator', 'num_punctuation',\n",
    "       'nnoun_per_ntoken', 'nverb_per_ntoken', 'nadverb_per_ntoken',\n",
    "       'num_date', 'num_email', 'num_law', 'num_len', 'num_location',\n",
    "       'num_money', 'num_organization', 'num_percent', 'num_person',\n",
    "       'num_phone', 'num_time', 'num_url', 'num_person_2', 'num_pos',\n",
    "       'num_neg', 'sim_top', 'sim_worst', 'tag_pop_sum',\n",
    "       'tag_pop_mean', 'tag_top_pop_sum', 'tag_top_pop_mean', 'num_tag_pop',\n",
    "       'tag_top_worst_sum', 'tag_top_worst_mean', 'num_tag_worst']"
   ]
  },
  {
   "cell_type": "code",
   "execution_count": 27,
   "metadata": {},
   "outputs": [],
   "source": [
    "categorical_feature = [i for i in data.columns if 'is_' in i]"
   ]
  },
  {
   "cell_type": "code",
   "execution_count": 36,
   "metadata": {},
   "outputs": [],
   "source": [
    "numerical_feature_data = data[numerical_feature]"
   ]
  },
  {
   "cell_type": "code",
   "execution_count": 30,
   "metadata": {},
   "outputs": [],
   "source": [
    "categorical_feature_data = data[categorical_feature]"
   ]
  },
  {
   "cell_type": "code",
   "execution_count": 42,
   "metadata": {},
   "outputs": [
    {
     "name": "stdout",
     "output_type": "stream",
     "text": [
      "STD :  580.3653883772114\n",
      "MEAN :  715.5108745247148\n",
      "[0, 222.20029440408518, 309.25510266066686, 512.3829885926908, 715.5108745247148, 1295.876262901926, 2456.607039656349]\n"
     ]
    }
   ],
   "source": [
    "boundary = 2000\n",
    "data_bounded = data[data['view']<boundary]\n",
    "x = data_bounded['view']\n",
    "std = np.std(x)\n",
    "mean = np.mean(x)\n",
    "groups = [0,mean-0.85*std,mean-0.7*std,mean-0.35*std,mean,mean+std,mean+3*std]\n",
    "print('STD : ',std)\n",
    "print('MEAN : ',mean)\n",
    "print(groups)"
   ]
  },
  {
   "cell_type": "code",
   "execution_count": 43,
   "metadata": {},
   "outputs": [],
   "source": [
    "pop_level = []\n",
    "for i in x:\n",
    "    for j in range(len(groups)-1):\n",
    "        if i >= groups[j] and i <= groups[j+1]:\n",
    "            pop_level+=[j]"
   ]
  },
  {
   "cell_type": "code",
   "execution_count": 44,
   "metadata": {},
   "outputs": [
    {
     "name": "stdout",
     "output_type": "stream",
     "text": [
      "(array([0, 1, 2, 3, 4, 5]), array([1364,  737, 1215,  888,  947, 1424]))\n"
     ]
    }
   ],
   "source": [
    "print(np.unique(pop_level,return_counts=True))"
   ]
  },
  {
   "cell_type": "code",
   "execution_count": 46,
   "metadata": {},
   "outputs": [
    {
     "data": {
      "text/plain": [
       "54"
      ]
     },
     "execution_count": 46,
     "metadata": {},
     "output_type": "execute_result"
    }
   ],
   "source": [
    "len(categorical_feature_data.columns)"
   ]
  },
  {
   "cell_type": "code",
   "execution_count": null,
   "metadata": {},
   "outputs": [],
   "source": []
  }
 ],
 "metadata": {
  "kernelspec": {
   "display_name": "Python 3",
   "language": "python",
   "name": "python3"
  },
  "language_info": {
   "codemirror_mode": {
    "name": "ipython",
    "version": 3
   },
   "file_extension": ".py",
   "mimetype": "text/x-python",
   "name": "python",
   "nbconvert_exporter": "python",
   "pygments_lexer": "ipython3",
   "version": "3.6.0"
  }
 },
 "nbformat": 4,
 "nbformat_minor": 2
}
