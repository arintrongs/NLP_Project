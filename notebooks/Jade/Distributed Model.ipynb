{
 "cells": [
  {
   "cell_type": "code",
   "execution_count": 533,
   "metadata": {},
   "outputs": [],
   "source": [
    "%matplotlib inline\n",
    "import pandas as pd\n",
    "import sklearn\n",
    "import numpy as np\n",
    "from IPython.display import display\n",
    "from sklearn.metrics import f1_score\n",
    "import matplotlib.pyplot as plt\n",
    "from matplotlib import rcParams\n",
    "import seaborn as sns\n",
    "from sklearn.metrics import f1_score\n",
    "from keras.preprocessing.sequence import pad_sequences\n",
    "from keras.utils import to_categorical\n",
    "from sklearn.model_selection import train_test_split\n",
    "from pythainlp.word_vector import sentence_vectorizer"
   ]
  },
  {
   "cell_type": "code",
   "execution_count": 2,
   "metadata": {},
   "outputs": [],
   "source": [
    "data = pd.read_csv('../../data/the_standard_data_with_features.csv')"
   ]
  },
  {
   "cell_type": "code",
   "execution_count": 373,
   "metadata": {},
   "outputs": [
    {
     "name": "stderr",
     "output_type": "stream",
     "text": [
      "/home/arintrongs2/.pyenv/versions/3.6.0/lib/python3.6/site-packages/ipykernel_launcher.py:2: FutureWarning: Sorting because non-concatenation axis is not aligned. A future version\n",
      "of pandas will change to not sort by default.\n",
      "\n",
      "To accept the future behavior, pass 'sort=False'.\n",
      "\n",
      "To retain the current behavior and silence the warning, pass 'sort=True'.\n",
      "\n",
      "  \n"
     ]
    }
   ],
   "source": [
    "data = pd.concat([pd.read_csv('../../data/Ch3_with_features.csv'),\n",
    "                  pd.read_csv('../../data/ch3_with_features_2.csv')])"
   ]
  },
  {
   "cell_type": "code",
   "execution_count": 374,
   "metadata": {},
   "outputs": [
    {
     "data": {
      "text/plain": [
       "45269"
      ]
     },
     "execution_count": 374,
     "metadata": {},
     "output_type": "execute_result"
    }
   ],
   "source": [
    "len(data)"
   ]
  },
  {
   "cell_type": "markdown",
   "metadata": {},
   "source": [
    "## Prepare Data"
   ]
  },
  {
   "cell_type": "code",
   "execution_count": 375,
   "metadata": {},
   "outputs": [
    {
     "name": "stdout",
     "output_type": "stream",
     "text": [
      "44258\n"
     ]
    },
    {
     "data": {
      "image/png": "[encoded data removed]",
      "text/plain": [
       "<Figure size 432x288 with 1 Axes>"
      ]
     },
     "metadata": {
      "needs_background": "light"
     },
     "output_type": "display_data"
    }
   ],
   "source": [
    "out = data[data['view']<5000]['view']\n",
    "sns.distplot(out)\n",
    "print(len(out))"
   ]
  },
  {
   "cell_type": "code",
   "execution_count": 376,
   "metadata": {},
   "outputs": [
    {
     "name": "stdout",
     "output_type": "stream",
     "text": [
      "STD :  3441.6844046949827\n",
      "MEAN :  825.0044622147607\n",
      "[0, 161, 268, 384, 525, 1369, 4778, 24006, 196995, 10000000]\n"
     ]
    }
   ],
   "source": [
    "boundary = 10000000\n",
    "data_bounded = data[data['view']<boundary]\n",
    "x = data_bounded['view']\n",
    "std = np.std(x)\n",
    "mean = np.mean(x)\n",
    "groups = [0,161,268,384,525,1369,4778,24006,196995,boundary]\n",
    "print('STD : ',std)\n",
    "print('MEAN : ',mean)\n",
    "print(groups)"
   ]
  },
  {
   "cell_type": "code",
   "execution_count": 377,
   "metadata": {},
   "outputs": [],
   "source": [
    "pop_level = []\n",
    "for i in data['view']:\n",
    "    for j in range(len(groups)-1):\n",
    "        if i >= groups[j] and i <= groups[j+1]:\n",
    "            pop_level+=[j]\n",
    "            continue"
   ]
  },
  {
   "cell_type": "code",
   "execution_count": 378,
   "metadata": {},
   "outputs": [
    {
     "name": "stdout",
     "output_type": "stream",
     "text": [
      "(array([0, 1, 2, 3, 4, 5, 6, 7, 8]), array([ 9754, 10105,  7217,  5366,  8670,  3351,   961,   117,     2]))\n"
     ]
    }
   ],
   "source": [
    "print(np.unique(pop_level,return_counts=True))"
   ]
  },
  {
   "cell_type": "markdown",
   "metadata": {},
   "source": [
    "<b>Numerical Features</b>"
   ]
  },
  {
   "cell_type": "code",
   "execution_count": 379,
   "metadata": {},
   "outputs": [],
   "source": [
    "numerical_feature = [\n",
    "       'numTag', 'numToken', 'numChar','timeDelta', 'num_noun', 'num_pronoun', 'num_verb',\n",
    "       'num_preverb', 'num_determiner', 'num_adverb', 'num_classifier',\n",
    "       'num_conjunction', 'num_preposition', 'num_interjunction', 'num_prefix',\n",
    "       'num_ending', 'num_negator', 'num_punctuation',\n",
    "       'nnoun_per_ntoken', 'nverb_per_ntoken', 'nadverb_per_ntoken',\n",
    "       'num_date', 'num_email', 'num_law', 'num_len', 'num_location',\n",
    "       'num_money', 'num_organization', 'num_percent', 'num_person',\n",
    "       'num_phone', 'num_time', 'num_url', 'num_person_2', 'num_pos',\n",
    "       'num_neg', 'sim_top', 'sim_worst', 'tag_pop_sum',\n",
    "       'tag_pop_mean', 'tag_top_pop_sum', 'tag_top_pop_mean', 'num_tag_pop',\n",
    "       'tag_top_worst_sum', 'tag_top_worst_mean', 'num_tag_worst']"
   ]
  },
  {
   "cell_type": "code",
   "execution_count": 380,
   "metadata": {},
   "outputs": [],
   "source": [
    "numerical_feature_data = data[numerical_feature]"
   ]
  },
  {
   "cell_type": "code",
   "execution_count": 381,
   "metadata": {},
   "outputs": [],
   "source": [
    "numerical_feature_data = numerical_feature_data.values"
   ]
  },
  {
   "cell_type": "code",
   "execution_count": 382,
   "metadata": {},
   "outputs": [
    {
     "data": {
      "text/plain": [
       "(45269, 46)"
      ]
     },
     "execution_count": 382,
     "metadata": {},
     "output_type": "execute_result"
    }
   ],
   "source": [
    "numerical_feature_data.shape"
   ]
  },
  {
   "cell_type": "markdown",
   "metadata": {},
   "source": [
    "<b>Categorical Features</b>"
   ]
  },
  {
   "cell_type": "code",
   "execution_count": 383,
   "metadata": {},
   "outputs": [],
   "source": [
    "categorical_feature = [i for i in data.columns if 'is_' in i]"
   ]
  },
  {
   "cell_type": "code",
   "execution_count": 384,
   "metadata": {},
   "outputs": [],
   "source": [
    "categorical_feature_data = data[categorical_feature].values"
   ]
  },
  {
   "cell_type": "code",
   "execution_count": 385,
   "metadata": {},
   "outputs": [
    {
     "data": {
      "text/plain": [
       "(45269, 11)"
      ]
     },
     "execution_count": 385,
     "metadata": {},
     "output_type": "execute_result"
    }
   ],
   "source": [
    "categorical_feature_data.shape"
   ]
  },
  {
   "cell_type": "markdown",
   "metadata": {},
   "source": [
    "<b>Title Tokenized Features</b>"
   ]
  },
  {
   "cell_type": "code",
   "execution_count": 386,
   "metadata": {},
   "outputs": [],
   "source": [
    "title_tokenized = data['token'].apply(lambda x : x.split(','))"
   ]
  },
  {
   "cell_type": "code",
   "execution_count": 387,
   "metadata": {},
   "outputs": [],
   "source": [
    "word_count = dict()\n",
    "for headline in title_tokenized:\n",
    "    for word in headline:\n",
    "        if word not in word_count:\n",
    "            word_count[word]=1\n",
    "        else:\n",
    "            word_count[word]+=1"
   ]
  },
  {
   "cell_type": "code",
   "execution_count": 388,
   "metadata": {},
   "outputs": [],
   "source": [
    "word_to_idx = dict()\n",
    "idx = 2\n",
    "for key,val in word_count.items():\n",
    "    if(val > 10):\n",
    "        word_to_idx[key] = idx\n",
    "        idx+=1\n",
    "    else:\n",
    "        word_to_idx['UNK'] = 1\n"
   ]
  },
  {
   "cell_type": "code",
   "execution_count": 389,
   "metadata": {},
   "outputs": [],
   "source": [
    "idx_to_word = {v: k for k, v in word_to_idx.items()}"
   ]
  },
  {
   "cell_type": "code",
   "execution_count": 325,
   "metadata": {},
   "outputs": [],
   "source": [
    "title_tokenized_features_data = title_tokenized.apply(lambda x : [word_to_idx[i] if i in word_to_idx else word_to_idx['UNK'] for i in x ])\n",
    "title_tokenized_features_data = title_tokenized_features_data.values"
   ]
  },
  {
   "cell_type": "code",
   "execution_count": 326,
   "metadata": {},
   "outputs": [],
   "source": [
    "title_tokenized_features_data = pad_sequences(title_tokenized_features_data)"
   ]
  },
  {
   "cell_type": "code",
   "execution_count": 327,
   "metadata": {},
   "outputs": [
    {
     "data": {
      "text/plain": [
       "(45269, 26)"
      ]
     },
     "execution_count": 327,
     "metadata": {},
     "output_type": "execute_result"
    }
   ],
   "source": [
    "title_tokenized_features_data.shape"
   ]
  },
  {
   "cell_type": "markdown",
   "metadata": {},
   "source": [
    "<b>Pre-Trained Embedded</b>"
   ]
  },
  {
   "cell_type": "code",
   "execution_count": 451,
   "metadata": {},
   "outputs": [],
   "source": [
    "pre_trained_weights = []\n",
    "for i in range(1,len(idx_to_word)):\n",
    "    weight = sentence_vectorizer(idx_to_word[i])\n",
    "    pre_trained_weights+=[weight]"
   ]
  },
  {
   "cell_type": "code",
   "execution_count": 452,
   "metadata": {},
   "outputs": [],
   "source": [
    "pre_trained_weights = np.asarray(pre_trained_weights)"
   ]
  },
  {
   "cell_type": "code",
   "execution_count": 461,
   "metadata": {},
   "outputs": [],
   "source": [
    "pre_trained_weights = pre_trained_weights.reshape((3636,300))"
   ]
  },
  {
   "cell_type": "markdown",
   "metadata": {},
   "source": [
    "<b>NER</b>"
   ]
  },
  {
   "cell_type": "code",
   "execution_count": 328,
   "metadata": {},
   "outputs": [],
   "source": [
    "from pythainlp.tag.named_entity import ThaiNameTagger\n",
    "from pythainlp.tag import pos_tag"
   ]
  },
  {
   "cell_type": "code",
   "execution_count": 329,
   "metadata": {},
   "outputs": [],
   "source": [
    "ner_tagger = ThaiNameTagger()"
   ]
  },
  {
   "cell_type": "code",
   "execution_count": 330,
   "metadata": {},
   "outputs": [],
   "source": [
    "headlines = data['token']\n",
    "headlines = headlines.apply(lambda x : x.split(','))\n",
    "headlines = [[ner_tagger.get_ner(i)[0] for i in tokens] for tokens in headlines]"
   ]
  },
  {
   "cell_type": "code",
   "execution_count": 332,
   "metadata": {},
   "outputs": [],
   "source": [
    "ner = set()\n",
    "pos = set()\n",
    "for hl in headlines:\n",
    "    for word in hl:\n",
    "        ner.add(word[1])\n",
    "        pos.add(word[2])"
   ]
  },
  {
   "cell_type": "code",
   "execution_count": 333,
   "metadata": {},
   "outputs": [],
   "source": [
    "ner = list(ner)\n",
    "pos = list(pos)\n",
    "ner_idx = [i for i in range(1,len(ner)+1)]\n",
    "pos_idx = [i for i in range(1,len(pos)+1)]"
   ]
  },
  {
   "cell_type": "code",
   "execution_count": 334,
   "metadata": {},
   "outputs": [],
   "source": [
    "ner_to_idx = dict(zip(ner,ner_idx))\n",
    "idx_to_ner = {v: k for k, v in ner_to_idx.items()}\n",
    "\n",
    "pos_to_idx = dict(zip(pos,pos_idx))\n",
    "idx_to_pos = {v: k for k, v in pos_to_idx.items()}"
   ]
  },
  {
   "cell_type": "code",
   "execution_count": 335,
   "metadata": {},
   "outputs": [],
   "source": [
    "data_ner = headlines\n",
    "x = []\n",
    "for idx in range(len(data_ner)):\n",
    "    temp = []\n",
    "    for word in data_ner[idx]:\n",
    "        temp+=[ner_to_idx[word[1]]]\n",
    "        temp+=[pos_to_idx[word[2]]]\n",
    "    x+=[temp]\n",
    "x = np.asarray(x)"
   ]
  },
  {
   "cell_type": "code",
   "execution_count": 336,
   "metadata": {},
   "outputs": [],
   "source": [
    "ner_features = pad_sequences(x)"
   ]
  },
  {
   "cell_type": "code",
   "execution_count": 337,
   "metadata": {},
   "outputs": [
    {
     "data": {
      "text/plain": [
       "(45269, 52)"
      ]
     },
     "execution_count": 337,
     "metadata": {},
     "output_type": "execute_result"
    }
   ],
   "source": [
    "ner_features.shape"
   ]
  },
  {
   "cell_type": "markdown",
   "metadata": {},
   "source": [
    "Prepare Y"
   ]
  },
  {
   "cell_type": "code",
   "execution_count": 338,
   "metadata": {},
   "outputs": [],
   "source": [
    "def prepare_y(data):\n",
    "    y = []\n",
    "    for i in data:\n",
    "        c = 0\n",
    "        for j in range(len(groups)-1):\n",
    "            if i >= groups[j] and i <= groups[j+1]:\n",
    "                y+=[j]\n",
    "                c=1\n",
    "                break\n",
    "        if c==0:\n",
    "            y+=[0]\n",
    "        \n",
    "    return y"
   ]
  },
  {
   "cell_type": "code",
   "execution_count": 339,
   "metadata": {},
   "outputs": [],
   "source": [
    "y_train = prepare_y(np.asarray(data['view']))\n",
    "y_train = to_categorical(y_train)"
   ]
  },
  {
   "cell_type": "code",
   "execution_count": 340,
   "metadata": {},
   "outputs": [
    {
     "data": {
      "text/plain": [
       "(45269, 9)"
      ]
     },
     "execution_count": 340,
     "metadata": {},
     "output_type": "execute_result"
    }
   ],
   "source": [
    "y_train.shape"
   ]
  },
  {
   "cell_type": "markdown",
   "metadata": {},
   "source": [
    "## Model"
   ]
  },
  {
   "cell_type": "code",
   "execution_count": 341,
   "metadata": {},
   "outputs": [],
   "source": [
    "from keras.models import Model, Input\n",
    "from keras.layers import Dense, Dropout, BatchNormalization, GRU, Conv1D, Dropout, Embedding, concatenate, Flatten\n",
    "from keras.optimizers import Adam"
   ]
  },
  {
   "cell_type": "code",
   "execution_count": 342,
   "metadata": {},
   "outputs": [],
   "source": [
    "def get_categorical_model_part(category_count,input_shape):\n",
    "    input1 = Input(shape=(input_shape,))\n",
    "    x = Embedding(category_count,32)(input1)\n",
    "    x = Flatten()(x)\n",
    "    x = Dense(256,activation='relu')(x)\n",
    "    x = BatchNormalization()(x)\n",
    "    x = Dropout(0.4)(x)\n",
    "    x = Dense(128,activation='relu')(x)\n",
    "    x = BatchNormalization()(x)\n",
    "    x = Dropout(0.3)(x)\n",
    "    \n",
    "    return input1, x    "
   ]
  },
  {
   "cell_type": "code",
   "execution_count": 343,
   "metadata": {},
   "outputs": [],
   "source": [
    "def get_numerical_model_part(features_len,input_shape):\n",
    "    input1 = Input(shape=(input_shape,))\n",
    "    x = Dense(256,activation='relu')(input1)\n",
    "    x = BatchNormalization()(x)\n",
    "    x = Dropout(0.4)(x)\n",
    "    x = Dense(128,activation='relu')(x)\n",
    "    x = BatchNormalization()(x)\n",
    "    x = Dropout(0.3)(x)\n",
    "    \n",
    "    return input1, x"
   ]
  },
  {
   "cell_type": "code",
   "execution_count": 464,
   "metadata": {},
   "outputs": [],
   "source": [
    "def get_title_embedding_part(word_count,input_shape):\n",
    "    input1 = Input(shape=(input_shape,))\n",
    "    x = Embedding(word_count-1,300,trainable=True,weights=[pre_trained_weights])(input1)\n",
    "    x = Flatten()(x)\n",
    "    x = Dense(256,activation='relu')(x)\n",
    "    x = BatchNormalization()(x)\n",
    "    x = Dropout(0.4)(x)\n",
    "    x = Dense(128,activation='relu')(x)\n",
    "    x = BatchNormalization()(x)\n",
    "    x = Dropout(0.3)(x)\n",
    "    \n",
    "    return input1, x"
   ]
  },
  {
   "cell_type": "code",
   "execution_count": 465,
   "metadata": {},
   "outputs": [],
   "source": [
    "def get_keyword_embedding_part(keyword_count,input_shape):\n",
    "    input1 = Input(shape=(input_shape,))\n",
    "    x = Embedding(keyword_count,32)(input1)\n",
    "    x = Flatten()(x)\n",
    "    x = Dense(256,activation='relu')(x)\n",
    "    x = Dropout(0.5)(x)\n",
    "    \n",
    "    return input1, x"
   ]
  },
  {
   "cell_type": "code",
   "execution_count": 466,
   "metadata": {},
   "outputs": [],
   "source": [
    "def get_ner_part(input_shape):\n",
    "    input1 = Input(shape=(input_shape,))\n",
    "    x = Dense(256,activation='relu')(input1)\n",
    "    x = BatchNormalization()(x)\n",
    "    x = Dropout(0.4)(x)\n",
    "    x = Dense(128,activation='relu')(x)\n",
    "    x = BatchNormalization()(x)\n",
    "    x = Dropout(0.3)(x)\n",
    "    \n",
    "    return input1, x"
   ]
  },
  {
   "cell_type": "code",
   "execution_count": 467,
   "metadata": {},
   "outputs": [],
   "source": [
    "def get_model():\n",
    "    input1, m1 = get_categorical_model_part(categorical_feature_data.shape[1],categorical_feature_data.shape[1])\n",
    "    input2, m2 = get_numerical_model_part(numerical_feature_data.shape[1],numerical_feature_data.shape[1])\n",
    "    input3, m3 = get_title_embedding_part(len(word_to_idx),title_tokenized_features_data.shape[1])\n",
    "    input4, m4 = get_ner_part(ner_features.shape[1])\n",
    "    x = concatenate([m1,m2,m3,m4])\n",
    "    x = Dense(64, activation='relu')(x)\n",
    "    x = BatchNormalization()(x)\n",
    "    x = Dropout(0.3)(x)\n",
    "    x = Dense(32, activation='relu')(x)\n",
    "    x = BatchNormalization()(x)\n",
    "    x = Dropout(0.2)(x)\n",
    "    x = Dense(y_train.shape[1],activation='softmax')(x)\n",
    "    model = Model(inputs=[input1,input2,input3,input4], outputs=x)\n",
    "    adam  = Adam(lr=0.0001)\n",
    "    model.compile(optimizer=adam,  loss='categorical_crossentropy' ,metrics=['accuracy'])\n",
    "    \n",
    "    return model\n",
    "    "
   ]
  },
  {
   "cell_type": "code",
   "execution_count": 468,
   "metadata": {},
   "outputs": [],
   "source": [
    "model = get_model()"
   ]
  },
  {
   "cell_type": "code",
   "execution_count": 469,
   "metadata": {},
   "outputs": [
    {
     "name": "stdout",
     "output_type": "stream",
     "text": [
      "__________________________________________________________________________________________________\n",
      "Layer (type)                    Output Shape         Param #     Connected to                     \n",
      "==================================================================================================\n",
      "input_56 (InputLayer)           (None, 11)           0                                            \n",
      "__________________________________________________________________________________________________\n",
      "input_58 (InputLayer)           (None, 26)           0                                            \n",
      "__________________________________________________________________________________________________\n",
      "embedding_32 (Embedding)        (None, 11, 32)       352         input_56[0][0]                   \n",
      "__________________________________________________________________________________________________\n",
      "embedding_33 (Embedding)        (None, 26, 300)      1090800     input_58[0][0]                   \n",
      "__________________________________________________________________________________________________\n",
      "flatten_25 (Flatten)            (None, 352)          0           embedding_32[0][0]               \n",
      "__________________________________________________________________________________________________\n",
      "input_57 (InputLayer)           (None, 46)           0                                            \n",
      "__________________________________________________________________________________________________\n",
      "flatten_26 (Flatten)            (None, 7800)         0           embedding_33[0][0]               \n",
      "__________________________________________________________________________________________________\n",
      "input_59 (InputLayer)           (None, 52)           0                                            \n",
      "__________________________________________________________________________________________________\n",
      "dense_121 (Dense)               (None, 256)          90368       flatten_25[0][0]                 \n",
      "__________________________________________________________________________________________________\n",
      "dense_123 (Dense)               (None, 256)          12032       input_57[0][0]                   \n",
      "__________________________________________________________________________________________________\n",
      "dense_125 (Dense)               (None, 256)          1997056     flatten_26[0][0]                 \n",
      "__________________________________________________________________________________________________\n",
      "dense_127 (Dense)               (None, 256)          13568       input_59[0][0]                   \n",
      "__________________________________________________________________________________________________\n",
      "batch_normalization_113 (BatchN (None, 256)          1024        dense_121[0][0]                  \n",
      "__________________________________________________________________________________________________\n",
      "batch_normalization_115 (BatchN (None, 256)          1024        dense_123[0][0]                  \n",
      "__________________________________________________________________________________________________\n",
      "batch_normalization_117 (BatchN (None, 256)          1024        dense_125[0][0]                  \n",
      "__________________________________________________________________________________________________\n",
      "batch_normalization_119 (BatchN (None, 256)          1024        dense_127[0][0]                  \n",
      "__________________________________________________________________________________________________\n",
      "dropout_113 (Dropout)           (None, 256)          0           batch_normalization_113[0][0]    \n",
      "__________________________________________________________________________________________________\n",
      "dropout_115 (Dropout)           (None, 256)          0           batch_normalization_115[0][0]    \n",
      "__________________________________________________________________________________________________\n",
      "dropout_117 (Dropout)           (None, 256)          0           batch_normalization_117[0][0]    \n",
      "__________________________________________________________________________________________________\n",
      "dropout_119 (Dropout)           (None, 256)          0           batch_normalization_119[0][0]    \n",
      "__________________________________________________________________________________________________\n",
      "dense_122 (Dense)               (None, 128)          32896       dropout_113[0][0]                \n",
      "__________________________________________________________________________________________________\n",
      "dense_124 (Dense)               (None, 128)          32896       dropout_115[0][0]                \n",
      "__________________________________________________________________________________________________\n",
      "dense_126 (Dense)               (None, 128)          32896       dropout_117[0][0]                \n",
      "__________________________________________________________________________________________________\n",
      "dense_128 (Dense)               (None, 128)          32896       dropout_119[0][0]                \n",
      "__________________________________________________________________________________________________\n",
      "batch_normalization_114 (BatchN (None, 128)          512         dense_122[0][0]                  \n",
      "__________________________________________________________________________________________________\n",
      "batch_normalization_116 (BatchN (None, 128)          512         dense_124[0][0]                  \n",
      "__________________________________________________________________________________________________\n",
      "batch_normalization_118 (BatchN (None, 128)          512         dense_126[0][0]                  \n",
      "__________________________________________________________________________________________________\n",
      "batch_normalization_120 (BatchN (None, 128)          512         dense_128[0][0]                  \n",
      "__________________________________________________________________________________________________\n",
      "dropout_114 (Dropout)           (None, 128)          0           batch_normalization_114[0][0]    \n",
      "__________________________________________________________________________________________________\n",
      "dropout_116 (Dropout)           (None, 128)          0           batch_normalization_116[0][0]    \n",
      "__________________________________________________________________________________________________\n",
      "dropout_118 (Dropout)           (None, 128)          0           batch_normalization_118[0][0]    \n",
      "__________________________________________________________________________________________________\n",
      "dropout_120 (Dropout)           (None, 128)          0           batch_normalization_120[0][0]    \n",
      "__________________________________________________________________________________________________\n",
      "concatenate_9 (Concatenate)     (None, 512)          0           dropout_114[0][0]                \n",
      "                                                                 dropout_116[0][0]                \n",
      "                                                                 dropout_118[0][0]                \n",
      "                                                                 dropout_120[0][0]                \n",
      "__________________________________________________________________________________________________\n",
      "dense_129 (Dense)               (None, 64)           32832       concatenate_9[0][0]              \n",
      "__________________________________________________________________________________________________\n",
      "batch_normalization_121 (BatchN (None, 64)           256         dense_129[0][0]                  \n",
      "__________________________________________________________________________________________________\n",
      "dropout_121 (Dropout)           (None, 64)           0           batch_normalization_121[0][0]    \n",
      "__________________________________________________________________________________________________\n",
      "dense_130 (Dense)               (None, 32)           2080        dropout_121[0][0]                \n",
      "__________________________________________________________________________________________________\n",
      "batch_normalization_122 (BatchN (None, 32)           128         dense_130[0][0]                  \n",
      "__________________________________________________________________________________________________\n",
      "dropout_122 (Dropout)           (None, 32)           0           batch_normalization_122[0][0]    \n",
      "__________________________________________________________________________________________________\n",
      "dense_131 (Dense)               (None, 9)            297         dropout_122[0][0]                \n",
      "==================================================================================================\n",
      "Total params: 3,377,497\n",
      "Trainable params: 3,374,233\n",
      "Non-trainable params: 3,264\n",
      "__________________________________________________________________________________________________\n"
     ]
    }
   ],
   "source": [
    "model.summary()"
   ]
  },
  {
   "cell_type": "code",
   "execution_count": 470,
   "metadata": {},
   "outputs": [],
   "source": [
    "train_data = [categorical_feature_data,numerical_feature_data,title_tokenized_features_data,ner_features]\n",
    "train_x = []\n",
    "temp_train_x = []\n",
    "test_x = []\n",
    "val_x = []\n",
    "for data in train_data:\n",
    "    train, test = train_test_split(data, test_size=0.1,random_state=22)\n",
    "    temp_train_x += [train]\n",
    "    test_x += [test]\n",
    "for data in temp_train_x:\n",
    "    train, val = train_test_split(data, test_size=0.1,random_state=22)\n",
    "    train_x += [train]\n",
    "    val_x += [val]\n",
    "temp_train_y, test_y = train_test_split(y_train, test_size=0.1,random_state=22)\n",
    "train_y, val_y = train_test_split(temp_train_y, test_size=0.1,random_state=22)\n"
   ]
  },
  {
   "cell_type": "code",
   "execution_count": 479,
   "metadata": {},
   "outputs": [
    {
     "name": "stdout",
     "output_type": "stream",
     "text": [
      "Train on 36667 samples, validate on 4075 samples\n",
      "Epoch 1/10\n",
      "36667/36667 [==============================] - 18s 482us/step - loss: 1.7353 - acc: 0.3103 - val_loss: 1.7250 - val_acc: 0.3021\n",
      "Epoch 2/10\n",
      "36667/36667 [==============================] - 18s 483us/step - loss: 1.7023 - acc: 0.3306 - val_loss: 1.7125 - val_acc: 0.3060\n",
      "Epoch 3/10\n",
      "36667/36667 [==============================] - 18s 482us/step - loss: 1.6553 - acc: 0.3454 - val_loss: 1.6985 - val_acc: 0.3063\n",
      "Epoch 4/10\n",
      "36667/36667 [==============================] - 18s 483us/step - loss: 1.5970 - acc: 0.3724 - val_loss: 1.6926 - val_acc: 0.3134\n",
      "Epoch 5/10\n",
      "36667/36667 [==============================] - 18s 482us/step - loss: 1.5442 - acc: 0.4012 - val_loss: 1.6980 - val_acc: 0.3055\n",
      "Epoch 6/10\n",
      "36667/36667 [==============================] - 18s 483us/step - loss: 1.4873 - acc: 0.4280 - val_loss: 1.7083 - val_acc: 0.3090\n",
      "Epoch 7/10\n",
      "36667/36667 [==============================] - 18s 482us/step - loss: 1.4290 - acc: 0.4523 - val_loss: 1.7342 - val_acc: 0.3131\n",
      "Epoch 8/10\n",
      " 4032/36667 [==>...........................] - ETA: 15s - loss: 1.3516 - acc: 0.4968"
     ]
    },
    {
     "ename": "KeyboardInterrupt",
     "evalue": "",
     "output_type": "error",
     "traceback": [
      "\u001b[0;31m---------------------------------------------------------------------------\u001b[0m",
      "\u001b[0;31mKeyboardInterrupt\u001b[0m                         Traceback (most recent call last)",
      "\u001b[0;32m<ipython-input-479-64a739805d0b>\u001b[0m in \u001b[0;36m<module>\u001b[0;34m\u001b[0m\n\u001b[0;32m----> 1\u001b[0;31m \u001b[0mmodel\u001b[0m\u001b[0;34m.\u001b[0m\u001b[0mfit\u001b[0m\u001b[0;34m(\u001b[0m\u001b[0mtrain_x\u001b[0m\u001b[0;34m,\u001b[0m \u001b[0mtrain_y\u001b[0m\u001b[0;34m,\u001b[0m \u001b[0mbatch_size\u001b[0m\u001b[0;34m=\u001b[0m\u001b[0;36m64\u001b[0m \u001b[0;34m,\u001b[0m\u001b[0mepochs\u001b[0m\u001b[0;34m=\u001b[0m\u001b[0;36m10\u001b[0m\u001b[0;34m,\u001b[0m \u001b[0mverbose\u001b[0m\u001b[0;34m=\u001b[0m\u001b[0;36m1\u001b[0m\u001b[0;34m,\u001b[0m \u001b[0mvalidation_data\u001b[0m\u001b[0;34m=\u001b[0m\u001b[0;34m[\u001b[0m\u001b[0mval_x\u001b[0m\u001b[0;34m,\u001b[0m \u001b[0mval_y\u001b[0m\u001b[0;34m]\u001b[0m\u001b[0;34m)\u001b[0m\u001b[0;34m\u001b[0m\u001b[0m\n\u001b[0m",
      "\u001b[0;32m~/.pyenv/versions/3.6.0/lib/python3.6/site-packages/keras/engine/training.py\u001b[0m in \u001b[0;36mfit\u001b[0;34m(self, x, y, batch_size, epochs, verbose, callbacks, validation_split, validation_data, shuffle, class_weight, sample_weight, initial_epoch, steps_per_epoch, validation_steps, **kwargs)\u001b[0m\n\u001b[1;32m   1037\u001b[0m                                         \u001b[0minitial_epoch\u001b[0m\u001b[0;34m=\u001b[0m\u001b[0minitial_epoch\u001b[0m\u001b[0;34m,\u001b[0m\u001b[0;34m\u001b[0m\u001b[0m\n\u001b[1;32m   1038\u001b[0m                                         \u001b[0msteps_per_epoch\u001b[0m\u001b[0;34m=\u001b[0m\u001b[0msteps_per_epoch\u001b[0m\u001b[0;34m,\u001b[0m\u001b[0;34m\u001b[0m\u001b[0m\n\u001b[0;32m-> 1039\u001b[0;31m                                         validation_steps=validation_steps)\n\u001b[0m\u001b[1;32m   1040\u001b[0m \u001b[0;34m\u001b[0m\u001b[0m\n\u001b[1;32m   1041\u001b[0m     def evaluate(self, x=None, y=None,\n",
      "\u001b[0;32m~/.pyenv/versions/3.6.0/lib/python3.6/site-packages/keras/engine/training_arrays.py\u001b[0m in \u001b[0;36mfit_loop\u001b[0;34m(model, f, ins, out_labels, batch_size, epochs, verbose, callbacks, val_f, val_ins, shuffle, callback_metrics, initial_epoch, steps_per_epoch, validation_steps)\u001b[0m\n\u001b[1;32m    197\u001b[0m                     \u001b[0mins_batch\u001b[0m\u001b[0;34m[\u001b[0m\u001b[0mi\u001b[0m\u001b[0;34m]\u001b[0m \u001b[0;34m=\u001b[0m \u001b[0mins_batch\u001b[0m\u001b[0;34m[\u001b[0m\u001b[0mi\u001b[0m\u001b[0;34m]\u001b[0m\u001b[0;34m.\u001b[0m\u001b[0mtoarray\u001b[0m\u001b[0;34m(\u001b[0m\u001b[0;34m)\u001b[0m\u001b[0;34m\u001b[0m\u001b[0m\n\u001b[1;32m    198\u001b[0m \u001b[0;34m\u001b[0m\u001b[0m\n\u001b[0;32m--> 199\u001b[0;31m                 \u001b[0mouts\u001b[0m \u001b[0;34m=\u001b[0m \u001b[0mf\u001b[0m\u001b[0;34m(\u001b[0m\u001b[0mins_batch\u001b[0m\u001b[0;34m)\u001b[0m\u001b[0;34m\u001b[0m\u001b[0m\n\u001b[0m\u001b[1;32m    200\u001b[0m                 \u001b[0mouts\u001b[0m \u001b[0;34m=\u001b[0m \u001b[0mto_list\u001b[0m\u001b[0;34m(\u001b[0m\u001b[0mouts\u001b[0m\u001b[0;34m)\u001b[0m\u001b[0;34m\u001b[0m\u001b[0m\n\u001b[1;32m    201\u001b[0m                 \u001b[0;32mfor\u001b[0m \u001b[0ml\u001b[0m\u001b[0;34m,\u001b[0m \u001b[0mo\u001b[0m \u001b[0;32min\u001b[0m \u001b[0mzip\u001b[0m\u001b[0;34m(\u001b[0m\u001b[0mout_labels\u001b[0m\u001b[0;34m,\u001b[0m \u001b[0mouts\u001b[0m\u001b[0;34m)\u001b[0m\u001b[0;34m:\u001b[0m\u001b[0;34m\u001b[0m\u001b[0m\n",
      "\u001b[0;32m~/.pyenv/versions/3.6.0/lib/python3.6/site-packages/keras/backend/tensorflow_backend.py\u001b[0m in \u001b[0;36m__call__\u001b[0;34m(self, inputs)\u001b[0m\n\u001b[1;32m   2713\u001b[0m                 \u001b[0;32mreturn\u001b[0m \u001b[0mself\u001b[0m\u001b[0;34m.\u001b[0m\u001b[0m_legacy_call\u001b[0m\u001b[0;34m(\u001b[0m\u001b[0minputs\u001b[0m\u001b[0;34m)\u001b[0m\u001b[0;34m\u001b[0m\u001b[0m\n\u001b[1;32m   2714\u001b[0m \u001b[0;34m\u001b[0m\u001b[0m\n\u001b[0;32m-> 2715\u001b[0;31m             \u001b[0;32mreturn\u001b[0m \u001b[0mself\u001b[0m\u001b[0;34m.\u001b[0m\u001b[0m_call\u001b[0m\u001b[0;34m(\u001b[0m\u001b[0minputs\u001b[0m\u001b[0;34m)\u001b[0m\u001b[0;34m\u001b[0m\u001b[0m\n\u001b[0m\u001b[1;32m   2716\u001b[0m         \u001b[0;32melse\u001b[0m\u001b[0;34m:\u001b[0m\u001b[0;34m\u001b[0m\u001b[0m\n\u001b[1;32m   2717\u001b[0m             \u001b[0;32mif\u001b[0m \u001b[0mpy_any\u001b[0m\u001b[0;34m(\u001b[0m\u001b[0mis_tensor\u001b[0m\u001b[0;34m(\u001b[0m\u001b[0mx\u001b[0m\u001b[0;34m)\u001b[0m \u001b[0;32mfor\u001b[0m \u001b[0mx\u001b[0m \u001b[0;32min\u001b[0m \u001b[0minputs\u001b[0m\u001b[0;34m)\u001b[0m\u001b[0;34m:\u001b[0m\u001b[0;34m\u001b[0m\u001b[0m\n",
      "\u001b[0;32m~/.pyenv/versions/3.6.0/lib/python3.6/site-packages/keras/backend/tensorflow_backend.py\u001b[0m in \u001b[0;36m_call\u001b[0;34m(self, inputs)\u001b[0m\n\u001b[1;32m   2673\u001b[0m             \u001b[0mfetched\u001b[0m \u001b[0;34m=\u001b[0m \u001b[0mself\u001b[0m\u001b[0;34m.\u001b[0m\u001b[0m_callable_fn\u001b[0m\u001b[0;34m(\u001b[0m\u001b[0;34m*\u001b[0m\u001b[0marray_vals\u001b[0m\u001b[0;34m,\u001b[0m \u001b[0mrun_metadata\u001b[0m\u001b[0;34m=\u001b[0m\u001b[0mself\u001b[0m\u001b[0;34m.\u001b[0m\u001b[0mrun_metadata\u001b[0m\u001b[0;34m)\u001b[0m\u001b[0;34m\u001b[0m\u001b[0m\n\u001b[1;32m   2674\u001b[0m         \u001b[0;32melse\u001b[0m\u001b[0;34m:\u001b[0m\u001b[0;34m\u001b[0m\u001b[0m\n\u001b[0;32m-> 2675\u001b[0;31m             \u001b[0mfetched\u001b[0m \u001b[0;34m=\u001b[0m \u001b[0mself\u001b[0m\u001b[0;34m.\u001b[0m\u001b[0m_callable_fn\u001b[0m\u001b[0;34m(\u001b[0m\u001b[0;34m*\u001b[0m\u001b[0marray_vals\u001b[0m\u001b[0;34m)\u001b[0m\u001b[0;34m\u001b[0m\u001b[0m\n\u001b[0m\u001b[1;32m   2676\u001b[0m         \u001b[0;32mreturn\u001b[0m \u001b[0mfetched\u001b[0m\u001b[0;34m[\u001b[0m\u001b[0;34m:\u001b[0m\u001b[0mlen\u001b[0m\u001b[0;34m(\u001b[0m\u001b[0mself\u001b[0m\u001b[0;34m.\u001b[0m\u001b[0moutputs\u001b[0m\u001b[0;34m)\u001b[0m\u001b[0;34m]\u001b[0m\u001b[0;34m\u001b[0m\u001b[0m\n\u001b[1;32m   2677\u001b[0m \u001b[0;34m\u001b[0m\u001b[0m\n",
      "\u001b[0;32m~/.pyenv/versions/3.6.0/lib/python3.6/site-packages/tensorflow/python/client/session.py\u001b[0m in \u001b[0;36m__call__\u001b[0;34m(self, *args, **kwargs)\u001b[0m\n\u001b[1;32m   1437\u001b[0m           ret = tf_session.TF_SessionRunCallable(\n\u001b[1;32m   1438\u001b[0m               \u001b[0mself\u001b[0m\u001b[0;34m.\u001b[0m\u001b[0m_session\u001b[0m\u001b[0;34m.\u001b[0m\u001b[0m_session\u001b[0m\u001b[0;34m,\u001b[0m \u001b[0mself\u001b[0m\u001b[0;34m.\u001b[0m\u001b[0m_handle\u001b[0m\u001b[0;34m,\u001b[0m \u001b[0margs\u001b[0m\u001b[0;34m,\u001b[0m \u001b[0mstatus\u001b[0m\u001b[0;34m,\u001b[0m\u001b[0;34m\u001b[0m\u001b[0m\n\u001b[0;32m-> 1439\u001b[0;31m               run_metadata_ptr)\n\u001b[0m\u001b[1;32m   1440\u001b[0m         \u001b[0;32mif\u001b[0m \u001b[0mrun_metadata\u001b[0m\u001b[0;34m:\u001b[0m\u001b[0;34m\u001b[0m\u001b[0m\n\u001b[1;32m   1441\u001b[0m           \u001b[0mproto_data\u001b[0m \u001b[0;34m=\u001b[0m \u001b[0mtf_session\u001b[0m\u001b[0;34m.\u001b[0m\u001b[0mTF_GetBuffer\u001b[0m\u001b[0;34m(\u001b[0m\u001b[0mrun_metadata_ptr\u001b[0m\u001b[0;34m)\u001b[0m\u001b[0;34m\u001b[0m\u001b[0m\n",
      "\u001b[0;31mKeyboardInterrupt\u001b[0m: "
     ]
    }
   ],
   "source": [
    "model.fit(train_x, train_y, batch_size=64 ,epochs=10, verbose=1, validation_data=[val_x, val_y])"
   ]
  },
  {
   "cell_type": "code",
   "execution_count": 496,
   "metadata": {},
   "outputs": [],
   "source": [
    "y_pred = model.predict(test_x)"
   ]
  },
  {
   "cell_type": "code",
   "execution_count": 497,
   "metadata": {},
   "outputs": [],
   "source": [
    "def evaluate(y_pred,y_test):\n",
    "    correct = 0\n",
    "    wrong = 0\n",
    "    count = [0,0,0,0,0,0,0,0,0]\n",
    "    heatmap =[[0,0,0,0,0,0,0,0,0],\n",
    "             [0,0,0,0,0,0,0,0,0],\n",
    "             [0,0,0,0,0,0,0,0,0],\n",
    "             [0,0,0,0,0,0,0,0,0],\n",
    "             [0,0,0,0,0,0,0,0,0],\n",
    "             [0,0,0,0,0,0,0,0,0],\n",
    "             [0,0,0,0,0,0,0,0,0],\n",
    "             [0,0,0,0,0,0,0,0,0],\n",
    "             [0,0,0,0,0,0,0,0,0]]\n",
    "    true_pred = [0]*7\n",
    "    for i in range(len(y_pred)):\n",
    "        p_level_pred = np.argmax(y_pred[i])\n",
    "        p_level_test = np.argmax(y_test[i])\n",
    "        count[p_level_pred]+=1\n",
    "        heatmap[p_level_test][p_level_pred]+=1\n",
    "        if(p_level_pred == p_level_test):\n",
    "            true_pred[p_level_pred] += 1\n",
    "            correct += 1\n",
    "        else:\n",
    "            wrong +=1\n",
    "    print(np.asarray(heatmap))\n",
    "    heatmap = [[line[i]/np.sum(line) for i in range(len(line))] for line in heatmap]\n",
    "    print(count)\n",
    "    return correct/(correct+wrong), heatmap"
   ]
  },
  {
   "cell_type": "code",
   "execution_count": 498,
   "metadata": {},
   "outputs": [
    {
     "name": "stdout",
     "output_type": "stream",
     "text": [
      "[[481 253  66   3 107   9   0   0   0]\n",
      " [245 441  93  17 224   5   1   0   0]\n",
      " [125 265  80  10 241   5   0   0   0]\n",
      " [ 83 206  50  10 183   1   0   0   0]\n",
      " [136 265 105  20 357  22   2   0   0]\n",
      " [ 52  79  23   7 114  28  22   0   0]\n",
      " [  5   9   4   2  14  29  16   0   0]\n",
      " [  0   3   0   0   2   6   1   0   0]\n",
      " [  0   0   0   0   0   0   0   0   0]]\n",
      "[1127, 1521, 421, 69, 1242, 105, 42, 0, 0]\n",
      "0.3121272365805169\n"
     ]
    },
    {
     "name": "stderr",
     "output_type": "stream",
     "text": [
      "/home/arintrongs2/.pyenv/versions/3.6.0/lib/python3.6/site-packages/ipykernel_launcher.py:26: RuntimeWarning: invalid value encountered in long_scalars\n"
     ]
    }
   ],
   "source": [
    "score, heatmap = evaluate(y_pred,test_y)\n",
    "print(score)\n",
    "# print(heatmap)"
   ]
  },
  {
   "cell_type": "code",
   "execution_count": 499,
   "metadata": {},
   "outputs": [
    {
     "data": {
      "text/plain": [
       "<matplotlib.axes._subplots.AxesSubplot at 0x7f8f3f48e630>"
      ]
     },
     "execution_count": 499,
     "metadata": {},
     "output_type": "execute_result"
    },
    {
     "data": {
      "image/png": "[encoded data removed]",
      "text/plain": [
       "<Figure size 432x288 with 2 Axes>"
      ]
     },
     "metadata": {},
     "output_type": "display_data"
    }
   ],
   "source": [
    "df_cm = pd.DataFrame(heatmap, range(9),\n",
    "                  range(9))\n",
    "sns.set(font_scale=1.4)#for label size\n",
    "sns.heatmap(df_cm, annot=True,annot_kws={\"size\": 8})"
   ]
  },
  {
   "cell_type": "code",
   "execution_count": 534,
   "metadata": {},
   "outputs": [],
   "source": [
    "def evaluate_f1(y_pred, y_test):\n",
    "    acc = 0\n",
    "    pred = list()\n",
    "    true = list()\n",
    "    for i in range(len(y_pred)):\n",
    "        pred.append(np.argmax(y_pred[i]))\n",
    "        true.append(np.argmax(y_test[i]))\n",
    "    return f1_score(true, pred, average='micro'),pred,true"
   ]
  },
  {
   "cell_type": "code",
   "execution_count": 535,
   "metadata": {},
   "outputs": [],
   "source": [
    "score, pred, true = evaluate_f1(y_pred,test_y)"
   ]
  },
  {
   "cell_type": "code",
   "execution_count": 538,
   "metadata": {},
   "outputs": [
    {
     "name": "stdout",
     "output_type": "stream",
     "text": [
      "0.3121272365805169\n"
     ]
    }
   ],
   "source": [
    "print(score)"
   ]
  },
  {
   "cell_type": "code",
   "execution_count": 537,
   "metadata": {},
   "outputs": [
    {
     "data": {
      "text/plain": [
       "(4527, 9)"
      ]
     },
     "execution_count": 537,
     "metadata": {},
     "output_type": "execute_result"
    }
   ],
   "source": [
    "test_y.shape"
   ]
  },
  {
   "cell_type": "code",
   "execution_count": 539,
   "metadata": {},
   "outputs": [
    {
     "ename": "NameError",
     "evalue": "name 'input_pbs_train' is not defined",
     "output_type": "error",
     "traceback": [
      "\u001b[0;31m---------------------------------------------------------------------------\u001b[0m",
      "\u001b[0;31mNameError\u001b[0m                                 Traceback (most recent call last)",
      "\u001b[0;32m<ipython-input-539-eec53d2131e5>\u001b[0m in \u001b[0;36m<module>\u001b[0;34m\u001b[0m\n\u001b[1;32m      2\u001b[0m \u001b[0;32mfor\u001b[0m \u001b[0mi\u001b[0m \u001b[0;32min\u001b[0m \u001b[0mrange\u001b[0m\u001b[0;34m(\u001b[0m\u001b[0;36m7\u001b[0m\u001b[0;34m)\u001b[0m\u001b[0;34m:\u001b[0m\u001b[0;34m\u001b[0m\u001b[0m\n\u001b[1;32m      3\u001b[0m \u001b[0;31m#     print(i,len(input_pbs_train[input_pbs_train['class']==i]))\u001b[0m\u001b[0;34m\u001b[0m\u001b[0;34m\u001b[0m\u001b[0m\n\u001b[0;32m----> 4\u001b[0;31m     \u001b[0;32mif\u001b[0m \u001b[0mlen\u001b[0m\u001b[0;34m(\u001b[0m\u001b[0minput_pbs_train\u001b[0m\u001b[0;34m[\u001b[0m\u001b[0minput_pbs_train\u001b[0m\u001b[0;34m[\u001b[0m\u001b[0;34m'class'\u001b[0m\u001b[0;34m]\u001b[0m\u001b[0;34m==\u001b[0m\u001b[0mi\u001b[0m\u001b[0;34m]\u001b[0m\u001b[0;34m)\u001b[0m \u001b[0;34m>\u001b[0m \u001b[0;36m1\u001b[0m\u001b[0;34m:\u001b[0m\u001b[0;34m\u001b[0m\u001b[0m\n\u001b[0m\u001b[1;32m      5\u001b[0m         \u001b[0msns\u001b[0m\u001b[0;34m.\u001b[0m\u001b[0mdistplot\u001b[0m\u001b[0;34m(\u001b[0m\u001b[0minput_pbs_train\u001b[0m\u001b[0;34m[\u001b[0m\u001b[0minput_pbs_train\u001b[0m\u001b[0;34m[\u001b[0m\u001b[0;34m'class'\u001b[0m\u001b[0;34m]\u001b[0m\u001b[0;34m==\u001b[0m\u001b[0mi\u001b[0m\u001b[0;34m]\u001b[0m\u001b[0;34m[\u001b[0m\u001b[0;34m'view'\u001b[0m\u001b[0;34m]\u001b[0m\u001b[0;34m,\u001b[0m\u001b[0max\u001b[0m\u001b[0;34m=\u001b[0m\u001b[0maxarr\u001b[0m\u001b[0;34m[\u001b[0m\u001b[0mi\u001b[0m\u001b[0;34m]\u001b[0m\u001b[0;34m,\u001b[0m\u001b[0mbins\u001b[0m\u001b[0;34m=\u001b[0m\u001b[0;36m50\u001b[0m\u001b[0;34m)\u001b[0m\u001b[0;34m\u001b[0m\u001b[0m\n",
      "\u001b[0;31mNameError\u001b[0m: name 'input_pbs_train' is not defined"
     ]
    },
    {
     "data": {
      "image/png": "[encoded data removed]",
      "text/plain": [
       "<Figure size 1440x1440 with 7 Axes>"
      ]
     },
     "metadata": {
      "needs_background": "light"
     },
     "output_type": "display_data"
    }
   ],
   "source": [
    "f, axarr = plt.subplots(7, figsize=(20,20))\n",
    "for i in range(7):\n",
    "#     print(i,len(input_pbs_train[input_pbs_train['class']==i]))\n",
    "    if len(input_pbs_train[input_pbs_train['class']==i]) > 1:\n",
    "        sns.distplot(input_pbs_train[input_pbs_train['class']==i]['view'],ax=axarr[i],bins=50)"
   ]
  },
  {
   "cell_type": "code",
   "execution_count": null,
   "metadata": {},
   "outputs": [],
   "source": []
  },
  {
   "cell_type": "code",
   "execution_count": null,
   "metadata": {},
   "outputs": [],
   "source": []
  },
  {
   "cell_type": "code",
   "execution_count": null,
   "metadata": {},
   "outputs": [],
   "source": []
  },
  {
   "cell_type": "code",
   "execution_count": null,
   "metadata": {},
   "outputs": [],
   "source": []
  },
  {
   "cell_type": "code",
   "execution_count": null,
   "metadata": {},
   "outputs": [],
   "source": []
  },
  {
   "cell_type": "code",
   "execution_count": null,
   "metadata": {},
   "outputs": [],
   "source": []
  },
  {
   "cell_type": "code",
   "execution_count": null,
   "metadata": {},
   "outputs": [],
   "source": []
  },
  {
   "cell_type": "code",
   "execution_count": null,
   "metadata": {},
   "outputs": [],
   "source": []
  }
 ],
 "metadata": {
  "kernelspec": {
   "display_name": "Python 3",
   "language": "python",
   "name": "python3"
  },
  "language_info": {
   "codemirror_mode": {
    "name": "ipython",
    "version": 3
   },
   "file_extension": ".py",
   "mimetype": "text/x-python",
   "name": "python",
   "nbconvert_exporter": "python",
   "pygments_lexer": "ipython3",
   "version": "3.6.0"
  }
 },
 "nbformat": 4,
 "nbformat_minor": 2
}
