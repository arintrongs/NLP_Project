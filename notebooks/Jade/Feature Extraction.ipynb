{
 "cells": [
  {
   "cell_type": "code",
   "execution_count": 1,
   "metadata": {},
   "outputs": [],
   "source": [
    "%matplotlib inline\n",
    "import pandas as pd\n",
    "import sklearn\n",
    "import numpy as np\n",
    "from IPython.display import display\n",
    "from sklearn.metrics import f1_score\n",
    "import matplotlib.pyplot as plt\n",
    "from matplotlib import rcParams"
   ]
  },
  {
   "cell_type": "markdown",
   "metadata": {},
   "source": [
    "## Change The Parameters HERE!!! "
   ]
  },
  {
   "cell_type": "code",
   "execution_count": 2,
   "metadata": {},
   "outputs": [],
   "source": [
    "input_csv_path = '../../data/the_standard_data.csv'\n",
    "output_csv_path = '../../data/the_standard_data_with_features.csv'"
   ]
  },
  {
   "cell_type": "code",
   "execution_count": 3,
   "metadata": {},
   "outputs": [],
   "source": [
    "data = pd.read_csv(input_csv_path)"
   ]
  },
  {
   "cell_type": "code",
   "execution_count": 11,
   "metadata": {},
   "outputs": [
    {
     "data": {
      "text/html": [
       "<div>\n",
       "<style scoped>\n",
       "    .dataframe tbody tr th:only-of-type {\n",
       "        vertical-align: middle;\n",
       "    }\n",
       "\n",
       "    .dataframe tbody tr th {\n",
       "        vertical-align: top;\n",
       "    }\n",
       "\n",
       "    .dataframe thead th {\n",
       "        text-align: right;\n",
       "    }\n",
       "</style>\n",
       "<table border=\"1\" class=\"dataframe\">\n",
       "  <thead>\n",
       "    <tr style=\"text-align: right;\">\n",
       "      <th></th>\n",
       "      <th>Unnamed: 0</th>\n",
       "      <th>headline</th>\n",
       "      <th>date</th>\n",
       "      <th>time</th>\n",
       "      <th>view</th>\n",
       "      <th>like</th>\n",
       "      <th>share</th>\n",
       "      <th>comment</th>\n",
       "      <th>category</th>\n",
       "      <th>tag</th>\n",
       "      <th>...</th>\n",
       "      <th>sim_worst</th>\n",
       "      <th>tag_top_pop_sum</th>\n",
       "      <th>tag_top_pop_mean</th>\n",
       "      <th>num_tag_pop</th>\n",
       "      <th>tag_top_worst_sum</th>\n",
       "      <th>tag_top_worst_mean</th>\n",
       "      <th>num_tag_worst</th>\n",
       "      <th>numTag</th>\n",
       "      <th>month</th>\n",
       "      <th>year</th>\n",
       "    </tr>\n",
       "  </thead>\n",
       "  <tbody>\n",
       "    <tr>\n",
       "      <th>0</th>\n",
       "      <td>0</td>\n",
       "      <td>สุดารัตน์การันตี มิ่งขวัญไม่เสียสัจจะ เชื่อประ...</td>\n",
       "      <td>2019-04-13</td>\n",
       "      <td>NaN</td>\n",
       "      <td>368</td>\n",
       "      <td>NaN</td>\n",
       "      <td>NaN</td>\n",
       "      <td>NaN</td>\n",
       "      <td>Thailand,Politics</td>\n",
       "      <td>พรรคเพื่อไทย,สุดารัตน์ เกยุราพันธุ์,มิ่งขวัญ แ...</td>\n",
       "      <td>...</td>\n",
       "      <td>0.722237</td>\n",
       "      <td>10</td>\n",
       "      <td>2</td>\n",
       "      <td>4</td>\n",
       "      <td>9</td>\n",
       "      <td>4</td>\n",
       "      <td>2</td>\n",
       "      <td>4</td>\n",
       "      <td>4</td>\n",
       "      <td>2019</td>\n",
       "    </tr>\n",
       "    <tr>\n",
       "      <th>1</th>\n",
       "      <td>1</td>\n",
       "      <td>สโมสรฟุตบอลซาน ลอเรนโซฯ ในอาร์เจนตินา ประกาศเซ...</td>\n",
       "      <td>2019-04-13</td>\n",
       "      <td>NaN</td>\n",
       "      <td>22</td>\n",
       "      <td>NaN</td>\n",
       "      <td>NaN</td>\n",
       "      <td>NaN</td>\n",
       "      <td>Sport</td>\n",
       "      <td>Argentina,San Lorenzo de Almagro</td>\n",
       "      <td>...</td>\n",
       "      <td>1.000000</td>\n",
       "      <td>0</td>\n",
       "      <td>0</td>\n",
       "      <td>0</td>\n",
       "      <td>4</td>\n",
       "      <td>2</td>\n",
       "      <td>2</td>\n",
       "      <td>2</td>\n",
       "      <td>4</td>\n",
       "      <td>2019</td>\n",
       "    </tr>\n",
       "    <tr>\n",
       "      <th>2</th>\n",
       "      <td>2</td>\n",
       "      <td>ภาพข่าวยอดเยี่ยมประจำวันที่ 7-13 เมษายน 2562</td>\n",
       "      <td>2019-04-13</td>\n",
       "      <td>NaN</td>\n",
       "      <td>31</td>\n",
       "      <td>NaN</td>\n",
       "      <td>NaN</td>\n",
       "      <td>NaN</td>\n",
       "      <td>World,Thailand</td>\n",
       "      <td>ภาพข่าวยอดเยี่ยม</td>\n",
       "      <td>...</td>\n",
       "      <td>1.000000</td>\n",
       "      <td>0</td>\n",
       "      <td>0</td>\n",
       "      <td>0</td>\n",
       "      <td>16</td>\n",
       "      <td>16</td>\n",
       "      <td>1</td>\n",
       "      <td>1</td>\n",
       "      <td>4</td>\n",
       "      <td>2019</td>\n",
       "    </tr>\n",
       "    <tr>\n",
       "      <th>3</th>\n",
       "      <td>3</td>\n",
       "      <td>สงกรานต์สีลม สีสันความสนุก กิจกรรมดับร้อนของคน...</td>\n",
       "      <td>2019-04-13</td>\n",
       "      <td>NaN</td>\n",
       "      <td>280</td>\n",
       "      <td>NaN</td>\n",
       "      <td>NaN</td>\n",
       "      <td>NaN</td>\n",
       "      <td>Thailand</td>\n",
       "      <td>เทศกาลสงกรานต์</td>\n",
       "      <td>...</td>\n",
       "      <td>0.640314</td>\n",
       "      <td>1</td>\n",
       "      <td>1</td>\n",
       "      <td>1</td>\n",
       "      <td>25</td>\n",
       "      <td>25</td>\n",
       "      <td>1</td>\n",
       "      <td>1</td>\n",
       "      <td>4</td>\n",
       "      <td>2019</td>\n",
       "    </tr>\n",
       "    <tr>\n",
       "      <th>4</th>\n",
       "      <td>4</td>\n",
       "      <td>14 April 2003 – โครงการศึกษาจีโนมของมนุษย์เสร็...</td>\n",
       "      <td>2019-04-14</td>\n",
       "      <td>NaN</td>\n",
       "      <td>56</td>\n",
       "      <td>NaN</td>\n",
       "      <td>NaN</td>\n",
       "      <td>NaN</td>\n",
       "      <td>On this day</td>\n",
       "      <td>พันธุกรรม,วิทยาศาสตร์</td>\n",
       "      <td>...</td>\n",
       "      <td>1.000000</td>\n",
       "      <td>0</td>\n",
       "      <td>0</td>\n",
       "      <td>0</td>\n",
       "      <td>2</td>\n",
       "      <td>1</td>\n",
       "      <td>2</td>\n",
       "      <td>2</td>\n",
       "      <td>4</td>\n",
       "      <td>2019</td>\n",
       "    </tr>\n",
       "  </tbody>\n",
       "</table>\n",
       "<p>5 rows × 115 columns</p>\n",
       "</div>"
      ],
      "text/plain": [
       "   Unnamed: 0                                           headline        date  \\\n",
       "0           0  สุดารัตน์การันตี มิ่งขวัญไม่เสียสัจจะ เชื่อประ...  2019-04-13   \n",
       "1           1  สโมสรฟุตบอลซาน ลอเรนโซฯ ในอาร์เจนตินา ประกาศเซ...  2019-04-13   \n",
       "2           2       ภาพข่าวยอดเยี่ยมประจำวันที่ 7-13 เมษายน 2562  2019-04-13   \n",
       "3           3  สงกรานต์สีลม สีสันความสนุก กิจกรรมดับร้อนของคน...  2019-04-13   \n",
       "4           4  14 April 2003 – โครงการศึกษาจีโนมของมนุษย์เสร็...  2019-04-14   \n",
       "\n",
       "   time  view  like  share  comment           category  \\\n",
       "0   NaN   368   NaN    NaN      NaN  Thailand,Politics   \n",
       "1   NaN    22   NaN    NaN      NaN              Sport   \n",
       "2   NaN    31   NaN    NaN      NaN     World,Thailand   \n",
       "3   NaN   280   NaN    NaN      NaN           Thailand   \n",
       "4   NaN    56   NaN    NaN      NaN        On this day   \n",
       "\n",
       "                                                 tag  ... sim_worst  \\\n",
       "0  พรรคเพื่อไทย,สุดารัตน์ เกยุราพันธุ์,มิ่งขวัญ แ...  ...  0.722237   \n",
       "1                   Argentina,San Lorenzo de Almagro  ...  1.000000   \n",
       "2                                   ภาพข่าวยอดเยี่ยม  ...  1.000000   \n",
       "3                                     เทศกาลสงกรานต์  ...  0.640314   \n",
       "4                              พันธุกรรม,วิทยาศาสตร์  ...  1.000000   \n",
       "\n",
       "  tag_top_pop_sum tag_top_pop_mean  num_tag_pop  tag_top_worst_sum  \\\n",
       "0              10                2            4                  9   \n",
       "1               0                0            0                  4   \n",
       "2               0                0            0                 16   \n",
       "3               1                1            1                 25   \n",
       "4               0                0            0                  2   \n",
       "\n",
       "   tag_top_worst_mean  num_tag_worst  numTag  month  year  \n",
       "0                   4              2       4      4  2019  \n",
       "1                   2              2       2      4  2019  \n",
       "2                  16              1       1      4  2019  \n",
       "3                  25              1       1      4  2019  \n",
       "4                   1              2       2      4  2019  \n",
       "\n",
       "[5 rows x 115 columns]"
      ]
     },
     "execution_count": 11,
     "metadata": {},
     "output_type": "execute_result"
    }
   ],
   "source": [
    "data.head()"
   ]
  },
  {
   "cell_type": "markdown",
   "metadata": {},
   "source": [
    "## Tokenize"
   ]
  },
  {
   "cell_type": "code",
   "execution_count": 92,
   "metadata": {},
   "outputs": [],
   "source": [
    "from pythainlp.tokenize import word_tokenize\n",
    "from pythainlp.corpus import thai_stopwords\n",
    "from stop_words import get_stop_words\n",
    "import string"
   ]
  },
  {
   "cell_type": "code",
   "execution_count": 93,
   "metadata": {},
   "outputs": [],
   "source": [
    "en_stop = get_stop_words('en')\n",
    "num = [str(i) for i in range(1000)]\n",
    "stop_words = list(thai_stopwords())\n",
    "stop_words+=[' ','']\n",
    "stop_words+=string.punctuation"
   ]
  },
  {
   "cell_type": "code",
   "execution_count": 94,
   "metadata": {},
   "outputs": [],
   "source": [
    "def getToken(text):\n",
    "    res = word_tokenize(text,engine='deepcut')\n",
    "    res = [str(i).encode('utf-8') for i in res if i not in en_stop and i not in num and i.strip() not in stop_words]\n",
    "    return res"
   ]
  },
  {
   "cell_type": "code",
   "execution_count": 95,
   "metadata": {},
   "outputs": [],
   "source": [
    "data['token'] = data['headline'].apply(getToken)"
   ]
  },
  {
   "cell_type": "code",
   "execution_count": 96,
   "metadata": {},
   "outputs": [],
   "source": [
    "data['numToken'] = data['token'].apply(lambda x : len(x))"
   ]
  },
  {
   "cell_type": "code",
   "execution_count": 97,
   "metadata": {},
   "outputs": [],
   "source": [
    "data['numChar'] = data['token'].apply(lambda x: len(''.join([i.decode('utf-8') for i in x])))"
   ]
  },
  {
   "cell_type": "code",
   "execution_count": 98,
   "metadata": {},
   "outputs": [],
   "source": [
    "data['token'] = data['token'].apply(lambda x: [i.decode('utf-8') for i in x])"
   ]
  },
  {
   "cell_type": "code",
   "execution_count": 99,
   "metadata": {},
   "outputs": [],
   "source": [
    "data['token'] = data['token'].apply(lambda x : [i.replace('“,', '') for i in x])\n",
    "data['token'] = data['token'].apply(lambda x : [i.replace('”', ',') for i in x])\n",
    "data['token'] = data['token'].apply(lambda x : [i.replace(',“', ',') for i in x])\n",
    "data['token'] = data['token'].apply(lambda x : [i.replace(',,', ',') for i in x])\n",
    "data['token'] = data['token'].apply(lambda x : [i.replace('“', ',') for i in x])"
   ]
  },
  {
   "cell_type": "markdown",
   "metadata": {},
   "source": [
    "### Clean Junk"
   ]
  },
  {
   "cell_type": "markdown",
   "metadata": {},
   "source": [
    "## Date & Timedelta"
   ]
  },
  {
   "cell_type": "code",
   "execution_count": 100,
   "metadata": {},
   "outputs": [],
   "source": [
    "data['date'] = data['date'].apply(lambda x : x.split('/')[0]\n",
    "                                            +'/'+x.split('/')[1]+'/'+str(int(x.split('/')[2])-543))\n",
    "data['date'] = pd.to_datetime(data['date'],format=\"%d/%m/%Y\")\n",
    "data['timeDelta'] = pd.to_datetime('20/04/2019',format=\"%d/%m/%Y\")- data['date']\n",
    "data['timeDelta'] = data['timeDelta'].apply(lambda x: int(str(x).split(' ')[0]))"
   ]
  },
  {
   "cell_type": "code",
   "execution_count": null,
   "metadata": {},
   "outputs": [],
   "source": [
    "data['month'] = data['date'].apply(lambda x: x.month)\n",
    "data['year'] = data['date'].apply(lambda x: x.year)"
   ]
  },
  {
   "cell_type": "code",
   "execution_count": 10,
   "metadata": {},
   "outputs": [],
   "source": [
    "# data['month'] = data['date'].apply(lambda x: int(x.split('-')[1]))\n",
    "# data['year'] = data['date'].apply(lambda x: int(x.split('-')[0]))"
   ]
  },
  {
   "cell_type": "markdown",
   "metadata": {},
   "source": [
    "## POS Count"
   ]
  },
  {
   "cell_type": "code",
   "execution_count": 101,
   "metadata": {},
   "outputs": [],
   "source": [
    "from pythainlp.tag import pos_tag"
   ]
  },
  {
   "cell_type": "code",
   "execution_count": 102,
   "metadata": {},
   "outputs": [],
   "source": [
    "data['num_noun'] = 0\n",
    "data['num_pronoun'] = 0\n",
    "data['num_verb'] = 0\n",
    "data['num_preverb'] = 0\n",
    "data['num_determiner'] = 0\n",
    "data['num_adverb'] = 0\n",
    "data['num_classifier'] = 0\n",
    "data['num_conjunction'] = 0\n",
    "data['num_preposition'] = 0\n",
    "data['num_interjunction'] = 0\n",
    "data['num_prefix'] = 0\n",
    "data['num_ending'] = 0\n",
    "data['num_negator'] = 0\n",
    "data['num_punctuation'] = 0"
   ]
  },
  {
   "cell_type": "code",
   "execution_count": 108,
   "metadata": {},
   "outputs": [
    {
     "ename": "KeyError",
     "evalue": "\"''\"",
     "output_type": "error",
     "traceback": [
      "\u001b[0;31m---------------------------------------------------------------------------\u001b[0m",
      "\u001b[0;31mKeyError\u001b[0m                                  Traceback (most recent call last)",
      "\u001b[0;32m<ipython-input-108-6e5fd3726765>\u001b[0m in \u001b[0;36m<module>\u001b[0;34m\u001b[0m\n\u001b[1;32m      1\u001b[0m \u001b[0;32mfor\u001b[0m \u001b[0mindex\u001b[0m\u001b[0;34m,\u001b[0m \u001b[0mrow\u001b[0m \u001b[0;32min\u001b[0m \u001b[0mdata\u001b[0m\u001b[0;34m.\u001b[0m\u001b[0miterrows\u001b[0m\u001b[0;34m(\u001b[0m\u001b[0;34m)\u001b[0m\u001b[0;34m:\u001b[0m\u001b[0;34m\u001b[0m\u001b[0m\n\u001b[0;32m----> 2\u001b[0;31m     \u001b[0mpos\u001b[0m \u001b[0;34m=\u001b[0m \u001b[0mpos_tag\u001b[0m\u001b[0;34m(\u001b[0m\u001b[0;34m[\u001b[0m\u001b[0mi\u001b[0m\u001b[0;34m.\u001b[0m\u001b[0mreplace\u001b[0m\u001b[0;34m(\u001b[0m\u001b[0;34m\"''\"\u001b[0m\u001b[0;34m,\u001b[0m\u001b[0;34m''\u001b[0m\u001b[0;34m)\u001b[0m \u001b[0;32mfor\u001b[0m \u001b[0mi\u001b[0m \u001b[0;32min\u001b[0m \u001b[0mrow\u001b[0m\u001b[0;34m[\u001b[0m\u001b[0;34m'token'\u001b[0m\u001b[0;34m]\u001b[0m\u001b[0;34m]\u001b[0m\u001b[0;34m,\u001b[0m\u001b[0mengine\u001b[0m\u001b[0;34m=\u001b[0m\u001b[0;34m'artagger'\u001b[0m\u001b[0;34m)\u001b[0m\u001b[0;34m\u001b[0m\u001b[0m\n\u001b[0m\u001b[1;32m      3\u001b[0m     \u001b[0;32mfor\u001b[0m \u001b[0mtoken\u001b[0m\u001b[0;34m,\u001b[0m\u001b[0mp\u001b[0m \u001b[0;32min\u001b[0m \u001b[0mpos\u001b[0m\u001b[0;34m:\u001b[0m\u001b[0;34m\u001b[0m\u001b[0m\n\u001b[1;32m      4\u001b[0m         \u001b[0;32mif\u001b[0m \u001b[0mp\u001b[0m\u001b[0;34m[\u001b[0m\u001b[0;36m0\u001b[0m\u001b[0;34m]\u001b[0m \u001b[0;34m==\u001b[0m\u001b[0;34m'NEG'\u001b[0m\u001b[0;34m:\u001b[0m\u001b[0;34m\u001b[0m\u001b[0m\n\u001b[1;32m      5\u001b[0m             \u001b[0mdata\u001b[0m\u001b[0;34m.\u001b[0m\u001b[0mat\u001b[0m\u001b[0;34m[\u001b[0m\u001b[0mindex\u001b[0m\u001b[0;34m,\u001b[0m\u001b[0;34m'NEG'\u001b[0m\u001b[0;34m]\u001b[0m \u001b[0;34m+=\u001b[0m \u001b[0;36m1\u001b[0m\u001b[0;34m\u001b[0m\u001b[0m\n",
      "\u001b[0;32m~/.pyenv/versions/3.6.0/lib/python3.6/site-packages/pythainlp/tag/__init__.py\u001b[0m in \u001b[0;36mpos_tag\u001b[0;34m(words, engine, corpus)\u001b[0m\n\u001b[1;32m    150\u001b[0m     \u001b[0;32melse\u001b[0m\u001b[0;34m:\u001b[0m  \u001b[0;31m# default, use \"unigram\" (\"old\") engine\u001b[0m\u001b[0;34m\u001b[0m\u001b[0m\n\u001b[1;32m    151\u001b[0m         \u001b[0;32mfrom\u001b[0m \u001b[0;34m.\u001b[0m\u001b[0munigram\u001b[0m \u001b[0;32mimport\u001b[0m \u001b[0mtag\u001b[0m \u001b[0;32mas\u001b[0m \u001b[0mtag_\u001b[0m\u001b[0;34m\u001b[0m\u001b[0m\n\u001b[0;32m--> 152\u001b[0;31m     \u001b[0m_tag\u001b[0m \u001b[0;34m=\u001b[0m \u001b[0mtag_\u001b[0m\u001b[0;34m(\u001b[0m\u001b[0mwords\u001b[0m\u001b[0;34m,\u001b[0m \u001b[0mcorpus\u001b[0m\u001b[0;34m=\u001b[0m\u001b[0mcorpus\u001b[0m\u001b[0;34m)\u001b[0m\u001b[0;34m\u001b[0m\u001b[0m\n\u001b[0m\u001b[1;32m    153\u001b[0m \u001b[0;34m\u001b[0m\u001b[0m\n\u001b[1;32m    154\u001b[0m     \u001b[0;32mif\u001b[0m \u001b[0m_corpus\u001b[0m \u001b[0;34m==\u001b[0m \u001b[0;34m\"orchid_ud\"\u001b[0m\u001b[0;34m:\u001b[0m\u001b[0;34m\u001b[0m\u001b[0m\n",
      "\u001b[0;32m~/.pyenv/versions/3.6.0/lib/python3.6/site-packages/pythainlp/tag/__init__.py\u001b[0m in \u001b[0;36m_artagger_tag\u001b[0;34m(words, corpus)\u001b[0m\n\u001b[1;32m    115\u001b[0m     \u001b[0;32mfrom\u001b[0m \u001b[0martagger\u001b[0m \u001b[0;32mimport\u001b[0m \u001b[0mTagger\u001b[0m\u001b[0;34m\u001b[0m\u001b[0m\n\u001b[1;32m    116\u001b[0m \u001b[0;34m\u001b[0m\u001b[0m\n\u001b[0;32m--> 117\u001b[0;31m     \u001b[0mwords_\u001b[0m \u001b[0;34m=\u001b[0m \u001b[0mTagger\u001b[0m\u001b[0;34m(\u001b[0m\u001b[0;34m)\u001b[0m\u001b[0;34m.\u001b[0m\u001b[0mtag\u001b[0m\u001b[0;34m(\u001b[0m\u001b[0;34m\" \"\u001b[0m\u001b[0;34m.\u001b[0m\u001b[0mjoin\u001b[0m\u001b[0;34m(\u001b[0m\u001b[0mwords\u001b[0m\u001b[0;34m)\u001b[0m\u001b[0;34m)\u001b[0m\u001b[0;34m\u001b[0m\u001b[0m\n\u001b[0m\u001b[1;32m    118\u001b[0m \u001b[0;34m\u001b[0m\u001b[0m\n\u001b[1;32m    119\u001b[0m     \u001b[0;32mreturn\u001b[0m \u001b[0;34m[\u001b[0m\u001b[0;34m(\u001b[0m\u001b[0mword\u001b[0m\u001b[0;34m.\u001b[0m\u001b[0mword\u001b[0m\u001b[0;34m,\u001b[0m \u001b[0mword\u001b[0m\u001b[0;34m.\u001b[0m\u001b[0mtag\u001b[0m\u001b[0;34m)\u001b[0m \u001b[0;32mfor\u001b[0m \u001b[0mword\u001b[0m \u001b[0;32min\u001b[0m \u001b[0mwords_\u001b[0m\u001b[0;34m]\u001b[0m\u001b[0;34m\u001b[0m\u001b[0m\n",
      "\u001b[0;32m~/.pyenv/versions/3.6.0/lib/python3.6/site-packages/artagger/__init__.py\u001b[0m in \u001b[0;36mtag\u001b[0;34m(self, text)\u001b[0m\n\u001b[1;32m     60\u001b[0m         \u001b[0mtagger\u001b[0m\u001b[0;34m.\u001b[0m\u001b[0mconstructSCRDRtreeFromRDRfile\u001b[0m\u001b[0;34m(\u001b[0m\u001b[0mrdr_file\u001b[0m\u001b[0;34m.\u001b[0m\u001b[0mreadlines\u001b[0m\u001b[0;34m(\u001b[0m\u001b[0;34m)\u001b[0m\u001b[0;34m)\u001b[0m\u001b[0;34m\u001b[0m\u001b[0m\n\u001b[1;32m     61\u001b[0m         \u001b[0mdictionary\u001b[0m \u001b[0;34m=\u001b[0m \u001b[0mreadDictionary\u001b[0m\u001b[0;34m(\u001b[0m\u001b[0mdict_file\u001b[0m\u001b[0;34m.\u001b[0m\u001b[0mreadlines\u001b[0m\u001b[0;34m(\u001b[0m\u001b[0;34m)\u001b[0m\u001b[0;34m)\u001b[0m\u001b[0;34m\u001b[0m\u001b[0m\n\u001b[0;32m---> 62\u001b[0;31m         \u001b[0;32mreturn\u001b[0m \u001b[0mtagger\u001b[0m\u001b[0;34m.\u001b[0m\u001b[0mtagRawSentence\u001b[0m\u001b[0;34m(\u001b[0m\u001b[0mdictionary\u001b[0m\u001b[0;34m,\u001b[0m \u001b[0mself\u001b[0m\u001b[0;34m.\u001b[0m\u001b[0mtext\u001b[0m\u001b[0;34m)\u001b[0m\u001b[0;34m\u001b[0m\u001b[0m\n\u001b[0m",
      "\u001b[0;32m~/.pyenv/versions/3.6.0/lib/python3.6/site-packages/artagger/__init__.py\u001b[0m in \u001b[0;36mtagRawSentence\u001b[0;34m(self, dictionary, rawLine)\u001b[0m\n\u001b[1;32m     22\u001b[0m \u001b[0;34m\u001b[0m\u001b[0m\n\u001b[1;32m     23\u001b[0m     \u001b[0;32mdef\u001b[0m \u001b[0mtagRawSentence\u001b[0m\u001b[0;34m(\u001b[0m\u001b[0mself\u001b[0m\u001b[0;34m,\u001b[0m \u001b[0mdictionary\u001b[0m\u001b[0;34m,\u001b[0m \u001b[0mrawLine\u001b[0m\u001b[0;34m)\u001b[0m\u001b[0;34m:\u001b[0m\u001b[0;34m\u001b[0m\u001b[0m\n\u001b[0;32m---> 24\u001b[0;31m         \u001b[0mline\u001b[0m \u001b[0;34m=\u001b[0m \u001b[0minitializeSentence\u001b[0m\u001b[0;34m(\u001b[0m\u001b[0mdictionary\u001b[0m\u001b[0;34m,\u001b[0m \u001b[0mrawLine\u001b[0m\u001b[0;34m)\u001b[0m\u001b[0;34m\u001b[0m\u001b[0m\n\u001b[0m\u001b[1;32m     25\u001b[0m         \u001b[0msen\u001b[0m \u001b[0;34m=\u001b[0m \u001b[0;34m[\u001b[0m\u001b[0;34m]\u001b[0m\u001b[0;34m\u001b[0m\u001b[0m\n\u001b[1;32m     26\u001b[0m         \u001b[0mwordTags\u001b[0m \u001b[0;34m=\u001b[0m \u001b[0mline\u001b[0m\u001b[0;34m.\u001b[0m\u001b[0msplit\u001b[0m\u001b[0;34m(\u001b[0m\u001b[0;34m)\u001b[0m\u001b[0;34m\u001b[0m\u001b[0m\n",
      "\u001b[0;32m~/.pyenv/versions/3.6.0/lib/python3.6/site-packages/artagger/InitialTagger/InitialTagger.py\u001b[0m in \u001b[0;36minitializeSentence\u001b[0;34m(FREQDICT, sentence)\u001b[0m\n\u001b[1;32m      9\u001b[0m     \u001b[0;32mfor\u001b[0m \u001b[0mword\u001b[0m \u001b[0;32min\u001b[0m \u001b[0mwords\u001b[0m\u001b[0;34m:\u001b[0m\u001b[0;34m\u001b[0m\u001b[0m\n\u001b[1;32m     10\u001b[0m         \u001b[0;32mif\u001b[0m \u001b[0mword\u001b[0m \u001b[0;32min\u001b[0m \u001b[0;34m[\u001b[0m\u001b[0;34m\"“\"\u001b[0m\u001b[0;34m,\u001b[0m \u001b[0;34m\"”\"\u001b[0m\u001b[0;34m,\u001b[0m \u001b[0;34m\"\\\"\"\u001b[0m\u001b[0;34m]\u001b[0m\u001b[0;34m:\u001b[0m\u001b[0;34m\u001b[0m\u001b[0m\n\u001b[0;32m---> 11\u001b[0;31m             \u001b[0mtaggedSen\u001b[0m\u001b[0;34m.\u001b[0m\u001b[0mappend\u001b[0m\u001b[0;34m(\u001b[0m\u001b[0;34m\"''/\"\u001b[0m \u001b[0;34m+\u001b[0m \u001b[0mFREQDICT\u001b[0m\u001b[0;34m[\u001b[0m\u001b[0;34m\"''\"\u001b[0m\u001b[0;34m]\u001b[0m\u001b[0;34m)\u001b[0m\u001b[0;34m\u001b[0m\u001b[0m\n\u001b[0m\u001b[1;32m     12\u001b[0m             \u001b[0;32mcontinue\u001b[0m\u001b[0;34m\u001b[0m\u001b[0m\n\u001b[1;32m     13\u001b[0m \u001b[0;34m\u001b[0m\u001b[0m\n",
      "\u001b[0;31mKeyError\u001b[0m: \"''\""
     ]
    }
   ],
   "source": [
    "for index, row in data.iterrows():\n",
    "    pos = pos_tag([i.replace(\"\\''\",'') for i in row['token']],engine='artagger')\n",
    "    for token,p in pos:\n",
    "        if p[0] =='NEG':\n",
    "            data.at[index,'NEG'] += 1\n",
    "        elif p[0] =='N':\n",
    "            data.at[index,'num_noun'] += 1\n",
    "        elif p[0] =='PUNC':\n",
    "            data.at[index,'num_punctuation'] += 1\n",
    "        elif p[0] =='P':\n",
    "            data.at[index,'num_pronoun'] += 1\n",
    "        elif p[0] =='V':\n",
    "            data.at[index,'num_verb'] += 1\n",
    "        elif p[0] =='X':\n",
    "            data.at[index,'num_preverb'] += 1\n",
    "        elif p[0] =='D':\n",
    "            data.at[index,'num_determiner'] += 1\n",
    "        elif p[0] =='A':\n",
    "            data.at[index,'num_adverb'] += 1\n",
    "        elif p[0] =='C':\n",
    "            data.at[index,'num_classifier'] += 1\n",
    "        elif p[0] =='J':\n",
    "            data.at[index,'num_conjunction'] += 1\n",
    "        elif p[0] =='R':\n",
    "            data.at[index,'num_preposition'] += 1\n",
    "        elif p[0] =='I':\n",
    "            data.at[index,'num_interjunction'] += 1\n",
    "        elif p[0] =='F':\n",
    "            data.at[index,'num_prefix'] += 1\n",
    "        elif p[0] =='E':\n",
    "            data.at[index,'num_ending'] += 1"
   ]
  },
  {
   "cell_type": "code",
   "execution_count": null,
   "metadata": {},
   "outputs": [],
   "source": [
    "data['nnoun_per_ntoken'] = data['num_noun']/data['numToken']\n",
    "data['nverb_per_ntoken'] = data['num_verb']/data['numToken']\n",
    "data['nadverb_per_ntoken'] = data['num_adverb']/data['numToken']"
   ]
  },
  {
   "cell_type": "markdown",
   "metadata": {},
   "source": [
    "## Tag / Category"
   ]
  },
  {
   "cell_type": "code",
   "execution_count": null,
   "metadata": {},
   "outputs": [],
   "source": [
    "unique_category = set()\n",
    "for i in data['category']:\n",
    "    for j in str(i).split(','):\n",
    "        unique_category.add(j.strip())"
   ]
  },
  {
   "cell_type": "code",
   "execution_count": null,
   "metadata": {},
   "outputs": [],
   "source": [
    "for i in list(unique_category):\n",
    "    data['is_'+i] = data.apply(lambda row : int(i in str(row['category'])),axis=1)"
   ]
  },
  {
   "cell_type": "code",
   "execution_count": null,
   "metadata": {},
   "outputs": [],
   "source": [
    "data['tag_pop_sum'] = 0\n",
    "data['tag_pop_mean'] = 0"
   ]
  },
  {
   "cell_type": "code",
   "execution_count": null,
   "metadata": {},
   "outputs": [],
   "source": [
    "tag_dict = dict()\n",
    "for index, row in data.iterrows():\n",
    "    tag = str(row['tag']).split(',')\n",
    "    for t in tag:\n",
    "        if t not in tag_dict.keys():\n",
    "            tag_dict[t] = 1\n",
    "        else:\n",
    "            tag_dict[t] += 1"
   ]
  },
  {
   "cell_type": "code",
   "execution_count": null,
   "metadata": {},
   "outputs": [],
   "source": [
    "for index, row in data.iterrows():\n",
    "    tag = str(row['tag']).split(',')\n",
    "    pop_list = [tag_dict[t] for t in tag if t in tag_dict.keys()]\n",
    "    data.at[index,'tag_pop_sum'] = sum(pop_list)\n",
    "    if len(pop_list) > 0:\n",
    "        data.at[index,'tag_pop_mean'] = sum(pop_list)/len(pop_list)"
   ]
  },
  {
   "cell_type": "markdown",
   "metadata": {},
   "source": [
    "## NER Count"
   ]
  },
  {
   "cell_type": "code",
   "execution_count": 39,
   "metadata": {},
   "outputs": [],
   "source": [
    "from pythainlp.tag.named_entity import ThaiNameTagger\n",
    "ner = ThaiNameTagger()"
   ]
  },
  {
   "cell_type": "code",
   "execution_count": 40,
   "metadata": {},
   "outputs": [],
   "source": [
    "thai_abb = pd.read_csv('../Eye/thai_abb.csv')"
   ]
  },
  {
   "cell_type": "code",
   "execution_count": 41,
   "metadata": {},
   "outputs": [],
   "source": [
    "abb_set = set(thai_abb['อักษรย่อ'])"
   ]
  },
  {
   "cell_type": "code",
   "execution_count": 42,
   "metadata": {},
   "outputs": [],
   "source": [
    "data['num_date'] = 0\n",
    "data['num_email'] = 0\n",
    "data['num_law'] = 0\n",
    "data['num_len'] = 0\n",
    "data['num_location'] = 0\n",
    "data['num_money'] = 0\n",
    "data['num_organization'] = 0\n",
    "data['num_percent'] = 0\n",
    "data['num_person'] = 0\n",
    "data['num_phone'] = 0\n",
    "data['num_time'] = 0\n",
    "data['num_url'] = 0"
   ]
  },
  {
   "cell_type": "code",
   "execution_count": 43,
   "metadata": {},
   "outputs": [],
   "source": [
    "for index, row in data.iterrows():\n",
    "    token = row['token']\n",
    "    for t in token:\n",
    "        if t in abb_set:\n",
    "            t = list(thai_abb[thai_abb['อักษรย่อ']==t]['ชื่อเต็ม'])[0]\n",
    "        elif t.split('.')[0] in abb_set:\n",
    "            t = list(thai_abb[thai_abb['อักษรย่อ']==t.split('.')[0]]['ชื่อเต็ม'])[0]\n",
    "        NER = ner.get_ner(t)\n",
    "        if len(NER) > 1:\n",
    "            word,pos,n = NER[1]\n",
    "        else:\n",
    "            word,pos,n = NER[0]  \n",
    "        if n == 'I-DATE':\n",
    "            data.at[index,'num_date'] += 1\n",
    "        elif n == 'I-EMAIL':\n",
    "            data.at[index,'num_email'] += 1\n",
    "        elif n == 'I-LAW':\n",
    "            data.at[index,'num_law'] += 1\n",
    "        elif n == 'I-LEN':\n",
    "            data.at[index,'num_len'] += 1\n",
    "        elif n == 'I-LOCATION':\n",
    "            data.at[index,'num_location'] += 1\n",
    "        elif n == 'I-MONEY':\n",
    "            data.at[index,'num_money'] += 1\n",
    "        elif n == 'I-ORGANIZATION':\n",
    "            data.at[index,'num_organization'] += 1\n",
    "        elif n == 'I-PERCENT':\n",
    "            data.at[index,'num_percent'] += 1\n",
    "        elif n == 'I-PERSON':\n",
    "            data.at[index,'num_person'] += 1\n",
    "        elif n == 'I-PHONE':\n",
    "            data.at[index,'num_phone'] += 1\n",
    "        elif n == 'I-TIME':\n",
    "            data.at[index,'num_time'] += 1\n",
    "        elif n == 'I-URL':\n",
    "            data.at[index,'num_url'] += 1         "
   ]
  },
  {
   "cell_type": "markdown",
   "metadata": {},
   "source": [
    "## Thai Names"
   ]
  },
  {
   "cell_type": "code",
   "execution_count": 44,
   "metadata": {},
   "outputs": [],
   "source": [
    "thai_name = pd.read_csv('../Eye/ThaiName.txt',sep=\" \",header=None)\n",
    "thai_name.columns = [\"firstName\", \"lastName\"]\n",
    "thai_name.dropna(inplace=True)\n",
    "thai_name_f = pd.read_csv('../Eye/ThaiName-female.txt',sep=\" \",header=None)\n",
    "thai_name_f.columns = [\"firstName\"]\n",
    "thai_name_f.dropna(inplace=True)\n",
    "thai_name_m = pd.read_csv('../Eye/ThaiName-man.txt',sep=\" \",header=None)\n",
    "thai_name_m.columns = [\"firstName\"]\n",
    "thai_name_m.dropna(inplace=True)"
   ]
  },
  {
   "cell_type": "code",
   "execution_count": 45,
   "metadata": {},
   "outputs": [],
   "source": [
    "thaiNameSet = set(thai_name_f['firstName']).union(set(thai_name_m['firstName']))"
   ]
  },
  {
   "cell_type": "code",
   "execution_count": 46,
   "metadata": {},
   "outputs": [],
   "source": [
    "data['num_person_2'] = 0"
   ]
  },
  {
   "cell_type": "code",
   "execution_count": 47,
   "metadata": {},
   "outputs": [],
   "source": [
    "reserve_name = ['สมัคร','ชวน','พายุ','เลื่อน','อำนาจ','สัญญา','นิยม']"
   ]
  },
  {
   "cell_type": "code",
   "execution_count": 48,
   "metadata": {},
   "outputs": [],
   "source": [
    "for index, row in data.iterrows():\n",
    "    token = row['token']\n",
    "    for t in token : \n",
    "        if t in thaiNameSet and t not in reserve_name:\n",
    "            data.at[index,'num_person_2'] += 1   "
   ]
  },
  {
   "cell_type": "markdown",
   "metadata": {},
   "source": [
    "## Sentiment"
   ]
  },
  {
   "cell_type": "code",
   "execution_count": 49,
   "metadata": {},
   "outputs": [],
   "source": [
    "pos_df1 = pd.read_csv('../Eye/sentiment_data/positive_new.txt', header=None)\n",
    "pos_df1.columns = [\"pos_word\"]\n",
    "pos_df1.dropna(inplace=True)\n",
    "pos_df2 = pd.read_csv('../Eye/sentiment_data/positive__verbs.txt', header=None)\n",
    "pos_df2.columns = [\"pos_word\"]\n",
    "pos_df2.dropna(inplace=True)\n",
    "pos_df3 = pd.read_csv('../Eye/sentiment_data/positive__adjectives.txt', header=None)\n",
    "pos_df3.columns = [\"pos_word\"]\n",
    "pos_df3.dropna(inplace=True)"
   ]
  },
  {
   "cell_type": "code",
   "execution_count": 50,
   "metadata": {},
   "outputs": [],
   "source": [
    "neg_df1 = pd.read_csv('../Eye/sentiment_data/negative_new.txt', header=None)\n",
    "neg_df1.columns = [\"neg_word\"]\n",
    "neg_df1.dropna(inplace=True)\n",
    "neg_df2 = pd.read_csv('../Eye/sentiment_data/negative_verbs.txt', header=None)\n",
    "neg_df2.columns = [\"neg_word\"]\n",
    "neg_df2.dropna(inplace=True)\n",
    "neg_df3 = pd.read_csv('../Eye/sentiment_data/negative_adjectives.txt', header=None)\n",
    "neg_df3.columns = [\"neg_word\"]\n",
    "neg_df3.dropna(inplace=True)"
   ]
  },
  {
   "cell_type": "code",
   "execution_count": 51,
   "metadata": {},
   "outputs": [],
   "source": [
    "pos_word_set = set(pos_df1['pos_word']).union(set(pos_df2['pos_word'])).union(set(pos_df3['pos_word']))\n",
    "neg_word_set = set(neg_df1['neg_word']).union(set(neg_df2['neg_word'])).union(set(neg_df3['neg_word']))"
   ]
  },
  {
   "cell_type": "code",
   "execution_count": 52,
   "metadata": {},
   "outputs": [],
   "source": [
    "data['num_pos'] = 0\n",
    "data['num_neg'] = 0"
   ]
  },
  {
   "cell_type": "code",
   "execution_count": 53,
   "metadata": {},
   "outputs": [],
   "source": [
    "for index, row in data.iterrows():\n",
    "    token = row['token']\n",
    "    for t in token : \n",
    "        if t in pos_word_set:\n",
    "            data.at[index,'num_pos'] += 1  \n",
    "        elif t in neg_word_set:\n",
    "            data.at[index,'num_neg'] += 1  "
   ]
  },
  {
   "cell_type": "markdown",
   "metadata": {},
   "source": [
    "## Tag"
   ]
  },
  {
   "cell_type": "code",
   "execution_count": 64,
   "metadata": {},
   "outputs": [],
   "source": [
    "data['tag_pop_sum'] = 0\n",
    "data['tag_pop_mean'] = 0\n",
    "data['tag_top_pop_sum'] = 0\n",
    "data['tag_top_pop_mean'] = 0\n",
    "data['num_tag_pop'] = 0\n",
    "data['tag_top_worst_sum'] = 0\n",
    "data['tag_top_worst_mean'] = 0\n",
    "data['num_tag_worst'] = 0"
   ]
  },
  {
   "cell_type": "code",
   "execution_count": 80,
   "metadata": {},
   "outputs": [],
   "source": [
    "data['numTag'] = data.apply(lambda x: len(str(x['tag']).split(',')),axis = 1)"
   ]
  },
  {
   "cell_type": "code",
   "execution_count": 66,
   "metadata": {},
   "outputs": [],
   "source": [
    "for index, row in data.iterrows():\n",
    "    tag = str(row['tag']).split(',')\n",
    "    pop_list = [tag_dict[t] for t in tag if t in tag_dict.keys()]\n",
    "    data.at[index,'tag_pop_sum'] = sum(pop_list)\n",
    "    if len(pop_list) > 0:\n",
    "        data.at[index,'tag_pop_mean'] = sum(pop_list)/len(pop_list)"
   ]
  },
  {
   "cell_type": "code",
   "execution_count": 67,
   "metadata": {},
   "outputs": [],
   "source": [
    "top_news = pd.DataFrame(data.sort_values('view',ascending=False)[:1000])\n",
    "worst_news = pd.DataFrame(data.sort_values('view',ascending=True)[:1000])"
   ]
  },
  {
   "cell_type": "code",
   "execution_count": 81,
   "metadata": {},
   "outputs": [],
   "source": [
    "tag_dict_top = dict()\n",
    "for index, row in top_news.iterrows():\n",
    "    tag = str(row['tag']).split(',')\n",
    "    for t in tag:\n",
    "        if t not in tag_dict_top.keys():\n",
    "            tag_dict_top[t] = 1\n",
    "        else:\n",
    "            tag_dict_top[t] += 1"
   ]
  },
  {
   "cell_type": "code",
   "execution_count": 70,
   "metadata": {},
   "outputs": [],
   "source": [
    "tag_dict_worst = dict()\n",
    "for index, row in worst_news.iterrows():\n",
    "    tag = str(row['tag']).split(',')\n",
    "    for t in tag:\n",
    "        if t not in tag_dict_worst.keys():\n",
    "            tag_dict_worst[t] = 1\n",
    "        else:\n",
    "            tag_dict_worst[t] += 1"
   ]
  },
  {
   "cell_type": "code",
   "execution_count": 71,
   "metadata": {},
   "outputs": [],
   "source": [
    "for index, row in data.iterrows():\n",
    "    tag = str(row['tag']).split(',')\n",
    "    pop_list = [tag_dict_top[t] for t in tag if t in tag_dict_top.keys()]\n",
    "    data.at[index,'num_tag_pop'] = len(pop_list)\n",
    "    data.at[index,'tag_top_pop_sum'] = sum(pop_list)\n",
    "    if len(pop_list) > 0:\n",
    "        data.at[index,'tag_top_pop_mean'] = sum(pop_list)/len(pop_list)"
   ]
  },
  {
   "cell_type": "code",
   "execution_count": 73,
   "metadata": {},
   "outputs": [],
   "source": [
    "for index, row in data.iterrows():\n",
    "    tag = str(row['tag']).split(',')\n",
    "    worst_list = [tag_dict_worst[t] for t in tag if t in tag_dict_worst.keys()]\n",
    "    data.at[index,'num_tag_worst'] = len(worst_list)\n",
    "    data.at[index,'tag_top_worst_sum'] = sum(worst_list)\n",
    "    if len(worst_list) > 0:\n",
    "        data.at[index,'tag_top_worst_mean'] = sum(worst_list)/len(worst_list)"
   ]
  },
  {
   "cell_type": "markdown",
   "metadata": {},
   "source": [
    "## Similarity"
   ]
  },
  {
   "cell_type": "code",
   "execution_count": 55,
   "metadata": {},
   "outputs": [
    {
     "name": "stderr",
     "output_type": "stream",
     "text": [
      "/home/arintrongs2/.pyenv/versions/3.6.0/lib/python3.6/site-packages/smart_open/ssh.py:34: UserWarning: paramiko missing, opening SSH/SCP/SFTP paths will be disabled.  `pip install paramiko` to suppress\n",
      "  warnings.warn('paramiko missing, opening SSH/SCP/SFTP paths will be disabled.  `pip install paramiko` to suppress')\n"
     ]
    }
   ],
   "source": [
    "from sklearn import preprocessing\n",
    "from sklearn.preprocessing import MinMaxScaler\n",
    "from sklearn.metrics.pairwise import cosine_similarity\n",
    "from pythainlp.word_vector import sentence_vectorizer"
   ]
  },
  {
   "cell_type": "code",
   "execution_count": 56,
   "metadata": {},
   "outputs": [],
   "source": [
    "def findMaxSim(embed1, headline_embed):\n",
    "    a = np.asarray([cosine_similarity(embed1,x) for x in headline_embed])\n",
    "    return a.max()"
   ]
  },
  {
   "cell_type": "code",
   "execution_count": 57,
   "metadata": {},
   "outputs": [],
   "source": [
    "top_headline = np.asarray(pd.DataFrame(data.sort_values('view',ascending=False)[:1000]['headline'])['headline'])\n",
    "top_headline_embed = np.asarray([sentence_vectorizer(x) for x in top_headline])\n",
    "worst_headline = np.asarray(pd.DataFrame(data.sort_values('view',ascending=True)[:1000]['headline'])['headline'])\n",
    "worst_headline_embed = np.asarray([sentence_vectorizer(x) for x in worst_headline])"
   ]
  },
  {
   "cell_type": "markdown",
   "metadata": {},
   "source": [
    "### ** Becareful this cell runs fucking long**"
   ]
  },
  {
   "cell_type": "code",
   "execution_count": 58,
   "metadata": {},
   "outputs": [],
   "source": [
    "for index, row in data.iterrows():\n",
    "    sent = row['headline']\n",
    "    sent_embed = sentence_vectorizer(sent)\n",
    "    data.at[index,'sim_top'] = findMaxSim(sent_embed,top_headline_embed)\n",
    "    data.at[index,'sim_worst'] = findMaxSim(sent_embed,worst_headline_embed)"
   ]
  },
  {
   "cell_type": "markdown",
   "metadata": {},
   "source": [
    "## Save to .CSV"
   ]
  },
  {
   "cell_type": "code",
   "execution_count": 12,
   "metadata": {},
   "outputs": [],
   "source": [
    "data.to_csv(output_csv_path)"
   ]
  }
 ],
 "metadata": {
  "kernelspec": {
   "display_name": "Python 3",
   "language": "python",
   "name": "python3"
  },
  "language_info": {
   "codemirror_mode": {
    "name": "ipython",
    "version": 3
   },
   "file_extension": ".py",
   "mimetype": "text/x-python",
   "name": "python",
   "nbconvert_exporter": "python",
   "pygments_lexer": "ipython3",
   "version": "3.7.2"
  }
 },
 "nbformat": 4,
 "nbformat_minor": 2
}
