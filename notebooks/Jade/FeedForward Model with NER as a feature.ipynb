{
 "cells": [
  {
   "cell_type": "code",
   "execution_count": 211,
   "metadata": {},
   "outputs": [],
   "source": [
    "%matplotlib inline\n",
    "import pandas as pd\n",
    "import sklearn\n",
    "import numpy as np\n",
    "from IPython.display import display\n",
    "from sklearn.metrics import f1_score\n",
    "import matplotlib.pyplot as plt\n",
    "from matplotlib import rcParams\n",
    "import scipy.stats as stats\n",
    "import seaborn as sns\n",
    "sns.set(style=\"darkgrid\")"
   ]
  },
  {
   "cell_type": "code",
   "execution_count": 44,
   "metadata": {},
   "outputs": [],
   "source": [
    "from pythainlp.tag.named_entity import ThaiNameTagger"
   ]
  },
  {
   "cell_type": "code",
   "execution_count": 144,
   "metadata": {},
   "outputs": [],
   "source": [
    "the_standard = pd.read_csv('../../data/the_standard_data.csv')"
   ]
  },
  {
   "cell_type": "code",
   "execution_count": 145,
   "metadata": {},
   "outputs": [],
   "source": [
    "thai_pbs = pd.read_csv('../../data/Thaipbs-tokenize_include_stop.csv')"
   ]
  },
  {
   "cell_type": "code",
   "execution_count": 146,
   "metadata": {},
   "outputs": [
    {
     "name": "stderr",
     "output_type": "stream",
     "text": [
      "/Users/tomfoolery/Documents/Study/py37_env/lib/python3.7/site-packages/ipykernel_launcher.py:1: FutureWarning: Sorting because non-concatenation axis is not aligned. A future version\n",
      "of pandas will change to not sort by default.\n",
      "\n",
      "To accept the future behavior, pass 'sort=False'.\n",
      "\n",
      "To retain the current behavior and silence the warning, pass 'sort=True'.\n",
      "\n",
      "  \"\"\"Entry point for launching an IPython kernel.\n"
     ]
    }
   ],
   "source": [
    "train_data = pd.concat([the_standard,thai_pbs[:4*len(thai_pbs)//5]])\n",
    "test_data = pd.concat([thai_pbs[4*len(thai_pbs)//5:]])"
   ]
  },
  {
   "cell_type": "code",
   "execution_count": 147,
   "metadata": {},
   "outputs": [],
   "source": [
    "ner_tagger = ThaiNameTagger()"
   ]
  },
  {
   "cell_type": "code",
   "execution_count": 250,
   "metadata": {},
   "outputs": [
    {
     "name": "stdout",
     "output_type": "stream",
     "text": [
      "STD :  506.6089725616039\n",
      "MEAN :  663.6907290958532\n",
      "[0.0017565342492673608, 233.0731024184899, 309.06444830273045, 486.3775886992918, 663.6907290958532, 1170.299701657457, 2183.517646780665]\n"
     ]
    }
   ],
   "source": [
    "boundary = 2000\n",
    "data_bounded = train_data[train_data['view']<boundary]\n",
    "x = data_bounded['view']\n",
    "std = np.std(x)\n",
    "mean = np.mean(x)\n",
    "groups = [mean-1*std-157.08,mean-0.85*std,mean-0.7*std,mean-0.35*std,mean,mean+std,mean+3*std]\n",
    "print('STD : ',std)\n",
    "print('MEAN : ',mean)\n",
    "print(groups)"
   ]
  },
  {
   "cell_type": "code",
   "execution_count": 251,
   "metadata": {},
   "outputs": [],
   "source": [
    "pop_level = []\n",
    "for i in x:\n",
    "    for j in range(len(groups)-1):\n",
    "        if i >= groups[j] and i <= groups[j+1]:\n",
    "            pop_level+=[j]"
   ]
  },
  {
   "cell_type": "code",
   "execution_count": 252,
   "metadata": {},
   "outputs": [
    {
     "name": "stdout",
     "output_type": "stream",
     "text": [
      "(array([0, 1, 2, 3, 4, 5]), array([4718, 2557, 4373, 3044, 4566, 4275]))\n"
     ]
    }
   ],
   "source": [
    "print(np.unique(pop_level,return_counts=True))"
   ]
  },
  {
   "cell_type": "markdown",
   "metadata": {},
   "source": [
    "## Prepare Data"
   ]
  },
  {
   "cell_type": "code",
   "execution_count": 253,
   "metadata": {},
   "outputs": [],
   "source": [
    "headlines = data_bounded['headline']\n",
    "views = data_bounded['view']\n",
    "dow = data_bounded['DOW']"
   ]
  },
  {
   "cell_type": "code",
   "execution_count": 255,
   "metadata": {},
   "outputs": [],
   "source": [
    "ner = set()\n",
    "pos = set()\n",
    "for hl in [ner_tagger.get_ner(i) for i in headlines]:\n",
    "    for word in hl:\n",
    "        ner.add(word[1])\n",
    "        pos.add(word[2])"
   ]
  },
  {
   "cell_type": "code",
   "execution_count": 256,
   "metadata": {},
   "outputs": [],
   "source": [
    "ner = list(ner)\n",
    "pos = list(pos)\n",
    "ner_idx = [i for i in range(1,len(ner)+1)]\n",
    "pos_idx = [i for i in range(1,len(pos)+1)]\n",
    "dow_idx = [i for i in range(1,len(list(set(dow)))+1)]"
   ]
  },
  {
   "cell_type": "code",
   "execution_count": 257,
   "metadata": {},
   "outputs": [],
   "source": [
    "ner_to_idx = dict(zip(ner,ner_idx))\n",
    "idx_to_ner = {v: k for k, v in ner_to_idx.items()}\n",
    "\n",
    "pos_to_idx = dict(zip(pos,pos_idx))\n",
    "idx_to_pos = {v: k for k, v in pos_to_idx.items()}\n",
    "\n",
    "dow_to_idx = dict(zip(list(set(dow)),dow_idx))\n",
    "idx_to_dow = {v: k for k, v in dow_to_idx.items()}"
   ]
  },
  {
   "cell_type": "code",
   "execution_count": 258,
   "metadata": {},
   "outputs": [],
   "source": [
    "def prepare_x(data):\n",
    "    data_ner = [ner_tagger.get_ner(i) for i in data]\n",
    "    x = []\n",
    "    \n",
    "    for idx in range(len(data_ner)):\n",
    "        temp = []\n",
    "        for word in data_ner[idx]:\n",
    "            temp+=[ner_to_idx[word[1]]]\n",
    "            temp+=[pos_to_idx[word[2]]]\n",
    "            temp+=[dow_to_idx[dow.iloc[idx]]]\n",
    "        x+=[temp]\n",
    "    return x"
   ]
  },
  {
   "cell_type": "code",
   "execution_count": 259,
   "metadata": {},
   "outputs": [],
   "source": [
    "def prepare_y(data):\n",
    "    y = []\n",
    "    for i in data:\n",
    "        c = 0\n",
    "        for j in range(len(groups)-1):\n",
    "            if i >= groups[j] and i <= groups[j+1]:\n",
    "                y+=[j]\n",
    "                c=1\n",
    "                break\n",
    "        if c==0:\n",
    "            y+=[0]\n",
    "        \n",
    "    return y"
   ]
  },
  {
   "cell_type": "code",
   "execution_count": 260,
   "metadata": {},
   "outputs": [
    {
     "name": "stdout",
     "output_type": "stream",
     "text": [
      "x_train shape :  (23536, 130)\n",
      "y_train shape :  (23536, 6)\n",
      "x_test shape :  (5595, 130)\n",
      "y_test shape :  (5595, 6)\n"
     ]
    }
   ],
   "source": [
    "from keras.preprocessing.sequence import pad_sequences\n",
    "from keras.utils import to_categorical\n",
    "\n",
    "x_train = prepare_x(headlines)\n",
    "y_train = prepare_y(views)\n",
    "\n",
    "x_train = pad_sequences(x_train, maxlen=130)\n",
    "y_train = to_categorical(y_train)\n",
    "\n",
    "x_test = prepare_x(test_data['headline'])\n",
    "y_test = prepare_y(test_data['view'])\n",
    "\n",
    "x_test = pad_sequences(x_test, maxlen=130)\n",
    "y_test = to_categorical(y_test)\n",
    "\n",
    "print('x_train shape : ',x_train.shape)\n",
    "print('y_train shape : ',y_train.shape)\n",
    "\n",
    "print('x_test shape : ',x_test.shape)\n",
    "print('y_test shape : ',y_test.shape)"
   ]
  },
  {
   "cell_type": "markdown",
   "metadata": {},
   "source": [
    "## Model"
   ]
  },
  {
   "cell_type": "code",
   "execution_count": 264,
   "metadata": {},
   "outputs": [],
   "source": [
    "from keras.models import Model, Input\n",
    "from keras.layers import Dense, Dropout, BatchNormalization, GRU, Conv1D, Dropout\n",
    "from keras.optimizers import Adam\n",
    "def get_model():    \n",
    "    input1 = Input(shape=(x_train.shape[1],))\n",
    "#     x = Conv1D(16,3)(input1)\n",
    "#     x = GRU(32)(x)\n",
    "#     x = Flatten()(x)\n",
    "    x = Dense(1024, activation='relu')(input1)\n",
    "    x = Dropout(0.5)(x)\n",
    "    x = Dense(512, activation='relu')(x)\n",
    "    x = Dropout(0.4)(x)\n",
    "    x = Dense(256, activation='relu')(x)\n",
    "    x = Dropout(0.3)(x)\n",
    "#     x = Dense(64, activation='relu')(x)\n",
    "#     x = Dropout(0.2)(x)\n",
    "    x = Dense(y_train.shape[1],activation='softmax')(x)\n",
    "    model = Model(inputs=input1, outputs=x)\n",
    "    adam  = Adam(lr=0.00001)\n",
    "    model.compile(optimizer=adam,  loss='categorical_crossentropy' ,metrics=['accuracy'])\n",
    "    \n",
    "    \n",
    "    return model"
   ]
  },
  {
   "cell_type": "code",
   "execution_count": 265,
   "metadata": {},
   "outputs": [
    {
     "name": "stdout",
     "output_type": "stream",
     "text": [
      "_________________________________________________________________\n",
      "Layer (type)                 Output Shape              Param #   \n",
      "=================================================================\n",
      "input_13 (InputLayer)        (None, 130)               0         \n",
      "_________________________________________________________________\n",
      "dense_56 (Dense)             (None, 1024)              134144    \n",
      "_________________________________________________________________\n",
      "dropout_44 (Dropout)         (None, 1024)              0         \n",
      "_________________________________________________________________\n",
      "dense_57 (Dense)             (None, 512)               524800    \n",
      "_________________________________________________________________\n",
      "dropout_45 (Dropout)         (None, 512)               0         \n",
      "_________________________________________________________________\n",
      "dense_58 (Dense)             (None, 256)               131328    \n",
      "_________________________________________________________________\n",
      "dropout_46 (Dropout)         (None, 256)               0         \n",
      "_________________________________________________________________\n",
      "dense_59 (Dense)             (None, 6)                 1542      \n",
      "=================================================================\n",
      "Total params: 791,814\n",
      "Trainable params: 791,814\n",
      "Non-trainable params: 0\n",
      "_________________________________________________________________\n"
     ]
    }
   ],
   "source": [
    "model = get_model()\n",
    "model.summary()"
   ]
  },
  {
   "cell_type": "code",
   "execution_count": 267,
   "metadata": {},
   "outputs": [
    {
     "name": "stdout",
     "output_type": "stream",
     "text": [
      "Train on 21182 samples, validate on 2354 samples\n",
      "Epoch 1/50\n",
      " - 4s - loss: 2.7671 - acc: 0.1759 - val_loss: 1.8091 - val_acc: 0.1610\n",
      "Epoch 2/50\n",
      " - 3s - loss: 2.4109 - acc: 0.1775 - val_loss: 1.7883 - val_acc: 0.1754\n",
      "Epoch 3/50\n",
      " - 3s - loss: 2.1997 - acc: 0.1803 - val_loss: 1.7872 - val_acc: 0.1805\n",
      "Epoch 4/50\n",
      " - 4s - loss: 2.0845 - acc: 0.1839 - val_loss: 1.7902 - val_acc: 0.1691\n",
      "Epoch 5/50\n",
      " - 4s - loss: 2.0107 - acc: 0.1819 - val_loss: 1.7901 - val_acc: 0.1733\n",
      "Epoch 6/50\n",
      " - 4s - loss: 1.9577 - acc: 0.1804 - val_loss: 1.7929 - val_acc: 0.1487\n",
      "Epoch 7/50\n",
      " - 4s - loss: 1.9228 - acc: 0.1821 - val_loss: 1.7972 - val_acc: 0.1372\n",
      "Epoch 8/50\n",
      " - 4s - loss: 1.8883 - acc: 0.1848 - val_loss: 1.7985 - val_acc: 0.1393\n",
      "Epoch 9/50\n",
      " - 4s - loss: 1.8693 - acc: 0.1882 - val_loss: 1.7943 - val_acc: 0.1495\n",
      "Epoch 10/50\n",
      " - 4s - loss: 1.8602 - acc: 0.1849 - val_loss: 1.7947 - val_acc: 0.1449\n",
      "Epoch 11/50\n",
      " - 3s - loss: 1.8418 - acc: 0.1870 - val_loss: 1.7928 - val_acc: 0.1444\n",
      "Epoch 12/50\n",
      " - 4s - loss: 1.8306 - acc: 0.1901 - val_loss: 1.7891 - val_acc: 0.1546\n",
      "Epoch 13/50\n",
      " - 4s - loss: 1.8260 - acc: 0.1864 - val_loss: 1.7894 - val_acc: 0.1466\n",
      "Epoch 14/50\n",
      " - 4s - loss: 1.8178 - acc: 0.1914 - val_loss: 1.7886 - val_acc: 0.1504\n",
      "Epoch 15/50\n",
      " - 4s - loss: 1.8137 - acc: 0.1914 - val_loss: 1.7876 - val_acc: 0.1478\n",
      "Epoch 16/50\n",
      " - 4s - loss: 1.8097 - acc: 0.1939 - val_loss: 1.7874 - val_acc: 0.1517\n",
      "Epoch 17/50\n",
      " - 4s - loss: 1.8028 - acc: 0.1940 - val_loss: 1.7866 - val_acc: 0.1602\n",
      "Epoch 18/50\n",
      " - 4s - loss: 1.8021 - acc: 0.1876 - val_loss: 1.7872 - val_acc: 0.1512\n",
      "Epoch 19/50\n",
      " - 4s - loss: 1.7972 - acc: 0.1933 - val_loss: 1.7873 - val_acc: 0.1542\n",
      "Epoch 20/50\n",
      " - 4s - loss: 1.7953 - acc: 0.1975 - val_loss: 1.7872 - val_acc: 0.1512\n",
      "Epoch 21/50\n",
      " - 4s - loss: 1.7914 - acc: 0.1953 - val_loss: 1.7855 - val_acc: 0.1580\n",
      "Epoch 22/50\n",
      " - 4s - loss: 1.7935 - acc: 0.1901 - val_loss: 1.7864 - val_acc: 0.1521\n",
      "Epoch 23/50\n",
      " - 4s - loss: 1.7922 - acc: 0.1941 - val_loss: 1.7866 - val_acc: 0.1474\n",
      "Epoch 24/50\n",
      " - 4s - loss: 1.7896 - acc: 0.1960 - val_loss: 1.7866 - val_acc: 0.1512\n",
      "Epoch 25/50\n",
      " - 4s - loss: 1.7861 - acc: 0.2015 - val_loss: 1.7864 - val_acc: 0.1487\n",
      "Epoch 26/50\n",
      " - 4s - loss: 1.7846 - acc: 0.1958 - val_loss: 1.7846 - val_acc: 0.1470\n",
      "Epoch 27/50\n",
      " - 4s - loss: 1.7834 - acc: 0.2014 - val_loss: 1.7852 - val_acc: 0.1372\n",
      "Epoch 28/50\n",
      " - 4s - loss: 1.7835 - acc: 0.1963 - val_loss: 1.7842 - val_acc: 0.1342\n",
      "Epoch 29/50\n",
      " - 5s - loss: 1.7805 - acc: 0.1979 - val_loss: 1.7843 - val_acc: 0.1334\n",
      "Epoch 30/50\n",
      " - 4s - loss: 1.7837 - acc: 0.1940 - val_loss: 1.7853 - val_acc: 0.1334\n",
      "Epoch 31/50\n",
      " - 5s - loss: 1.7801 - acc: 0.2005 - val_loss: 1.7848 - val_acc: 0.1347\n",
      "Epoch 32/50\n",
      " - 4s - loss: 1.7813 - acc: 0.1982 - val_loss: 1.7861 - val_acc: 0.1364\n",
      "Epoch 33/50\n",
      " - 4s - loss: 1.7771 - acc: 0.2019 - val_loss: 1.7854 - val_acc: 0.1347\n",
      "Epoch 34/50\n",
      " - 4s - loss: 1.7777 - acc: 0.2028 - val_loss: 1.7855 - val_acc: 0.1359\n",
      "Epoch 35/50\n",
      " - 4s - loss: 1.7782 - acc: 0.1986 - val_loss: 1.7853 - val_acc: 0.1351\n",
      "Epoch 36/50\n",
      " - 4s - loss: 1.7779 - acc: 0.1982 - val_loss: 1.7850 - val_acc: 0.1334\n",
      "Epoch 37/50\n",
      " - 4s - loss: 1.7749 - acc: 0.2021 - val_loss: 1.7856 - val_acc: 0.1334\n",
      "Epoch 38/50\n",
      " - 3s - loss: 1.7771 - acc: 0.1960 - val_loss: 1.7852 - val_acc: 0.1321\n",
      "Epoch 39/50\n",
      " - 4s - loss: 1.7747 - acc: 0.2043 - val_loss: 1.7857 - val_acc: 0.1308\n",
      "Epoch 40/50\n",
      " - 4s - loss: 1.7743 - acc: 0.2022 - val_loss: 1.7860 - val_acc: 0.1308\n",
      "Epoch 41/50\n",
      " - 4s - loss: 1.7765 - acc: 0.2013 - val_loss: 1.7867 - val_acc: 0.1262\n",
      "Epoch 42/50\n",
      " - 4s - loss: 1.7745 - acc: 0.2021 - val_loss: 1.7852 - val_acc: 0.1283\n",
      "Epoch 43/50\n",
      " - 4s - loss: 1.7736 - acc: 0.2036 - val_loss: 1.7848 - val_acc: 0.1330\n",
      "Epoch 44/50\n",
      " - 4s - loss: 1.7724 - acc: 0.2024 - val_loss: 1.7843 - val_acc: 0.1338\n",
      "Epoch 45/50\n",
      " - 4s - loss: 1.7735 - acc: 0.2026 - val_loss: 1.7836 - val_acc: 0.1355\n",
      "Epoch 46/50\n",
      " - 4s - loss: 1.7727 - acc: 0.2020 - val_loss: 1.7829 - val_acc: 0.1338\n",
      "Epoch 47/50\n",
      " - 4s - loss: 1.7723 - acc: 0.2006 - val_loss: 1.7840 - val_acc: 0.1283\n",
      "Epoch 48/50\n",
      " - 4s - loss: 1.7715 - acc: 0.2049 - val_loss: 1.7842 - val_acc: 0.1300\n",
      "Epoch 49/50\n",
      " - 4s - loss: 1.7728 - acc: 0.2049 - val_loss: 1.7834 - val_acc: 0.1308\n",
      "Epoch 50/50\n",
      " - 4s - loss: 1.7718 - acc: 0.2039 - val_loss: 1.7833 - val_acc: 0.1279\n"
     ]
    },
    {
     "data": {
      "text/plain": [
       "<keras.callbacks.History at 0x156ff4358>"
      ]
     },
     "execution_count": 267,
     "metadata": {},
     "output_type": "execute_result"
    }
   ],
   "source": [
    "model.fit(x_train, y_train, batch_size=32 ,epochs=50, verbose=2, validation_split=0.1)"
   ]
  },
  {
   "cell_type": "markdown",
   "metadata": {},
   "source": [
    "## Result"
   ]
  },
  {
   "cell_type": "code",
   "execution_count": 241,
   "metadata": {},
   "outputs": [],
   "source": [
    "y_pred = model.predict(x_test)"
   ]
  },
  {
   "cell_type": "code",
   "execution_count": 242,
   "metadata": {},
   "outputs": [],
   "source": [
    "def evaluate(y_pred,y_test):\n",
    "    correct = 0\n",
    "    wrong = 0\n",
    "    count = [0,0,0,0,0]\n",
    "    for i in range(len(y_pred)):\n",
    "        p_level_pred = np.argmax(y_pred[i])\n",
    "        p_level_test = np.argmax(y_test[i])\n",
    "        count[p_level_pred]+=1\n",
    "        if(p_level_pred == p_level_test):\n",
    "            correct += 1\n",
    "        else:\n",
    "            wrong +=1\n",
    "    print(count)\n",
    "    return correct/(correct+wrong)"
   ]
  },
  {
   "cell_type": "code",
   "execution_count": 243,
   "metadata": {},
   "outputs": [
    {
     "name": "stdout",
     "output_type": "stream",
     "text": [
      "[2294, 3300, 1, 0, 0]\n",
      "0.3944593386952636\n"
     ]
    }
   ],
   "source": [
    "# p_level = np.argmax(y_pred[0])\n",
    "# print('Pop Level : ',p_level)\n",
    "# print('Pred Range : %f - %f' % (groups[p_level], groups[p_level+1]))\n",
    "# print('Real View : %d' % (202))\n",
    "print(evaluate(y_pred, y_test))"
   ]
  },
  {
   "cell_type": "code",
   "execution_count": 209,
   "metadata": {},
   "outputs": [],
   "source": [
    "#We test how the model works by creating a dataframe from the sample. The df is then used as source for the seaborn plot below\n",
    "df_someXdata = pd.DataFrame([np.argmax(i) for i in y_pred],[np.argmax(i) for i in y_test])\n",
    "df_someXdata.reset_index(level=0, inplace=True)\n",
    "df_someXdata_LR = df_someXdata.rename(index=str, columns={\"index\": \"Actual views\", 0: \"Predicted views\"})\n",
    "# df_someXdata_LR[:50]"
   ]
  },
  {
   "cell_type": "code",
   "execution_count": 212,
   "metadata": {},
   "outputs": [
    {
     "ename": "AttributeError",
     "evalue": "module 'seaborn' has no attribute 'plt'",
     "output_type": "error",
     "traceback": [
      "\u001b[0;31m---------------------------------------------------------------------------\u001b[0m",
      "\u001b[0;31mAttributeError\u001b[0m                            Traceback (most recent call last)",
      "\u001b[0;32m<ipython-input-212-e6cd5a6c24aa>\u001b[0m in \u001b[0;36m<module>\u001b[0;34m\u001b[0m\n\u001b[1;32m      1\u001b[0m \u001b[0mf\u001b[0m\u001b[0;34m,\u001b[0m \u001b[0max\u001b[0m \u001b[0;34m=\u001b[0m \u001b[0mplt\u001b[0m\u001b[0;34m.\u001b[0m\u001b[0msubplots\u001b[0m\u001b[0;34m(\u001b[0m\u001b[0mfigsize\u001b[0m\u001b[0;34m=\u001b[0m\u001b[0;34m(\u001b[0m\u001b[0;36m17\u001b[0m\u001b[0;34m,\u001b[0m \u001b[0;36m10\u001b[0m\u001b[0;34m)\u001b[0m\u001b[0;34m)\u001b[0m\u001b[0;34m\u001b[0m\u001b[0;34m\u001b[0m\u001b[0m\n\u001b[1;32m      2\u001b[0m \u001b[0msns\u001b[0m\u001b[0;34m.\u001b[0m\u001b[0mregplot\u001b[0m\u001b[0;34m(\u001b[0m\u001b[0mx\u001b[0m\u001b[0;34m=\u001b[0m\u001b[0mdf_someXdata_LR\u001b[0m\u001b[0;34m[\u001b[0m\u001b[0;34m\"Actual views\"\u001b[0m\u001b[0;34m]\u001b[0m\u001b[0;34m,\u001b[0m \u001b[0my\u001b[0m\u001b[0;34m=\u001b[0m\u001b[0mdf_someXdata_LR\u001b[0m\u001b[0;34m[\u001b[0m\u001b[0;34m\"Predicted views\"\u001b[0m\u001b[0;34m]\u001b[0m\u001b[0;34m)\u001b[0m\u001b[0;34m\u001b[0m\u001b[0;34m\u001b[0m\u001b[0m\n\u001b[0;32m----> 3\u001b[0;31m \u001b[0msns\u001b[0m\u001b[0;34m.\u001b[0m\u001b[0mplt\u001b[0m\u001b[0;34m.\u001b[0m\u001b[0mshow\u001b[0m\u001b[0;34m(\u001b[0m\u001b[0;34m)\u001b[0m\u001b[0;34m\u001b[0m\u001b[0;34m\u001b[0m\u001b[0m\n\u001b[0m",
      "\u001b[0;31mAttributeError\u001b[0m: module 'seaborn' has no attribute 'plt'"
     ]
    },
    {
     "data": {
      "image/png": "[encoded data removed]",
      "text/plain": [
       "<Figure size 1224x720 with 1 Axes>"
      ]
     },
     "metadata": {},
     "output_type": "display_data"
    }
   ],
   "source": [
    "f, ax = plt.subplots(figsize=(17, 10))\n",
    "sns.regplot(x=df_someXdata_LR[\"Actual views\"], y=df_someXdata_LR[\"Predicted views\"])\n",
    "sns.plt.show()"
   ]
  },
  {
   "cell_type": "markdown",
   "metadata": {},
   "source": [
    "## Try GRU"
   ]
  },
  {
   "cell_type": "code",
   "execution_count": 402,
   "metadata": {},
   "outputs": [],
   "source": [
    "from keras.models import Model, Input\n",
    "from keras.layers import Dense, Dropout, BatchNormalization, GRU, Conv1D, Dropout, TimeDistributed, LSTM\n",
    "from keras.optimizers import Adam\n",
    "def get_model_gru():    \n",
    "    input1 = Input(shape=(x_train.shape[1],))\n",
    "    x = LSTM(32)(input1)\n",
    "    x = Flatten()(x)\n",
    "    x = Dense(512, activation='relu')(x)\n",
    "    x = Dropout(0.4)(x)\n",
    "    x = Dense(256, activation='relu')(x)\n",
    "    x = Dropout(0.2)(x)\n",
    "    x = Dense(y_train.shape[1],activation='softmax')(x)\n",
    "    model = Model(inputs=input1, outputs=x)\n",
    "    adam  = Adam(lr=0.00001)\n",
    "    model.compile(optimizer=adam,  loss='categorical_crossentropy' ,metrics=['accuracy'])\n",
    "    \n",
    "    \n",
    "    return model"
   ]
  },
  {
   "cell_type": "code",
   "execution_count": 403,
   "metadata": {},
   "outputs": [
    {
     "ename": "ValueError",
     "evalue": "Input 0 is incompatible with layer lstm_1: expected ndim=3, found ndim=2",
     "output_type": "error",
     "traceback": [
      "\u001b[0;31m---------------------------------------------------------------------------\u001b[0m",
      "\u001b[0;31mValueError\u001b[0m                                Traceback (most recent call last)",
      "\u001b[0;32m<ipython-input-403-1aab90e09909>\u001b[0m in \u001b[0;36m<module>\u001b[0;34m\u001b[0m\n\u001b[0;32m----> 1\u001b[0;31m \u001b[0mmodel\u001b[0m \u001b[0;34m=\u001b[0m \u001b[0mget_model_gru\u001b[0m\u001b[0;34m(\u001b[0m\u001b[0;34m)\u001b[0m\u001b[0;34m\u001b[0m\u001b[0;34m\u001b[0m\u001b[0m\n\u001b[0m\u001b[1;32m      2\u001b[0m \u001b[0mmodel\u001b[0m\u001b[0;34m.\u001b[0m\u001b[0msummary\u001b[0m\u001b[0;34m(\u001b[0m\u001b[0;34m)\u001b[0m\u001b[0;34m\u001b[0m\u001b[0;34m\u001b[0m\u001b[0m\n",
      "\u001b[0;32m<ipython-input-402-a76dad4384d7>\u001b[0m in \u001b[0;36mget_model_gru\u001b[0;34m()\u001b[0m\n\u001b[1;32m      4\u001b[0m \u001b[0;32mdef\u001b[0m \u001b[0mget_model_gru\u001b[0m\u001b[0;34m(\u001b[0m\u001b[0;34m)\u001b[0m\u001b[0;34m:\u001b[0m\u001b[0;34m\u001b[0m\u001b[0;34m\u001b[0m\u001b[0m\n\u001b[1;32m      5\u001b[0m     \u001b[0minput1\u001b[0m \u001b[0;34m=\u001b[0m \u001b[0mInput\u001b[0m\u001b[0;34m(\u001b[0m\u001b[0mshape\u001b[0m\u001b[0;34m=\u001b[0m\u001b[0;34m(\u001b[0m\u001b[0mx_train\u001b[0m\u001b[0;34m.\u001b[0m\u001b[0mshape\u001b[0m\u001b[0;34m[\u001b[0m\u001b[0;36m1\u001b[0m\u001b[0;34m]\u001b[0m\u001b[0;34m,\u001b[0m\u001b[0;34m)\u001b[0m\u001b[0;34m)\u001b[0m\u001b[0;34m\u001b[0m\u001b[0;34m\u001b[0m\u001b[0m\n\u001b[0;32m----> 6\u001b[0;31m     \u001b[0mx\u001b[0m \u001b[0;34m=\u001b[0m \u001b[0mLSTM\u001b[0m\u001b[0;34m(\u001b[0m\u001b[0;36m32\u001b[0m\u001b[0;34m)\u001b[0m\u001b[0;34m(\u001b[0m\u001b[0minput1\u001b[0m\u001b[0;34m)\u001b[0m\u001b[0;34m\u001b[0m\u001b[0;34m\u001b[0m\u001b[0m\n\u001b[0m\u001b[1;32m      7\u001b[0m     \u001b[0mx\u001b[0m \u001b[0;34m=\u001b[0m \u001b[0mFlatten\u001b[0m\u001b[0;34m(\u001b[0m\u001b[0;34m)\u001b[0m\u001b[0;34m(\u001b[0m\u001b[0mx\u001b[0m\u001b[0;34m)\u001b[0m\u001b[0;34m\u001b[0m\u001b[0;34m\u001b[0m\u001b[0m\n\u001b[1;32m      8\u001b[0m     \u001b[0mx\u001b[0m \u001b[0;34m=\u001b[0m \u001b[0mDense\u001b[0m\u001b[0;34m(\u001b[0m\u001b[0;36m512\u001b[0m\u001b[0;34m,\u001b[0m \u001b[0mactivation\u001b[0m\u001b[0;34m=\u001b[0m\u001b[0;34m'relu'\u001b[0m\u001b[0;34m)\u001b[0m\u001b[0;34m(\u001b[0m\u001b[0mx\u001b[0m\u001b[0;34m)\u001b[0m\u001b[0;34m\u001b[0m\u001b[0;34m\u001b[0m\u001b[0m\n",
      "\u001b[0;32m~/Documents/Study/py37_env/lib/python3.7/site-packages/keras/layers/recurrent.py\u001b[0m in \u001b[0;36m__call__\u001b[0;34m(self, inputs, initial_state, constants, **kwargs)\u001b[0m\n\u001b[1;32m    530\u001b[0m \u001b[0;34m\u001b[0m\u001b[0m\n\u001b[1;32m    531\u001b[0m         \u001b[0;32mif\u001b[0m \u001b[0minitial_state\u001b[0m \u001b[0;32mis\u001b[0m \u001b[0;32mNone\u001b[0m \u001b[0;32mand\u001b[0m \u001b[0mconstants\u001b[0m \u001b[0;32mis\u001b[0m \u001b[0;32mNone\u001b[0m\u001b[0;34m:\u001b[0m\u001b[0;34m\u001b[0m\u001b[0;34m\u001b[0m\u001b[0m\n\u001b[0;32m--> 532\u001b[0;31m             \u001b[0;32mreturn\u001b[0m \u001b[0msuper\u001b[0m\u001b[0;34m(\u001b[0m\u001b[0mRNN\u001b[0m\u001b[0;34m,\u001b[0m \u001b[0mself\u001b[0m\u001b[0;34m)\u001b[0m\u001b[0;34m.\u001b[0m\u001b[0m__call__\u001b[0m\u001b[0;34m(\u001b[0m\u001b[0minputs\u001b[0m\u001b[0;34m,\u001b[0m \u001b[0;34m**\u001b[0m\u001b[0mkwargs\u001b[0m\u001b[0;34m)\u001b[0m\u001b[0;34m\u001b[0m\u001b[0;34m\u001b[0m\u001b[0m\n\u001b[0m\u001b[1;32m    533\u001b[0m \u001b[0;34m\u001b[0m\u001b[0m\n\u001b[1;32m    534\u001b[0m         \u001b[0;31m# If any of `initial_state` or `constants` are specified and are Keras\u001b[0m\u001b[0;34m\u001b[0m\u001b[0;34m\u001b[0m\u001b[0;34m\u001b[0m\u001b[0m\n",
      "\u001b[0;32m~/Documents/Study/py37_env/lib/python3.7/site-packages/keras/engine/base_layer.py\u001b[0m in \u001b[0;36m__call__\u001b[0;34m(self, inputs, **kwargs)\u001b[0m\n\u001b[1;32m    412\u001b[0m                 \u001b[0;31m# Raise exceptions in case the input is not compatible\u001b[0m\u001b[0;34m\u001b[0m\u001b[0;34m\u001b[0m\u001b[0;34m\u001b[0m\u001b[0m\n\u001b[1;32m    413\u001b[0m                 \u001b[0;31m# with the input_spec specified in the layer constructor.\u001b[0m\u001b[0;34m\u001b[0m\u001b[0;34m\u001b[0m\u001b[0;34m\u001b[0m\u001b[0m\n\u001b[0;32m--> 414\u001b[0;31m                 \u001b[0mself\u001b[0m\u001b[0;34m.\u001b[0m\u001b[0massert_input_compatibility\u001b[0m\u001b[0;34m(\u001b[0m\u001b[0minputs\u001b[0m\u001b[0;34m)\u001b[0m\u001b[0;34m\u001b[0m\u001b[0;34m\u001b[0m\u001b[0m\n\u001b[0m\u001b[1;32m    415\u001b[0m \u001b[0;34m\u001b[0m\u001b[0m\n\u001b[1;32m    416\u001b[0m                 \u001b[0;31m# Collect input shapes to build layer.\u001b[0m\u001b[0;34m\u001b[0m\u001b[0;34m\u001b[0m\u001b[0;34m\u001b[0m\u001b[0m\n",
      "\u001b[0;32m~/Documents/Study/py37_env/lib/python3.7/site-packages/keras/engine/base_layer.py\u001b[0m in \u001b[0;36massert_input_compatibility\u001b[0;34m(self, inputs)\u001b[0m\n\u001b[1;32m    309\u001b[0m                                      \u001b[0mself\u001b[0m\u001b[0;34m.\u001b[0m\u001b[0mname\u001b[0m \u001b[0;34m+\u001b[0m \u001b[0;34m': expected ndim='\u001b[0m \u001b[0;34m+\u001b[0m\u001b[0;34m\u001b[0m\u001b[0;34m\u001b[0m\u001b[0m\n\u001b[1;32m    310\u001b[0m                                      \u001b[0mstr\u001b[0m\u001b[0;34m(\u001b[0m\u001b[0mspec\u001b[0m\u001b[0;34m.\u001b[0m\u001b[0mndim\u001b[0m\u001b[0;34m)\u001b[0m \u001b[0;34m+\u001b[0m \u001b[0;34m', found ndim='\u001b[0m \u001b[0;34m+\u001b[0m\u001b[0;34m\u001b[0m\u001b[0;34m\u001b[0m\u001b[0m\n\u001b[0;32m--> 311\u001b[0;31m                                      str(K.ndim(x)))\n\u001b[0m\u001b[1;32m    312\u001b[0m             \u001b[0;32mif\u001b[0m \u001b[0mspec\u001b[0m\u001b[0;34m.\u001b[0m\u001b[0mmax_ndim\u001b[0m \u001b[0;32mis\u001b[0m \u001b[0;32mnot\u001b[0m \u001b[0;32mNone\u001b[0m\u001b[0;34m:\u001b[0m\u001b[0;34m\u001b[0m\u001b[0;34m\u001b[0m\u001b[0m\n\u001b[1;32m    313\u001b[0m                 \u001b[0mndim\u001b[0m \u001b[0;34m=\u001b[0m \u001b[0mK\u001b[0m\u001b[0;34m.\u001b[0m\u001b[0mndim\u001b[0m\u001b[0;34m(\u001b[0m\u001b[0mx\u001b[0m\u001b[0;34m)\u001b[0m\u001b[0;34m\u001b[0m\u001b[0;34m\u001b[0m\u001b[0m\n",
      "\u001b[0;31mValueError\u001b[0m: Input 0 is incompatible with layer lstm_1: expected ndim=3, found ndim=2"
     ]
    }
   ],
   "source": [
    "model = get_model_gru()\n",
    "model.summary()"
   ]
  },
  {
   "cell_type": "code",
   "execution_count": null,
   "metadata": {},
   "outputs": [],
   "source": []
  }
 ],
 "metadata": {
  "kernelspec": {
   "display_name": "nlp",
   "language": "python",
   "name": "nlp"
  },
  "language_info": {
   "codemirror_mode": {
    "name": "ipython",
    "version": 3
   },
   "file_extension": ".py",
   "mimetype": "text/x-python",
   "name": "python",
   "nbconvert_exporter": "python",
   "pygments_lexer": "ipython3",
   "version": "3.7.2"
  }
 },
 "nbformat": 4,
 "nbformat_minor": 2
}
