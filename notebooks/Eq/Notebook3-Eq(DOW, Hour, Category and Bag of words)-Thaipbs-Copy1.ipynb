{
 "cells": [
  {
   "cell_type": "code",
   "execution_count": 1,
   "metadata": {
    "collapsed": true
   },
   "outputs": [],
   "source": [
    "%matplotlib inline\n",
    "import pandas as pd\n",
    "import sklearn\n",
    "import numpy as np\n",
    "from IPython.display import display\n",
    "from sklearn.metrics import f1_score\n",
    "import matplotlib.pyplot as plt\n",
    "from matplotlib import rcParams"
   ]
  },
  {
   "cell_type": "code",
   "execution_count": 2,
   "metadata": {},
   "outputs": [
    {
     "name": "stderr",
     "output_type": "stream",
     "text": [
      "/Users/eqsk134/anaconda3/lib/python3.6/site-packages/h5py/__init__.py:34: FutureWarning: Conversion of the second argument of issubdtype from `float` to `np.floating` is deprecated. In future, it will be treated as `np.float64 == np.dtype(float).type`.\n",
      "  from ._conv import register_converters as _register_converters\n",
      "Using TensorFlow backend.\n"
     ]
    }
   ],
   "source": [
    "import pickle\n",
    "import codecs\n",
    "import collections\n",
    "import keras.preprocessing\n",
    "from sklearn.model_selection import KFold\n",
    "import csv"
   ]
  },
  {
   "cell_type": "code",
   "execution_count": 3,
   "metadata": {
    "collapsed": true
   },
   "outputs": [],
   "source": [
    "from keras.models import Sequential, Model\n",
    "from keras.layers import Embedding, Reshape, Activation, Input, Dense,GRU,Reshape,TimeDistributed,Bidirectional,Dropout,Masking\n",
    "from keras_contrib.layers import CRF\n",
    "from keras.optimizers import Adam\n",
    "from keras.utils import np_utils\n",
    "from keras.callbacks import ModelCheckpoint\n",
    "from keras.layers import Embedding,TimeDistributed,Flatten\n",
    "from sklearn.model_selection import train_test_split\n",
    "from keras.preprocessing import sequence\n",
    "from keras.models import Sequential, Model\n",
    "from keras.layers import GRU, Dropout\n",
    "from keras.models import load_model\n",
    "from keras.layers import Embedding, Reshape, Activation, Input, Dense, Masking\n",
    "from keras.layers.merge import Dot\n",
    "from keras.utils import np_utils\n",
    "from keras.utils.data_utils import get_file\n",
    "from keras.utils.np_utils import to_categorical\n",
    "from keras.preprocessing.sequence import skipgrams\n",
    "from keras.preprocessing import sequence\n",
    "from keras import backend as K\n",
    "from keras.optimizers import Adam\n",
    "from keras.layers.convolutional import Conv1D\n",
    "from keras.layers import Embedding,TimeDistributed,Flatten\n",
    "from keras.layers import BatchNormalization,Dropout\n"
   ]
  },
  {
   "cell_type": "code",
   "execution_count": 4,
   "metadata": {
    "collapsed": true
   },
   "outputs": [],
   "source": [
    "input_pbs = pd.read_csv('Thaipbs-tokenize_include_stop.csv')"
   ]
  },
  {
   "cell_type": "code",
   "execution_count": 5,
   "metadata": {},
   "outputs": [
    {
     "data": {
      "text/html": [
       "<div>\n",
       "<style>\n",
       "    .dataframe thead tr:only-child th {\n",
       "        text-align: right;\n",
       "    }\n",
       "\n",
       "    .dataframe thead th {\n",
       "        text-align: left;\n",
       "    }\n",
       "\n",
       "    .dataframe tbody tr th {\n",
       "        vertical-align: top;\n",
       "    }\n",
       "</style>\n",
       "<table border=\"1\" class=\"dataframe\">\n",
       "  <thead>\n",
       "    <tr style=\"text-align: right;\">\n",
       "      <th></th>\n",
       "      <th>Unnamed: 0</th>\n",
       "      <th>Unnamed: 0.1</th>\n",
       "      <th>headline</th>\n",
       "      <th>date</th>\n",
       "      <th>DOW</th>\n",
       "      <th>time</th>\n",
       "      <th>view</th>\n",
       "      <th>category</th>\n",
       "      <th>tag</th>\n",
       "      <th>hour</th>\n",
       "      <th>numTag</th>\n",
       "      <th>token</th>\n",
       "      <th>numToken</th>\n",
       "      <th>numChar</th>\n",
       "    </tr>\n",
       "  </thead>\n",
       "  <tbody>\n",
       "    <tr>\n",
       "      <th>0</th>\n",
       "      <td>0</td>\n",
       "      <td>0</td>\n",
       "      <td>ฝุ่น PM2.5 : ทส.เตรียมตั้งศูนย์แก้ปัญหาหมอกควั...</td>\n",
       "      <td>05/04/2562</td>\n",
       "      <td>FRI</td>\n",
       "      <td>19:37</td>\n",
       "      <td>177</td>\n",
       "      <td>สิ่งแวดล้อม</td>\n",
       "      <td>ฝุ่นเชียงใหม่,ฝุ่นPM2.5,ฝุ่นคลุมเมือง,เชียงใหม...</td>\n",
       "      <td>19</td>\n",
       "      <td>10</td>\n",
       "      <td>ฝุ่น,PM,ทส.,เตรียม,ตั้ง,ศูนย์,แก้,ปัญหา,หมอก,ค...</td>\n",
       "      <td>12</td>\n",
       "      <td>47</td>\n",
       "    </tr>\n",
       "    <tr>\n",
       "      <th>1</th>\n",
       "      <td>1</td>\n",
       "      <td>1</td>\n",
       "      <td>เลือกตั้ง 2562 : \"เพื่อไทย\" เตรียมยื่น กกต.จัด...</td>\n",
       "      <td>05/04/2562</td>\n",
       "      <td>FRI</td>\n",
       "      <td>19:20</td>\n",
       "      <td>702</td>\n",
       "      <td>การเมือง</td>\n",
       "      <td>เลือกตั้ง62,เพื่อ่ไทย,กกต.,นับคะแนน,ไทยพีบีเอส...</td>\n",
       "      <td>19</td>\n",
       "      <td>6</td>\n",
       "      <td>เลือกตั้ง,2562,เพื่อ,ไทย,เตรียม,ยื่น,กกต.,จัด,...</td>\n",
       "      <td>12</td>\n",
       "      <td>58</td>\n",
       "    </tr>\n",
       "    <tr>\n",
       "      <th>2</th>\n",
       "      <td>2</td>\n",
       "      <td>2</td>\n",
       "      <td>เตรียมเอาผิด รพ.เอกชน 58 แห่งไม่ส่งข้อมูลราคายา</td>\n",
       "      <td>05/04/2562</td>\n",
       "      <td>FRI</td>\n",
       "      <td>19:18</td>\n",
       "      <td>583</td>\n",
       "      <td>สาธารณสุข</td>\n",
       "      <td>ยา,เวชภัณฑ์ฯ,โรงพยาบาล,ค่าบริการทางการแพทย์,กร...</td>\n",
       "      <td>19</td>\n",
       "      <td>9</td>\n",
       "      <td>เตรียม,เอา,ผิด,รพ.เอกชน,แห่ง,ไม่,ส่ง,ข้อมูล,รา...</td>\n",
       "      <td>10</td>\n",
       "      <td>42</td>\n",
       "    </tr>\n",
       "    <tr>\n",
       "      <th>3</th>\n",
       "      <td>3</td>\n",
       "      <td>3</td>\n",
       "      <td>ตั้งข้อสังเกตปลดล็อกกัญชา เอื้อนายทุนหรือไม่?</td>\n",
       "      <td>05/04/2562</td>\n",
       "      <td>FRI</td>\n",
       "      <td>19:16</td>\n",
       "      <td>928</td>\n",
       "      <td>อาชญากรรม</td>\n",
       "      <td>กัญชา,มูลนิธิข้าวขวัญ,ThaiPBSnews</td>\n",
       "      <td>19</td>\n",
       "      <td>3</td>\n",
       "      <td>ตั้ง,ข้อ,สังเกต,ปลด,ล็อก,กัญชา,เอื้อ,นาย,ทุน,ห...</td>\n",
       "      <td>11</td>\n",
       "      <td>43</td>\n",
       "    </tr>\n",
       "    <tr>\n",
       "      <th>4</th>\n",
       "      <td>4</td>\n",
       "      <td>4</td>\n",
       "      <td>คำพิพากษาเต็ม \"เปรมชัย\" หลุดคดีครอบครองซากเสือดำ</td>\n",
       "      <td>05/04/2562</td>\n",
       "      <td>FRI</td>\n",
       "      <td>19:29</td>\n",
       "      <td>5163</td>\n",
       "      <td>สิ่งแวดล้อม</td>\n",
       "      <td>เสือดำ,เปรมชัย,เขตรักษาพันธุ์สัตว์ป่าทุ่งใหญ่น...</td>\n",
       "      <td>19</td>\n",
       "      <td>5</td>\n",
       "      <td>คำ,พิพากษา,เต็ม,เปรมชัย,หลุดคดี,ครอบครอง,ซาก,เ...</td>\n",
       "      <td>8</td>\n",
       "      <td>44</td>\n",
       "    </tr>\n",
       "  </tbody>\n",
       "</table>\n",
       "</div>"
      ],
      "text/plain": [
       "   Unnamed: 0  Unnamed: 0.1  \\\n",
       "0           0             0   \n",
       "1           1             1   \n",
       "2           2             2   \n",
       "3           3             3   \n",
       "4           4             4   \n",
       "\n",
       "                                            headline        date  DOW   time  \\\n",
       "0  ฝุ่น PM2.5 : ทส.เตรียมตั้งศูนย์แก้ปัญหาหมอกควั...  05/04/2562  FRI  19:37   \n",
       "1  เลือกตั้ง 2562 : \"เพื่อไทย\" เตรียมยื่น กกต.จัด...  05/04/2562  FRI  19:20   \n",
       "2    เตรียมเอาผิด รพ.เอกชน 58 แห่งไม่ส่งข้อมูลราคายา  05/04/2562  FRI  19:18   \n",
       "3      ตั้งข้อสังเกตปลดล็อกกัญชา เอื้อนายทุนหรือไม่?  05/04/2562  FRI  19:16   \n",
       "4   คำพิพากษาเต็ม \"เปรมชัย\" หลุดคดีครอบครองซากเสือดำ  05/04/2562  FRI  19:29   \n",
       "\n",
       "   view     category                                                tag  hour  \\\n",
       "0   177  สิ่งแวดล้อม  ฝุ่นเชียงใหม่,ฝุ่นPM2.5,ฝุ่นคลุมเมือง,เชียงใหม...    19   \n",
       "1   702     การเมือง  เลือกตั้ง62,เพื่อ่ไทย,กกต.,นับคะแนน,ไทยพีบีเอส...    19   \n",
       "2   583    สาธารณสุข  ยา,เวชภัณฑ์ฯ,โรงพยาบาล,ค่าบริการทางการแพทย์,กร...    19   \n",
       "3   928    อาชญากรรม                  กัญชา,มูลนิธิข้าวขวัญ,ThaiPBSnews    19   \n",
       "4  5163  สิ่งแวดล้อม  เสือดำ,เปรมชัย,เขตรักษาพันธุ์สัตว์ป่าทุ่งใหญ่น...    19   \n",
       "\n",
       "   numTag                                              token  numToken  \\\n",
       "0      10  ฝุ่น,PM,ทส.,เตรียม,ตั้ง,ศูนย์,แก้,ปัญหา,หมอก,ค...        12   \n",
       "1       6  เลือกตั้ง,2562,เพื่อ,ไทย,เตรียม,ยื่น,กกต.,จัด,...        12   \n",
       "2       9  เตรียม,เอา,ผิด,รพ.เอกชน,แห่ง,ไม่,ส่ง,ข้อมูล,รา...        10   \n",
       "3       3  ตั้ง,ข้อ,สังเกต,ปลด,ล็อก,กัญชา,เอื้อ,นาย,ทุน,ห...        11   \n",
       "4       5  คำ,พิพากษา,เต็ม,เปรมชัย,หลุดคดี,ครอบครอง,ซาก,เ...         8   \n",
       "\n",
       "   numChar  \n",
       "0       47  \n",
       "1       58  \n",
       "2       42  \n",
       "3       43  \n",
       "4       44  "
      ]
     },
     "execution_count": 5,
     "metadata": {},
     "output_type": "execute_result"
    }
   ],
   "source": [
    "input_pbs.head()"
   ]
  },
  {
   "cell_type": "code",
   "execution_count": 6,
   "metadata": {},
   "outputs": [],
   "source": [
    "# input_pbs.drop('Unnamed: 0.1', axis=1, inplace=True)\n",
    "# input_pbs.drop('Unnamed: 1', axis=1, inplace=True)"
   ]
  },
  {
   "cell_type": "code",
   "execution_count": 7,
   "metadata": {},
   "outputs": [
    {
     "data": {
      "text/html": [
       "<div>\n",
       "<style>\n",
       "    .dataframe thead tr:only-child th {\n",
       "        text-align: right;\n",
       "    }\n",
       "\n",
       "    .dataframe thead th {\n",
       "        text-align: left;\n",
       "    }\n",
       "\n",
       "    .dataframe tbody tr th {\n",
       "        vertical-align: top;\n",
       "    }\n",
       "</style>\n",
       "<table border=\"1\" class=\"dataframe\">\n",
       "  <thead>\n",
       "    <tr style=\"text-align: right;\">\n",
       "      <th></th>\n",
       "      <th>Unnamed: 0</th>\n",
       "      <th>Unnamed: 0.1</th>\n",
       "      <th>headline</th>\n",
       "      <th>date</th>\n",
       "      <th>DOW</th>\n",
       "      <th>time</th>\n",
       "      <th>view</th>\n",
       "      <th>category</th>\n",
       "      <th>tag</th>\n",
       "      <th>hour</th>\n",
       "      <th>numTag</th>\n",
       "      <th>token</th>\n",
       "      <th>numToken</th>\n",
       "      <th>numChar</th>\n",
       "    </tr>\n",
       "  </thead>\n",
       "  <tbody>\n",
       "    <tr>\n",
       "      <th>0</th>\n",
       "      <td>0</td>\n",
       "      <td>0</td>\n",
       "      <td>ฝุ่น PM2.5 : ทส.เตรียมตั้งศูนย์แก้ปัญหาหมอกควั...</td>\n",
       "      <td>05/04/2562</td>\n",
       "      <td>FRI</td>\n",
       "      <td>19:37</td>\n",
       "      <td>177</td>\n",
       "      <td>สิ่งแวดล้อม</td>\n",
       "      <td>ฝุ่นเชียงใหม่,ฝุ่นPM2.5,ฝุ่นคลุมเมือง,เชียงใหม...</td>\n",
       "      <td>19</td>\n",
       "      <td>10</td>\n",
       "      <td>ฝุ่น,PM,ทส.,เตรียม,ตั้ง,ศูนย์,แก้,ปัญหา,หมอก,ค...</td>\n",
       "      <td>12</td>\n",
       "      <td>47</td>\n",
       "    </tr>\n",
       "    <tr>\n",
       "      <th>1</th>\n",
       "      <td>1</td>\n",
       "      <td>1</td>\n",
       "      <td>เลือกตั้ง 2562 : \"เพื่อไทย\" เตรียมยื่น กกต.จัด...</td>\n",
       "      <td>05/04/2562</td>\n",
       "      <td>FRI</td>\n",
       "      <td>19:20</td>\n",
       "      <td>702</td>\n",
       "      <td>การเมือง</td>\n",
       "      <td>เลือกตั้ง62,เพื่อ่ไทย,กกต.,นับคะแนน,ไทยพีบีเอส...</td>\n",
       "      <td>19</td>\n",
       "      <td>6</td>\n",
       "      <td>เลือกตั้ง,2562,เพื่อ,ไทย,เตรียม,ยื่น,กกต.,จัด,...</td>\n",
       "      <td>12</td>\n",
       "      <td>58</td>\n",
       "    </tr>\n",
       "    <tr>\n",
       "      <th>2</th>\n",
       "      <td>2</td>\n",
       "      <td>2</td>\n",
       "      <td>เตรียมเอาผิด รพ.เอกชน 58 แห่งไม่ส่งข้อมูลราคายา</td>\n",
       "      <td>05/04/2562</td>\n",
       "      <td>FRI</td>\n",
       "      <td>19:18</td>\n",
       "      <td>583</td>\n",
       "      <td>สาธารณสุข</td>\n",
       "      <td>ยา,เวชภัณฑ์ฯ,โรงพยาบาล,ค่าบริการทางการแพทย์,กร...</td>\n",
       "      <td>19</td>\n",
       "      <td>9</td>\n",
       "      <td>เตรียม,เอา,ผิด,รพ.เอกชน,แห่ง,ไม่,ส่ง,ข้อมูล,รา...</td>\n",
       "      <td>10</td>\n",
       "      <td>42</td>\n",
       "    </tr>\n",
       "    <tr>\n",
       "      <th>3</th>\n",
       "      <td>3</td>\n",
       "      <td>3</td>\n",
       "      <td>ตั้งข้อสังเกตปลดล็อกกัญชา เอื้อนายทุนหรือไม่?</td>\n",
       "      <td>05/04/2562</td>\n",
       "      <td>FRI</td>\n",
       "      <td>19:16</td>\n",
       "      <td>928</td>\n",
       "      <td>อาชญากรรม</td>\n",
       "      <td>กัญชา,มูลนิธิข้าวขวัญ,ThaiPBSnews</td>\n",
       "      <td>19</td>\n",
       "      <td>3</td>\n",
       "      <td>ตั้ง,ข้อ,สังเกต,ปลด,ล็อก,กัญชา,เอื้อ,นาย,ทุน,ห...</td>\n",
       "      <td>11</td>\n",
       "      <td>43</td>\n",
       "    </tr>\n",
       "    <tr>\n",
       "      <th>4</th>\n",
       "      <td>4</td>\n",
       "      <td>4</td>\n",
       "      <td>คำพิพากษาเต็ม \"เปรมชัย\" หลุดคดีครอบครองซากเสือดำ</td>\n",
       "      <td>05/04/2562</td>\n",
       "      <td>FRI</td>\n",
       "      <td>19:29</td>\n",
       "      <td>5163</td>\n",
       "      <td>สิ่งแวดล้อม</td>\n",
       "      <td>เสือดำ,เปรมชัย,เขตรักษาพันธุ์สัตว์ป่าทุ่งใหญ่น...</td>\n",
       "      <td>19</td>\n",
       "      <td>5</td>\n",
       "      <td>คำ,พิพากษา,เต็ม,เปรมชัย,หลุดคดี,ครอบครอง,ซาก,เ...</td>\n",
       "      <td>8</td>\n",
       "      <td>44</td>\n",
       "    </tr>\n",
       "  </tbody>\n",
       "</table>\n",
       "</div>"
      ],
      "text/plain": [
       "   Unnamed: 0  Unnamed: 0.1  \\\n",
       "0           0             0   \n",
       "1           1             1   \n",
       "2           2             2   \n",
       "3           3             3   \n",
       "4           4             4   \n",
       "\n",
       "                                            headline        date  DOW   time  \\\n",
       "0  ฝุ่น PM2.5 : ทส.เตรียมตั้งศูนย์แก้ปัญหาหมอกควั...  05/04/2562  FRI  19:37   \n",
       "1  เลือกตั้ง 2562 : \"เพื่อไทย\" เตรียมยื่น กกต.จัด...  05/04/2562  FRI  19:20   \n",
       "2    เตรียมเอาผิด รพ.เอกชน 58 แห่งไม่ส่งข้อมูลราคายา  05/04/2562  FRI  19:18   \n",
       "3      ตั้งข้อสังเกตปลดล็อกกัญชา เอื้อนายทุนหรือไม่?  05/04/2562  FRI  19:16   \n",
       "4   คำพิพากษาเต็ม \"เปรมชัย\" หลุดคดีครอบครองซากเสือดำ  05/04/2562  FRI  19:29   \n",
       "\n",
       "   view     category                                                tag  hour  \\\n",
       "0   177  สิ่งแวดล้อม  ฝุ่นเชียงใหม่,ฝุ่นPM2.5,ฝุ่นคลุมเมือง,เชียงใหม...    19   \n",
       "1   702     การเมือง  เลือกตั้ง62,เพื่อ่ไทย,กกต.,นับคะแนน,ไทยพีบีเอส...    19   \n",
       "2   583    สาธารณสุข  ยา,เวชภัณฑ์ฯ,โรงพยาบาล,ค่าบริการทางการแพทย์,กร...    19   \n",
       "3   928    อาชญากรรม                  กัญชา,มูลนิธิข้าวขวัญ,ThaiPBSnews    19   \n",
       "4  5163  สิ่งแวดล้อม  เสือดำ,เปรมชัย,เขตรักษาพันธุ์สัตว์ป่าทุ่งใหญ่น...    19   \n",
       "\n",
       "   numTag                                              token  numToken  \\\n",
       "0      10  ฝุ่น,PM,ทส.,เตรียม,ตั้ง,ศูนย์,แก้,ปัญหา,หมอก,ค...        12   \n",
       "1       6  เลือกตั้ง,2562,เพื่อ,ไทย,เตรียม,ยื่น,กกต.,จัด,...        12   \n",
       "2       9  เตรียม,เอา,ผิด,รพ.เอกชน,แห่ง,ไม่,ส่ง,ข้อมูล,รา...        10   \n",
       "3       3  ตั้ง,ข้อ,สังเกต,ปลด,ล็อก,กัญชา,เอื้อ,นาย,ทุน,ห...        11   \n",
       "4       5  คำ,พิพากษา,เต็ม,เปรมชัย,หลุดคดี,ครอบครอง,ซาก,เ...         8   \n",
       "\n",
       "   numChar  \n",
       "0       47  \n",
       "1       58  \n",
       "2       42  \n",
       "3       43  \n",
       "4       44  "
      ]
     },
     "execution_count": 7,
     "metadata": {},
     "output_type": "execute_result"
    }
   ],
   "source": [
    "input_pbs.head()"
   ]
  },
  {
   "cell_type": "code",
   "execution_count": 8,
   "metadata": {
    "collapsed": true
   },
   "outputs": [],
   "source": [
    "IQRval = input_pbs['view'].describe().loc['75%']-input_pbs['view'].describe().loc['25%']"
   ]
  },
  {
   "cell_type": "code",
   "execution_count": 9,
   "metadata": {},
   "outputs": [
    {
     "name": "stdout",
     "output_type": "stream",
     "text": [
      "0 3499.5\n"
     ]
    }
   ],
   "source": [
    "outlierMin = max(input_pbs['view'].describe().loc['25%']-1.5*IQRval,0)\n",
    "outlierMax = input_pbs['view'].describe().loc['75%']+1.5*IQRval\n",
    "print(outlierMin,outlierMax)"
   ]
  },
  {
   "cell_type": "code",
   "execution_count": 10,
   "metadata": {
    "collapsed": true
   },
   "outputs": [],
   "source": [
    "input_pbs = input_pbs[(input_pbs['view']<=outlierMax) & (input_pbs['view']>=outlierMin)]"
   ]
  },
  {
   "cell_type": "code",
   "execution_count": 11,
   "metadata": {},
   "outputs": [
    {
     "data": {
      "text/plain": [
       "count    24511.000000\n",
       "mean        11.389662\n",
       "std          3.354892\n",
       "min          1.000000\n",
       "25%          9.000000\n",
       "50%         11.000000\n",
       "75%         13.000000\n",
       "max         28.000000\n",
       "Name: numToken, dtype: float64"
      ]
     },
     "execution_count": 11,
     "metadata": {},
     "output_type": "execute_result"
    }
   ],
   "source": [
    "input_pbs['numToken'].describe()"
   ]
  },
  {
   "cell_type": "code",
   "execution_count": 12,
   "metadata": {},
   "outputs": [
    {
     "data": {
      "text/plain": [
       "count    24511.000000\n",
       "mean       755.928603\n",
       "std        754.956352\n",
       "min         20.000000\n",
       "25%        228.000000\n",
       "50%        454.000000\n",
       "75%       1006.000000\n",
       "max       3496.000000\n",
       "Name: view, dtype: float64"
      ]
     },
     "execution_count": 12,
     "metadata": {},
     "output_type": "execute_result"
    }
   ],
   "source": [
    "input_pbs['view'].describe()"
   ]
  },
  {
   "cell_type": "code",
   "execution_count": 13,
   "metadata": {},
   "outputs": [
    {
     "data": {
      "text/plain": [
       "3496"
      ]
     },
     "execution_count": 13,
     "metadata": {},
     "output_type": "execute_result"
    }
   ],
   "source": [
    "MAXVIEW = input_pbs['view'].max()\n",
    "MAXVIEW"
   ]
  },
  {
   "cell_type": "markdown",
   "metadata": {},
   "source": [
    "## Prepare data for Keras"
   ]
  },
  {
   "cell_type": "code",
   "execution_count": 14,
   "metadata": {
    "collapsed": true
   },
   "outputs": [],
   "source": [
    "inputText = []\n",
    "for i in range(27974):\n",
    "    try:\n",
    "        inputText.append(input_pbs.loc[:,'token'][i].split(','))\n",
    "    except:\n",
    "        x = 0"
   ]
  },
  {
   "cell_type": "code",
   "execution_count": 15,
   "metadata": {
    "collapsed": true
   },
   "outputs": [],
   "source": [
    "inputLabel = []\n",
    "for view in input_pbs['view']:\n",
    "    inputLabel.append(view/MAXVIEW)"
   ]
  },
  {
   "cell_type": "code",
   "execution_count": 16,
   "metadata": {},
   "outputs": [
    {
     "name": "stdout",
     "output_type": "stream",
     "text": [
      "24511 24511\n"
     ]
    }
   ],
   "source": [
    "print(len(inputText),len(inputLabel))"
   ]
  },
  {
   "cell_type": "code",
   "execution_count": 17,
   "metadata": {},
   "outputs": [
    {
     "data": {
      "text/plain": [
       "0        ฝุ่น,PM,ทส.,เตรียม,ตั้ง,ศูนย์,แก้,ปัญหา,หมอก,ค...\n",
       "1        เลือกตั้ง,2562,เพื่อ,ไทย,เตรียม,ยื่น,กกต.,จัด,...\n",
       "2        เตรียม,เอา,ผิด,รพ.เอกชน,แห่ง,ไม่,ส่ง,ข้อมูล,รา...\n",
       "3        ตั้ง,ข้อ,สังเกต,ปลด,ล็อก,กัญชา,เอื้อ,นาย,ทุน,ห...\n",
       "6        ปิด,ล้อม,ตลาด,โรงเกลือ,รวบ,แรงงาน,ข้าม,แดน,ผิด...\n",
       "7        เลือกตั้ง,2562,ลุ้น,พรรค,การ,เมือง,ได้,ส.ส.,ปา...\n",
       "8        สงกรานต์,เดินทาง,ช่วง,สงกรานต์,ใช้,เส้นทาง,ไหน,ดี\n",
       "9        เตือน,นัก,ท่องเที่ยว,คน,ไทย,ใน,เกาหลีใต้,ระวัง...\n",
       "10       คน,เครียด,การ,เมือง,แห่,โทร,คุย,สาย,ด่วน,สุขภา...\n",
       "12                 ด่วน,ไฟ,ไหม้,ลาน,จอด,รถ,ทบ.,เสียหาย,คัน\n",
       "13                      ช้าง,รวม,โขลง,ออก,จาก,ป่าหาน้ำ,กิน\n",
       "15       ฝุ่น,PM,ทดสอบ,“,เครื่อง,ดูด,ฝุ่น,PM,”,ของ,กลุ่...\n",
       "16           ขนส่ง,ฯ,สั่ง,ปรับ,000,บาท,แท็กซี่,ดู,หนัง,โป๊\n",
       "17       บาง,จาก,ฯ,ยืนยัน,ไม่,ปรับ,ขึ้น,ราคา,น้ำมัน,ช่ว...\n",
       "18       เลือกตั้ง,2562,กกต.,เร่ง,ตรวจสอบ,เขต,คะแนน,มาก...\n",
       "19       พระปฐมบรมราชโองการ,พระราชปณิธาน,ใน,พระราชพิธี,...\n",
       "20       เช็ก,แล้ว,น้ำ,คูเมืองเชียงใหม่,ทะเลอันดามัน,สะ...\n",
       "21       ทีม,แพทย์,เผย,ใช้,ยา,กลุ่ม,เคตามีน,ช่วย,ทีม,หม...\n",
       "22                     ย้อนประวัติ,พระราชพิธี,บรมราชาภิเษก\n",
       "23       เลือกตั้ง,2562,ถาวร,เชิญ,กลุ่ม,ส.ส.,ปชป.,หารือ...\n",
       "24         ครอบครัว,ผู้,กองวัชรินทร์,ร้องกอง,ปราบ,ขอโอนคดี\n",
       "25       อพยพ,คน,นับ,พันหนี,ไฟ,ป่า,เกาหลีใต้,จนท.,000,ค...\n",
       "26       ไขคำ,ตอบ,ทาง,ด่วน,ไม่,รับ,เหรียญ,แบงก์,ชำรุด,จ...\n",
       "27       ฝุ่น,PM,ฝน,ตก,บรรเทา,ฝุ่น,จ.เชียงราย,แต่,ยัง,ก...\n",
       "28            รวบพรานป่า,อ.เชียงดาว,พร้อม,ซาก,เลียงผา,เก้ง\n",
       "30       เอธิโอเปียเผย,รายงาน,เบื้อง,ต้น,เหตุ,เครื่อง,แ...\n",
       "31       เตรียม,แจ้ง,ข้อ,หา,ปธ.,มูลนิธิข้าวขวัญ,ผลิต,คร...\n",
       "32                มอบ,เงิน,กว่า,ล้าน,จัดซื้อ,อุปกรณ์,แพทย์\n",
       "33       ตร.,ให้,ประกัน,ตัว,“,ดร.เซปิง,”,เจ้าของ,โครงกา...\n",
       "35       กทม.,ซักซ้อม,ริ้ว,ขบวน,เชิญ,คน,โท,น้ำ,ศักดิ์สิ...\n",
       "                               ...                        \n",
       "27942    ม.เกษตรฯ,เตรียม,ลง,โทษ,ทาง,วินัย,นิสิตกุข่าว,ก...\n",
       "27943    ตร.,คุม,ตัว,ผู้,ต้อง,หา,ฆ่า,หั่น,ศพ,สอบสวน,ต่อ...\n",
       "27944    ขาย,คอนเทนต์,ต่อ,ยอด,มูลค่า,ภาพยนตร์,ทาง,รอด,ค...\n",
       "27945    ผบ.,ทบ.,ปฏิเสธ,ส่ง,นศท.,ชี้,นำ,ประชามติ,ร่าง,ร...\n",
       "27946    มติทีพีแอล,ไม่,ให้,คลับไลเซน,ซิ่ง,เพื่อน,ตำรวจ...\n",
       "27947    ยอด,ผู้,เสีย,ชีวิต,เหตุ,แผ่นดิน,ไหว,ไต้หวัน,เพ...\n",
       "27948    สมเด็จพระเทพฯ,ทรง,เปิด,งาน,เทศกาล,ตรุษ,จีน,เยา...\n",
       "27949    พสกนิกร,มา,เฝ้า,รอ,รับ,เสด็จ,ฯ,เปิด,งาน,ตรุษ,จ...\n",
       "27950    ตำรวจ,ตรวจ,ค้น,ห้อง,พัก,อาตูร์,ผู้,ต้อง,สงสัย,...\n",
       "27951    ยัง,ไร้,วี่แวว,“,น้องดีเจ,ด.ช.เจษฎากร,”,หาย,จา...\n",
       "27953    กลุ่มเจริญ,ฮุบบิ๊ก,ซี,ขึ้น,แท่น,เบอร์,หนึ่ง,ค้...\n",
       "27954    วสท.,ยืนยัน,โครงสร้าง,อาคาร,ไฟ,ไหม้,ซอยนราฯ,ยั...\n",
       "27955    จนท.,คุม,เข้ม,ความ,ปลอด,ภัย,ช่วง,ตรุษ,จีน,อ.เบ...\n",
       "27957    บอร์ด,กสท.,สั่ง,เพิกถอน,ใบ,อนุญาต,ไทยทีวี,โลก้...\n",
       "27958    ก.,กลาโหม,เตรียม,ส่ง,ข้อ,เสนอ,ต่อร่าง,รัฐธรรมน...\n",
       "27959    กสทช.,ประสาน,ตรวจสอบ,มือถือ,ที่,ชาร์จ,แบต,หลัง...\n",
       "27960    แกนนำ,แฟลตดินแดง,บาง,ส่วน,ขอ,ยุติ,คัดค้าน,รื้อ...\n",
       "27961    ศาลปกครอง,ยก,ฟ้อง,ชัยวัฒน์,คดี,เผา,บ้านกะเหรี่...\n",
       "27962    เดนเวอร์บรองโกส์,คว้า,แชมป์,ซูเปอร์,โบว์,สมัย,ที่\n",
       "27963    กู้,ภัย,ไต้หวัน,เร่ง,ค้นหา,ผู้,รอด,ชีวิต,จาก,เ...\n",
       "27964    คลัง,เตรียม,เสนอ,ปล่อย,กู้,หมื่น,ล้าน,ช่วย,เกษ...\n",
       "27965    ผบ.,ตร.,บิน,ด่วน,รับ,ตัว,อาตูร์,ผู้,ต้อง,สงสัย...\n",
       "27966    ผบ.,ทบ.,ชี้,นัก,ศึกษา,วิชา,ทหาร,เป็น,จิตอาสา,ไ...\n",
       "27967    นานา,ชาติ,ประณาม,เกาหลีเหนือ,ปล่อย,จรวด,ส่ง,ดา...\n",
       "27968    นครปฐม,สุโขทัย,ยืนยัน,ไม่,ลง,แข่งขัน,นัด,ตกค้า...\n",
       "27969    กสทช.,พิจารณา,กรณี,บ.ไทยทีวี,ค้าง,ชำระ,ค่า,ประ...\n",
       "27970    จนท.,กัมพูชา,เผย,อาตูร์,ผู้,ต้อง,สงสัย,คดี,ฆ่า...\n",
       "27971    นัก,วิชาการ,แจง,ปรากฎการณ์,ลม,หนาว,รุนแรง,เตือ...\n",
       "27972    วสท.,กทม.,ยัง,ไม่,สรุป,เหตุ,ไฟ,ไหม้,อาคาร,ชั้น...\n",
       "27973    เกาหลีใต้,สหรัฐฯ,เตรียม,หารือ,ติด,ระบบ,ต้าน,ขี...\n",
       "Name: token, Length: 24511, dtype: object"
      ]
     },
     "execution_count": 17,
     "metadata": {},
     "output_type": "execute_result"
    }
   ],
   "source": [
    "input_pbs.loc[:,'token']"
   ]
  },
  {
   "cell_type": "code",
   "execution_count": 18,
   "metadata": {
    "collapsed": true
   },
   "outputs": [],
   "source": [
    "words = []\n",
    "for sentence in inputText:\n",
    "    for word in sentence:\n",
    "        words.append(word)\n",
    "        \n",
    "word_count = list()\n",
    "word_count.extend(collections.Counter(words).most_common(len(set(words))))\n",
    "word_count = word_count[:len(word_count)//4]\n",
    "word_count.append((\"UNK\",0))\n",
    "\n",
    "train_word = set()\n",
    "for i in word_count:\n",
    "    train_word.add(i[0])"
   ]
  },
  {
   "cell_type": "code",
   "execution_count": 19,
   "metadata": {},
   "outputs": [
    {
     "data": {
      "text/plain": [
       "4955"
      ]
     },
     "execution_count": 19,
     "metadata": {},
     "output_type": "execute_result"
    }
   ],
   "source": [
    "len(word_count)"
   ]
  },
  {
   "cell_type": "code",
   "execution_count": 20,
   "metadata": {
    "collapsed": true
   },
   "outputs": [],
   "source": [
    "all_token = set()\n",
    "for word in train_word:\n",
    "    all_token.add(word)"
   ]
  },
  {
   "cell_type": "code",
   "execution_count": 21,
   "metadata": {
    "collapsed": true
   },
   "outputs": [],
   "source": [
    "all_token = list(all_token)\n",
    "all_token.insert(0,'for padding')\n",
    "all_token.insert(1,'UNK')"
   ]
  },
  {
   "cell_type": "code",
   "execution_count": 22,
   "metadata": {},
   "outputs": [
    {
     "data": {
      "text/plain": [
       "4957"
      ]
     },
     "execution_count": 22,
     "metadata": {},
     "output_type": "execute_result"
    }
   ],
   "source": [
    "len(all_token)"
   ]
  },
  {
   "cell_type": "code",
   "execution_count": 23,
   "metadata": {
    "collapsed": true
   },
   "outputs": [],
   "source": [
    "token_map = dict(zip(all_token, range(len(all_token))))\n",
    "token_map_reverse = dict(zip(range(len(all_token)),all_token))"
   ]
  },
  {
   "cell_type": "code",
   "execution_count": 24,
   "metadata": {
    "collapsed": true
   },
   "outputs": [],
   "source": [
    "input_data = np.asarray(input_pbs['token'].str.split(','))"
   ]
  },
  {
   "cell_type": "code",
   "execution_count": 25,
   "metadata": {
    "collapsed": true
   },
   "outputs": [],
   "source": [
    "def count_word(sent):\n",
    "    global all_token, token_map\n",
    "    result = np.zeros(len(all_token))\n",
    "    np_token = np.array(sent)\n",
    "    str_token, str_token_count = np.unique(np_token, return_counts=True)\n",
    "    for char, count in zip(str_token, str_token_count):\n",
    "        if char not in token_map.keys():\n",
    "            char = 'UNK'\n",
    "        result[token_map[char]] = count\n",
    "    return result"
   ]
  },
  {
   "cell_type": "code",
   "execution_count": 26,
   "metadata": {
    "collapsed": true
   },
   "outputs": [],
   "source": [
    "temp = np.vectorize(count_word, otypes=[object])(input_data)\n",
    "x_f1 = np.array([[e for e in sl] for sl in temp.tolist()])"
   ]
  },
  {
   "cell_type": "code",
   "execution_count": 27,
   "metadata": {
    "collapsed": true
   },
   "outputs": [],
   "source": [
    "x_train=keras.preprocessing.sequence.pad_sequences(x_f1, maxlen=None, dtype='int32', padding='post', truncating='pre', value=0.)"
   ]
  },
  {
   "cell_type": "code",
   "execution_count": 28,
   "metadata": {
    "collapsed": true
   },
   "outputs": [],
   "source": [
    "hour_array = []\n",
    "for hour in input_pbs['hour']:\n",
    "    hour_array.append(hour)"
   ]
  },
  {
   "cell_type": "code",
   "execution_count": 29,
   "metadata": {
    "collapsed": true
   },
   "outputs": [],
   "source": [
    "DOW_array = []\n",
    "all_DOW = []\n",
    "for DOW in input_pbs['DOW']:\n",
    "    DOW_array.append(DOW)\n",
    "    all_DOW.append(DOW)"
   ]
  },
  {
   "cell_type": "code",
   "execution_count": 30,
   "metadata": {
    "collapsed": true
   },
   "outputs": [],
   "source": [
    "all_DOW = list(set(all_DOW))\n",
    "map_DOW = {'FRI':5, 'WED':3, 'SAT':6, 'THU':4, 'MON':1, 'TUE':2, 'SUN':0}"
   ]
  },
  {
   "cell_type": "code",
   "execution_count": 31,
   "metadata": {
    "collapsed": true
   },
   "outputs": [],
   "source": [
    "category_array = []\n",
    "all_category = []\n",
    "for category in input_pbs['category']:\n",
    "    category_array.append(category)\n",
    "    all_category.append(category)"
   ]
  },
  {
   "cell_type": "code",
   "execution_count": 32,
   "metadata": {
    "collapsed": true
   },
   "outputs": [],
   "source": [
    "all_category = list(set(all_category))\n",
    "map_category = {}\n",
    "for i in range(len(all_category)):\n",
    "    map_category[all_category[i]] = i"
   ]
  },
  {
   "cell_type": "code",
   "execution_count": 33,
   "metadata": {},
   "outputs": [
    {
     "data": {
      "text/plain": [
       "{'การศึกษา': 14,\n",
       " 'การเมือง': 2,\n",
       " 'กีฬา': 19,\n",
       " 'จังหวัดชายแดนภาคใต้': 0,\n",
       " 'ต่างประเทศ': 17,\n",
       " 'บทความ-บทวิเคราะห์': 13,\n",
       " 'ภัยพิบัติ': 10,\n",
       " 'ภูมิภาค': 15,\n",
       " 'รายงานพิเศษ': 12,\n",
       " 'วิทยาศาสตร์เทคโนโลยี': 1,\n",
       " 'ศิลปะ-บันเทิง': 8,\n",
       " 'สตรีและเยาวชน': 6,\n",
       " 'สังคม': 5,\n",
       " 'สาธารณสุข': 4,\n",
       " 'สิ่งแวดล้อม': 18,\n",
       " 'อาชญากรรม': 7,\n",
       " 'อาเซียน': 16,\n",
       " 'เกษตร': 3,\n",
       " 'เศรษฐกิจ': 11,\n",
       " 'ไลฟ์สไตล์': 9}"
      ]
     },
     "execution_count": 33,
     "metadata": {},
     "output_type": "execute_result"
    }
   ],
   "source": [
    "map_category"
   ]
  },
  {
   "cell_type": "code",
   "execution_count": 34,
   "metadata": {},
   "outputs": [
    {
     "data": {
      "text/plain": [
       "{'FRI': 5, 'MON': 1, 'SAT': 6, 'SUN': 0, 'THU': 4, 'TUE': 2, 'WED': 3}"
      ]
     },
     "execution_count": 34,
     "metadata": {},
     "output_type": "execute_result"
    }
   ],
   "source": [
    "map_DOW"
   ]
  },
  {
   "cell_type": "code",
   "execution_count": 35,
   "metadata": {
    "collapsed": true
   },
   "outputs": [],
   "source": [
    "def onehot_label(hour):\n",
    "    result = np.zeros(24)\n",
    "    result[hour] = 1\n",
    "    return result"
   ]
  },
  {
   "cell_type": "code",
   "execution_count": 36,
   "metadata": {
    "collapsed": true
   },
   "outputs": [],
   "source": [
    "def DOW_onehot_label(DOW):\n",
    "    result = np.zeros(7)\n",
    "    result[map_DOW[DOW]] = 1\n",
    "    return result"
   ]
  },
  {
   "cell_type": "code",
   "execution_count": 37,
   "metadata": {
    "collapsed": true
   },
   "outputs": [],
   "source": [
    "def category_onehot_label(category):\n",
    "    result = np.zeros(len(all_category))\n",
    "    result[map_category[category]] = 1\n",
    "    return result"
   ]
  },
  {
   "cell_type": "code",
   "execution_count": 38,
   "metadata": {
    "collapsed": true
   },
   "outputs": [],
   "source": [
    "x_train2 = np.zeros((x_train.shape[0],x_train.shape[1]+24+7+len(all_category)))\n",
    "for i in range(x_train.shape[0]):\n",
    "    temp = np.append(x_train[i],onehot_label(hour_array[i]))\n",
    "    temp = np.append(temp,DOW_onehot_label(DOW_array[i]))\n",
    "    x_train2[i] = np.append(temp,category_onehot_label(category_array[i]))"
   ]
  },
  {
   "cell_type": "code",
   "execution_count": 39,
   "metadata": {},
   "outputs": [
    {
     "data": {
      "text/plain": [
       "(24511, 4957)"
      ]
     },
     "execution_count": 39,
     "metadata": {},
     "output_type": "execute_result"
    }
   ],
   "source": [
    "x_train.shape"
   ]
  },
  {
   "cell_type": "code",
   "execution_count": 40,
   "metadata": {
    "collapsed": true
   },
   "outputs": [],
   "source": [
    "x_train = x_train2"
   ]
  },
  {
   "cell_type": "code",
   "execution_count": 41,
   "metadata": {
    "collapsed": true
   },
   "outputs": [],
   "source": [
    "x_train2 = np.zeros((x_train.shape[0],24+7+len(all_category)))\n",
    "for i in range(x_train.shape[0]):\n",
    "    temp = np.append([],onehot_label(hour_array[i]))\n",
    "    temp = np.append(temp,DOW_onehot_label(DOW_array[i]))\n",
    "    x_train2[i] = np.append(temp,category_onehot_label(category_array[i]))"
   ]
  },
  {
   "cell_type": "code",
   "execution_count": 42,
   "metadata": {},
   "outputs": [
    {
     "data": {
      "text/plain": [
       "array([0., 0., 0., ..., 0., 1., 0.])"
      ]
     },
     "execution_count": 42,
     "metadata": {},
     "output_type": "execute_result"
    }
   ],
   "source": [
    "x_train[0]"
   ]
  },
  {
   "cell_type": "code",
   "execution_count": 43,
   "metadata": {},
   "outputs": [
    {
     "data": {
      "text/plain": [
       "(24511, 51)"
      ]
     },
     "execution_count": 43,
     "metadata": {},
     "output_type": "execute_result"
    }
   ],
   "source": [
    "x_train2.shape"
   ]
  },
  {
   "cell_type": "code",
   "execution_count": 44,
   "metadata": {
    "collapsed": true
   },
   "outputs": [],
   "source": [
    "x_train, x_test =  train_test_split(x_train, test_size=0.2,random_state=1)"
   ]
  },
  {
   "cell_type": "code",
   "execution_count": 45,
   "metadata": {
    "collapsed": true
   },
   "outputs": [],
   "source": [
    "x_train2, x_test2 =  train_test_split(x_train2, test_size=0.2,random_state=1)"
   ]
  },
  {
   "cell_type": "code",
   "execution_count": 46,
   "metadata": {},
   "outputs": [
    {
     "name": "stdout",
     "output_type": "stream",
     "text": [
      "train size (19608, 5008)\n",
      "test size (4903, 5008)\n",
      "train size (19608, 51)\n",
      "test size (4903, 51)\n"
     ]
    }
   ],
   "source": [
    "print(\"train size\",x_train.shape)\n",
    "print(\"test size\",x_test.shape)\n",
    "print(\"train size\",x_train2.shape)\n",
    "print(\"test size\",x_test2.shape)"
   ]
  },
  {
   "cell_type": "code",
   "execution_count": 47,
   "metadata": {
    "collapsed": true
   },
   "outputs": [],
   "source": [
    "y_train = inputLabel\n",
    "y_train = np.asarray(y_train).reshape(-1,1)\n",
    "y_train2 = inputLabel\n",
    "y_train2 = np.asarray(y_train2).reshape(-1,1)"
   ]
  },
  {
   "cell_type": "code",
   "execution_count": 48,
   "metadata": {
    "collapsed": true
   },
   "outputs": [],
   "source": [
    "y_train, y_test =  train_test_split(y_train, test_size=0.2,random_state=1)\n",
    "y_train2, y_test2 =  train_test_split(y_train2, test_size=0.2,random_state=1)"
   ]
  },
  {
   "cell_type": "code",
   "execution_count": 49,
   "metadata": {},
   "outputs": [
    {
     "name": "stdout",
     "output_type": "stream",
     "text": [
      "train size 19608\n",
      "test size 4903\n"
     ]
    }
   ],
   "source": [
    "print(\"train size\",len(y_train))\n",
    "print(\"test size\",len(y_test))"
   ]
  },
  {
   "cell_type": "markdown",
   "metadata": {},
   "source": [
    "## Create Model"
   ]
  },
  {
   "cell_type": "code",
   "execution_count": 50,
   "metadata": {
    "collapsed": true
   },
   "outputs": [],
   "source": [
    "def create_model():    \n",
    "    input1 = Input(shape=(x_train.shape[1],))\n",
    "    x = Dense(1024, activation='relu')(input1)\n",
    "    x = Dropout(0.5)(x)\n",
    "    x = BatchNormalization(momentum=0.99, epsilon=0.001)(x)\n",
    "    x = Dense(256, activation='relu')(x)\n",
    "    x = Dropout(0.3)(x)\n",
    "    x = BatchNormalization(momentum=0.99, epsilon=0.001)(x)\n",
    "    x = Dense(64, activation='relu')(x)\n",
    "    x = Dropout(0.2)(x)\n",
    "    x = BatchNormalization(momentum=0.99, epsilon=0.001)(x)\n",
    "    x = Dense(16, activation='relu')(x)\n",
    "    x = Dropout(0.2)(x)\n",
    "    x = BatchNormalization(momentum=0.99, epsilon=0.001)(x)\n",
    "    x = Dense(1,activation='linear')(x)\n",
    "    model = Model(inputs=input1, outputs=x)\n",
    "    adam  = Adam(lr=0.0001)\n",
    "    model.compile(optimizer=adam,  loss='mean_absolute_percentage_error')\n",
    "    \n",
    "    return model\n"
   ]
  },
  {
   "cell_type": "code",
   "execution_count": 51,
   "metadata": {},
   "outputs": [
    {
     "name": "stdout",
     "output_type": "stream",
     "text": [
      "_________________________________________________________________\n",
      "Layer (type)                 Output Shape              Param #   \n",
      "=================================================================\n",
      "input_1 (InputLayer)         (None, 5008)              0         \n",
      "_________________________________________________________________\n",
      "dense_1 (Dense)              (None, 1024)              5129216   \n",
      "_________________________________________________________________\n",
      "dropout_1 (Dropout)          (None, 1024)              0         \n",
      "_________________________________________________________________\n",
      "batch_normalization_1 (Batch (None, 1024)              4096      \n",
      "_________________________________________________________________\n",
      "dense_2 (Dense)              (None, 256)               262400    \n",
      "_________________________________________________________________\n",
      "dropout_2 (Dropout)          (None, 256)               0         \n",
      "_________________________________________________________________\n",
      "batch_normalization_2 (Batch (None, 256)               1024      \n",
      "_________________________________________________________________\n",
      "dense_3 (Dense)              (None, 64)                16448     \n",
      "_________________________________________________________________\n",
      "dropout_3 (Dropout)          (None, 64)                0         \n",
      "_________________________________________________________________\n",
      "batch_normalization_3 (Batch (None, 64)                256       \n",
      "_________________________________________________________________\n",
      "dense_4 (Dense)              (None, 16)                1040      \n",
      "_________________________________________________________________\n",
      "dropout_4 (Dropout)          (None, 16)                0         \n",
      "_________________________________________________________________\n",
      "batch_normalization_4 (Batch (None, 16)                64        \n",
      "_________________________________________________________________\n",
      "dense_5 (Dense)              (None, 1)                 17        \n",
      "=================================================================\n",
      "Total params: 5,414,561\n",
      "Trainable params: 5,411,841\n",
      "Non-trainable params: 2,720\n",
      "_________________________________________________________________\n"
     ]
    }
   ],
   "source": [
    "model = create_model()\n",
    "model.summary()"
   ]
  },
  {
   "cell_type": "code",
   "execution_count": 52,
   "metadata": {
    "collapsed": true
   },
   "outputs": [],
   "source": [
    "weight_path='./model_eq_test1.h5'\n",
    "callbacks_list = [\n",
    "        ModelCheckpoint(\n",
    "            weight_path,\n",
    "            save_best_only=True,\n",
    "            save_weights_only=True,\n",
    "            monitor='val_loss',\n",
    "            mode='min',\n",
    "            verbose=1\n",
    "        )\n",
    "]"
   ]
  },
  {
   "cell_type": "code",
   "execution_count": 215,
   "metadata": {},
   "outputs": [
    {
     "name": "stdout",
     "output_type": "stream",
     "text": [
      "Train on 15686 samples, validate on 3922 samples\n",
      "Epoch 1/50\n",
      " 5408/15686 [=========>....................] - ETA: 49s - loss: 1340.6441"
     ]
    },
    {
     "ename": "KeyboardInterrupt",
     "evalue": "",
     "output_type": "error",
     "traceback": [
      "\u001b[0;31m---------------------------------------------------------------------------\u001b[0m",
      "\u001b[0;31mKeyboardInterrupt\u001b[0m                         Traceback (most recent call last)",
      "\u001b[0;32m<ipython-input-215-7bd124fc707e>\u001b[0m in \u001b[0;36m<module>\u001b[0;34m()\u001b[0m\n\u001b[0;32m----> 1\u001b[0;31m \u001b[0mmodel\u001b[0m\u001b[0;34m.\u001b[0m\u001b[0mfit\u001b[0m\u001b[0;34m(\u001b[0m\u001b[0mx_train\u001b[0m\u001b[0;34m,\u001b[0m \u001b[0my_train\u001b[0m\u001b[0;34m,\u001b[0m \u001b[0mbatch_size\u001b[0m\u001b[0;34m=\u001b[0m\u001b[0;36m32\u001b[0m \u001b[0;34m,\u001b[0m\u001b[0mepochs\u001b[0m\u001b[0;34m=\u001b[0m\u001b[0;36m50\u001b[0m\u001b[0;34m,\u001b[0m \u001b[0mverbose\u001b[0m\u001b[0;34m=\u001b[0m\u001b[0;36m1\u001b[0m\u001b[0;34m,\u001b[0m \u001b[0mvalidation_split\u001b[0m\u001b[0;34m=\u001b[0m\u001b[0;36m0.2\u001b[0m\u001b[0;34m,\u001b[0m\u001b[0mcallbacks\u001b[0m\u001b[0;34m=\u001b[0m\u001b[0mcallbacks_list\u001b[0m\u001b[0;34m)\u001b[0m\u001b[0;34m\u001b[0m\u001b[0m\n\u001b[0m",
      "\u001b[0;32m~/anaconda3/lib/python3.6/site-packages/keras/engine/training.py\u001b[0m in \u001b[0;36mfit\u001b[0;34m(self, x, y, batch_size, epochs, verbose, callbacks, validation_split, validation_data, shuffle, class_weight, sample_weight, initial_epoch, steps_per_epoch, validation_steps, **kwargs)\u001b[0m\n\u001b[1;32m   1703\u001b[0m                               \u001b[0minitial_epoch\u001b[0m\u001b[0;34m=\u001b[0m\u001b[0minitial_epoch\u001b[0m\u001b[0;34m,\u001b[0m\u001b[0;34m\u001b[0m\u001b[0m\n\u001b[1;32m   1704\u001b[0m                               \u001b[0msteps_per_epoch\u001b[0m\u001b[0;34m=\u001b[0m\u001b[0msteps_per_epoch\u001b[0m\u001b[0;34m,\u001b[0m\u001b[0;34m\u001b[0m\u001b[0m\n\u001b[0;32m-> 1705\u001b[0;31m                               validation_steps=validation_steps)\n\u001b[0m\u001b[1;32m   1706\u001b[0m \u001b[0;34m\u001b[0m\u001b[0m\n\u001b[1;32m   1707\u001b[0m     def evaluate(self, x=None, y=None,\n",
      "\u001b[0;32m~/anaconda3/lib/python3.6/site-packages/keras/engine/training.py\u001b[0m in \u001b[0;36m_fit_loop\u001b[0;34m(self, f, ins, out_labels, batch_size, epochs, verbose, callbacks, val_f, val_ins, shuffle, callback_metrics, initial_epoch, steps_per_epoch, validation_steps)\u001b[0m\n\u001b[1;32m   1239\u001b[0m                         \u001b[0mbatch_logs\u001b[0m\u001b[0;34m[\u001b[0m\u001b[0ml\u001b[0m\u001b[0;34m]\u001b[0m \u001b[0;34m=\u001b[0m \u001b[0mo\u001b[0m\u001b[0;34m\u001b[0m\u001b[0m\n\u001b[1;32m   1240\u001b[0m \u001b[0;34m\u001b[0m\u001b[0m\n\u001b[0;32m-> 1241\u001b[0;31m                     \u001b[0mcallbacks\u001b[0m\u001b[0;34m.\u001b[0m\u001b[0mon_batch_end\u001b[0m\u001b[0;34m(\u001b[0m\u001b[0mbatch_index\u001b[0m\u001b[0;34m,\u001b[0m \u001b[0mbatch_logs\u001b[0m\u001b[0;34m)\u001b[0m\u001b[0;34m\u001b[0m\u001b[0m\n\u001b[0m\u001b[1;32m   1242\u001b[0m                     \u001b[0;32mif\u001b[0m \u001b[0mcallback_model\u001b[0m\u001b[0;34m.\u001b[0m\u001b[0mstop_training\u001b[0m\u001b[0;34m:\u001b[0m\u001b[0;34m\u001b[0m\u001b[0m\n\u001b[1;32m   1243\u001b[0m                         \u001b[0;32mbreak\u001b[0m\u001b[0;34m\u001b[0m\u001b[0m\n",
      "\u001b[0;32m~/anaconda3/lib/python3.6/site-packages/keras/callbacks.py\u001b[0m in \u001b[0;36mon_batch_end\u001b[0;34m(self, batch, logs)\u001b[0m\n\u001b[1;32m    111\u001b[0m         \u001b[0mt_before_callbacks\u001b[0m \u001b[0;34m=\u001b[0m \u001b[0mtime\u001b[0m\u001b[0;34m.\u001b[0m\u001b[0mtime\u001b[0m\u001b[0;34m(\u001b[0m\u001b[0;34m)\u001b[0m\u001b[0;34m\u001b[0m\u001b[0m\n\u001b[1;32m    112\u001b[0m         \u001b[0;32mfor\u001b[0m \u001b[0mcallback\u001b[0m \u001b[0;32min\u001b[0m \u001b[0mself\u001b[0m\u001b[0;34m.\u001b[0m\u001b[0mcallbacks\u001b[0m\u001b[0;34m:\u001b[0m\u001b[0;34m\u001b[0m\u001b[0m\n\u001b[0;32m--> 113\u001b[0;31m             \u001b[0mcallback\u001b[0m\u001b[0;34m.\u001b[0m\u001b[0mon_batch_end\u001b[0m\u001b[0;34m(\u001b[0m\u001b[0mbatch\u001b[0m\u001b[0;34m,\u001b[0m \u001b[0mlogs\u001b[0m\u001b[0;34m)\u001b[0m\u001b[0;34m\u001b[0m\u001b[0m\n\u001b[0m\u001b[1;32m    114\u001b[0m         \u001b[0mself\u001b[0m\u001b[0;34m.\u001b[0m\u001b[0m_delta_ts_batch_end\u001b[0m\u001b[0;34m.\u001b[0m\u001b[0mappend\u001b[0m\u001b[0;34m(\u001b[0m\u001b[0mtime\u001b[0m\u001b[0;34m.\u001b[0m\u001b[0mtime\u001b[0m\u001b[0;34m(\u001b[0m\u001b[0;34m)\u001b[0m \u001b[0;34m-\u001b[0m \u001b[0mt_before_callbacks\u001b[0m\u001b[0;34m)\u001b[0m\u001b[0;34m\u001b[0m\u001b[0m\n\u001b[1;32m    115\u001b[0m         \u001b[0mdelta_t_median\u001b[0m \u001b[0;34m=\u001b[0m \u001b[0mnp\u001b[0m\u001b[0;34m.\u001b[0m\u001b[0mmedian\u001b[0m\u001b[0;34m(\u001b[0m\u001b[0mself\u001b[0m\u001b[0;34m.\u001b[0m\u001b[0m_delta_ts_batch_end\u001b[0m\u001b[0;34m)\u001b[0m\u001b[0;34m\u001b[0m\u001b[0m\n",
      "\u001b[0;32m~/anaconda3/lib/python3.6/site-packages/keras/callbacks.py\u001b[0m in \u001b[0;36mon_batch_end\u001b[0;34m(self, batch, logs)\u001b[0m\n\u001b[1;32m    329\u001b[0m         \u001b[0;31m# will be handled by on_epoch_end.\u001b[0m\u001b[0;34m\u001b[0m\u001b[0;34m\u001b[0m\u001b[0m\n\u001b[1;32m    330\u001b[0m         \u001b[0;32mif\u001b[0m \u001b[0mself\u001b[0m\u001b[0;34m.\u001b[0m\u001b[0mverbose\u001b[0m \u001b[0;32mand\u001b[0m \u001b[0mself\u001b[0m\u001b[0;34m.\u001b[0m\u001b[0mseen\u001b[0m \u001b[0;34m<\u001b[0m \u001b[0mself\u001b[0m\u001b[0;34m.\u001b[0m\u001b[0mtarget\u001b[0m\u001b[0;34m:\u001b[0m\u001b[0;34m\u001b[0m\u001b[0m\n\u001b[0;32m--> 331\u001b[0;31m             \u001b[0mself\u001b[0m\u001b[0;34m.\u001b[0m\u001b[0mprogbar\u001b[0m\u001b[0;34m.\u001b[0m\u001b[0mupdate\u001b[0m\u001b[0;34m(\u001b[0m\u001b[0mself\u001b[0m\u001b[0;34m.\u001b[0m\u001b[0mseen\u001b[0m\u001b[0;34m,\u001b[0m \u001b[0mself\u001b[0m\u001b[0;34m.\u001b[0m\u001b[0mlog_values\u001b[0m\u001b[0;34m)\u001b[0m\u001b[0;34m\u001b[0m\u001b[0m\n\u001b[0m\u001b[1;32m    332\u001b[0m \u001b[0;34m\u001b[0m\u001b[0m\n\u001b[1;32m    333\u001b[0m     \u001b[0;32mdef\u001b[0m \u001b[0mon_epoch_end\u001b[0m\u001b[0;34m(\u001b[0m\u001b[0mself\u001b[0m\u001b[0;34m,\u001b[0m \u001b[0mepoch\u001b[0m\u001b[0;34m,\u001b[0m \u001b[0mlogs\u001b[0m\u001b[0;34m=\u001b[0m\u001b[0;32mNone\u001b[0m\u001b[0;34m)\u001b[0m\u001b[0;34m:\u001b[0m\u001b[0;34m\u001b[0m\u001b[0m\n",
      "\u001b[0;32m~/anaconda3/lib/python3.6/site-packages/keras/utils/generic_utils.py\u001b[0m in \u001b[0;36mupdate\u001b[0;34m(self, current, values)\u001b[0m\n\u001b[1;32m    417\u001b[0m \u001b[0;34m\u001b[0m\u001b[0m\n\u001b[1;32m    418\u001b[0m             \u001b[0msys\u001b[0m\u001b[0;34m.\u001b[0m\u001b[0mstdout\u001b[0m\u001b[0;34m.\u001b[0m\u001b[0mwrite\u001b[0m\u001b[0;34m(\u001b[0m\u001b[0minfo\u001b[0m\u001b[0;34m)\u001b[0m\u001b[0;34m\u001b[0m\u001b[0m\n\u001b[0;32m--> 419\u001b[0;31m             \u001b[0msys\u001b[0m\u001b[0;34m.\u001b[0m\u001b[0mstdout\u001b[0m\u001b[0;34m.\u001b[0m\u001b[0mflush\u001b[0m\u001b[0;34m(\u001b[0m\u001b[0;34m)\u001b[0m\u001b[0;34m\u001b[0m\u001b[0m\n\u001b[0m\u001b[1;32m    420\u001b[0m \u001b[0;34m\u001b[0m\u001b[0m\n\u001b[1;32m    421\u001b[0m         \u001b[0;32melif\u001b[0m \u001b[0mself\u001b[0m\u001b[0;34m.\u001b[0m\u001b[0mverbose\u001b[0m \u001b[0;34m==\u001b[0m \u001b[0;36m2\u001b[0m\u001b[0;34m:\u001b[0m\u001b[0;34m\u001b[0m\u001b[0m\n",
      "\u001b[0;32m~/anaconda3/lib/python3.6/site-packages/ipykernel/iostream.py\u001b[0m in \u001b[0;36mflush\u001b[0;34m(self)\u001b[0m\n\u001b[1;32m    319\u001b[0m             \u001b[0mevt\u001b[0m \u001b[0;34m=\u001b[0m \u001b[0mthreading\u001b[0m\u001b[0;34m.\u001b[0m\u001b[0mEvent\u001b[0m\u001b[0;34m(\u001b[0m\u001b[0;34m)\u001b[0m\u001b[0;34m\u001b[0m\u001b[0m\n\u001b[1;32m    320\u001b[0m             \u001b[0mself\u001b[0m\u001b[0;34m.\u001b[0m\u001b[0mpub_thread\u001b[0m\u001b[0;34m.\u001b[0m\u001b[0mschedule\u001b[0m\u001b[0;34m(\u001b[0m\u001b[0mevt\u001b[0m\u001b[0;34m.\u001b[0m\u001b[0mset\u001b[0m\u001b[0;34m)\u001b[0m\u001b[0;34m\u001b[0m\u001b[0m\n\u001b[0;32m--> 321\u001b[0;31m             \u001b[0mevt\u001b[0m\u001b[0;34m.\u001b[0m\u001b[0mwait\u001b[0m\u001b[0;34m(\u001b[0m\u001b[0;34m)\u001b[0m\u001b[0;34m\u001b[0m\u001b[0m\n\u001b[0m\u001b[1;32m    322\u001b[0m         \u001b[0;32melse\u001b[0m\u001b[0;34m:\u001b[0m\u001b[0;34m\u001b[0m\u001b[0m\n\u001b[1;32m    323\u001b[0m             \u001b[0mself\u001b[0m\u001b[0;34m.\u001b[0m\u001b[0m_flush\u001b[0m\u001b[0;34m(\u001b[0m\u001b[0;34m)\u001b[0m\u001b[0;34m\u001b[0m\u001b[0m\n",
      "\u001b[0;32m~/anaconda3/lib/python3.6/threading.py\u001b[0m in \u001b[0;36mwait\u001b[0;34m(self, timeout)\u001b[0m\n\u001b[1;32m    549\u001b[0m             \u001b[0msignaled\u001b[0m \u001b[0;34m=\u001b[0m \u001b[0mself\u001b[0m\u001b[0;34m.\u001b[0m\u001b[0m_flag\u001b[0m\u001b[0;34m\u001b[0m\u001b[0m\n\u001b[1;32m    550\u001b[0m             \u001b[0;32mif\u001b[0m \u001b[0;32mnot\u001b[0m \u001b[0msignaled\u001b[0m\u001b[0;34m:\u001b[0m\u001b[0;34m\u001b[0m\u001b[0m\n\u001b[0;32m--> 551\u001b[0;31m                 \u001b[0msignaled\u001b[0m \u001b[0;34m=\u001b[0m \u001b[0mself\u001b[0m\u001b[0;34m.\u001b[0m\u001b[0m_cond\u001b[0m\u001b[0;34m.\u001b[0m\u001b[0mwait\u001b[0m\u001b[0;34m(\u001b[0m\u001b[0mtimeout\u001b[0m\u001b[0;34m)\u001b[0m\u001b[0;34m\u001b[0m\u001b[0m\n\u001b[0m\u001b[1;32m    552\u001b[0m             \u001b[0;32mreturn\u001b[0m \u001b[0msignaled\u001b[0m\u001b[0;34m\u001b[0m\u001b[0m\n\u001b[1;32m    553\u001b[0m \u001b[0;34m\u001b[0m\u001b[0m\n",
      "\u001b[0;32m~/anaconda3/lib/python3.6/threading.py\u001b[0m in \u001b[0;36mwait\u001b[0;34m(self, timeout)\u001b[0m\n\u001b[1;32m    293\u001b[0m         \u001b[0;32mtry\u001b[0m\u001b[0;34m:\u001b[0m    \u001b[0;31m# restore state no matter what (e.g., KeyboardInterrupt)\u001b[0m\u001b[0;34m\u001b[0m\u001b[0m\n\u001b[1;32m    294\u001b[0m             \u001b[0;32mif\u001b[0m \u001b[0mtimeout\u001b[0m \u001b[0;32mis\u001b[0m \u001b[0;32mNone\u001b[0m\u001b[0;34m:\u001b[0m\u001b[0;34m\u001b[0m\u001b[0m\n\u001b[0;32m--> 295\u001b[0;31m                 \u001b[0mwaiter\u001b[0m\u001b[0;34m.\u001b[0m\u001b[0macquire\u001b[0m\u001b[0;34m(\u001b[0m\u001b[0;34m)\u001b[0m\u001b[0;34m\u001b[0m\u001b[0m\n\u001b[0m\u001b[1;32m    296\u001b[0m                 \u001b[0mgotit\u001b[0m \u001b[0;34m=\u001b[0m \u001b[0;32mTrue\u001b[0m\u001b[0;34m\u001b[0m\u001b[0m\n\u001b[1;32m    297\u001b[0m             \u001b[0;32melse\u001b[0m\u001b[0;34m:\u001b[0m\u001b[0;34m\u001b[0m\u001b[0m\n",
      "\u001b[0;31mKeyboardInterrupt\u001b[0m: "
     ]
    }
   ],
   "source": [
    "model.fit(x_train, y_train, batch_size=32 ,epochs=50, verbose=1, validation_split=0.2,callbacks=callbacks_list)"
   ]
  },
  {
   "cell_type": "code",
   "execution_count": 53,
   "metadata": {},
   "outputs": [
    {
     "name": "stdout",
     "output_type": "stream",
     "text": [
      "_________________________________________________________________\n",
      "Layer (type)                 Output Shape              Param #   \n",
      "=================================================================\n",
      "input_2 (InputLayer)         (None, 51)                0         \n",
      "_________________________________________________________________\n",
      "dense_6 (Dense)              (None, 128)               6656      \n",
      "_________________________________________________________________\n",
      "dropout_5 (Dropout)          (None, 128)               0         \n",
      "_________________________________________________________________\n",
      "batch_normalization_5 (Batch (None, 128)               512       \n",
      "_________________________________________________________________\n",
      "dense_7 (Dense)              (None, 256)               33024     \n",
      "_________________________________________________________________\n",
      "dropout_6 (Dropout)          (None, 256)               0         \n",
      "_________________________________________________________________\n",
      "batch_normalization_6 (Batch (None, 256)               1024      \n",
      "_________________________________________________________________\n",
      "dense_8 (Dense)              (None, 512)               131584    \n",
      "_________________________________________________________________\n",
      "dropout_7 (Dropout)          (None, 512)               0         \n",
      "_________________________________________________________________\n",
      "batch_normalization_7 (Batch (None, 512)               2048      \n",
      "_________________________________________________________________\n",
      "dense_9 (Dense)              (None, 1024)              525312    \n",
      "_________________________________________________________________\n",
      "dropout_8 (Dropout)          (None, 1024)              0         \n",
      "_________________________________________________________________\n",
      "batch_normalization_8 (Batch (None, 1024)              4096      \n",
      "_________________________________________________________________\n",
      "dense_10 (Dense)             (None, 1)                 1025      \n",
      "=================================================================\n",
      "Total params: 705,281\n",
      "Trainable params: 701,441\n",
      "Non-trainable params: 3,840\n",
      "_________________________________________________________________\n",
      "Train on 15686 samples, validate on 3922 samples\n",
      "Epoch 1/50\n",
      "15686/15686 [==============================] - 13s 806us/step - loss: 1109.8139 - val_loss: 330.7626\n",
      "\n",
      "Epoch 00001: val_loss improved from inf to 330.76255, saving model to ./model_eq_test2.h5\n",
      "Epoch 2/50\n",
      "15686/15686 [==============================] - 11s 728us/step - loss: 967.3269 - val_loss: 217.6099\n",
      "\n",
      "Epoch 00002: val_loss improved from 330.76255 to 217.60993, saving model to ./model_eq_test2.h5\n",
      "Epoch 3/50\n",
      "15686/15686 [==============================] - 11s 723us/step - loss: 844.3089 - val_loss: 233.4370\n",
      "\n",
      "Epoch 00003: val_loss did not improve\n",
      "Epoch 4/50\n",
      "15686/15686 [==============================] - 12s 785us/step - loss: 765.5342 - val_loss: 167.3783\n",
      "\n",
      "Epoch 00004: val_loss improved from 217.60993 to 167.37830, saving model to ./model_eq_test2.h5\n",
      "Epoch 5/50\n",
      "15686/15686 [==============================] - 12s 762us/step - loss: 654.5455 - val_loss: 147.3508\n",
      "\n",
      "Epoch 00005: val_loss improved from 167.37830 to 147.35077, saving model to ./model_eq_test2.h5\n",
      "Epoch 6/50\n",
      "15686/15686 [==============================] - 12s 760us/step - loss: 566.5246 - val_loss: 135.0373\n",
      "\n",
      "Epoch 00006: val_loss improved from 147.35077 to 135.03726, saving model to ./model_eq_test2.h5\n",
      "Epoch 7/50\n",
      "15686/15686 [==============================] - 12s 765us/step - loss: 468.5298 - val_loss: 110.2483\n",
      "\n",
      "Epoch 00007: val_loss improved from 135.03726 to 110.24834, saving model to ./model_eq_test2.h5\n",
      "Epoch 8/50\n",
      "15686/15686 [==============================] - 13s 813us/step - loss: 387.8838 - val_loss: 90.0867\n",
      "\n",
      "Epoch 00008: val_loss improved from 110.24834 to 90.08669, saving model to ./model_eq_test2.h5\n",
      "Epoch 9/50\n",
      "15686/15686 [==============================] - 13s 804us/step - loss: 300.1387 - val_loss: 82.7058\n",
      "\n",
      "Epoch 00009: val_loss improved from 90.08669 to 82.70576, saving model to ./model_eq_test2.h5\n",
      "Epoch 10/50\n",
      "15686/15686 [==============================] - 11s 695us/step - loss: 221.4443 - val_loss: 73.3636\n",
      "\n",
      "Epoch 00010: val_loss improved from 82.70576 to 73.36363, saving model to ./model_eq_test2.h5\n",
      "Epoch 11/50\n",
      "15686/15686 [==============================] - 11s 716us/step - loss: 152.3740 - val_loss: 68.7524\n",
      "\n",
      "Epoch 00011: val_loss improved from 73.36363 to 68.75244, saving model to ./model_eq_test2.h5\n",
      "Epoch 12/50\n",
      "15686/15686 [==============================] - 12s 753us/step - loss: 100.0683 - val_loss: 65.8008\n",
      "\n",
      "Epoch 00012: val_loss improved from 68.75244 to 65.80084, saving model to ./model_eq_test2.h5\n",
      "Epoch 13/50\n",
      "15686/15686 [==============================] - 11s 730us/step - loss: 75.9232 - val_loss: 71.8064\n",
      "\n",
      "Epoch 00013: val_loss did not improve\n",
      "Epoch 14/50\n",
      "15686/15686 [==============================] - 11s 709us/step - loss: 71.5965 - val_loss: 67.4651\n",
      "\n",
      "Epoch 00014: val_loss did not improve\n",
      "Epoch 15/50\n",
      "15686/15686 [==============================] - 11s 729us/step - loss: 71.2004 - val_loss: 64.4372\n",
      "\n",
      "Epoch 00015: val_loss improved from 65.80084 to 64.43722, saving model to ./model_eq_test2.h5\n",
      "Epoch 16/50\n",
      "15686/15686 [==============================] - 11s 732us/step - loss: 71.7849 - val_loss: 63.8236\n",
      "\n",
      "Epoch 00016: val_loss improved from 64.43722 to 63.82362, saving model to ./model_eq_test2.h5\n",
      "Epoch 17/50\n",
      "15686/15686 [==============================] - 12s 738us/step - loss: 71.3142 - val_loss: 63.8723\n",
      "\n",
      "Epoch 00017: val_loss did not improve\n",
      "Epoch 18/50\n",
      "15686/15686 [==============================] - 13s 811us/step - loss: 71.4687 - val_loss: 64.3061\n",
      "\n",
      "Epoch 00018: val_loss did not improve\n",
      "Epoch 19/50\n",
      "15686/15686 [==============================] - 14s 897us/step - loss: 71.6195 - val_loss: 67.0847\n",
      "\n",
      "Epoch 00019: val_loss did not improve\n",
      "Epoch 20/50\n",
      "15686/15686 [==============================] - 14s 875us/step - loss: 71.6825 - val_loss: 68.2081\n",
      "\n",
      "Epoch 00020: val_loss did not improve\n",
      "Epoch 21/50\n",
      "15686/15686 [==============================] - 13s 825us/step - loss: 71.3688 - val_loss: 63.0799\n",
      "\n",
      "Epoch 00021: val_loss improved from 63.82362 to 63.07985, saving model to ./model_eq_test2.h5\n",
      "Epoch 22/50\n",
      "15686/15686 [==============================] - 13s 854us/step - loss: 70.9551 - val_loss: 63.4401\n",
      "\n",
      "Epoch 00022: val_loss did not improve\n",
      "Epoch 23/50\n",
      "15686/15686 [==============================] - 13s 805us/step - loss: 70.6536 - val_loss: 69.2875\n",
      "\n",
      "Epoch 00023: val_loss did not improve\n",
      "Epoch 24/50\n",
      "15686/15686 [==============================] - 12s 776us/step - loss: 71.6305 - val_loss: 65.9679\n",
      "\n",
      "Epoch 00024: val_loss did not improve\n",
      "Epoch 25/50\n",
      "15686/15686 [==============================] - 13s 812us/step - loss: 70.7440 - val_loss: 63.3813\n",
      "\n",
      "Epoch 00025: val_loss did not improve\n",
      "Epoch 26/50\n",
      "15686/15686 [==============================] - 13s 800us/step - loss: 70.9377 - val_loss: 65.1749\n",
      "\n",
      "Epoch 00026: val_loss did not improve\n",
      "Epoch 27/50\n",
      "15686/15686 [==============================] - 13s 829us/step - loss: 70.9905 - val_loss: 63.5823\n",
      "\n",
      "Epoch 00027: val_loss did not improve\n",
      "Epoch 28/50\n",
      "15686/15686 [==============================] - 13s 806us/step - loss: 70.4017 - val_loss: 65.9669\n",
      "\n",
      "Epoch 00028: val_loss did not improve\n",
      "Epoch 29/50\n",
      "15686/15686 [==============================] - 13s 829us/step - loss: 71.2182 - val_loss: 62.7799\n",
      "\n",
      "Epoch 00029: val_loss improved from 63.07985 to 62.77989, saving model to ./model_eq_test2.h5\n",
      "Epoch 30/50\n",
      "15686/15686 [==============================] - 14s 861us/step - loss: 70.3931 - val_loss: 63.1103\n",
      "\n",
      "Epoch 00030: val_loss did not improve\n",
      "Epoch 31/50\n",
      "15686/15686 [==============================] - 13s 839us/step - loss: 69.7915 - val_loss: 62.4249\n",
      "\n",
      "Epoch 00031: val_loss improved from 62.77989 to 62.42491, saving model to ./model_eq_test2.h5\n",
      "Epoch 32/50\n",
      "15686/15686 [==============================] - 13s 800us/step - loss: 70.1466 - val_loss: 63.2305\n",
      "\n",
      "Epoch 00032: val_loss did not improve\n",
      "Epoch 33/50\n",
      "15686/15686 [==============================] - 13s 816us/step - loss: 69.9630 - val_loss: 62.9848\n",
      "\n",
      "Epoch 00033: val_loss did not improve\n",
      "Epoch 34/50\n",
      "15686/15686 [==============================] - 13s 812us/step - loss: 69.7123 - val_loss: 63.9184\n",
      "\n",
      "Epoch 00034: val_loss did not improve\n",
      "Epoch 35/50\n"
     ]
    },
    {
     "name": "stdout",
     "output_type": "stream",
     "text": [
      "15686/15686 [==============================] - 12s 741us/step - loss: 69.6221 - val_loss: 68.0212\n",
      "\n",
      "Epoch 00035: val_loss did not improve\n",
      "Epoch 36/50\n",
      "15686/15686 [==============================] - 11s 719us/step - loss: 69.7386 - val_loss: 73.7041\n",
      "\n",
      "Epoch 00036: val_loss did not improve\n",
      "Epoch 37/50\n",
      "15686/15686 [==============================] - 11s 698us/step - loss: 69.7280 - val_loss: 63.3317\n",
      "\n",
      "Epoch 00037: val_loss did not improve\n",
      "Epoch 38/50\n",
      "15686/15686 [==============================] - 11s 709us/step - loss: 69.4588 - val_loss: 63.5668\n",
      "\n",
      "Epoch 00038: val_loss did not improve\n",
      "Epoch 39/50\n",
      "15686/15686 [==============================] - 11s 706us/step - loss: 69.3948 - val_loss: 62.9214\n",
      "\n",
      "Epoch 00039: val_loss did not improve\n",
      "Epoch 40/50\n",
      "15686/15686 [==============================] - 11s 732us/step - loss: 70.1314 - val_loss: 62.5674\n",
      "\n",
      "Epoch 00040: val_loss did not improve\n",
      "Epoch 41/50\n",
      "15686/15686 [==============================] - 11s 730us/step - loss: 68.9324 - val_loss: 62.4739\n",
      "\n",
      "Epoch 00041: val_loss did not improve\n",
      "Epoch 42/50\n",
      "15686/15686 [==============================] - 11s 712us/step - loss: 69.2836 - val_loss: 62.5629\n",
      "\n",
      "Epoch 00042: val_loss did not improve\n",
      "Epoch 43/50\n",
      "15686/15686 [==============================] - 13s 815us/step - loss: 68.9639 - val_loss: 64.8610\n",
      "\n",
      "Epoch 00043: val_loss did not improve\n",
      "Epoch 44/50\n",
      "15686/15686 [==============================] - 15s 951us/step - loss: 68.7188 - val_loss: 62.4063\n",
      "\n",
      "Epoch 00044: val_loss improved from 62.42491 to 62.40634, saving model to ./model_eq_test2.h5\n",
      "Epoch 45/50\n",
      "15686/15686 [==============================] - 12s 789us/step - loss: 68.6909 - val_loss: 62.0798\n",
      "\n",
      "Epoch 00045: val_loss improved from 62.40634 to 62.07980, saving model to ./model_eq_test2.h5\n",
      "Epoch 46/50\n",
      "15686/15686 [==============================] - 12s 793us/step - loss: 68.6892 - val_loss: 62.5064\n",
      "\n",
      "Epoch 00046: val_loss did not improve\n",
      "Epoch 47/50\n",
      "15686/15686 [==============================] - 12s 779us/step - loss: 68.7143 - val_loss: 65.3991\n",
      "\n",
      "Epoch 00047: val_loss did not improve\n",
      "Epoch 48/50\n",
      "15686/15686 [==============================] - 12s 769us/step - loss: 68.9009 - val_loss: 64.9948\n",
      "\n",
      "Epoch 00048: val_loss did not improve\n",
      "Epoch 49/50\n",
      "15686/15686 [==============================] - 12s 753us/step - loss: 68.4362 - val_loss: 71.0436\n",
      "\n",
      "Epoch 00049: val_loss did not improve\n",
      "Epoch 50/50\n",
      "15686/15686 [==============================] - 12s 744us/step - loss: 68.5605 - val_loss: 66.2771\n",
      "\n",
      "Epoch 00050: val_loss did not improve\n"
     ]
    },
    {
     "data": {
      "text/plain": [
       "<keras.callbacks.History at 0x1a23cd72e8>"
      ]
     },
     "execution_count": 53,
     "metadata": {},
     "output_type": "execute_result"
    }
   ],
   "source": [
    "def create_model2():    \n",
    "    input1 = Input(shape=(x_train2.shape[1],))\n",
    "    x = Dense(128, activation='relu')(input1)\n",
    "    x = Dropout(0.4)(x)\n",
    "    x = BatchNormalization(momentum=0.99, epsilon=0.001)(x)\n",
    "    x = Dense(256, activation='relu')(x)\n",
    "    x = Dropout(0.4)(x)\n",
    "    x = BatchNormalization(momentum=0.99, epsilon=0.001)(x)\n",
    "    x = Dense(512, activation='relu')(x)\n",
    "    x = Dropout(0.4)(x)\n",
    "    x = BatchNormalization(momentum=0.99, epsilon=0.001)(x)\n",
    "    x = Dense(1024, activation='relu')(x)\n",
    "    x = Dropout(0.4)(x)\n",
    "    x = BatchNormalization(momentum=0.99, epsilon=0.001)(x)\n",
    "    x = Dense(1,activation='linear')(x)\n",
    "    model = Model(inputs=input1, outputs=x)\n",
    "    adam  = Adam(lr=0.0001)\n",
    "    model.compile(optimizer=adam,  loss='mean_absolute_percentage_error')\n",
    "    \n",
    "    return model\n",
    "model2 = create_model2()\n",
    "model2.summary()\n",
    "weight_path='./model_eq_test2.h5'\n",
    "callbacks_list2 = [\n",
    "        ModelCheckpoint(\n",
    "            weight_path,\n",
    "            save_best_only=True,\n",
    "            save_weights_only=True,\n",
    "            monitor='val_loss',\n",
    "            mode='min',\n",
    "            verbose=1\n",
    "        )\n",
    "]\n",
    "model2.fit(x_train2, y_train2, batch_size=32 ,epochs=50, verbose=1, validation_split=0.2,callbacks=callbacks_list2)"
   ]
  },
  {
   "cell_type": "code",
   "execution_count": 216,
   "metadata": {},
   "outputs": [
    {
     "name": "stdout",
     "output_type": "stream",
     "text": [
      "_________________________________________________________________\n",
      "Layer (type)                 Output Shape              Param #   \n",
      "=================================================================\n",
      "input_7 (InputLayer)         (None, 5008)              0         \n",
      "_________________________________________________________________\n",
      "dense_31 (Dense)             (None, 1024)              5129216   \n",
      "_________________________________________________________________\n",
      "dropout_25 (Dropout)         (None, 1024)              0         \n",
      "_________________________________________________________________\n",
      "batch_normalization_25 (Batc (None, 1024)              4096      \n",
      "_________________________________________________________________\n",
      "dense_32 (Dense)             (None, 256)               262400    \n",
      "_________________________________________________________________\n",
      "dropout_26 (Dropout)         (None, 256)               0         \n",
      "_________________________________________________________________\n",
      "batch_normalization_26 (Batc (None, 256)               1024      \n",
      "_________________________________________________________________\n",
      "dense_33 (Dense)             (None, 64)                16448     \n",
      "_________________________________________________________________\n",
      "dropout_27 (Dropout)         (None, 64)                0         \n",
      "_________________________________________________________________\n",
      "batch_normalization_27 (Batc (None, 64)                256       \n",
      "_________________________________________________________________\n",
      "dense_34 (Dense)             (None, 16)                1040      \n",
      "_________________________________________________________________\n",
      "dropout_28 (Dropout)         (None, 16)                0         \n",
      "_________________________________________________________________\n",
      "batch_normalization_28 (Batc (None, 16)                64        \n",
      "_________________________________________________________________\n",
      "dense_35 (Dense)             (None, 1)                 17        \n",
      "=================================================================\n",
      "Total params: 5,414,561\n",
      "Trainable params: 5,411,841\n",
      "Non-trainable params: 2,720\n",
      "_________________________________________________________________\n"
     ]
    }
   ],
   "source": [
    "weight_model='model_eq_test1.h5'\n",
    "model = create_model()\n",
    "model.load_weights(weight_model)\n",
    "model._make_predict_function()\n",
    "model.summary()"
   ]
  },
  {
   "cell_type": "code",
   "execution_count": 54,
   "metadata": {},
   "outputs": [
    {
     "name": "stdout",
     "output_type": "stream",
     "text": [
      "_________________________________________________________________\n",
      "Layer (type)                 Output Shape              Param #   \n",
      "=================================================================\n",
      "input_2 (InputLayer)         (None, 51)                0         \n",
      "_________________________________________________________________\n",
      "dense_6 (Dense)              (None, 128)               6656      \n",
      "_________________________________________________________________\n",
      "dropout_5 (Dropout)          (None, 128)               0         \n",
      "_________________________________________________________________\n",
      "batch_normalization_5 (Batch (None, 128)               512       \n",
      "_________________________________________________________________\n",
      "dense_7 (Dense)              (None, 256)               33024     \n",
      "_________________________________________________________________\n",
      "dropout_6 (Dropout)          (None, 256)               0         \n",
      "_________________________________________________________________\n",
      "batch_normalization_6 (Batch (None, 256)               1024      \n",
      "_________________________________________________________________\n",
      "dense_8 (Dense)              (None, 512)               131584    \n",
      "_________________________________________________________________\n",
      "dropout_7 (Dropout)          (None, 512)               0         \n",
      "_________________________________________________________________\n",
      "batch_normalization_7 (Batch (None, 512)               2048      \n",
      "_________________________________________________________________\n",
      "dense_9 (Dense)              (None, 1024)              525312    \n",
      "_________________________________________________________________\n",
      "dropout_8 (Dropout)          (None, 1024)              0         \n",
      "_________________________________________________________________\n",
      "batch_normalization_8 (Batch (None, 1024)              4096      \n",
      "_________________________________________________________________\n",
      "dense_10 (Dense)             (None, 1)                 1025      \n",
      "=================================================================\n",
      "Total params: 705,281\n",
      "Trainable params: 701,441\n",
      "Non-trainable params: 3,840\n",
      "_________________________________________________________________\n"
     ]
    }
   ],
   "source": [
    "weight_model='model_eq_test2.h5'\n",
    "mode2l = create_model2()\n",
    "model2.load_weights(weight_model)\n",
    "model2._make_predict_function()\n",
    "model2.summary()"
   ]
  },
  {
   "cell_type": "markdown",
   "metadata": {},
   "source": [
    "## Evaluate Model"
   ]
  },
  {
   "cell_type": "code",
   "execution_count": 55,
   "metadata": {
    "collapsed": true
   },
   "outputs": [],
   "source": [
    "y_pred = model.predict(x_test)\n",
    "y_pred2 = model2.predict(x_test2)"
   ]
  },
  {
   "cell_type": "code",
   "execution_count": 56,
   "metadata": {
    "collapsed": true
   },
   "outputs": [],
   "source": [
    "def evaluate(preds, testY):\n",
    "    diff = preds.flatten() - testY\n",
    "    percentDiff = (diff / testY) * 100\n",
    "    absPercentDiff = np.abs(percentDiff)\n",
    "    mean = np.mean(absPercentDiff)\n",
    "    std = np.std(absPercentDiff)\n",
    "    print(mean,std)"
   ]
  },
  {
   "cell_type": "code",
   "execution_count": 219,
   "metadata": {},
   "outputs": [
    {
     "name": "stdout",
     "output_type": "stream",
     "text": [
      "76.27584938142674 85.86256582602603\n"
     ]
    }
   ],
   "source": [
    "evaluate(y_pred,y_test)"
   ]
  },
  {
   "cell_type": "code",
   "execution_count": 57,
   "metadata": {},
   "outputs": [
    {
     "name": "stdout",
     "output_type": "stream",
     "text": [
      "64.22962326435568 44.208005989386955\n"
     ]
    }
   ],
   "source": [
    "evaluate(y_pred2,y_test2)"
   ]
  },
  {
   "cell_type": "code",
   "execution_count": 212,
   "metadata": {},
   "outputs": [
    {
     "name": "stdout",
     "output_type": "stream",
     "text": [
      "[0.02974828] [0.0539628]\n",
      "[0.027746] [0.08968236]\n",
      "[0.02688787] [0.04178575]\n",
      "[0.0471968] [0.05062674]\n",
      "[0.20709382] [0.06351797]\n",
      "[0.07265446] [0.06246524]\n",
      "[0.42419908] [0.09298383]\n",
      "[0.42620137] [0.08098318]\n",
      "[0.10297483] [0.04866322]\n",
      "[0.80234554] [0.06935862]\n",
      "[0.88501144] [0.04340786]\n",
      "[0.05263158] [0.04617205]\n",
      "[0.06607551] [0.04584087]\n",
      "[0.10411899] [0.06545265]\n",
      "[0.11241419] [0.06261023]\n",
      "[0.13701373] [0.06435726]\n",
      "[0.06006865] [0.05427107]\n",
      "[0.12099542] [0.04684357]\n",
      "[0.36556064] [0.06256173]\n",
      "[0.62328375] [0.07437061]\n",
      "[0.03718535] [0.04877417]\n",
      "[0.02088101] [0.10110772]\n",
      "[0.10040046] [0.06178455]\n",
      "[0.03632723] [0.04904272]\n",
      "[0.51144165] [0.06245408]\n",
      "[0.05577803] [0.04684357]\n",
      "[0.04691076] [0.06323326]\n",
      "[0.06035469] [0.05538625]\n",
      "[0.28003432] [0.06748351]\n",
      "[0.13443936] [0.04875656]\n",
      "[0.06149886] [0.04487899]\n",
      "[0.09982838] [0.0555429]\n",
      "[0.22625858] [0.04334378]\n",
      "[0.26315789] [0.05912165]\n",
      "[0.35154462] [0.0892385]\n",
      "[0.79405034] [0.04818447]\n",
      "[0.5666476] [0.10698849]\n",
      "[0.07065217] [0.0459474]\n",
      "[0.24313501] [0.06634406]\n",
      "[0.22854691] [0.05035497]\n",
      "[0.14588101] [0.04512694]\n",
      "[0.01630435] [0.06192479]\n",
      "[0.07951945] [0.03595486]\n",
      "[0.09982838] [0.04953188]\n",
      "[0.3117849] [0.05598582]\n",
      "[0.06464531] [0.03317133]\n",
      "[0.06350114] [0.05422454]\n",
      "[0.14988558] [0.03773221]\n",
      "[0.04033181] [0.04210427]\n",
      "[0.07437071] [0.04465023]\n"
     ]
    }
   ],
   "source": [
    "for i in range(50):\n",
    "    print(y_test2[i],y_pred2[i])"
   ]
  },
  {
   "cell_type": "code",
   "execution_count": null,
   "metadata": {
    "collapsed": true
   },
   "outputs": [],
   "source": []
  }
 ],
 "metadata": {
  "kernelspec": {
   "display_name": "Python 3",
   "language": "python",
   "name": "python3"
  },
  "language_info": {
   "codemirror_mode": {
    "name": "ipython",
    "version": 3
   },
   "file_extension": ".py",
   "mimetype": "text/x-python",
   "name": "python",
   "nbconvert_exporter": "python",
   "pygments_lexer": "ipython3",
   "version": "3.6.3"
  }
 },
 "nbformat": 4,
 "nbformat_minor": 2
}
