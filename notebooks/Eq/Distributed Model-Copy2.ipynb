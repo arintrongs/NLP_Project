{
 "cells": [
  {
   "cell_type": "code",
   "execution_count": 1,
   "metadata": {},
   "outputs": [
    {
     "name": "stderr",
     "output_type": "stream",
     "text": [
      "/Users/eqsk134/anaconda3/lib/python3.6/site-packages/h5py/__init__.py:34: FutureWarning: Conversion of the second argument of issubdtype from `float` to `np.floating` is deprecated. In future, it will be treated as `np.float64 == np.dtype(float).type`.\n",
      "  from ._conv import register_converters as _register_converters\n",
      "Using TensorFlow backend.\n"
     ]
    }
   ],
   "source": [
    "%matplotlib inline\n",
    "import pandas as pd\n",
    "import sklearn\n",
    "import numpy as np\n",
    "from IPython.display import display\n",
    "from sklearn.metrics import f1_score\n",
    "import matplotlib.pyplot as plt\n",
    "from matplotlib import rcParams\n",
    "import seaborn as sns\n",
    "from sklearn.metrics import f1_score\n",
    "from keras.preprocessing.sequence import pad_sequences\n",
    "from keras.utils import to_categorical\n",
    "from sklearn.model_selection import train_test_split\n",
    "from pythainlp.word_vector import sentence_vectorizer"
   ]
  },
  {
   "cell_type": "code",
   "execution_count": 2,
   "metadata": {
    "collapsed": true
   },
   "outputs": [],
   "source": [
    "data = pd.read_csv('../../data/the_standard_data_with_features.csv')"
   ]
  },
  {
   "cell_type": "code",
   "execution_count": 3,
   "metadata": {
    "collapsed": true
   },
   "outputs": [],
   "source": [
    "data = pd.concat([pd.read_csv('../../data/Ch3_with_features.csv'),\n",
    "                  pd.read_csv('../../data/ch3_with_features_2.csv')])"
   ]
  },
  {
   "cell_type": "code",
   "execution_count": 4,
   "metadata": {},
   "outputs": [
    {
     "data": {
      "text/plain": [
       "45269"
      ]
     },
     "execution_count": 4,
     "metadata": {},
     "output_type": "execute_result"
    }
   ],
   "source": [
    "len(data)"
   ]
  },
  {
   "cell_type": "markdown",
   "metadata": {},
   "source": [
    "## Prepare Data"
   ]
  },
  {
   "cell_type": "code",
   "execution_count": 5,
   "metadata": {},
   "outputs": [
    {
     "name": "stderr",
     "output_type": "stream",
     "text": [
      "/Users/eqsk134/anaconda3/lib/python3.6/site-packages/scipy/stats/stats.py:1633: FutureWarning: Using a non-tuple sequence for multidimensional indexing is deprecated; use `arr[tuple(seq)]` instead of `arr[seq]`. In the future this will be interpreted as an array index, `arr[np.array(seq)]`, which will result either in an error or a different result.\n",
      "  return np.add.reduce(sorted[indexer] * weights, axis=axis) / sumval\n"
     ]
    },
    {
     "name": "stdout",
     "output_type": "stream",
     "text": [
      "44258\n"
     ]
    },
    {
     "data": {
      "image/png": "[encoded data removed]",
      "text/plain": [
       "<matplotlib.figure.Figure at 0x1a2ce57518>"
      ]
     },
     "metadata": {},
     "output_type": "display_data"
    }
   ],
   "source": [
    "out = data[data['view']<5000]['view']\n",
    "sns.distplot(out)\n",
    "print(len(out))"
   ]
  },
  {
   "cell_type": "code",
   "execution_count": 6,
   "metadata": {},
   "outputs": [
    {
     "name": "stdout",
     "output_type": "stream",
     "text": [
      "STD :  3441.6844046949786\n",
      "MEAN :  825.0044622147607\n",
      "[0, 161, 268, 384, 525, 1369, 4778, 24006, 196995, 10000000]\n"
     ]
    }
   ],
   "source": [
    "boundary = 10000000\n",
    "data_bounded = data[data['view']<boundary]\n",
    "x = data_bounded['view']\n",
    "std = np.std(x)\n",
    "mean = np.mean(x)\n",
    "groups = [0,161,268,384,525,1369,4778,24006,196995,boundary]\n",
    "print('STD : ',std)\n",
    "print('MEAN : ',mean)\n",
    "print(groups)"
   ]
  },
  {
   "cell_type": "code",
   "execution_count": 7,
   "metadata": {
    "collapsed": true
   },
   "outputs": [],
   "source": [
    "pop_level = []\n",
    "for i in data['view']:\n",
    "    for j in range(len(groups)-1):\n",
    "        if i >= groups[j] and i <= groups[j+1]:\n",
    "            pop_level+=[j]\n",
    "            continue"
   ]
  },
  {
   "cell_type": "code",
   "execution_count": 8,
   "metadata": {},
   "outputs": [
    {
     "name": "stdout",
     "output_type": "stream",
     "text": [
      "(array([0, 1, 2, 3, 4, 5, 6, 7, 8]), array([ 9754, 10105,  7217,  5366,  8670,  3351,   961,   117,     2]))\n"
     ]
    }
   ],
   "source": [
    "print(np.unique(pop_level,return_counts=True))"
   ]
  },
  {
   "cell_type": "markdown",
   "metadata": {},
   "source": [
    "<b>Numerical Features</b>"
   ]
  },
  {
   "cell_type": "code",
   "execution_count": 9,
   "metadata": {
    "collapsed": true
   },
   "outputs": [],
   "source": [
    "numerical_feature = [\n",
    "       'numTag', 'numToken', 'numChar','timeDelta', 'num_noun', 'num_pronoun', 'num_verb',\n",
    "       'num_preverb', 'num_determiner', 'num_adverb', 'num_classifier',\n",
    "       'num_conjunction', 'num_preposition', 'num_interjunction', 'num_prefix',\n",
    "       'num_ending', 'num_negator', 'num_punctuation',\n",
    "       'nnoun_per_ntoken', 'nverb_per_ntoken', 'nadverb_per_ntoken',\n",
    "       'num_date', 'num_email', 'num_law', 'num_len', 'num_location',\n",
    "       'num_money', 'num_organization', 'num_percent', 'num_person',\n",
    "       'num_phone', 'num_time', 'num_url', 'num_person_2', 'num_pos',\n",
    "       'num_neg', 'sim_top', 'sim_worst', 'tag_pop_sum',\n",
    "       'tag_pop_mean', 'tag_top_pop_sum', 'tag_top_pop_mean', 'num_tag_pop',\n",
    "       'tag_top_worst_sum', 'tag_top_worst_mean', 'num_tag_worst']"
   ]
  },
  {
   "cell_type": "code",
   "execution_count": 10,
   "metadata": {
    "collapsed": true
   },
   "outputs": [],
   "source": [
    "numerical_feature_data = data[numerical_feature]"
   ]
  },
  {
   "cell_type": "code",
   "execution_count": 11,
   "metadata": {
    "collapsed": true
   },
   "outputs": [],
   "source": [
    "numerical_feature_data = numerical_feature_data.values"
   ]
  },
  {
   "cell_type": "code",
   "execution_count": 12,
   "metadata": {},
   "outputs": [
    {
     "data": {
      "text/plain": [
       "(45269, 46)"
      ]
     },
     "execution_count": 12,
     "metadata": {},
     "output_type": "execute_result"
    }
   ],
   "source": [
    "numerical_feature_data.shape"
   ]
  },
  {
   "cell_type": "markdown",
   "metadata": {},
   "source": [
    "<b>Categorical Features</b>"
   ]
  },
  {
   "cell_type": "code",
   "execution_count": 13,
   "metadata": {
    "collapsed": true
   },
   "outputs": [],
   "source": [
    "categorical_feature = [i for i in data.columns if 'is_' in i]"
   ]
  },
  {
   "cell_type": "code",
   "execution_count": 14,
   "metadata": {
    "collapsed": true
   },
   "outputs": [],
   "source": [
    "categorical_feature_data = data[categorical_feature].values"
   ]
  },
  {
   "cell_type": "code",
   "execution_count": 15,
   "metadata": {},
   "outputs": [
    {
     "data": {
      "text/plain": [
       "(45269, 11)"
      ]
     },
     "execution_count": 15,
     "metadata": {},
     "output_type": "execute_result"
    }
   ],
   "source": [
    "categorical_feature_data.shape"
   ]
  },
  {
   "cell_type": "markdown",
   "metadata": {},
   "source": [
    "<b>Title Tokenized Features</b>"
   ]
  },
  {
   "cell_type": "code",
   "execution_count": 16,
   "metadata": {
    "collapsed": true
   },
   "outputs": [],
   "source": [
    "title_tokenized = data['token'].apply(lambda x : x.split(','))"
   ]
  },
  {
   "cell_type": "code",
   "execution_count": 17,
   "metadata": {
    "collapsed": true
   },
   "outputs": [],
   "source": [
    "word_count = dict()\n",
    "for headline in title_tokenized:\n",
    "    for word in headline:\n",
    "        if word not in word_count:\n",
    "            word_count[word]=1\n",
    "        else:\n",
    "            word_count[word]+=1"
   ]
  },
  {
   "cell_type": "code",
   "execution_count": 18,
   "metadata": {
    "collapsed": true
   },
   "outputs": [],
   "source": [
    "word_to_idx = dict()\n",
    "idx = 2\n",
    "for key,val in word_count.items():\n",
    "    if(val > 10):\n",
    "        word_to_idx[key] = idx\n",
    "        idx+=1\n",
    "    else:\n",
    "        word_to_idx['UNK'] = 1\n"
   ]
  },
  {
   "cell_type": "code",
   "execution_count": 19,
   "metadata": {
    "collapsed": true
   },
   "outputs": [],
   "source": [
    "idx_to_word = {v: k for k, v in word_to_idx.items()}"
   ]
  },
  {
   "cell_type": "code",
   "execution_count": 20,
   "metadata": {
    "collapsed": true
   },
   "outputs": [],
   "source": [
    "title_tokenized_features_data = title_tokenized.apply(lambda x : [word_to_idx[i] if i in word_to_idx else word_to_idx['UNK'] for i in x ])\n",
    "title_tokenized_features_data = title_tokenized_features_data.values"
   ]
  },
  {
   "cell_type": "code",
   "execution_count": 21,
   "metadata": {
    "collapsed": true
   },
   "outputs": [],
   "source": [
    "title_tokenized_features_data = pad_sequences(title_tokenized_features_data)"
   ]
  },
  {
   "cell_type": "code",
   "execution_count": 22,
   "metadata": {},
   "outputs": [
    {
     "data": {
      "text/plain": [
       "(45269, 26)"
      ]
     },
     "execution_count": 22,
     "metadata": {},
     "output_type": "execute_result"
    }
   ],
   "source": [
    "title_tokenized_features_data.shape"
   ]
  },
  {
   "cell_type": "markdown",
   "metadata": {},
   "source": [
    "<b>Pre-Trained Embedded</b>"
   ]
  },
  {
   "cell_type": "code",
   "execution_count": 23,
   "metadata": {
    "collapsed": true
   },
   "outputs": [],
   "source": [
    "from pythainlp.word_vector import sentence_vectorizer\n",
    "pre_trained_weights = []\n",
    "# pre_trained_weights += [[0] * 300]\n",
    "for i in range(1,len(idx_to_word)):\n",
    "    weight = sentence_vectorizer(idx_to_word[i])\n",
    "    pre_trained_weights+=[weight]"
   ]
  },
  {
   "cell_type": "code",
   "execution_count": 24,
   "metadata": {
    "collapsed": true
   },
   "outputs": [],
   "source": [
    "pre_trained_weights = np.asarray(pre_trained_weights)"
   ]
  },
  {
   "cell_type": "code",
   "execution_count": 25,
   "metadata": {},
   "outputs": [
    {
     "data": {
      "text/plain": [
       "(3636, 1, 300)"
      ]
     },
     "execution_count": 25,
     "metadata": {},
     "output_type": "execute_result"
    }
   ],
   "source": [
    "pre_trained_weights.shape"
   ]
  },
  {
   "cell_type": "code",
   "execution_count": 26,
   "metadata": {
    "collapsed": true
   },
   "outputs": [],
   "source": [
    "# pre_trained_weights = np.concatenate((np.zeros((1, 1, 300)),pre_trained_weights), axis=0)"
   ]
  },
  {
   "cell_type": "code",
   "execution_count": 27,
   "metadata": {},
   "outputs": [
    {
     "data": {
      "text/plain": [
       "(3636, 1, 300)"
      ]
     },
     "execution_count": 27,
     "metadata": {},
     "output_type": "execute_result"
    }
   ],
   "source": [
    "pre_trained_weights.shape"
   ]
  },
  {
   "cell_type": "code",
   "execution_count": 28,
   "metadata": {
    "collapsed": true
   },
   "outputs": [],
   "source": [
    "pre_trained_weights = pre_trained_weights.reshape((3636,300))"
   ]
  },
  {
   "cell_type": "markdown",
   "metadata": {},
   "source": [
    "<b>NER</b>"
   ]
  },
  {
   "cell_type": "code",
   "execution_count": 26,
   "metadata": {},
   "outputs": [
    {
     "name": "stdout",
     "output_type": "stream",
     "text": [
      "Requirement already satisfied: sklearn-crfsuite in /Users/eqsk134/anaconda3/lib/python3.6/site-packages (0.3.6)\n",
      "Requirement already satisfied: tabulate in /Users/eqsk134/anaconda3/lib/python3.6/site-packages (from sklearn-crfsuite) (0.8.3)\n",
      "Requirement already satisfied: tqdm>=2.0 in /Users/eqsk134/anaconda3/lib/python3.6/site-packages (from sklearn-crfsuite) (4.27.0)\n",
      "Requirement already satisfied: six in /Users/eqsk134/anaconda3/lib/python3.6/site-packages (from sklearn-crfsuite) (1.11.0)\n",
      "Requirement already satisfied: python-crfsuite>=0.8.3 in /Users/eqsk134/anaconda3/lib/python3.6/site-packages (from sklearn-crfsuite) (0.9.6)\n"
     ]
    }
   ],
   "source": [
    "!pip install sklearn-crfsuite"
   ]
  },
  {
   "cell_type": "code",
   "execution_count": 29,
   "metadata": {
    "collapsed": true
   },
   "outputs": [],
   "source": [
    "from pythainlp.tag.named_entity import ThaiNameTagger\n",
    "from pythainlp.tag import pos_tag"
   ]
  },
  {
   "cell_type": "code",
   "execution_count": 30,
   "metadata": {
    "collapsed": true
   },
   "outputs": [],
   "source": [
    "ner_tagger = ThaiNameTagger()"
   ]
  },
  {
   "cell_type": "code",
   "execution_count": 31,
   "metadata": {
    "collapsed": true
   },
   "outputs": [],
   "source": [
    "headlines = data['token']\n",
    "headlines = headlines.apply(lambda x : x.split(','))\n",
    "headlines = [[ner_tagger.get_ner(i)[0] for i in tokens] for tokens in headlines]"
   ]
  },
  {
   "cell_type": "code",
   "execution_count": 32,
   "metadata": {
    "collapsed": true
   },
   "outputs": [],
   "source": [
    "ner = set()\n",
    "pos = set()\n",
    "for hl in headlines:\n",
    "    for word in hl:\n",
    "        ner.add(word[1])\n",
    "        pos.add(word[2])"
   ]
  },
  {
   "cell_type": "code",
   "execution_count": 33,
   "metadata": {
    "collapsed": true
   },
   "outputs": [],
   "source": [
    "ner = list(ner)\n",
    "pos = list(pos)\n",
    "ner_idx = [i for i in range(1,len(ner)+1)]\n",
    "pos_idx = [i for i in range(1,len(pos)+1)]"
   ]
  },
  {
   "cell_type": "code",
   "execution_count": 34,
   "metadata": {
    "collapsed": true
   },
   "outputs": [],
   "source": [
    "ner_to_idx = dict(zip(ner,ner_idx))\n",
    "idx_to_ner = {v: k for k, v in ner_to_idx.items()}\n",
    "\n",
    "pos_to_idx = dict(zip(pos,pos_idx))\n",
    "idx_to_pos = {v: k for k, v in pos_to_idx.items()}"
   ]
  },
  {
   "cell_type": "code",
   "execution_count": 35,
   "metadata": {
    "collapsed": true
   },
   "outputs": [],
   "source": [
    "data_ner = headlines\n",
    "x = []\n",
    "for idx in range(len(data_ner)):\n",
    "    temp = []\n",
    "    for word in data_ner[idx]:\n",
    "        temp+=[ner_to_idx[word[1]]]\n",
    "        temp+=[pos_to_idx[word[2]]]\n",
    "    x+=[temp]\n",
    "x = np.asarray(x)"
   ]
  },
  {
   "cell_type": "code",
   "execution_count": 36,
   "metadata": {
    "collapsed": true
   },
   "outputs": [],
   "source": [
    "ner_features = pad_sequences(x)"
   ]
  },
  {
   "cell_type": "code",
   "execution_count": 37,
   "metadata": {},
   "outputs": [
    {
     "data": {
      "text/plain": [
       "(45269, 52)"
      ]
     },
     "execution_count": 37,
     "metadata": {},
     "output_type": "execute_result"
    }
   ],
   "source": [
    "ner_features.shape"
   ]
  },
  {
   "cell_type": "markdown",
   "metadata": {},
   "source": [
    "Prepare Y"
   ]
  },
  {
   "cell_type": "code",
   "execution_count": 38,
   "metadata": {
    "collapsed": true
   },
   "outputs": [],
   "source": [
    "def prepare_y(data):\n",
    "    y = []\n",
    "    for i in data:\n",
    "        c = 0\n",
    "        for j in range(len(groups)-1):\n",
    "            if i >= groups[j] and i <= groups[j+1]:\n",
    "                y+=[j]\n",
    "                c=1\n",
    "                break\n",
    "        if c==0:\n",
    "            y+=[0]\n",
    "        \n",
    "    return y"
   ]
  },
  {
   "cell_type": "code",
   "execution_count": 39,
   "metadata": {
    "collapsed": true
   },
   "outputs": [],
   "source": [
    "y_train = prepare_y(np.asarray(data['view']))\n",
    "y_train = to_categorical(y_train)"
   ]
  },
  {
   "cell_type": "code",
   "execution_count": 40,
   "metadata": {},
   "outputs": [
    {
     "data": {
      "text/plain": [
       "(45269, 9)"
      ]
     },
     "execution_count": 40,
     "metadata": {},
     "output_type": "execute_result"
    }
   ],
   "source": [
    "y_train.shape"
   ]
  },
  {
   "cell_type": "markdown",
   "metadata": {},
   "source": [
    "## Model"
   ]
  },
  {
   "cell_type": "code",
   "execution_count": 45,
   "metadata": {
    "collapsed": true
   },
   "outputs": [],
   "source": [
    "from keras.models import Model, Input\n",
    "from keras.layers import Dense, Dropout, BatchNormalization, GRU, Conv1D, Dropout, Embedding, concatenate, Flatten\n",
    "from keras.optimizers import Adam"
   ]
  },
  {
   "cell_type": "code",
   "execution_count": 46,
   "metadata": {
    "collapsed": true
   },
   "outputs": [],
   "source": [
    "def get_categorical_model_part(category_count,input_shape):\n",
    "    input1 = Input(shape=(input_shape,))\n",
    "#     x = Embedding(category_count,32)(input1)\n",
    "    x = input1\n",
    "#     x = Flatten()(x)\n",
    "    x = Dense(256,activation='relu')(x)\n",
    "    x = BatchNormalization()(x)\n",
    "    x = Dropout(0.2)(x)\n",
    "    x = Dense(128,activation='relu')(x)\n",
    "    x = BatchNormalization()(x)\n",
    "    x = Dropout(0.3)(x)\n",
    "    x = Dense(64,activation='relu')(x)\n",
    "    x = BatchNormalization()(x)\n",
    "    x = Dropout(0.4)(x)\n",
    "    return input1, x    "
   ]
  },
  {
   "cell_type": "code",
   "execution_count": 47,
   "metadata": {
    "collapsed": true
   },
   "outputs": [],
   "source": [
    "def get_numerical_model_part(features_len,input_shape):\n",
    "    input1 = Input(shape=(input_shape,))\n",
    "    x = Dense(256,activation='relu')(input1)\n",
    "    x = BatchNormalization()(x)\n",
    "    x = Dropout(0.2)(x)\n",
    "    x = Dense(128,activation='relu')(x)\n",
    "    x = BatchNormalization()(x)\n",
    "    x = Dropout(0.3)(x)\n",
    "    x = Dense(64,activation='relu')(x)\n",
    "    x = BatchNormalization()(x)\n",
    "    x = Dropout(0.4)(x)\n",
    "    return input1, x"
   ]
  },
  {
   "cell_type": "code",
   "execution_count": 48,
   "metadata": {
    "collapsed": true
   },
   "outputs": [],
   "source": [
    "def get_title_embedding_part(word_count,input_shape):\n",
    "    input1 = Input(shape=(input_shape,))\n",
    "    x = input1\n",
    "#     x = Embedding(word_count-1,300,trainable=True,weights=[pre_trained_weights])(input1)\n",
    "#     x = Flatten()(x)\n",
    "    \n",
    "    x = Dense(256,activation='relu')(x)\n",
    "    x = BatchNormalization()(x)\n",
    "    x = Dropout(0.2)(x)\n",
    "    x = Dense(128,activation='relu')(x)\n",
    "    x = BatchNormalization()(x)\n",
    "    x = Dropout(0.3)(x)\n",
    "    x = Dense(64,activation='relu')(x)\n",
    "    x = BatchNormalization()(x)\n",
    "    x = Dropout(0.4)(x)\n",
    "    return input1, x"
   ]
  },
  {
   "cell_type": "code",
   "execution_count": 49,
   "metadata": {
    "collapsed": true
   },
   "outputs": [],
   "source": [
    "def get_keyword_embedding_part(keyword_count,input_shape):\n",
    "    input1 = Input(shape=(input_shape,))\n",
    "    x = input1\n",
    "    x = Embedding(keyword_count,32)(input1)\n",
    "    x = Flatten()(x)\n",
    "    x = Dense(256,activation='relu')(x)\n",
    "    x = Dropout(0.2)(x)\n",
    "    x = Dense(128,activation='relu')(x)\n",
    "    x = BatchNormalization()(x)\n",
    "    x = Dropout(0.3)(x)\n",
    "    return input1, x"
   ]
  },
  {
   "cell_type": "code",
   "execution_count": 50,
   "metadata": {
    "collapsed": true
   },
   "outputs": [],
   "source": [
    "def get_ner_part(input_shape):\n",
    "    input1 = Input(shape=(input_shape,))\n",
    "    x = Dense(256,activation='relu')(input1)\n",
    "    x = BatchNormalization()(x)\n",
    "    x = Dropout(0.2)(x)\n",
    "    x = Dense(128,activation='relu')(x)\n",
    "    x = BatchNormalization()(x)\n",
    "    x = Dropout(0.3)(x)\n",
    "    x = Dense(64,activation='relu')(x)\n",
    "    x = BatchNormalization()(x)\n",
    "    x = Dropout(0.4)(x)\n",
    "    return input1, x"
   ]
  },
  {
   "cell_type": "code",
   "execution_count": 51,
   "metadata": {
    "collapsed": true
   },
   "outputs": [],
   "source": [
    "def get_model():\n",
    "    input1, m1 = get_categorical_model_part(categorical_feature_data.shape[1],categorical_feature_data.shape[1])\n",
    "    input2, m2 = get_numerical_model_part(numerical_feature_data.shape[1],numerical_feature_data.shape[1])\n",
    "    input3, m3 = get_title_embedding_part(len(word_to_idx),title_tokenized_features_data.shape[1])\n",
    "    input4, m4 = get_ner_part(ner_features.shape[1])\n",
    "    x = concatenate([m1,m2,m3,m4])\n",
    "#     x = concatenate([m2,m3,m4])\n",
    "    x = Dense(512, activation='relu')(x)\n",
    "    x = BatchNormalization()(x)\n",
    "    x = Dropout(0.2)(x)\n",
    "    x = Dense(256, activation='relu')(x)\n",
    "    x = BatchNormalization()(x)\n",
    "    x = Dropout(0.2)(x)\n",
    "    x = Dense(128, activation='relu')(x)\n",
    "    x = BatchNormalization()(x)\n",
    "    x = Dropout(0.3)(x)\n",
    "    x = Dense(64, activation='relu')(x)\n",
    "    x = BatchNormalization()(x)\n",
    "    x = Dropout(0.4)(x)\n",
    "    x = Dense(y_train.shape[1],activation='softmax')(x)\n",
    "    model = Model(inputs=[input1,input2,input3,input4], outputs=x)\n",
    "#     model = Model(inputs=[input2,input3,input4], outputs=x)\n",
    "    adam  = Adam(lr=3e-5)\n",
    "    model.compile(optimizer=adam,  loss='categorical_crossentropy' ,metrics=['accuracy'])\n",
    "    \n",
    "    return model\n",
    "    "
   ]
  },
  {
   "cell_type": "code",
   "execution_count": 52,
   "metadata": {},
   "outputs": [
    {
     "name": "stdout",
     "output_type": "stream",
     "text": [
      "WARNING:tensorflow:From /Users/eqsk134/anaconda3/lib/python3.6/site-packages/tensorflow/python/framework/op_def_library.py:263: colocate_with (from tensorflow.python.framework.ops) is deprecated and will be removed in a future version.\n",
      "Instructions for updating:\n",
      "Colocations handled automatically by placer.\n",
      "WARNING:tensorflow:From /Users/eqsk134/anaconda3/lib/python3.6/site-packages/keras/backend/tensorflow_backend.py:3445: calling dropout (from tensorflow.python.ops.nn_ops) with keep_prob is deprecated and will be removed in a future version.\n",
      "Instructions for updating:\n",
      "Please use `rate` instead of `keep_prob`. Rate should be set to `rate = 1 - keep_prob`.\n"
     ]
    }
   ],
   "source": [
    "model = get_model()"
   ]
  },
  {
   "cell_type": "code",
   "execution_count": 53,
   "metadata": {},
   "outputs": [
    {
     "name": "stdout",
     "output_type": "stream",
     "text": [
      "__________________________________________________________________________________________________\n",
      "Layer (type)                    Output Shape         Param #     Connected to                     \n",
      "==================================================================================================\n",
      "input_1 (InputLayer)            (None, 11)           0                                            \n",
      "__________________________________________________________________________________________________\n",
      "input_2 (InputLayer)            (None, 46)           0                                            \n",
      "__________________________________________________________________________________________________\n",
      "input_3 (InputLayer)            (None, 26)           0                                            \n",
      "__________________________________________________________________________________________________\n",
      "input_4 (InputLayer)            (None, 52)           0                                            \n",
      "__________________________________________________________________________________________________\n",
      "dense_1 (Dense)                 (None, 256)          3072        input_1[0][0]                    \n",
      "__________________________________________________________________________________________________\n",
      "dense_4 (Dense)                 (None, 256)          12032       input_2[0][0]                    \n",
      "__________________________________________________________________________________________________\n",
      "dense_7 (Dense)                 (None, 256)          6912        input_3[0][0]                    \n",
      "__________________________________________________________________________________________________\n",
      "dense_10 (Dense)                (None, 256)          13568       input_4[0][0]                    \n",
      "__________________________________________________________________________________________________\n",
      "batch_normalization_1 (BatchNor (None, 256)          1024        dense_1[0][0]                    \n",
      "__________________________________________________________________________________________________\n",
      "batch_normalization_4 (BatchNor (None, 256)          1024        dense_4[0][0]                    \n",
      "__________________________________________________________________________________________________\n",
      "batch_normalization_7 (BatchNor (None, 256)          1024        dense_7[0][0]                    \n",
      "__________________________________________________________________________________________________\n",
      "batch_normalization_10 (BatchNo (None, 256)          1024        dense_10[0][0]                   \n",
      "__________________________________________________________________________________________________\n",
      "dropout_1 (Dropout)             (None, 256)          0           batch_normalization_1[0][0]      \n",
      "__________________________________________________________________________________________________\n",
      "dropout_4 (Dropout)             (None, 256)          0           batch_normalization_4[0][0]      \n",
      "__________________________________________________________________________________________________\n",
      "dropout_7 (Dropout)             (None, 256)          0           batch_normalization_7[0][0]      \n",
      "__________________________________________________________________________________________________\n",
      "dropout_10 (Dropout)            (None, 256)          0           batch_normalization_10[0][0]     \n",
      "__________________________________________________________________________________________________\n",
      "dense_2 (Dense)                 (None, 128)          32896       dropout_1[0][0]                  \n",
      "__________________________________________________________________________________________________\n",
      "dense_5 (Dense)                 (None, 128)          32896       dropout_4[0][0]                  \n",
      "__________________________________________________________________________________________________\n",
      "dense_8 (Dense)                 (None, 128)          32896       dropout_7[0][0]                  \n",
      "__________________________________________________________________________________________________\n",
      "dense_11 (Dense)                (None, 128)          32896       dropout_10[0][0]                 \n",
      "__________________________________________________________________________________________________\n",
      "batch_normalization_2 (BatchNor (None, 128)          512         dense_2[0][0]                    \n",
      "__________________________________________________________________________________________________\n",
      "batch_normalization_5 (BatchNor (None, 128)          512         dense_5[0][0]                    \n",
      "__________________________________________________________________________________________________\n",
      "batch_normalization_8 (BatchNor (None, 128)          512         dense_8[0][0]                    \n",
      "__________________________________________________________________________________________________\n",
      "batch_normalization_11 (BatchNo (None, 128)          512         dense_11[0][0]                   \n",
      "__________________________________________________________________________________________________\n",
      "dropout_2 (Dropout)             (None, 128)          0           batch_normalization_2[0][0]      \n",
      "__________________________________________________________________________________________________\n",
      "dropout_5 (Dropout)             (None, 128)          0           batch_normalization_5[0][0]      \n",
      "__________________________________________________________________________________________________\n",
      "dropout_8 (Dropout)             (None, 128)          0           batch_normalization_8[0][0]      \n",
      "__________________________________________________________________________________________________\n",
      "dropout_11 (Dropout)            (None, 128)          0           batch_normalization_11[0][0]     \n",
      "__________________________________________________________________________________________________\n",
      "dense_3 (Dense)                 (None, 64)           8256        dropout_2[0][0]                  \n",
      "__________________________________________________________________________________________________\n",
      "dense_6 (Dense)                 (None, 64)           8256        dropout_5[0][0]                  \n",
      "__________________________________________________________________________________________________\n",
      "dense_9 (Dense)                 (None, 64)           8256        dropout_8[0][0]                  \n",
      "__________________________________________________________________________________________________\n",
      "dense_12 (Dense)                (None, 64)           8256        dropout_11[0][0]                 \n",
      "__________________________________________________________________________________________________\n",
      "batch_normalization_3 (BatchNor (None, 64)           256         dense_3[0][0]                    \n",
      "__________________________________________________________________________________________________\n",
      "batch_normalization_6 (BatchNor (None, 64)           256         dense_6[0][0]                    \n",
      "__________________________________________________________________________________________________\n",
      "batch_normalization_9 (BatchNor (None, 64)           256         dense_9[0][0]                    \n",
      "__________________________________________________________________________________________________\n",
      "batch_normalization_12 (BatchNo (None, 64)           256         dense_12[0][0]                   \n",
      "__________________________________________________________________________________________________\n",
      "dropout_3 (Dropout)             (None, 64)           0           batch_normalization_3[0][0]      \n",
      "__________________________________________________________________________________________________\n",
      "dropout_6 (Dropout)             (None, 64)           0           batch_normalization_6[0][0]      \n",
      "__________________________________________________________________________________________________\n",
      "dropout_9 (Dropout)             (None, 64)           0           batch_normalization_9[0][0]      \n",
      "__________________________________________________________________________________________________\n",
      "dropout_12 (Dropout)            (None, 64)           0           batch_normalization_12[0][0]     \n",
      "__________________________________________________________________________________________________\n",
      "concatenate_1 (Concatenate)     (None, 256)          0           dropout_3[0][0]                  \n",
      "                                                                 dropout_6[0][0]                  \n",
      "                                                                 dropout_9[0][0]                  \n",
      "                                                                 dropout_12[0][0]                 \n",
      "__________________________________________________________________________________________________\n",
      "dense_13 (Dense)                (None, 512)          131584      concatenate_1[0][0]              \n",
      "__________________________________________________________________________________________________\n",
      "batch_normalization_13 (BatchNo (None, 512)          2048        dense_13[0][0]                   \n",
      "__________________________________________________________________________________________________\n",
      "dropout_13 (Dropout)            (None, 512)          0           batch_normalization_13[0][0]     \n",
      "__________________________________________________________________________________________________\n",
      "dense_14 (Dense)                (None, 256)          131328      dropout_13[0][0]                 \n",
      "__________________________________________________________________________________________________\n",
      "batch_normalization_14 (BatchNo (None, 256)          1024        dense_14[0][0]                   \n",
      "__________________________________________________________________________________________________\n",
      "dropout_14 (Dropout)            (None, 256)          0           batch_normalization_14[0][0]     \n",
      "__________________________________________________________________________________________________\n",
      "dense_15 (Dense)                (None, 128)          32896       dropout_14[0][0]                 \n",
      "__________________________________________________________________________________________________\n",
      "batch_normalization_15 (BatchNo (None, 128)          512         dense_15[0][0]                   \n",
      "__________________________________________________________________________________________________\n",
      "dropout_15 (Dropout)            (None, 128)          0           batch_normalization_15[0][0]     \n",
      "__________________________________________________________________________________________________\n",
      "dense_16 (Dense)                (None, 64)           8256        dropout_15[0][0]                 \n",
      "__________________________________________________________________________________________________\n",
      "batch_normalization_16 (BatchNo (None, 64)           256         dense_16[0][0]                   \n",
      "__________________________________________________________________________________________________\n",
      "dropout_16 (Dropout)            (None, 64)           0           batch_normalization_16[0][0]     \n",
      "__________________________________________________________________________________________________\n",
      "dense_17 (Dense)                (None, 9)            585         dropout_16[0][0]                 \n",
      "==================================================================================================\n",
      "Total params: 515,849\n",
      "Trainable params: 510,345\n",
      "Non-trainable params: 5,504\n",
      "__________________________________________________________________________________________________\n"
     ]
    }
   ],
   "source": [
    "model.summary()"
   ]
  },
  {
   "cell_type": "code",
   "execution_count": 109,
   "metadata": {},
   "outputs": [
    {
     "data": {
      "text/plain": [
       "(3636, 300)"
      ]
     },
     "execution_count": 109,
     "metadata": {},
     "output_type": "execute_result"
    }
   ],
   "source": [
    "pre_trained_weights.shape"
   ]
  },
  {
   "cell_type": "code",
   "execution_count": 41,
   "metadata": {
    "collapsed": true
   },
   "outputs": [],
   "source": [
    "# train_data = [numerical_feature_data,title_tokenized_features_data,ner_features]\n",
    "train_data = [categorical_feature_data,numerical_feature_data,title_tokenized_features_data,ner_features]\n",
    "train_x = []\n",
    "temp_train_x = []\n",
    "test_x = []\n",
    "val_x = []\n",
    "for data in train_data:\n",
    "    train, test = train_test_split(data, test_size=0.1,random_state=22)\n",
    "    temp_train_x += [train]\n",
    "    test_x += [test]\n",
    "for data in temp_train_x:\n",
    "    train, val = train_test_split(data, test_size=0.1,random_state=22)\n",
    "    train_x += [train]\n",
    "    val_x += [val]\n",
    "temp_train_y, test_y = train_test_split(y_train, test_size=0.1,random_state=22)\n",
    "train_y, val_y = train_test_split(temp_train_y, test_size=0.1,random_state=22)\n"
   ]
  },
  {
   "cell_type": "code",
   "execution_count": 54,
   "metadata": {
    "collapsed": true
   },
   "outputs": [],
   "source": [
    "from keras.backend.tensorflow_backend import set_session\n",
    "import tensorflow as tf\n",
    "config = tf.ConfigProto()\n",
    "config.gpu_options.allow_growth = True  # dynamically grow the memory used on the GPU\n",
    "config.log_device_placement = True  # to log device placement (on which device the operation ran)\n",
    "init_op = tf.global_variables_initializer()\n",
    "\n",
    "sess = tf.Session(config=config)\n",
    "sess.run(init_op)\n",
    "set_session(sess)"
   ]
  },
  {
   "cell_type": "code",
   "execution_count": 55,
   "metadata": {},
   "outputs": [
    {
     "name": "stdout",
     "output_type": "stream",
     "text": [
      "WARNING:tensorflow:From /Users/eqsk134/anaconda3/lib/python3.6/site-packages/tensorflow/python/ops/math_ops.py:3066: to_int32 (from tensorflow.python.ops.math_ops) is deprecated and will be removed in a future version.\n",
      "Instructions for updating:\n",
      "Use tf.cast instead.\n",
      "Train on 36667 samples, validate on 4075 samples\n",
      "Epoch 1/250\n",
      "36667/36667 [==============================] - 23s 623us/step - loss: 3.1298 - acc: 0.1178 - val_loss: 2.4091 - val_acc: 0.0805\n",
      "Epoch 2/250\n",
      "36667/36667 [==============================] - 16s 433us/step - loss: 2.9644 - acc: 0.1304 - val_loss: 2.2599 - val_acc: 0.1377\n",
      "Epoch 3/250\n",
      "36667/36667 [==============================] - 17s 453us/step - loss: 2.8230 - acc: 0.1394 - val_loss: 2.1752 - val_acc: 0.1799\n",
      "Epoch 4/250\n",
      "36667/36667 [==============================] - 16s 443us/step - loss: 2.7137 - acc: 0.1495 - val_loss: 2.1061 - val_acc: 0.2137\n",
      "Epoch 5/250\n",
      "36667/36667 [==============================] - 17s 465us/step - loss: 2.6039 - acc: 0.1630 - val_loss: 2.0446 - val_acc: 0.2307\n",
      "Epoch 6/250\n",
      "36667/36667 [==============================] - 17s 475us/step - loss: 2.5231 - acc: 0.1716 - val_loss: 2.0103 - val_acc: 0.2547\n",
      "Epoch 7/250\n",
      "36667/36667 [==============================] - 17s 467us/step - loss: 2.4591 - acc: 0.1772 - val_loss: 1.9768 - val_acc: 0.2533\n",
      "Epoch 8/250\n",
      "36667/36667 [==============================] - 17s 463us/step - loss: 2.3947 - acc: 0.1883 - val_loss: 1.9488 - val_acc: 0.2582\n",
      "Epoch 9/250\n",
      "36667/36667 [==============================] - 17s 469us/step - loss: 2.3391 - acc: 0.1927 - val_loss: 1.9243 - val_acc: 0.2734\n",
      "Epoch 10/250\n",
      "36667/36667 [==============================] - 17s 476us/step - loss: 2.2817 - acc: 0.1996 - val_loss: 1.9080 - val_acc: 0.2756\n",
      "Epoch 11/250\n",
      "36667/36667 [==============================] - 17s 472us/step - loss: 2.2380 - acc: 0.2068 - val_loss: 1.8867 - val_acc: 0.2795\n",
      "Epoch 12/250\n",
      "36667/36667 [==============================] - 18s 490us/step - loss: 2.1812 - acc: 0.2141 - val_loss: 1.8716 - val_acc: 0.2775\n",
      "Epoch 13/250\n",
      "36667/36667 [==============================] - 19s 527us/step - loss: 2.1429 - acc: 0.2136 - val_loss: 1.8556 - val_acc: 0.2852\n",
      "Epoch 14/250\n",
      "36667/36667 [==============================] - 21s 562us/step - loss: 2.1217 - acc: 0.2183 - val_loss: 1.8438 - val_acc: 0.2859\n",
      "Epoch 15/250\n",
      "36667/36667 [==============================] - 22s 603us/step - loss: 2.0815 - acc: 0.2236 - val_loss: 1.8319 - val_acc: 0.2879\n",
      "Epoch 16/250\n",
      "36667/36667 [==============================] - 22s 600us/step - loss: 2.0518 - acc: 0.2301 - val_loss: 1.8221 - val_acc: 0.2896\n",
      "Epoch 17/250\n",
      "36667/36667 [==============================] - 22s 597us/step - loss: 2.0259 - acc: 0.2294 - val_loss: 1.8103 - val_acc: 0.2888\n",
      "Epoch 18/250\n",
      "36667/36667 [==============================] - 22s 598us/step - loss: 1.9984 - acc: 0.2337 - val_loss: 1.8026 - val_acc: 0.2942\n",
      "Epoch 19/250\n",
      "36667/36667 [==============================] - 22s 594us/step - loss: 1.9790 - acc: 0.2385 - val_loss: 1.7950 - val_acc: 0.2969\n",
      "Epoch 20/250\n",
      "36667/36667 [==============================] - 21s 583us/step - loss: 1.9600 - acc: 0.2360 - val_loss: 1.7852 - val_acc: 0.2969\n",
      "Epoch 21/250\n",
      "36667/36667 [==============================] - 21s 578us/step - loss: 1.9430 - acc: 0.2366 - val_loss: 1.7792 - val_acc: 0.2964\n",
      "Epoch 22/250\n",
      "36667/36667 [==============================] - 21s 575us/step - loss: 1.9296 - acc: 0.2415 - val_loss: 1.7720 - val_acc: 0.2967\n",
      "Epoch 23/250\n",
      "36667/36667 [==============================] - 21s 569us/step - loss: 1.9108 - acc: 0.2461 - val_loss: 1.7666 - val_acc: 0.2987\n",
      "Epoch 24/250\n",
      "36667/36667 [==============================] - 21s 565us/step - loss: 1.9041 - acc: 0.2411 - val_loss: 1.7617 - val_acc: 0.2967\n",
      "Epoch 25/250\n",
      "36667/36667 [==============================] - 21s 564us/step - loss: 1.8906 - acc: 0.2455 - val_loss: 1.7576 - val_acc: 0.2982\n",
      "Epoch 26/250\n",
      "36667/36667 [==============================] - 21s 569us/step - loss: 1.8763 - acc: 0.2477 - val_loss: 1.7540 - val_acc: 0.2967\n",
      "Epoch 27/250\n",
      "36667/36667 [==============================] - 21s 564us/step - loss: 1.8635 - acc: 0.2537 - val_loss: 1.7494 - val_acc: 0.2999\n",
      "Epoch 28/250\n",
      "36667/36667 [==============================] - 21s 569us/step - loss: 1.8515 - acc: 0.2534 - val_loss: 1.7461 - val_acc: 0.3048\n",
      "Epoch 29/250\n",
      "36667/36667 [==============================] - 21s 580us/step - loss: 1.8470 - acc: 0.2534 - val_loss: 1.7414 - val_acc: 0.3055\n",
      "Epoch 30/250\n",
      "36667/36667 [==============================] - 21s 575us/step - loss: 1.8365 - acc: 0.2576 - val_loss: 1.7385 - val_acc: 0.3018\n",
      "Epoch 31/250\n",
      "36667/36667 [==============================] - 21s 566us/step - loss: 1.8344 - acc: 0.2536 - val_loss: 1.7341 - val_acc: 0.3063\n",
      "Epoch 32/250\n",
      "36667/36667 [==============================] - 21s 578us/step - loss: 1.8238 - acc: 0.2610 - val_loss: 1.7294 - val_acc: 0.3072\n",
      "Epoch 33/250\n",
      "36667/36667 [==============================] - 21s 571us/step - loss: 1.8164 - acc: 0.2618 - val_loss: 1.7255 - val_acc: 0.3094\n",
      "Epoch 34/250\n",
      "36667/36667 [==============================] - 22s 588us/step - loss: 1.8083 - acc: 0.2690 - val_loss: 1.7202 - val_acc: 0.3117\n",
      "Epoch 35/250\n",
      "36667/36667 [==============================] - 22s 592us/step - loss: 1.8041 - acc: 0.2690 - val_loss: 1.7158 - val_acc: 0.3139\n",
      "Epoch 36/250\n",
      "36667/36667 [==============================] - 22s 595us/step - loss: 1.7923 - acc: 0.2731 - val_loss: 1.7105 - val_acc: 0.3188\n",
      "Epoch 37/250\n",
      "36667/36667 [==============================] - 22s 589us/step - loss: 1.7839 - acc: 0.2742 - val_loss: 1.7057 - val_acc: 0.3151\n",
      "Epoch 38/250\n",
      "36667/36667 [==============================] - 21s 583us/step - loss: 1.7832 - acc: 0.2760 - val_loss: 1.7014 - val_acc: 0.3136\n",
      "Epoch 39/250\n",
      "36667/36667 [==============================] - 21s 581us/step - loss: 1.7754 - acc: 0.2769 - val_loss: 1.6970 - val_acc: 0.3222\n",
      "Epoch 40/250\n",
      "36667/36667 [==============================] - 21s 585us/step - loss: 1.7690 - acc: 0.2832 - val_loss: 1.6896 - val_acc: 0.3215\n",
      "Epoch 41/250\n",
      "36667/36667 [==============================] - 22s 605us/step - loss: 1.7623 - acc: 0.2845 - val_loss: 1.6844 - val_acc: 0.3259\n",
      "Epoch 42/250\n",
      "36667/36667 [==============================] - 23s 619us/step - loss: 1.7544 - acc: 0.2843 - val_loss: 1.6786 - val_acc: 0.3264\n",
      "Epoch 43/250\n",
      "36667/36667 [==============================] - 22s 594us/step - loss: 1.7472 - acc: 0.2877 - val_loss: 1.6745 - val_acc: 0.3252\n",
      "Epoch 44/250\n",
      "36667/36667 [==============================] - 22s 592us/step - loss: 1.7399 - acc: 0.2885 - val_loss: 1.6700 - val_acc: 0.3234\n",
      "Epoch 45/250\n",
      "36667/36667 [==============================] - 22s 595us/step - loss: 1.7332 - acc: 0.2912 - val_loss: 1.6652 - val_acc: 0.3308\n",
      "Epoch 46/250\n",
      "36667/36667 [==============================] - 22s 598us/step - loss: 1.7296 - acc: 0.2928 - val_loss: 1.6618 - val_acc: 0.3318\n",
      "Epoch 47/250\n",
      "36667/36667 [==============================] - 22s 594us/step - loss: 1.7254 - acc: 0.2944 - val_loss: 1.6558 - val_acc: 0.3310\n",
      "Epoch 48/250\n",
      "36667/36667 [==============================] - 22s 597us/step - loss: 1.7178 - acc: 0.2992 - val_loss: 1.6532 - val_acc: 0.3362\n",
      "Epoch 49/250\n",
      "36667/36667 [==============================] - 22s 595us/step - loss: 1.7125 - acc: 0.2972 - val_loss: 1.6483 - val_acc: 0.3360\n",
      "Epoch 50/250\n",
      "36667/36667 [==============================] - 22s 593us/step - loss: 1.7125 - acc: 0.3017 - val_loss: 1.6478 - val_acc: 0.3374\n",
      "Epoch 51/250\n",
      "36667/36667 [==============================] - 22s 596us/step - loss: 1.7059 - acc: 0.3002 - val_loss: 1.6445 - val_acc: 0.3367\n",
      "Epoch 52/250\n",
      "36667/36667 [==============================] - 22s 592us/step - loss: 1.7011 - acc: 0.3039 - val_loss: 1.6429 - val_acc: 0.3347\n",
      "Epoch 53/250\n",
      "36667/36667 [==============================] - 22s 603us/step - loss: 1.6954 - acc: 0.3040 - val_loss: 1.6397 - val_acc: 0.3379\n",
      "Epoch 54/250\n",
      "36667/36667 [==============================] - 23s 618us/step - loss: 1.6962 - acc: 0.3034 - val_loss: 1.6361 - val_acc: 0.3396\n",
      "Epoch 55/250\n",
      "36667/36667 [==============================] - 22s 612us/step - loss: 1.6895 - acc: 0.3074 - val_loss: 1.6337 - val_acc: 0.3394\n",
      "Epoch 56/250\n",
      "36667/36667 [==============================] - 23s 641us/step - loss: 1.6882 - acc: 0.3086 - val_loss: 1.6322 - val_acc: 0.3389\n"
     ]
    },
    {
     "name": "stdout",
     "output_type": "stream",
     "text": [
      "Epoch 57/250\n",
      "36667/36667 [==============================] - 21s 559us/step - loss: 1.6829 - acc: 0.3129 - val_loss: 1.6308 - val_acc: 0.3399\n",
      "Epoch 58/250\n",
      "36667/36667 [==============================] - 13s 361us/step - loss: 1.6793 - acc: 0.3102 - val_loss: 1.6290 - val_acc: 0.3426\n",
      "Epoch 59/250\n",
      "36667/36667 [==============================] - 13s 342us/step - loss: 1.6815 - acc: 0.3124 - val_loss: 1.6262 - val_acc: 0.3416\n",
      "Epoch 60/250\n",
      "36667/36667 [==============================] - 13s 341us/step - loss: 1.6752 - acc: 0.3143 - val_loss: 1.6227 - val_acc: 0.3431\n",
      "Epoch 61/250\n",
      "36667/36667 [==============================] - 16s 448us/step - loss: 1.6681 - acc: 0.3144 - val_loss: 1.6214 - val_acc: 0.3465\n",
      "Epoch 62/250\n",
      "36667/36667 [==============================] - 21s 574us/step - loss: 1.6675 - acc: 0.3174 - val_loss: 1.6186 - val_acc: 0.3436\n",
      "Epoch 63/250\n",
      "36667/36667 [==============================] - 21s 581us/step - loss: 1.6649 - acc: 0.3170 - val_loss: 1.6137 - val_acc: 0.3440\n",
      "Epoch 64/250\n",
      "36667/36667 [==============================] - 23s 637us/step - loss: 1.6613 - acc: 0.3171 - val_loss: 1.6135 - val_acc: 0.3443\n",
      "Epoch 65/250\n",
      "36667/36667 [==============================] - 22s 593us/step - loss: 1.6586 - acc: 0.3198 - val_loss: 1.6094 - val_acc: 0.3440\n",
      "Epoch 66/250\n",
      "36667/36667 [==============================] - 22s 611us/step - loss: 1.6543 - acc: 0.3197 - val_loss: 1.6059 - val_acc: 0.3463\n",
      "Epoch 67/250\n",
      "36667/36667 [==============================] - 19s 510us/step - loss: 1.6541 - acc: 0.3186 - val_loss: 1.6042 - val_acc: 0.3438\n",
      "Epoch 68/250\n",
      "36667/36667 [==============================] - 18s 496us/step - loss: 1.6535 - acc: 0.3200 - val_loss: 1.6045 - val_acc: 0.3445\n",
      "Epoch 69/250\n",
      "36667/36667 [==============================] - 24s 645us/step - loss: 1.6451 - acc: 0.3265 - val_loss: 1.6003 - val_acc: 0.3470\n",
      "Epoch 70/250\n",
      "36667/36667 [==============================] - 26s 712us/step - loss: 1.6489 - acc: 0.3211 - val_loss: 1.6025 - val_acc: 0.3467\n",
      "Epoch 71/250\n",
      "36667/36667 [==============================] - 21s 569us/step - loss: 1.6453 - acc: 0.3205 - val_loss: 1.5955 - val_acc: 0.3482\n",
      "Epoch 72/250\n",
      "36667/36667 [==============================] - 19s 522us/step - loss: 1.6429 - acc: 0.3208 - val_loss: 1.5954 - val_acc: 0.3472\n",
      "Epoch 73/250\n",
      "36667/36667 [==============================] - 19s 507us/step - loss: 1.6406 - acc: 0.3248 - val_loss: 1.5910 - val_acc: 0.3487\n",
      "Epoch 74/250\n",
      "36667/36667 [==============================] - 16s 444us/step - loss: 1.6385 - acc: 0.3254 - val_loss: 1.5912 - val_acc: 0.3482\n",
      "Epoch 75/250\n",
      "36667/36667 [==============================] - 17s 453us/step - loss: 1.6370 - acc: 0.3228 - val_loss: 1.5942 - val_acc: 0.3448\n",
      "Epoch 76/250\n",
      "36667/36667 [==============================] - 16s 445us/step - loss: 1.6373 - acc: 0.3258 - val_loss: 1.5897 - val_acc: 0.3475\n",
      "Epoch 77/250\n",
      "36667/36667 [==============================] - 14s 393us/step - loss: 1.6351 - acc: 0.3254 - val_loss: 1.5899 - val_acc: 0.3440\n",
      "Epoch 78/250\n",
      "36667/36667 [==============================] - 14s 394us/step - loss: 1.6343 - acc: 0.3256 - val_loss: 1.5904 - val_acc: 0.3509\n",
      "Epoch 79/250\n",
      "36667/36667 [==============================] - 20s 535us/step - loss: 1.6329 - acc: 0.3242 - val_loss: 1.5863 - val_acc: 0.3509\n",
      "Epoch 80/250\n",
      "36667/36667 [==============================] - 18s 491us/step - loss: 1.6334 - acc: 0.3253 - val_loss: 1.5874 - val_acc: 0.3509\n",
      "Epoch 81/250\n",
      "36667/36667 [==============================] - 15s 404us/step - loss: 1.6276 - acc: 0.3310 - val_loss: 1.5839 - val_acc: 0.3497\n",
      "Epoch 82/250\n",
      "36667/36667 [==============================] - 18s 481us/step - loss: 1.6292 - acc: 0.3290 - val_loss: 1.5839 - val_acc: 0.3487\n",
      "Epoch 83/250\n",
      "36667/36667 [==============================] - 23s 635us/step - loss: 1.6248 - acc: 0.3292 - val_loss: 1.5835 - val_acc: 0.3455\n",
      "Epoch 84/250\n",
      "36667/36667 [==============================] - 28s 776us/step - loss: 1.6276 - acc: 0.3260 - val_loss: 1.5860 - val_acc: 0.3509\n",
      "Epoch 85/250\n",
      "36667/36667 [==============================] - 23s 619us/step - loss: 1.6253 - acc: 0.3308 - val_loss: 1.5815 - val_acc: 0.3514\n",
      "Epoch 86/250\n",
      "36667/36667 [==============================] - 22s 601us/step - loss: 1.6243 - acc: 0.3336 - val_loss: 1.5842 - val_acc: 0.3465\n",
      "Epoch 87/250\n",
      "36667/36667 [==============================] - 17s 470us/step - loss: 1.6227 - acc: 0.3331 - val_loss: 1.5767 - val_acc: 0.3534\n",
      "Epoch 88/250\n",
      "36667/36667 [==============================] - 16s 432us/step - loss: 1.6190 - acc: 0.3333 - val_loss: 1.5798 - val_acc: 0.3497\n",
      "Epoch 89/250\n",
      "36667/36667 [==============================] - 16s 437us/step - loss: 1.6204 - acc: 0.3314 - val_loss: 1.5729 - val_acc: 0.3544\n",
      "Epoch 90/250\n",
      "36667/36667 [==============================] - 15s 421us/step - loss: 1.6209 - acc: 0.3302 - val_loss: 1.5794 - val_acc: 0.3472\n",
      "Epoch 91/250\n",
      "36667/36667 [==============================] - 18s 484us/step - loss: 1.6172 - acc: 0.3316 - val_loss: 1.5721 - val_acc: 0.3541\n",
      "Epoch 92/250\n",
      "36667/36667 [==============================] - 19s 530us/step - loss: 1.6187 - acc: 0.3317 - val_loss: 1.5738 - val_acc: 0.3524\n",
      "Epoch 93/250\n",
      "36667/36667 [==============================] - 25s 674us/step - loss: 1.6164 - acc: 0.3321 - val_loss: 1.5713 - val_acc: 0.3509\n",
      "Epoch 94/250\n",
      "36667/36667 [==============================] - 26s 717us/step - loss: 1.6114 - acc: 0.3374 - val_loss: 1.5710 - val_acc: 0.3546\n",
      "Epoch 95/250\n",
      "36667/36667 [==============================] - 31s 841us/step - loss: 1.6143 - acc: 0.3340 - val_loss: 1.5682 - val_acc: 0.3546\n",
      "Epoch 96/250\n",
      "36667/36667 [==============================] - 27s 724us/step - loss: 1.6128 - acc: 0.3341 - val_loss: 1.5690 - val_acc: 0.3561\n",
      "Epoch 97/250\n",
      "36667/36667 [==============================] - 21s 585us/step - loss: 1.6116 - acc: 0.3352 - val_loss: 1.5693 - val_acc: 0.3490\n",
      "Epoch 98/250\n",
      "36667/36667 [==============================] - 21s 560us/step - loss: 1.6112 - acc: 0.3343 - val_loss: 1.5701 - val_acc: 0.3499\n",
      "Epoch 99/250\n",
      "36667/36667 [==============================] - 20s 558us/step - loss: 1.6100 - acc: 0.3343 - val_loss: 1.5694 - val_acc: 0.3534\n",
      "Epoch 100/250\n",
      "36667/36667 [==============================] - 23s 639us/step - loss: 1.6057 - acc: 0.3374 - val_loss: 1.5669 - val_acc: 0.3575\n",
      "Epoch 101/250\n",
      "36667/36667 [==============================] - 26s 706us/step - loss: 1.6063 - acc: 0.3355 - val_loss: 1.5676 - val_acc: 0.3536\n",
      "Epoch 102/250\n",
      "36667/36667 [==============================] - 18s 493us/step - loss: 1.6036 - acc: 0.3372 - val_loss: 1.5683 - val_acc: 0.3553\n",
      "Epoch 103/250\n",
      "36667/36667 [==============================] - 31s 847us/step - loss: 1.6035 - acc: 0.3397 - val_loss: 1.5678 - val_acc: 0.3514\n",
      "Epoch 104/250\n",
      "36667/36667 [==============================] - 26s 707us/step - loss: 1.6070 - acc: 0.3375 - val_loss: 1.5686 - val_acc: 0.3548\n",
      "Epoch 105/250\n",
      "36667/36667 [==============================] - 24s 654us/step - loss: 1.6011 - acc: 0.3370 - val_loss: 1.5627 - val_acc: 0.3546\n",
      "Epoch 106/250\n",
      "36667/36667 [==============================] - 21s 561us/step - loss: 1.6032 - acc: 0.3392 - val_loss: 1.5646 - val_acc: 0.3536\n",
      "Epoch 107/250\n",
      "36667/36667 [==============================] - 25s 675us/step - loss: 1.6008 - acc: 0.3385 - val_loss: 1.5631 - val_acc: 0.3539\n",
      "Epoch 108/250\n",
      "36667/36667 [==============================] - 22s 605us/step - loss: 1.6024 - acc: 0.3386 - val_loss: 1.5610 - val_acc: 0.3539\n",
      "Epoch 109/250\n",
      "36667/36667 [==============================] - 25s 671us/step - loss: 1.5987 - acc: 0.3368 - val_loss: 1.5633 - val_acc: 0.3539\n",
      "Epoch 110/250\n",
      "36667/36667 [==============================] - 26s 716us/step - loss: 1.5979 - acc: 0.3395 - val_loss: 1.5638 - val_acc: 0.3551\n",
      "Epoch 111/250\n",
      "36667/36667 [==============================] - 20s 554us/step - loss: 1.6005 - acc: 0.3369 - val_loss: 1.5608 - val_acc: 0.3558\n",
      "Epoch 112/250\n",
      "36667/36667 [==============================] - 20s 544us/step - loss: 1.5962 - acc: 0.3413 - val_loss: 1.5569 - val_acc: 0.3590\n",
      "Epoch 113/250\n",
      "36667/36667 [==============================] - 19s 516us/step - loss: 1.5971 - acc: 0.3396 - val_loss: 1.5589 - val_acc: 0.3551\n",
      "Epoch 114/250\n",
      "36667/36667 [==============================] - 21s 577us/step - loss: 1.5961 - acc: 0.3412 - val_loss: 1.5593 - val_acc: 0.3551\n"
     ]
    },
    {
     "name": "stdout",
     "output_type": "stream",
     "text": [
      "Epoch 115/250\n",
      "36667/36667 [==============================] - 20s 543us/step - loss: 1.5968 - acc: 0.3401 - val_loss: 1.5557 - val_acc: 0.3600\n",
      "Epoch 116/250\n",
      "36667/36667 [==============================] - 20s 553us/step - loss: 1.5961 - acc: 0.3411 - val_loss: 1.5555 - val_acc: 0.3553\n",
      "Epoch 117/250\n",
      "36667/36667 [==============================] - 18s 478us/step - loss: 1.5935 - acc: 0.3409 - val_loss: 1.5529 - val_acc: 0.3585\n",
      "Epoch 118/250\n",
      "36667/36667 [==============================] - 19s 512us/step - loss: 1.5958 - acc: 0.3412 - val_loss: 1.5568 - val_acc: 0.3573\n",
      "Epoch 119/250\n",
      "36667/36667 [==============================] - 25s 669us/step - loss: 1.5905 - acc: 0.3399 - val_loss: 1.5529 - val_acc: 0.3610\n",
      "Epoch 120/250\n",
      "36667/36667 [==============================] - 22s 609us/step - loss: 1.5932 - acc: 0.3385 - val_loss: 1.5518 - val_acc: 0.3590\n",
      "Epoch 121/250\n",
      "36667/36667 [==============================] - 24s 661us/step - loss: 1.5915 - acc: 0.3388 - val_loss: 1.5514 - val_acc: 0.3585\n",
      "Epoch 122/250\n",
      "36667/36667 [==============================] - 19s 516us/step - loss: 1.5912 - acc: 0.3410 - val_loss: 1.5504 - val_acc: 0.3602\n",
      "Epoch 123/250\n",
      "36667/36667 [==============================] - 17s 476us/step - loss: 1.5917 - acc: 0.3418 - val_loss: 1.5512 - val_acc: 0.3588\n",
      "Epoch 124/250\n",
      "36667/36667 [==============================] - 22s 603us/step - loss: 1.5879 - acc: 0.3449 - val_loss: 1.5480 - val_acc: 0.3595\n",
      "Epoch 125/250\n",
      "36667/36667 [==============================] - 15s 399us/step - loss: 1.5899 - acc: 0.3434 - val_loss: 1.5509 - val_acc: 0.3598\n",
      "Epoch 126/250\n",
      "36667/36667 [==============================] - 14s 387us/step - loss: 1.5860 - acc: 0.3452 - val_loss: 1.5504 - val_acc: 0.3612\n",
      "Epoch 127/250\n",
      "36667/36667 [==============================] - 15s 402us/step - loss: 1.5892 - acc: 0.3421 - val_loss: 1.5476 - val_acc: 0.3590\n",
      "Epoch 128/250\n",
      "36667/36667 [==============================] - 20s 554us/step - loss: 1.5861 - acc: 0.3422 - val_loss: 1.5460 - val_acc: 0.3602\n",
      "Epoch 129/250\n",
      "36667/36667 [==============================] - 20s 549us/step - loss: 1.5851 - acc: 0.3426 - val_loss: 1.5491 - val_acc: 0.3622\n",
      "Epoch 130/250\n",
      "36667/36667 [==============================] - 22s 610us/step - loss: 1.5844 - acc: 0.3462 - val_loss: 1.5495 - val_acc: 0.3627\n",
      "Epoch 131/250\n",
      "36667/36667 [==============================] - 16s 447us/step - loss: 1.5835 - acc: 0.3444 - val_loss: 1.5456 - val_acc: 0.3598\n",
      "Epoch 132/250\n",
      "36667/36667 [==============================] - 20s 557us/step - loss: 1.5807 - acc: 0.3442 - val_loss: 1.5428 - val_acc: 0.3602\n",
      "Epoch 133/250\n",
      "36667/36667 [==============================] - 21s 574us/step - loss: 1.5834 - acc: 0.3427 - val_loss: 1.5465 - val_acc: 0.3647\n",
      "Epoch 134/250\n",
      "36667/36667 [==============================] - 18s 502us/step - loss: 1.5818 - acc: 0.3439 - val_loss: 1.5474 - val_acc: 0.3615\n",
      "Epoch 135/250\n",
      "36667/36667 [==============================] - 21s 567us/step - loss: 1.5799 - acc: 0.3449 - val_loss: 1.5480 - val_acc: 0.3602\n",
      "Epoch 136/250\n",
      "36667/36667 [==============================] - 21s 566us/step - loss: 1.5816 - acc: 0.3436 - val_loss: 1.5407 - val_acc: 0.3610\n",
      "Epoch 137/250\n",
      "36667/36667 [==============================] - 20s 551us/step - loss: 1.5789 - acc: 0.3467 - val_loss: 1.5415 - val_acc: 0.3595\n",
      "Epoch 138/250\n",
      "36667/36667 [==============================] - 24s 655us/step - loss: 1.5785 - acc: 0.3453 - val_loss: 1.5396 - val_acc: 0.3625\n",
      "Epoch 139/250\n",
      "36667/36667 [==============================] - 21s 562us/step - loss: 1.5798 - acc: 0.3460 - val_loss: 1.5396 - val_acc: 0.3632\n",
      "Epoch 140/250\n",
      "36667/36667 [==============================] - 19s 525us/step - loss: 1.5794 - acc: 0.3473 - val_loss: 1.5374 - val_acc: 0.3639\n",
      "Epoch 141/250\n",
      "36667/36667 [==============================] - 20s 541us/step - loss: 1.5784 - acc: 0.3465 - val_loss: 1.5398 - val_acc: 0.3610\n",
      "Epoch 142/250\n",
      "36667/36667 [==============================] - 22s 599us/step - loss: 1.5731 - acc: 0.3487 - val_loss: 1.5394 - val_acc: 0.3622\n",
      "Epoch 143/250\n",
      "36667/36667 [==============================] - 24s 650us/step - loss: 1.5785 - acc: 0.3457 - val_loss: 1.5411 - val_acc: 0.3637\n",
      "Epoch 144/250\n",
      "36667/36667 [==============================] - 20s 550us/step - loss: 1.5751 - acc: 0.3452 - val_loss: 1.5369 - val_acc: 0.3647\n",
      "Epoch 145/250\n",
      "36667/36667 [==============================] - 20s 550us/step - loss: 1.5739 - acc: 0.3497 - val_loss: 1.5384 - val_acc: 0.3642\n",
      "Epoch 146/250\n",
      "36667/36667 [==============================] - 18s 503us/step - loss: 1.5746 - acc: 0.3463 - val_loss: 1.5352 - val_acc: 0.3620\n",
      "Epoch 147/250\n",
      "36667/36667 [==============================] - 17s 475us/step - loss: 1.5726 - acc: 0.3510 - val_loss: 1.5352 - val_acc: 0.3632\n",
      "Epoch 148/250\n",
      "36667/36667 [==============================] - 22s 598us/step - loss: 1.5725 - acc: 0.3511 - val_loss: 1.5331 - val_acc: 0.3617\n",
      "Epoch 149/250\n",
      "36667/36667 [==============================] - 18s 504us/step - loss: 1.5733 - acc: 0.3491 - val_loss: 1.5358 - val_acc: 0.3593\n",
      "Epoch 150/250\n",
      "36667/36667 [==============================] - 22s 607us/step - loss: 1.5698 - acc: 0.3487 - val_loss: 1.5338 - val_acc: 0.3629\n",
      "Epoch 151/250\n",
      "36667/36667 [==============================] - 24s 657us/step - loss: 1.5663 - acc: 0.3509 - val_loss: 1.5310 - val_acc: 0.3639\n",
      "Epoch 152/250\n",
      "36667/36667 [==============================] - 21s 559us/step - loss: 1.5694 - acc: 0.3516 - val_loss: 1.5360 - val_acc: 0.3605\n",
      "Epoch 153/250\n",
      "36667/36667 [==============================] - 21s 581us/step - loss: 1.5708 - acc: 0.3483 - val_loss: 1.5300 - val_acc: 0.3625\n",
      "Epoch 154/250\n",
      "36667/36667 [==============================] - 19s 519us/step - loss: 1.5677 - acc: 0.3498 - val_loss: 1.5305 - val_acc: 0.3659\n",
      "Epoch 155/250\n",
      "36667/36667 [==============================] - 17s 463us/step - loss: 1.5688 - acc: 0.3508 - val_loss: 1.5285 - val_acc: 0.3620\n",
      "Epoch 156/250\n",
      "36667/36667 [==============================] - 20s 540us/step - loss: 1.5702 - acc: 0.3501 - val_loss: 1.5308 - val_acc: 0.3637\n",
      "Epoch 157/250\n",
      "36667/36667 [==============================] - 25s 685us/step - loss: 1.5687 - acc: 0.3495 - val_loss: 1.5274 - val_acc: 0.3649\n",
      "Epoch 158/250\n",
      "36667/36667 [==============================] - 25s 687us/step - loss: 1.5680 - acc: 0.3510 - val_loss: 1.5292 - val_acc: 0.3625\n",
      "Epoch 159/250\n",
      "36667/36667 [==============================] - 17s 466us/step - loss: 1.5671 - acc: 0.3499 - val_loss: 1.5286 - val_acc: 0.3627\n",
      "Epoch 160/250\n",
      "36667/36667 [==============================] - 22s 592us/step - loss: 1.5649 - acc: 0.3512 - val_loss: 1.5323 - val_acc: 0.3642\n",
      "Epoch 161/250\n",
      "36667/36667 [==============================] - 18s 477us/step - loss: 1.5627 - acc: 0.3504 - val_loss: 1.5255 - val_acc: 0.3666\n",
      "Epoch 162/250\n",
      "36667/36667 [==============================] - 20s 545us/step - loss: 1.5612 - acc: 0.3546 - val_loss: 1.5217 - val_acc: 0.3679\n",
      "Epoch 163/250\n",
      "36667/36667 [==============================] - 25s 684us/step - loss: 1.5626 - acc: 0.3549 - val_loss: 1.5357 - val_acc: 0.3642\n",
      "Epoch 164/250\n",
      "36667/36667 [==============================] - 22s 613us/step - loss: 1.5614 - acc: 0.3541 - val_loss: 1.5250 - val_acc: 0.3649\n",
      "Epoch 165/250\n",
      "36667/36667 [==============================] - 25s 672us/step - loss: 1.5611 - acc: 0.3528 - val_loss: 1.5259 - val_acc: 0.3674\n",
      "Epoch 166/250\n",
      "36667/36667 [==============================] - 21s 578us/step - loss: 1.5584 - acc: 0.3544 - val_loss: 1.5248 - val_acc: 0.3654\n",
      "Epoch 167/250\n",
      "36667/36667 [==============================] - 25s 690us/step - loss: 1.5590 - acc: 0.3523 - val_loss: 1.5285 - val_acc: 0.3659\n",
      "Epoch 168/250\n",
      "36667/36667 [==============================] - 21s 580us/step - loss: 1.5574 - acc: 0.3579 - val_loss: 1.5226 - val_acc: 0.3681\n",
      "Epoch 169/250\n",
      "36667/36667 [==============================] - 17s 459us/step - loss: 1.5604 - acc: 0.3548 - val_loss: 1.5225 - val_acc: 0.3701\n",
      "Epoch 170/250\n",
      "36667/36667 [==============================] - 21s 584us/step - loss: 1.5577 - acc: 0.3514 - val_loss: 1.5204 - val_acc: 0.3671\n",
      "Epoch 171/250\n",
      "36667/36667 [==============================] - 32s 876us/step - loss: 1.5593 - acc: 0.3515 - val_loss: 1.5227 - val_acc: 0.3681\n",
      "Epoch 172/250\n"
     ]
    },
    {
     "name": "stdout",
     "output_type": "stream",
     "text": [
      "36667/36667 [==============================] - 29s 792us/step - loss: 1.5582 - acc: 0.3550 - val_loss: 1.5202 - val_acc: 0.3676\n",
      "Epoch 173/250\n",
      "36667/36667 [==============================] - 25s 671us/step - loss: 1.5550 - acc: 0.3555 - val_loss: 1.5213 - val_acc: 0.3698\n",
      "Epoch 174/250\n",
      "36667/36667 [==============================] - 24s 667us/step - loss: 1.5564 - acc: 0.3575 - val_loss: 1.5183 - val_acc: 0.3701\n",
      "Epoch 175/250\n",
      "36667/36667 [==============================] - 18s 495us/step - loss: 1.5552 - acc: 0.3585 - val_loss: 1.5183 - val_acc: 0.3686\n",
      "Epoch 176/250\n",
      "36667/36667 [==============================] - 21s 582us/step - loss: 1.5543 - acc: 0.3569 - val_loss: 1.5160 - val_acc: 0.3735\n",
      "Epoch 177/250\n",
      "36667/36667 [==============================] - 22s 596us/step - loss: 1.5520 - acc: 0.3574 - val_loss: 1.5189 - val_acc: 0.3706\n",
      "Epoch 178/250\n",
      "36667/36667 [==============================] - 18s 483us/step - loss: 1.5600 - acc: 0.3557 - val_loss: 1.5189 - val_acc: 0.3688\n",
      "Epoch 179/250\n",
      "36667/36667 [==============================] - 19s 515us/step - loss: 1.5531 - acc: 0.3594 - val_loss: 1.5147 - val_acc: 0.3733\n",
      "Epoch 180/250\n",
      "36667/36667 [==============================] - 22s 587us/step - loss: 1.5553 - acc: 0.3586 - val_loss: 1.5183 - val_acc: 0.3725\n",
      "Epoch 181/250\n",
      "36667/36667 [==============================] - 23s 624us/step - loss: 1.5518 - acc: 0.3567 - val_loss: 1.5153 - val_acc: 0.3725\n",
      "Epoch 182/250\n",
      "36667/36667 [==============================] - 24s 646us/step - loss: 1.5507 - acc: 0.3587 - val_loss: 1.5166 - val_acc: 0.3710\n",
      "Epoch 183/250\n",
      "36667/36667 [==============================] - 27s 736us/step - loss: 1.5476 - acc: 0.3591 - val_loss: 1.5177 - val_acc: 0.3725\n",
      "Epoch 184/250\n",
      "36667/36667 [==============================] - 23s 633us/step - loss: 1.5495 - acc: 0.3580 - val_loss: 1.5156 - val_acc: 0.3757\n",
      "Epoch 185/250\n",
      "36667/36667 [==============================] - 21s 585us/step - loss: 1.5533 - acc: 0.3579 - val_loss: 1.5146 - val_acc: 0.3723\n",
      "Epoch 186/250\n",
      "36667/36667 [==============================] - 26s 712us/step - loss: 1.5516 - acc: 0.3613 - val_loss: 1.5133 - val_acc: 0.3745\n",
      "Epoch 187/250\n",
      "36667/36667 [==============================] - 20s 552us/step - loss: 1.5535 - acc: 0.3576 - val_loss: 1.5115 - val_acc: 0.3735\n",
      "Epoch 188/250\n",
      "36667/36667 [==============================] - 17s 477us/step - loss: 1.5520 - acc: 0.3566 - val_loss: 1.5124 - val_acc: 0.3725\n",
      "Epoch 189/250\n",
      "36667/36667 [==============================] - 16s 436us/step - loss: 1.5491 - acc: 0.3584 - val_loss: 1.5130 - val_acc: 0.3725\n",
      "Epoch 190/250\n",
      "36667/36667 [==============================] - 16s 429us/step - loss: 1.5462 - acc: 0.3594 - val_loss: 1.5096 - val_acc: 0.3701\n",
      "Epoch 191/250\n",
      "36667/36667 [==============================] - 16s 434us/step - loss: 1.5469 - acc: 0.3599 - val_loss: 1.5099 - val_acc: 0.3723\n",
      "Epoch 192/250\n",
      "36667/36667 [==============================] - 16s 433us/step - loss: 1.5471 - acc: 0.3576 - val_loss: 1.5094 - val_acc: 0.3762\n",
      "Epoch 193/250\n",
      "36667/36667 [==============================] - 16s 427us/step - loss: 1.5445 - acc: 0.3596 - val_loss: 1.5101 - val_acc: 0.3745\n",
      "Epoch 194/250\n",
      "36667/36667 [==============================] - 16s 431us/step - loss: 1.5413 - acc: 0.3616 - val_loss: 1.5088 - val_acc: 0.3742\n",
      "Epoch 195/250\n",
      "36667/36667 [==============================] - 16s 438us/step - loss: 1.5452 - acc: 0.3606 - val_loss: 1.5091 - val_acc: 0.3745\n",
      "Epoch 196/250\n",
      "36667/36667 [==============================] - 16s 439us/step - loss: 1.5455 - acc: 0.3619 - val_loss: 1.5120 - val_acc: 0.3725\n",
      "Epoch 197/250\n",
      "36667/36667 [==============================] - 16s 439us/step - loss: 1.5449 - acc: 0.3590 - val_loss: 1.5107 - val_acc: 0.3715\n",
      "Epoch 198/250\n",
      "36667/36667 [==============================] - 16s 438us/step - loss: 1.5420 - acc: 0.3605 - val_loss: 1.5066 - val_acc: 0.3745\n",
      "Epoch 199/250\n",
      "36667/36667 [==============================] - 16s 442us/step - loss: 1.5420 - acc: 0.3593 - val_loss: 1.5029 - val_acc: 0.3777\n",
      "Epoch 200/250\n",
      "36667/36667 [==============================] - 16s 432us/step - loss: 1.5406 - acc: 0.3628 - val_loss: 1.5107 - val_acc: 0.3737\n",
      "Epoch 201/250\n",
      "36667/36667 [==============================] - 17s 456us/step - loss: 1.5424 - acc: 0.3644 - val_loss: 1.5050 - val_acc: 0.3760\n",
      "Epoch 202/250\n",
      "36667/36667 [==============================] - 25s 687us/step - loss: 1.5400 - acc: 0.3598 - val_loss: 1.5088 - val_acc: 0.3769\n",
      "Epoch 203/250\n",
      "36667/36667 [==============================] - 28s 768us/step - loss: 1.5383 - acc: 0.3627 - val_loss: 1.5117 - val_acc: 0.3742\n",
      "Epoch 204/250\n",
      "36667/36667 [==============================] - 28s 757us/step - loss: 1.5413 - acc: 0.3609 - val_loss: 1.5035 - val_acc: 0.3733\n",
      "Epoch 205/250\n",
      "36667/36667 [==============================] - 28s 770us/step - loss: 1.5437 - acc: 0.3598 - val_loss: 1.5077 - val_acc: 0.3760\n",
      "Epoch 206/250\n",
      "36667/36667 [==============================] - 28s 760us/step - loss: 1.5409 - acc: 0.3635 - val_loss: 1.5054 - val_acc: 0.3769\n",
      "Epoch 207/250\n",
      "36667/36667 [==============================] - 28s 754us/step - loss: 1.5362 - acc: 0.3642 - val_loss: 1.5045 - val_acc: 0.3733\n",
      "Epoch 208/250\n",
      "36667/36667 [==============================] - 28s 752us/step - loss: 1.5392 - acc: 0.3641 - val_loss: 1.5041 - val_acc: 0.3811\n",
      "Epoch 209/250\n",
      "36667/36667 [==============================] - 27s 747us/step - loss: 1.5365 - acc: 0.3620 - val_loss: 1.5101 - val_acc: 0.3708\n",
      "Epoch 210/250\n",
      "36667/36667 [==============================] - 28s 760us/step - loss: 1.5363 - acc: 0.3640 - val_loss: 1.5037 - val_acc: 0.3784\n",
      "Epoch 211/250\n",
      "36667/36667 [==============================] - 28s 756us/step - loss: 1.5320 - acc: 0.3653 - val_loss: 1.5021 - val_acc: 0.3750\n",
      "Epoch 212/250\n",
      "36667/36667 [==============================] - 29s 786us/step - loss: 1.5343 - acc: 0.3622 - val_loss: 1.5036 - val_acc: 0.3760\n",
      "Epoch 213/250\n",
      "36667/36667 [==============================] - 28s 770us/step - loss: 1.5366 - acc: 0.3645 - val_loss: 1.5041 - val_acc: 0.3752\n",
      "Epoch 214/250\n",
      "36667/36667 [==============================] - 28s 766us/step - loss: 1.5347 - acc: 0.3631 - val_loss: 1.5097 - val_acc: 0.3737\n",
      "Epoch 215/250\n",
      "36667/36667 [==============================] - 29s 786us/step - loss: 1.5352 - acc: 0.3639 - val_loss: 1.5024 - val_acc: 0.3772\n",
      "Epoch 216/250\n",
      "36667/36667 [==============================] - 30s 806us/step - loss: 1.5330 - acc: 0.3652 - val_loss: 1.5019 - val_acc: 0.3784\n",
      "Epoch 217/250\n",
      "36667/36667 [==============================] - 29s 786us/step - loss: 1.5325 - acc: 0.3647 - val_loss: 1.5037 - val_acc: 0.3774\n",
      "Epoch 218/250\n",
      "36667/36667 [==============================] - 29s 787us/step - loss: 1.5335 - acc: 0.3618 - val_loss: 1.5038 - val_acc: 0.3769\n",
      "Epoch 219/250\n",
      "36667/36667 [==============================] - 28s 772us/step - loss: 1.5331 - acc: 0.3630 - val_loss: 1.5034 - val_acc: 0.3747\n",
      "Epoch 220/250\n",
      "36667/36667 [==============================] - 29s 785us/step - loss: 1.5327 - acc: 0.3628 - val_loss: 1.5039 - val_acc: 0.3762\n",
      "Epoch 221/250\n",
      "36667/36667 [==============================] - 28s 773us/step - loss: 1.5354 - acc: 0.3618 - val_loss: 1.5009 - val_acc: 0.3760\n",
      "Epoch 222/250\n",
      "36667/36667 [==============================] - 28s 777us/step - loss: 1.5307 - acc: 0.3649 - val_loss: 1.5041 - val_acc: 0.3750\n",
      "Epoch 223/250\n",
      "36667/36667 [==============================] - 28s 773us/step - loss: 1.5336 - acc: 0.3624 - val_loss: 1.5039 - val_acc: 0.3774\n",
      "Epoch 224/250\n",
      "36667/36667 [==============================] - 28s 775us/step - loss: 1.5323 - acc: 0.3643 - val_loss: 1.4997 - val_acc: 0.3779\n",
      "Epoch 225/250\n",
      "36667/36667 [==============================] - 28s 754us/step - loss: 1.5286 - acc: 0.3679 - val_loss: 1.5009 - val_acc: 0.3784\n",
      "Epoch 226/250\n",
      "36667/36667 [==============================] - 28s 771us/step - loss: 1.5324 - acc: 0.3646 - val_loss: 1.5017 - val_acc: 0.3735\n",
      "Epoch 227/250\n",
      "36667/36667 [==============================] - 28s 767us/step - loss: 1.5308 - acc: 0.3651 - val_loss: 1.5029 - val_acc: 0.3747\n",
      "Epoch 228/250\n",
      "36667/36667 [==============================] - 28s 760us/step - loss: 1.5287 - acc: 0.3680 - val_loss: 1.5049 - val_acc: 0.3762\n",
      "Epoch 229/250\n"
     ]
    },
    {
     "name": "stdout",
     "output_type": "stream",
     "text": [
      "36667/36667 [==============================] - 27s 750us/step - loss: 1.5250 - acc: 0.3689 - val_loss: 1.5053 - val_acc: 0.3750\n",
      "Epoch 230/250\n",
      "36667/36667 [==============================] - 27s 742us/step - loss: 1.5293 - acc: 0.3655 - val_loss: 1.5004 - val_acc: 0.3818\n",
      "Epoch 231/250\n",
      "36667/36667 [==============================] - 28s 752us/step - loss: 1.5312 - acc: 0.3655 - val_loss: 1.5020 - val_acc: 0.3777\n",
      "Epoch 232/250\n",
      "36667/36667 [==============================] - 27s 749us/step - loss: 1.5259 - acc: 0.3671 - val_loss: 1.5004 - val_acc: 0.3777\n",
      "Epoch 233/250\n",
      "36667/36667 [==============================] - 28s 755us/step - loss: 1.5247 - acc: 0.3690 - val_loss: 1.5010 - val_acc: 0.3784\n",
      "Epoch 234/250\n",
      "36667/36667 [==============================] - 27s 746us/step - loss: 1.5258 - acc: 0.3663 - val_loss: 1.4990 - val_acc: 0.3804\n",
      "Epoch 235/250\n",
      "36667/36667 [==============================] - 27s 732us/step - loss: 1.5253 - acc: 0.3716 - val_loss: 1.4998 - val_acc: 0.3777\n",
      "Epoch 236/250\n",
      "36667/36667 [==============================] - 28s 753us/step - loss: 1.5285 - acc: 0.3653 - val_loss: 1.5027 - val_acc: 0.3787\n",
      "Epoch 237/250\n",
      "36667/36667 [==============================] - 29s 779us/step - loss: 1.5258 - acc: 0.3678 - val_loss: 1.4996 - val_acc: 0.3809\n",
      "Epoch 238/250\n",
      "36667/36667 [==============================] - 28s 759us/step - loss: 1.5227 - acc: 0.3679 - val_loss: 1.4993 - val_acc: 0.3745\n",
      "Epoch 239/250\n",
      "36667/36667 [==============================] - 28s 758us/step - loss: 1.5257 - acc: 0.3684 - val_loss: 1.5021 - val_acc: 0.3745\n",
      "Epoch 240/250\n",
      "36667/36667 [==============================] - 28s 770us/step - loss: 1.5261 - acc: 0.3694 - val_loss: 1.5010 - val_acc: 0.3774\n",
      "Epoch 241/250\n",
      "36667/36667 [==============================] - 28s 761us/step - loss: 1.5236 - acc: 0.3672 - val_loss: 1.4991 - val_acc: 0.3782\n",
      "Epoch 242/250\n",
      "36667/36667 [==============================] - 29s 791us/step - loss: 1.5255 - acc: 0.3678 - val_loss: 1.4975 - val_acc: 0.3794\n",
      "Epoch 243/250\n",
      "36667/36667 [==============================] - 29s 788us/step - loss: 1.5235 - acc: 0.3705 - val_loss: 1.5029 - val_acc: 0.3733\n",
      "Epoch 244/250\n",
      "36667/36667 [==============================] - 30s 814us/step - loss: 1.5217 - acc: 0.3704 - val_loss: 1.5015 - val_acc: 0.3742\n",
      "Epoch 245/250\n",
      "36667/36667 [==============================] - 30s 824us/step - loss: 1.5245 - acc: 0.3696 - val_loss: 1.5014 - val_acc: 0.3740\n",
      "Epoch 246/250\n",
      "36667/36667 [==============================] - 25s 693us/step - loss: 1.5203 - acc: 0.3687 - val_loss: 1.4984 - val_acc: 0.3772\n",
      "Epoch 247/250\n",
      "36667/36667 [==============================] - 29s 803us/step - loss: 1.5245 - acc: 0.3686 - val_loss: 1.4990 - val_acc: 0.3762\n",
      "Epoch 248/250\n",
      "36667/36667 [==============================] - 26s 706us/step - loss: 1.5211 - acc: 0.3680 - val_loss: 1.5040 - val_acc: 0.3750\n",
      "Epoch 249/250\n",
      "36667/36667 [==============================] - 29s 793us/step - loss: 1.5228 - acc: 0.3688 - val_loss: 1.5061 - val_acc: 0.3742\n",
      "Epoch 250/250\n",
      "36667/36667 [==============================] - 27s 742us/step - loss: 1.5196 - acc: 0.3699 - val_loss: 1.4985 - val_acc: 0.3782\n"
     ]
    },
    {
     "data": {
      "text/plain": [
       "<keras.callbacks.History at 0x1a5b127668>"
      ]
     },
     "execution_count": 55,
     "metadata": {},
     "output_type": "execute_result"
    }
   ],
   "source": [
    "import keras\n",
    "filepath=\"model13.hdf5\"\n",
    "checkpoint = keras.callbacks.ModelCheckpoint(filepath, monitor='val_loss', verbose=0, save_best_only=True, save_weights_only=False, mode='auto', period=1)\n",
    "callbacks_list = [checkpoint]\n",
    "model.fit(train_x, train_y, batch_size=64, callbacks=callbacks_list ,epochs=250, verbose=1, validation_data=[val_x, val_y])"
   ]
  },
  {
   "cell_type": "code",
   "execution_count": 56,
   "metadata": {},
   "outputs": [
    {
     "name": "stdout",
     "output_type": "stream",
     "text": [
      "Train on 36667 samples, validate on 4075 samples\n",
      "Epoch 1/50\n",
      "36667/36667 [==============================] - 26s 699us/step - loss: 1.5232 - acc: 0.3688 - val_loss: 1.5007 - val_acc: 0.3720\n",
      "Epoch 2/50\n",
      "36667/36667 [==============================] - 24s 664us/step - loss: 1.5231 - acc: 0.3681 - val_loss: 1.5026 - val_acc: 0.3718\n",
      "Epoch 3/50\n",
      "36667/36667 [==============================] - 24s 662us/step - loss: 1.5218 - acc: 0.3681 - val_loss: 1.4999 - val_acc: 0.3767\n",
      "Epoch 4/50\n",
      "36667/36667 [==============================] - 23s 632us/step - loss: 1.5188 - acc: 0.3712 - val_loss: 1.4968 - val_acc: 0.3740\n",
      "Epoch 5/50\n",
      "36667/36667 [==============================] - 23s 630us/step - loss: 1.5179 - acc: 0.3709 - val_loss: 1.4979 - val_acc: 0.3787\n",
      "Epoch 6/50\n",
      "36667/36667 [==============================] - 17s 450us/step - loss: 1.5180 - acc: 0.3731 - val_loss: 1.5026 - val_acc: 0.3742\n",
      "Epoch 7/50\n",
      "36667/36667 [==============================] - 18s 495us/step - loss: 1.5199 - acc: 0.3706 - val_loss: 1.5017 - val_acc: 0.3718\n",
      "Epoch 8/50\n",
      "36667/36667 [==============================] - 22s 600us/step - loss: 1.5169 - acc: 0.3720 - val_loss: 1.4983 - val_acc: 0.3725\n",
      "Epoch 9/50\n",
      "36667/36667 [==============================] - 16s 429us/step - loss: 1.5174 - acc: 0.3740 - val_loss: 1.5005 - val_acc: 0.3752\n",
      "Epoch 10/50\n",
      "36667/36667 [==============================] - 24s 650us/step - loss: 1.5201 - acc: 0.3696 - val_loss: 1.4983 - val_acc: 0.3750\n",
      "Epoch 11/50\n",
      "36667/36667 [==============================] - 23s 617us/step - loss: 1.5195 - acc: 0.3710 - val_loss: 1.4999 - val_acc: 0.3718\n",
      "Epoch 12/50\n",
      "36667/36667 [==============================] - 21s 567us/step - loss: 1.5163 - acc: 0.3741 - val_loss: 1.4986 - val_acc: 0.3710\n",
      "Epoch 13/50\n",
      "36667/36667 [==============================] - 25s 691us/step - loss: 1.5173 - acc: 0.3700 - val_loss: 1.4994 - val_acc: 0.3752\n",
      "Epoch 14/50\n",
      "36667/36667 [==============================] - 25s 687us/step - loss: 1.5191 - acc: 0.3710 - val_loss: 1.4984 - val_acc: 0.3750\n",
      "Epoch 15/50\n",
      "36667/36667 [==============================] - 23s 616us/step - loss: 1.5171 - acc: 0.3689 - val_loss: 1.4975 - val_acc: 0.3757\n",
      "Epoch 16/50\n",
      "36667/36667 [==============================] - 20s 536us/step - loss: 1.5155 - acc: 0.3735 - val_loss: 1.5004 - val_acc: 0.3760\n",
      "Epoch 17/50\n",
      "36667/36667 [==============================] - 28s 773us/step - loss: 1.5168 - acc: 0.3730 - val_loss: 1.5000 - val_acc: 0.3750\n",
      "Epoch 18/50\n",
      "36667/36667 [==============================] - 26s 698us/step - loss: 1.5176 - acc: 0.3706 - val_loss: 1.4978 - val_acc: 0.3740oss: 1.517\n",
      "Epoch 19/50\n",
      "36667/36667 [==============================] - 26s 711us/step - loss: 1.5152 - acc: 0.3728 - val_loss: 1.4984 - val_acc: 0.3752\n",
      "Epoch 20/50\n",
      "36667/36667 [==============================] - 17s 472us/step - loss: 1.5173 - acc: 0.3716 - val_loss: 1.4985 - val_acc: 0.3782\n",
      "Epoch 21/50\n",
      "36667/36667 [==============================] - 23s 627us/step - loss: 1.5131 - acc: 0.3770 - val_loss: 1.4980 - val_acc: 0.3752\n",
      "Epoch 22/50\n",
      "36667/36667 [==============================] - 24s 665us/step - loss: 1.5171 - acc: 0.3731 - val_loss: 1.4962 - val_acc: 0.3769\n",
      "Epoch 23/50\n",
      "36667/36667 [==============================] - 22s 612us/step - loss: 1.5112 - acc: 0.3758 - val_loss: 1.4987 - val_acc: 0.3769\n",
      "Epoch 24/50\n",
      "36667/36667 [==============================] - 21s 580us/step - loss: 1.5147 - acc: 0.3722 - val_loss: 1.5013 - val_acc: 0.3728\n",
      "Epoch 25/50\n",
      "36667/36667 [==============================] - 22s 591us/step - loss: 1.5120 - acc: 0.3740 - val_loss: 1.5013 - val_acc: 0.3755\n",
      "Epoch 26/50\n",
      "36667/36667 [==============================] - 20s 553us/step - loss: 1.5172 - acc: 0.3724 - val_loss: 1.5002 - val_acc: 0.3733\n",
      "Epoch 27/50\n",
      "36667/36667 [==============================] - 18s 486us/step - loss: 1.5118 - acc: 0.3716 - val_loss: 1.4983 - val_acc: 0.3728\n",
      "Epoch 28/50\n",
      "36667/36667 [==============================] - 33s 902us/step - loss: 1.5128 - acc: 0.3724 - val_loss: 1.5021 - val_acc: 0.3747\n",
      "Epoch 29/50\n",
      "36667/36667 [==============================] - 39s 1ms/step - loss: 1.5140 - acc: 0.3735 - val_loss: 1.4970 - val_acc: 0.3791\n",
      "Epoch 30/50\n",
      "36667/36667 [==============================] - 30s 827us/step - loss: 1.5117 - acc: 0.3737 - val_loss: 1.4974 - val_acc: 0.3791\n",
      "Epoch 31/50\n",
      "36667/36667 [==============================] - 30s 822us/step - loss: 1.5113 - acc: 0.3718 - val_loss: 1.4979 - val_acc: 0.3708\n",
      "Epoch 32/50\n",
      "36667/36667 [==============================] - 30s 808us/step - loss: 1.5108 - acc: 0.3738 - val_loss: 1.4997 - val_acc: 0.3723\n",
      "Epoch 33/50\n",
      "36667/36667 [==============================] - 31s 844us/step - loss: 1.5105 - acc: 0.3725 - val_loss: 1.5024 - val_acc: 0.3708\n",
      "Epoch 34/50\n",
      "36667/36667 [==============================] - 27s 728us/step - loss: 1.5109 - acc: 0.3758 - val_loss: 1.4998 - val_acc: 0.3779\n",
      "Epoch 35/50\n",
      "36667/36667 [==============================] - 22s 594us/step - loss: 1.5123 - acc: 0.3724 - val_loss: 1.4959 - val_acc: 0.3757\n",
      "Epoch 36/50\n",
      "36667/36667 [==============================] - 19s 521us/step - loss: 1.5111 - acc: 0.3768 - val_loss: 1.5010 - val_acc: 0.3769\n",
      "Epoch 37/50\n",
      "36667/36667 [==============================] - 19s 514us/step - loss: 1.5097 - acc: 0.3762 - val_loss: 1.4955 - val_acc: 0.3787\n",
      "Epoch 38/50\n",
      "36667/36667 [==============================] - 18s 498us/step - loss: 1.5085 - acc: 0.3722 - val_loss: 1.4995 - val_acc: 0.3774\n",
      "Epoch 39/50\n",
      "36667/36667 [==============================] - 22s 598us/step - loss: 1.5102 - acc: 0.3759 - val_loss: 1.4971 - val_acc: 0.3750\n",
      "Epoch 40/50\n",
      "36667/36667 [==============================] - 19s 521us/step - loss: 1.5074 - acc: 0.3718 - val_loss: 1.4977 - val_acc: 0.3779\n",
      "Epoch 41/50\n",
      "36667/36667 [==============================] - 17s 469us/step - loss: 1.5068 - acc: 0.3759 - val_loss: 1.4957 - val_acc: 0.3767\n",
      "Epoch 42/50\n",
      "36667/36667 [==============================] - 18s 487us/step - loss: 1.5072 - acc: 0.3769 - val_loss: 1.5001 - val_acc: 0.3769\n",
      "Epoch 43/50\n",
      "36667/36667 [==============================] - 15s 410us/step - loss: 1.5086 - acc: 0.3742 - val_loss: 1.4983 - val_acc: 0.3752s - loss: 1.5087 - acc: 0.374\n",
      "Epoch 44/50\n",
      "36667/36667 [==============================] - 16s 434us/step - loss: 1.5079 - acc: 0.3731 - val_loss: 1.4999 - val_acc: 0.3740\n",
      "Epoch 45/50\n",
      "36667/36667 [==============================] - 23s 623us/step - loss: 1.5082 - acc: 0.3753 - val_loss: 1.4991 - val_acc: 0.3769\n",
      "Epoch 46/50\n",
      "36667/36667 [==============================] - 19s 524us/step - loss: 1.5061 - acc: 0.3766 - val_loss: 1.5000 - val_acc: 0.3745\n",
      "Epoch 47/50\n",
      "36667/36667 [==============================] - 20s 552us/step - loss: 1.5099 - acc: 0.3737 - val_loss: 1.4984 - val_acc: 0.3733\n",
      "Epoch 48/50\n",
      "36667/36667 [==============================] - 22s 596us/step - loss: 1.5084 - acc: 0.3776 - val_loss: 1.5005 - val_acc: 0.3747\n",
      "Epoch 49/50\n",
      "36667/36667 [==============================] - 22s 611us/step - loss: 1.5049 - acc: 0.3751 - val_loss: 1.5007 - val_acc: 0.3742\n",
      "Epoch 50/50\n",
      "36667/36667 [==============================] - 21s 584us/step - loss: 1.5060 - acc: 0.3763 - val_loss: 1.4975 - val_acc: 0.3762\n"
     ]
    },
    {
     "data": {
      "text/plain": [
       "<keras.callbacks.History at 0x1a5d5959e8>"
      ]
     },
     "execution_count": 56,
     "metadata": {},
     "output_type": "execute_result"
    }
   ],
   "source": [
    "import keras\n",
    "filepath=\"model14.hdf5\"\n",
    "checkpoint = keras.callbacks.ModelCheckpoint(filepath, monitor='val_loss', verbose=0, save_best_only=True, save_weights_only=False, mode='auto', period=1)\n",
    "callbacks_list = [checkpoint]\n",
    "model.fit(train_x, train_y, batch_size=64, callbacks=callbacks_list ,epochs=50, verbose=1, validation_data=[val_x, val_y])"
   ]
  },
  {
   "cell_type": "code",
   "execution_count": 57,
   "metadata": {
    "collapsed": true
   },
   "outputs": [],
   "source": [
    "from keras.models import load_model\n",
    "model = load_model('model14.hdf5')\n"
   ]
  },
  {
   "cell_type": "code",
   "execution_count": 75,
   "metadata": {
    "collapsed": true
   },
   "outputs": [],
   "source": [
    "y_pred = model.predict(test_x)"
   ]
  },
  {
   "cell_type": "code",
   "execution_count": 60,
   "metadata": {},
   "outputs": [
    {
     "data": {
      "text/plain": [
       "0.28467953692792647"
      ]
     },
     "execution_count": 60,
     "metadata": {},
     "output_type": "execute_result"
    }
   ],
   "source": [
    "from sklearn.metrics import mean_squared_error\n",
    "from math import sqrt\n",
    "\n",
    "rms = sqrt(mean_squared_error(test_y, y_pred))\n",
    "rms"
   ]
  },
  {
   "cell_type": "code",
   "execution_count": 64,
   "metadata": {},
   "outputs": [
    {
     "data": {
      "text/plain": [
       "1.4632410331495544"
      ]
     },
     "execution_count": 64,
     "metadata": {},
     "output_type": "execute_result"
    }
   ],
   "source": [
    "mae = np.sum(np.absolute((test_y.astype(\"float\") - y_pred.astype(\"float\"))))/len(y_pred)\n",
    "mae"
   ]
  },
  {
   "cell_type": "code",
   "execution_count": 73,
   "metadata": {
    "collapsed": true
   },
   "outputs": [],
   "source": [
    "def evaluate(y_pred,y_test):\n",
    "    correct = 0\n",
    "    wrong = 0\n",
    "    count = [0,0,0,0,0,0,0,0,0]\n",
    "    heatmap =[[0,0,0,0,0,0,0,0,0],\n",
    "             [0,0,0,0,0,0,0,0,0],\n",
    "             [0,0,0,0,0,0,0,0,0],\n",
    "             [0,0,0,0,0,0,0,0,0],\n",
    "             [0,0,0,0,0,0,0,0,0],\n",
    "             [0,0,0,0,0,0,0,0,0],\n",
    "             [0,0,0,0,0,0,0,0,0],\n",
    "             [0,0,0,0,0,0,0,0,0],\n",
    "             [0,0,0,0,0,0,0,0,0]]\n",
    "    true_pred = [0]*7\n",
    "    for i in range(len(y_pred)):\n",
    "        p_level_pred = np.argmax(y_pred[i])\n",
    "        p_level_test = np.argmax(y_test[i])\n",
    "        count[p_level_pred]+=1\n",
    "        heatmap[p_level_test][p_level_pred]+=1\n",
    "        if(p_level_pred == p_level_test):\n",
    "            true_pred[p_level_pred] += 1\n",
    "            correct += 1\n",
    "        else:\n",
    "            wrong +=1\n",
    "    print(np.asarray(heatmap))\n",
    "    heatmap = [[line[i]/np.sum(line) for i in range(len(line))] for line in heatmap]\n",
    "    print(count)\n",
    "    return correct/(correct+wrong), heatmap"
   ]
  },
  {
   "cell_type": "code",
   "execution_count": 76,
   "metadata": {},
   "outputs": [
    {
     "name": "stdout",
     "output_type": "stream",
     "text": [
      "[[518 282   2   0 112   5   0   0   0]\n",
      " [193 524  11   0 292   4   2   0   0]\n",
      " [106 280  24   0 313   3   0   0   0]\n",
      " [ 62 180  10   0 278   2   1   0   0]\n",
      " [106 238   7   0 545   9   2   0   0]\n",
      " [ 37  71   2   0 114  66  35   0   0]\n",
      " [  0   0   0   0   0  27  52   0   0]\n",
      " [  0   0   0   0   0   3   9   0   0]\n",
      " [  0   0   0   0   0   0   0   0   0]]\n",
      "[1022, 1575, 56, 0, 1654, 119, 101, 0, 0]\n",
      "0.38193063839187097\n"
     ]
    },
    {
     "name": "stderr",
     "output_type": "stream",
     "text": [
      "/Users/eqsk134/anaconda3/lib/python3.6/site-packages/ipykernel_launcher.py:26: RuntimeWarning: invalid value encountered in long_scalars\n"
     ]
    }
   ],
   "source": [
    "score, heatmap = evaluate(y_pred,test_y)\n",
    "print(score)\n",
    "# print(heatmap)"
   ]
  },
  {
   "cell_type": "code",
   "execution_count": 167,
   "metadata": {},
   "outputs": [
    {
     "data": {
      "text/plain": [
       "<matplotlib.axes._subplots.AxesSubplot at 0x1a957eadd8>"
      ]
     },
     "execution_count": 167,
     "metadata": {},
     "output_type": "execute_result"
    },
    {
     "data": {
      "image/png": "[encoded data removed]",
      "text/plain": [
       "<matplotlib.figure.Figure at 0x1a9ac4cf28>"
      ]
     },
     "metadata": {},
     "output_type": "display_data"
    }
   ],
   "source": [
    "df_cm = pd.DataFrame(heatmap, range(9),\n",
    "                  range(9))\n",
    "sns.set(font_scale=1.4)#for label size\n",
    "sns.heatmap(df_cm, annot=True,annot_kws={\"size\": 8})"
   ]
  },
  {
   "cell_type": "code",
   "execution_count": 252,
   "metadata": {
    "collapsed": true
   },
   "outputs": [],
   "source": [
    "def evaluate_f1(y_pred, y_test):\n",
    "    acc = 0\n",
    "    pred = list()\n",
    "    true = list()\n",
    "    for i in range(len(y_pred)):\n",
    "        pred.append(np.argmax(y_pred[i]))\n",
    "        true.append(np.argmax(y_test[i]))\n",
    "    return f1_score(true, pred, average='micro'),pred,true"
   ]
  },
  {
   "cell_type": "code",
   "execution_count": 187,
   "metadata": {
    "collapsed": true
   },
   "outputs": [],
   "source": [
    "score, pred, true = evaluate_f1(y_pred,test_y)"
   ]
  },
  {
   "cell_type": "code",
   "execution_count": 188,
   "metadata": {},
   "outputs": [
    {
     "name": "stdout",
     "output_type": "stream",
     "text": [
      "0.3476916280097195\n"
     ]
    }
   ],
   "source": [
    "print(score)"
   ]
  },
  {
   "cell_type": "code",
   "execution_count": 189,
   "metadata": {},
   "outputs": [
    {
     "data": {
      "text/plain": [
       "(4527, 9)"
      ]
     },
     "execution_count": 189,
     "metadata": {},
     "output_type": "execute_result"
    }
   ],
   "source": [
    "test_y.shape"
   ]
  },
  {
   "cell_type": "code",
   "execution_count": 190,
   "metadata": {},
   "outputs": [
    {
     "ename": "NameError",
     "evalue": "name 'input_pbs_train' is not defined",
     "output_type": "error",
     "traceback": [
      "\u001b[0;31m---------------------------------------------------------------------------\u001b[0m",
      "\u001b[0;31mNameError\u001b[0m                                 Traceback (most recent call last)",
      "\u001b[0;32m<ipython-input-190-5e02cbbac977>\u001b[0m in \u001b[0;36m<module>\u001b[0;34m()\u001b[0m\n\u001b[1;32m      2\u001b[0m \u001b[0;32mfor\u001b[0m \u001b[0mi\u001b[0m \u001b[0;32min\u001b[0m \u001b[0mrange\u001b[0m\u001b[0;34m(\u001b[0m\u001b[0;36m7\u001b[0m\u001b[0;34m)\u001b[0m\u001b[0;34m:\u001b[0m\u001b[0;34m\u001b[0m\u001b[0m\n\u001b[1;32m      3\u001b[0m \u001b[0;31m#     print(i,len(input_pbs_train[input_pbs_train['class']==i]))\u001b[0m\u001b[0;34m\u001b[0m\u001b[0;34m\u001b[0m\u001b[0m\n\u001b[0;32m----> 4\u001b[0;31m     \u001b[0;32mif\u001b[0m \u001b[0mlen\u001b[0m\u001b[0;34m(\u001b[0m\u001b[0minput_pbs_train\u001b[0m\u001b[0;34m[\u001b[0m\u001b[0minput_pbs_train\u001b[0m\u001b[0;34m[\u001b[0m\u001b[0;34m'class'\u001b[0m\u001b[0;34m]\u001b[0m\u001b[0;34m==\u001b[0m\u001b[0mi\u001b[0m\u001b[0;34m]\u001b[0m\u001b[0;34m)\u001b[0m \u001b[0;34m>\u001b[0m \u001b[0;36m1\u001b[0m\u001b[0;34m:\u001b[0m\u001b[0;34m\u001b[0m\u001b[0m\n\u001b[0m\u001b[1;32m      5\u001b[0m         \u001b[0msns\u001b[0m\u001b[0;34m.\u001b[0m\u001b[0mdistplot\u001b[0m\u001b[0;34m(\u001b[0m\u001b[0minput_pbs_train\u001b[0m\u001b[0;34m[\u001b[0m\u001b[0minput_pbs_train\u001b[0m\u001b[0;34m[\u001b[0m\u001b[0;34m'class'\u001b[0m\u001b[0;34m]\u001b[0m\u001b[0;34m==\u001b[0m\u001b[0mi\u001b[0m\u001b[0;34m]\u001b[0m\u001b[0;34m[\u001b[0m\u001b[0;34m'view'\u001b[0m\u001b[0;34m]\u001b[0m\u001b[0;34m,\u001b[0m\u001b[0max\u001b[0m\u001b[0;34m=\u001b[0m\u001b[0maxarr\u001b[0m\u001b[0;34m[\u001b[0m\u001b[0mi\u001b[0m\u001b[0;34m]\u001b[0m\u001b[0;34m,\u001b[0m\u001b[0mbins\u001b[0m\u001b[0;34m=\u001b[0m\u001b[0;36m50\u001b[0m\u001b[0;34m)\u001b[0m\u001b[0;34m\u001b[0m\u001b[0m\n",
      "\u001b[0;31mNameError\u001b[0m: name 'input_pbs_train' is not defined"
     ]
    },
    {
     "data": {
      "image/png": "[encoded data removed]",
      "text/plain": [
       "<matplotlib.figure.Figure at 0x1a8c2a0a58>"
      ]
     },
     "metadata": {},
     "output_type": "display_data"
    }
   ],
   "source": [
    "f, axarr = plt.subplots(7, figsize=(20,20))\n",
    "for i in range(7):\n",
    "#     print(i,len(input_pbs_train[input_pbs_train['class']==i]))\n",
    "    if len(input_pbs_train[input_pbs_train['class']==i]) > 1:\n",
    "        sns.distplot(input_pbs_train[input_pbs_train['class']==i]['view'],ax=axarr[i],bins=50)"
   ]
  },
  {
   "cell_type": "code",
   "execution_count": 120,
   "metadata": {
    "collapsed": true
   },
   "outputs": [],
   "source": [
    "# train_data = [numerical_feature_data,title_tokenized_features_data,ner_features]\n",
    "train_data = [categorical_feature_data,numerical_feature_data,title_tokenized_features_data,ner_features]\n",
    "train_x = []\n",
    "temp_train_x = []\n",
    "test_x = []\n",
    "val_x = []\n",
    "for data in train_data:\n",
    "    train, test = train_test_split(data, test_size=0.1,random_state=22)\n",
    "    temp_train_x += [train]\n",
    "    test_x += [test]\n",
    "for data in temp_train_x:\n",
    "    train, val = train_test_split(data, test_size=0.1,random_state=22)\n",
    "    train_x += [train]\n",
    "    val_x += [val]\n",
    "temp_train_y, test_y = train_test_split(y_train, test_size=0.1,random_state=22)\n",
    "train_y, val_y = train_test_split(temp_train_y, test_size=0.1,random_state=22)\n"
   ]
  },
  {
   "cell_type": "code",
   "execution_count": 68,
   "metadata": {},
   "outputs": [
    {
     "name": "stderr",
     "output_type": "stream",
     "text": [
      "/Users/eqsk134/anaconda3/lib/python3.6/site-packages/sklearn/ensemble/weight_boosting.py:29: DeprecationWarning: numpy.core.umath_tests is an internal NumPy module and should not be imported. It will be removed in a future NumPy release.\n",
      "  from numpy.core.umath_tests import inner1d\n"
     ]
    },
    {
     "data": {
      "text/plain": [
       "RandomForestRegressor(bootstrap=True, criterion='mse', max_depth=None,\n",
       "           max_features='auto', max_leaf_nodes=None,\n",
       "           min_impurity_decrease=0.0, min_impurity_split=None,\n",
       "           min_samples_leaf=1, min_samples_split=2,\n",
       "           min_weight_fraction_leaf=0.0, n_estimators=10, n_jobs=1,\n",
       "           oob_score=False, random_state=None, verbose=0, warm_start=False)"
      ]
     },
     "execution_count": 68,
     "metadata": {},
     "output_type": "execute_result"
    }
   ],
   "source": [
    "from sklearn.ensemble import RandomForestRegressor\n",
    "clf = RandomForestRegressor()\n",
    "clf.fit(train_x2, train_y)"
   ]
  },
  {
   "cell_type": "code",
   "execution_count": 77,
   "metadata": {
    "collapsed": true
   },
   "outputs": [],
   "source": [
    "y_pred = clf.predict(test_x2)"
   ]
  },
  {
   "cell_type": "code",
   "execution_count": 78,
   "metadata": {},
   "outputs": [
    {
     "data": {
      "text/plain": [
       "0.2967288463341815"
      ]
     },
     "execution_count": 78,
     "metadata": {},
     "output_type": "execute_result"
    }
   ],
   "source": [
    "from sklearn.metrics import mean_squared_error\n",
    "from math import sqrt\n",
    "\n",
    "rms = sqrt(mean_squared_error(test_y, y_pred))\n",
    "rms"
   ]
  },
  {
   "cell_type": "code",
   "execution_count": 79,
   "metadata": {},
   "outputs": [
    {
     "data": {
      "text/plain": [
       "1.4406891981444665"
      ]
     },
     "execution_count": 79,
     "metadata": {},
     "output_type": "execute_result"
    }
   ],
   "source": [
    "mae = np.sum(np.absolute((test_y.astype(\"float\") - y_pred.astype(\"float\"))))/len(y_pred)\n",
    "mae"
   ]
  },
  {
   "cell_type": "code",
   "execution_count": 80,
   "metadata": {},
   "outputs": [
    {
     "name": "stdout",
     "output_type": "stream",
     "text": [
      "[[536 218  64  22  71   8   0   0   0]\n",
      " [297 382 150  63 127   7   0   0   0]\n",
      " [154 220 121  83 141   7   0   0   0]\n",
      " [ 94 152  87  64 129   7   0   0   0]\n",
      " [159 228 130 100 274  16   0   0   0]\n",
      " [ 53  77  26  19  48  67  34   1   0]\n",
      " [  0   0   0   0   0  38  40   1   0]\n",
      " [  0   0   0   0   0   4   8   0   0]\n",
      " [  0   0   0   0   0   0   0   0   0]]\n",
      "[1293, 1277, 578, 351, 790, 154, 82, 2, 0]\n",
      "0.32781091230395404\n"
     ]
    },
    {
     "name": "stderr",
     "output_type": "stream",
     "text": [
      "/Users/eqsk134/anaconda3/lib/python3.6/site-packages/ipykernel_launcher.py:26: RuntimeWarning: invalid value encountered in long_scalars\n"
     ]
    }
   ],
   "source": [
    "score, heatmap = evaluate(y_pred,test_y)\n",
    "print(score)\n",
    "# print(heatmap)"
   ]
  },
  {
   "cell_type": "code",
   "execution_count": 123,
   "metadata": {},
   "outputs": [
    {
     "name": "stdout",
     "output_type": "stream",
     "text": [
      "[[519 240  69  32  55   4   0   0   0]\n",
      " [274 374 155  74 135  14   0   0   0]\n",
      " [144 205 141  69 156  11   0   0   0]\n",
      " [ 85 161  98  57 120  12   0   0   0]\n",
      " [165 208 138  96 279  21   0   0   0]\n",
      " [ 62  62  23  22  51  70  35   0   0]\n",
      " [  0   0   0   0   0  36  43   0   0]\n",
      " [  0   0   0   0   0   5   7   0   0]\n",
      " [  0   0   0   0   0   0   0   0   0]]\n",
      "[1249, 1250, 624, 350, 796, 173, 85, 0, 0]\n",
      "0.3275900154627789\n"
     ]
    },
    {
     "name": "stderr",
     "output_type": "stream",
     "text": [
      "/Users/eqsk134/anaconda3/lib/python3.6/site-packages/ipykernel_launcher.py:26: RuntimeWarning: invalid value encountered in long_scalars\n"
     ]
    }
   ],
   "source": [
    "from sklearn.ensemble import RandomForestRegressor\n",
    "clf = RandomForestRegressor()\n",
    "clf.fit(train_x[1], train_y)\n",
    "y_pred = clf.predict(test_x[1])\n",
    "score, heatmap = evaluate(y_pred,test_y)\n",
    "print(score)"
   ]
  },
  {
   "cell_type": "code",
   "execution_count": 126,
   "metadata": {},
   "outputs": [
    {
     "data": {
      "text/plain": [
       "(36667, 11)"
      ]
     },
     "execution_count": 126,
     "metadata": {},
     "output_type": "execute_result"
    }
   ],
   "source": [
    "train_x[0].shape"
   ]
  },
  {
   "cell_type": "code",
   "execution_count": 127,
   "metadata": {},
   "outputs": [
    {
     "data": {
      "text/plain": [
       "(36667, 46)"
      ]
     },
     "execution_count": 127,
     "metadata": {},
     "output_type": "execute_result"
    }
   ],
   "source": [
    "train_x[1].shape"
   ]
  },
  {
   "cell_type": "code",
   "execution_count": 128,
   "metadata": {},
   "outputs": [
    {
     "data": {
      "text/plain": [
       "(36667, 26)"
      ]
     },
     "execution_count": 128,
     "metadata": {},
     "output_type": "execute_result"
    }
   ],
   "source": [
    "train_x[2].shape"
   ]
  },
  {
   "cell_type": "code",
   "execution_count": 129,
   "metadata": {},
   "outputs": [
    {
     "data": {
      "text/plain": [
       "(36667, 52)"
      ]
     },
     "execution_count": 129,
     "metadata": {},
     "output_type": "execute_result"
    }
   ],
   "source": [
    "train_x[3].shape"
   ]
  },
  {
   "cell_type": "code",
   "execution_count": 298,
   "metadata": {},
   "outputs": [
    {
     "data": {
      "text/plain": [
       "(45269, 11)"
      ]
     },
     "execution_count": 298,
     "metadata": {},
     "output_type": "execute_result"
    }
   ],
   "source": [
    "categorical_feature_data.shape"
   ]
  },
  {
   "cell_type": "code",
   "execution_count": 42,
   "metadata": {
    "collapsed": true
   },
   "outputs": [],
   "source": [
    "idx1 = 0\n",
    "for i in train_x[0]:\n",
    "    idx2 = 0\n",
    "    for j in i:\n",
    "        if j != 0.0 and j != 1.0:\n",
    "            if j != j:\n",
    "                train_x[0][idx1][idx2] = 0\n",
    "        idx2 += 1\n",
    "    idx1 += 1"
   ]
  },
  {
   "cell_type": "code",
   "execution_count": 43,
   "metadata": {
    "collapsed": true
   },
   "outputs": [],
   "source": [
    "idx1 = 0\n",
    "for i in test_x[0]:\n",
    "    idx2 = 0\n",
    "    for j in i:\n",
    "        if j != 0.0 and j != 1.0:\n",
    "            if j != j:\n",
    "                test_x[0][idx1][idx2] = 0\n",
    "        idx2 += 1\n",
    "    idx1 += 1"
   ]
  },
  {
   "cell_type": "code",
   "execution_count": 44,
   "metadata": {
    "collapsed": true
   },
   "outputs": [],
   "source": [
    "idx1 = 0\n",
    "for i in val_x[0]:\n",
    "    idx2 = 0\n",
    "    for j in i:\n",
    "        if j != 0.0 and j != 1.0:\n",
    "            if j != j:\n",
    "                val_x[0][idx1][idx2] = 0\n",
    "        idx2 += 1\n",
    "    idx1 += 1"
   ]
  },
  {
   "cell_type": "code",
   "execution_count": 65,
   "metadata": {
    "collapsed": true
   },
   "outputs": [],
   "source": [
    "train_x2 = np.concatenate((train_x[0],train_x[1],train_x[2],train_x[3]),axis = 1)"
   ]
  },
  {
   "cell_type": "code",
   "execution_count": 66,
   "metadata": {},
   "outputs": [
    {
     "data": {
      "text/plain": [
       "(36667, 135)"
      ]
     },
     "execution_count": 66,
     "metadata": {},
     "output_type": "execute_result"
    }
   ],
   "source": [
    "train_x2.shape"
   ]
  },
  {
   "cell_type": "code",
   "execution_count": 67,
   "metadata": {
    "collapsed": true
   },
   "outputs": [],
   "source": [
    "test_x2 = np.concatenate((test_x[0],test_x[1],test_x[2],test_x[3]),axis = 1)"
   ]
  },
  {
   "cell_type": "code",
   "execution_count": null,
   "metadata": {
    "collapsed": true
   },
   "outputs": [],
   "source": []
  }
 ],
 "metadata": {
  "kernelspec": {
   "display_name": "Python 3",
   "language": "python",
   "name": "python3"
  },
  "language_info": {
   "codemirror_mode": {
    "name": "ipython",
    "version": 3
   },
   "file_extension": ".py",
   "mimetype": "text/x-python",
   "name": "python",
   "nbconvert_exporter": "python",
   "pygments_lexer": "ipython3",
   "version": "3.6.3"
  }
 },
 "nbformat": 4,
 "nbformat_minor": 2
}
